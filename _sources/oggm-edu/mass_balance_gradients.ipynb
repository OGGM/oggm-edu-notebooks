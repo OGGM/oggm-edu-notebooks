{
 "cells": [
  {
   "cell_type": "markdown",
   "metadata": {},
   "source": [
    "# Mass balance gradients (MBG) and their influence on glacier flow"
   ]
  },
  {
   "cell_type": "markdown",
   "metadata": {},
   "source": [
    "In the flowline model notebook we touched briefly on the mass balance gradient of a glacier. This is what we are going to take a closer look at now.\n",
    "If the concept of mass balance is completely new to you, have a short read about it [here](http://www.antarcticglaciers.org/glacier-processes/introduction-glacier-mass-balance/), up to the paragraph \"*So what is Glacier Mass Balance?*\".\n",
    "In this notebook we will set up a few simple runs to further explore what characteristics of glaciers change with different mass balance gradients. We will also take a look at the topics of volume and response time."
   ]
  },
  {
   "cell_type": "markdown",
   "metadata": {},
   "source": [
    "Goals of this notebook:\n",
    "\n",
    "\n",
    "- The student will be able to explain the terms: mass balance gradient, equilibrium state and response time.\n",
    "- The student will be able to compute different MBGs with OGGM.\n",
    "- The student will be able to compute response times for different equilibirum line altitudes."
   ]
  },
  {
   "cell_type": "markdown",
   "metadata": {},
   "source": [
    "First, we have to import all needed modules:"
   ]
  },
  {
   "cell_type": "code",
   "execution_count": null,
   "metadata": {},
   "outputs": [],
   "source": [
    "# Plotting libraries and plot style\n",
    "import matplotlib.pyplot as plt\n",
    "%matplotlib inline\n",
    "plt.rcParams['figure.figsize'] = (10,8)\n",
    "\n",
    "import seaborn as sns\n",
    "sns.set_context('notebook')\n",
    "sns.set_style('ticks')\n",
    "\n",
    "# Scientific packages\n",
    "import numpy as np\n",
    "import pandas as pd\n",
    "\n",
    "# Constants\n",
    "from oggm import cfg\n",
    "cfg.initialize_minimal()\n",
    "\n",
    "# Mass-balance model\n",
    "from oggm.core.massbalance import LinearMassBalance\n",
    "# There are several numerical implementations in OGGM core. We use the \"FluxBasedModel\"\n",
    "from oggm.core.flowline import FluxBasedModel as FlowlineModel\n",
    "# Glacier shape\n",
    "from oggm.core.flowline import RectangularBedFlowline"
   ]
  },
  {
   "cell_type": "markdown",
   "metadata": {},
   "source": [
    "## Initialising the glacier\n",
    "We start by setting up a simple model with a linear bedrock (see [getting started with flowline models](flowline_model.ipynb)) to generate starting point for our experiment."
   ]
  },
  {
   "cell_type": "code",
   "execution_count": null,
   "metadata": {},
   "outputs": [],
   "source": [
    "# define horizontal resolution of the model:\n",
    "# nx: number of grid points\n",
    "nx = 200\n",
    "# map_dx: grid point spacing in meters\n",
    "map_dx = 100"
   ]
  },
  {
   "cell_type": "code",
   "execution_count": null,
   "metadata": {},
   "outputs": [],
   "source": [
    "# define glacier top and bottom altitudes in meters\n",
    "top = 3400\n",
    "bottom = 1400"
   ]
  },
  {
   "cell_type": "code",
   "execution_count": null,
   "metadata": {},
   "outputs": [],
   "source": [
    "# This is the bed rock, linearily decreasing points from the top altitude\n",
    "# to bottom altitude, in nx steps\n",
    "bed_h = np.linspace(top, bottom, nx)\n",
    "\n",
    "# At the begining, there is no glacier so our glacier surface\n",
    "# is at the bed altitude\n",
    "surface_h = bed_h\n",
    "\n",
    "# Calculate the distance along the glacier (from the top)\n",
    "distance_along_glacier = np.linspace(0, nx, nx) * map_dx * 1e-3\n",
    "\n",
    "# Define the glacier width as we did in flowline_model\n",
    "# Width in meters\n",
    "initial_width = 300  \n",
    "\n",
    "# Now describe the widths in \"grid points\" for the model, based\n",
    "# on grid point spacing map_dx\n",
    "widths = np.zeros(nx) + initial_width / map_dx"
   ]
  },
  {
   "cell_type": "markdown",
   "metadata": {},
   "source": [
    "With this done we can initialise the glacier flowline"
   ]
  },
  {
   "cell_type": "code",
   "execution_count": null,
   "metadata": {},
   "outputs": [],
   "source": [
    "# Define our bed\n",
    "initial_flowline = RectangularBedFlowline(surface_h=surface_h, bed_h=bed_h,\n",
    "                                          widths=widths, map_dx=map_dx)"
   ]
  },
  {
   "cell_type": "markdown",
   "metadata": {},
   "source": [
    "## Changing the mass balance gradient (MBG)\n",
    "The MBG is defined as the change of the mass balance with altitude [¹](#References). It depends strongly on the climate at the glacier [²](#References).\n",
    "\n",
    "Let's take a look at the effects of the MBG by simulating a few glaciers with different gradients. In the flowline notebook our glacier had a gradient of 4 mm/m so lets add a glacier with a weaker gradient and one with a stronger gradient. "
   ]
  },
  {
   "cell_type": "code",
   "execution_count": null,
   "metadata": {},
   "outputs": [],
   "source": [
    "# Define the list of MBGs we want to compare\n",
    "# We will calculate models with the MBGs: 0.3, 4 and 15 mm/m. \n",
    "# These numbers can be found for real glaciers. \n",
    "gradients = [0.3, 4, 15]\n",
    "\n",
    "# We want to run the model until year 300.\n",
    "year = 300"
   ]
  },
  {
   "cell_type": "code",
   "execution_count": null,
   "metadata": {},
   "outputs": [],
   "source": [
    "# Lists for storing intermediate steps of the models.\n",
    "mb_models = []\n",
    "annual_mb_list = []\n",
    "# Here the \"final\" models will be saved\n",
    "models = []\n",
    "# Colors for the graphs\n",
    "colors = ['C1', 'C3', 'C5'] \n",
    "# Set the equilibrium line altitude (ELA)\n",
    "ELA = 3000\n",
    "\n",
    "for gradient in gradients:\n",
    "    # Calculate the mass balance model for each gradient \n",
    "    mb_model = LinearMassBalance(ELA, grad=gradient)\n",
    "    # Save it in the list\n",
    "    mb_models.append(mb_model)\n",
    "    # Calculate the annual mass balance along the glacier profile\n",
    "    annual_mb = mb_model.get_annual_mb(surface_h) * cfg.SEC_IN_YEAR\n",
    "    # Save it in the list.\n",
    "    annual_mb_list.append(annual_mb)\n",
    "    # The model require the initial glacier bed, a mass balance model,\n",
    "    # and an initial time (the year y0)\n",
    "    model = FlowlineModel(initial_flowline, mb_model=mb_model, y0=0.)\n",
    "    # Run the model until year.\n",
    "    model.run_until(year)\n",
    "    # Save the model state.\n",
    "    models.append(model)"
   ]
  },
  {
   "cell_type": "code",
   "execution_count": null,
   "metadata": {},
   "outputs": [],
   "source": [
    "# Plot the results\n",
    "fig, (ax1, ax2) = plt.subplots(ncols=2, figsize=(14, 6), sharey=True)\n",
    "\n",
    "# Plot the annual mass balance\n",
    "for k, ann_mb in enumerate(annual_mb_list):\n",
    "    ax1.plot(ann_mb, bed_h, color=colors[k],\n",
    "             label=f'Mass balance, grad = {gradients[k]}')\n",
    "# Add the ELA, where mass balance = 0\n",
    "ax1.axhline(y=ELA, color='k', linestyle='--', linewidth=0.8,\n",
    "            label='Equilibrium line altitude')\n",
    "# Add a vertical line for the zero mass balance.\n",
    "ax1.axvline(x=0, color='k', linestyle='--', linewidth=0.8)\n",
    "ax1.set_xlabel('Annual mass balance (m yr-1)')\n",
    "ax1.set_ylabel('Altitude (m)')\n",
    "ax1.legend(loc='best');\n",
    "\n",
    "# Plot the glaciers\n",
    "# Plot the initial conditions first.\n",
    "ax2.plot(distance_along_glacier, initial_flowline.surface_h,\n",
    "         label='Initial glacier')\n",
    "# Get the modelled flowline (model.fls[0]) and plot its new surface\n",
    "for k, model in enumerate(models):\n",
    "    ax2.plot(distance_along_glacier, model.fls[0].surface_h,\n",
    "             label=f'Glacier after {model.yr} years. grad: {gradients[k]}',\n",
    "             color=colors[k])\n",
    "# Add the ELA:\n",
    "ax2.axhline(y=ELA, color='k', linestyle='--', linewidth=0.8,\n",
    "            label='Equilibrium line altitude')\n",
    "# Add the bedrock:\n",
    "ax2.plot(distance_along_glacier, bed_h, color='k', label='Bedrock',\n",
    "         linestyle=':', linewidth=1.5);\n",
    "ax2.set_xlabel('Distance along glacier (km)')\n",
    "ax2.legend(loc='lower left');"
   ]
  },
  {
   "cell_type": "markdown",
   "metadata": {},
   "source": [
    "A stronger mass balance gradient implies a larger change of the mass balance with altitude. We can see this in the left plot: The annual mass balance hardly changes with altitude for the glacier with the weakest mass balance gradient (orange). On the other hand, there is a considerable difference between the top and bottom annual mass balance for the glacier with the strongest mass balance gradient (brown).\n",
    "\n",
    "This in turn affects the growth of the glacier. A strong mass balance gradient implies that more ice is added to the accumulation zone each year compared to glaciers with a weaker gradient, and the speed, and reach, of the moving ice is because of this greater. This is why the glacier with the strongest gradient exhibits the largest growth during our simulations (Brown glacier in the right plot).\n",
    "\n",
    "\n",
    "<div class=\"alert alert-success\">\n",
    "    <details><summary><b>What do you think: where do we find glaciers with high MBGs?</b> <i>Click for details</i></summary>\n",
    "\n",
    "You will find a short explanation in this [paragraph](http://www.antarcticglaciers.org/modern-glaciers/introduction-glacier-mass-balance/#SECTION_3) on AntarcticGlaciers.org.\n",
    "</div>"
   ]
  },
  {
   "cell_type": "markdown",
   "metadata": {},
   "source": [
    "## Equilibrium state "
   ]
  },
  {
   "cell_type": "markdown",
   "metadata": {},
   "source": [
    "Glaciers change their geometry as a way to adapt to the climate[³](#References). If the accumulation increases, the glacier will grow further down below the ELA to increase the ablation. Similarly, if the temperature rises and the ablation increases, the glacier length will decrease.\n",
    "If the climate remains constant for a long enough time, glaciers will reach an equilibrium state with its climate, where the accumulation = ablation [⁴](#References).\n",
    "\n",
    "With this in mind, we will take a look at how fast our glaciers, with different gradients, reach this state and compare their shapes:"
   ]
  },
  {
   "cell_type": "code",
   "execution_count": null,
   "metadata": {},
   "outputs": [],
   "source": [
    "# First we run the models until equilibrium.\n",
    "for model in models:\n",
    "    model.run_until_equilibrium(rate=0.006)"
   ]
  },
  {
   "cell_type": "code",
   "execution_count": null,
   "metadata": {},
   "outputs": [],
   "source": [
    "# Plot it\n",
    "plt.figure()\n",
    "# Plot the initial conditions first:\n",
    "plt.plot(distance_along_glacier, initial_flowline.surface_h,\n",
    "         label='Initial glacier')\n",
    "\n",
    "for k, model in enumerate(models):\n",
    "    # Get the modelled flowline (model.fls[0]) and plot its new surface\n",
    "    plt.plot(distance_along_glacier, model.fls[0].surface_h, \n",
    "             label=f'Glacier with grad={gradients[k]} in eq. at year {model.yr}', \n",
    "             color=colors[k])\n",
    "plt.title('Equilibrium state of glacier models')\n",
    "# Add the bedrock:\n",
    "plt.plot(distance_along_glacier, bed_h, ls=':', c='k',\n",
    "        label='Bedrock')\n",
    "plt.ylabel('Altitude (m)')\n",
    "plt.xlabel('Distance along glacier (km)')\n",
    "plt.legend();"
   ]
  },
  {
   "cell_type": "markdown",
   "metadata": {},
   "source": [
    "The different glaciers reach their equilibrium state after a different number of years. What does the figure show us? Which glacier is the thickest and longest? Let's look at specific numbers: "
   ]
  },
  {
   "cell_type": "code",
   "execution_count": null,
   "metadata": {},
   "outputs": [],
   "source": [
    "# Create lists with different properties of the glacier models\n",
    "volume = []\n",
    "area = []\n",
    "length = []\n",
    "year = []\n",
    "\n",
    "for model in models:\n",
    "    year.append(model.yr)\n",
    "    volume.append(model.volume_km3)\n",
    "    length.append(model.length_m)\n",
    "    area.append(model.area_km2)\n",
    "\n",
    "# Create a table with the properties of the glacier models\n",
    "dic = {'gradient': gradients, 'year': year, 'volume': volume, 'area': area,\n",
    "       'length': length}\n",
    "table = pd.DataFrame.from_dict(dic)\n",
    "table"
   ]
  },
  {
   "cell_type": "markdown",
   "metadata": {},
   "source": [
    "The glacier with the strongest gradient reaches the equilibrium state first. This is also the largest and longest glacier."
   ]
  },
  {
   "cell_type": "markdown",
   "metadata": {},
   "source": [
    "### Volume\n",
    "\n",
    "Let's take a look at the volume of the glaciers in relation to their gradient:"
   ]
  },
  {
   "cell_type": "code",
   "execution_count": null,
   "metadata": {},
   "outputs": [],
   "source": [
    "# Plot the volume depending on the gradient\n",
    "plt.figure(figsize=[9,6])\n",
    "plt.plot(table['gradient'], table['volume'])\n",
    "plt.xlabel('gradient')\n",
    "plt.ylabel('volume [km³]');"
   ]
  },
  {
   "cell_type": "markdown",
   "metadata": {},
   "source": [
    "The plot above show somewhat of a trend but it is rather coarse. Let's redo the experiment but with more glaciers. Be patient, the calculation will take a little bit longer."
   ]
  },
  {
   "cell_type": "code",
   "execution_count": null,
   "metadata": {},
   "outputs": [],
   "source": [
    "# We will calculate models with the MBGs: 1 to 19 with stepsize 2\n",
    "gradients = list(range(1, 21, 2))\n",
    "# In the following lists the intermediate steps of the models will be saved\n",
    "mb_models = []\n",
    "annual_mb_list = []\n",
    "# here the \"final\" models will be saved\n",
    "models = []\n",
    "\n",
    "for gradient in gradients:\n",
    "    mb_model = LinearMassBalance(ELA, grad=gradient)\n",
    "    mb_models.append(mb_model)\n",
    "    # Calculate the annual mass balance along the glacier profile\n",
    "    annual_mb = mb_model.get_annual_mb(surface_h) * cfg.SEC_IN_YEAR\n",
    "    annual_mb_list.append(annual_mb)\n",
    "    # The models require the initial glacier bed, a mass balance model,\n",
    "    # and an initial time (the year y0)\n",
    "    model = FlowlineModel(initial_flowline, mb_model=mb_model, y0=0.)\n",
    "    # Run the model until equilbrium\n",
    "    model.run_until_equilibrium(rate=0.006)\n",
    "    # Save it for later.\n",
    "    models.append(model)"
   ]
  },
  {
   "cell_type": "markdown",
   "metadata": {},
   "source": [
    "Then create the table again"
   ]
  },
  {
   "cell_type": "code",
   "execution_count": null,
   "metadata": {},
   "outputs": [],
   "source": [
    "# create lists with different properties of the glacier models\n",
    "volume = []\n",
    "area = []\n",
    "length = []\n",
    "year = []\n",
    "\n",
    "for model in models:\n",
    "    year.append(model.yr)\n",
    "    volume.append(model.volume_km3)\n",
    "    length.append(model.length_m)\n",
    "    area.append(model.area_km2)\n",
    "\n",
    "dic = {'gradient': gradients, 'year': year, 'volume': volume, 'area': area, 'length': length}\n",
    "table = pd.DataFrame.from_dict(dic)\n",
    "table"
   ]
  },
  {
   "cell_type": "code",
   "execution_count": null,
   "metadata": {},
   "outputs": [],
   "source": [
    "# Plot it\n",
    "plt.figure(figsize=[14,8])\n",
    "plt.plot(table['gradient'], table['volume'])\n",
    "plt.xlabel('MBG')\n",
    "plt.ylabel('Volume [km³]');"
   ]
  },
  {
   "cell_type": "markdown",
   "metadata": {},
   "source": [
    "This shows us that the volume of a glacier at the equilibrium state strongly depends on the mass balance gradient."
   ]
  },
  {
   "cell_type": "markdown",
   "metadata": {},
   "source": [
    "## Response time\n",
    "The glacier response time is the period of time a glacier needs to adjust its geometry to changes in mass balance caused by climate change and reach a new equilibrium state. There are a some slightly different definitions for its calculation. In this notebook we will use the definition according to Oerlemans (formula below) [⁵](#References).\n",
    "\n",
    "We will now compare the response times of glaciers with different MBGs. Let's simulate a change in climate by changing the equilibrium line altitude for the three glacier simulated before:"
   ]
  },
  {
   "cell_type": "code",
   "execution_count": null,
   "metadata": {},
   "outputs": [],
   "source": [
    "# Initialization of the models used before:\n",
    "gradients = [0.3, 4, 15]\n",
    "# Lists for saving the glacier state\n",
    "mb_models = []\n",
    "#  ... and the models\n",
    "models = []\n",
    "# equilibrium line altitude (ELA)\n",
    "ELA = 3000\n",
    "for gradient in gradients:\n",
    "    # Calculate the mass balance model for each gradient \n",
    "    mb_model = LinearMassBalance(ELA, grad=gradient)\n",
    "    # Add it to the list.\n",
    "    mb_models.append(mb_model)\n",
    "    # The models require the initial glacier bed, a mass balance model,\n",
    "    # and an initial time (the year y0)\n",
    "    model = FlowlineModel(initial_flowline, mb_model=mb_model, y0=0.)\n",
    "    # Run the glacier to a first equilbrium.\n",
    "    model.run_until_equilibrium(rate=0.006)\n",
    "    # Save it.\n",
    "    models.append(model)"
   ]
  },
  {
   "cell_type": "markdown",
   "metadata": {},
   "source": [
    "We now have the initial equilibrium state of our glaciers. Let's change the equilibrium line altitude in order to simulate a change in climate. In this case we move it down.\n",
    "\n",
    "<div class=\"alert alert-success\">\n",
    "    <details><summary><b>\n",
    "        What does it mean for the climate by moving the ELA downwards?</b> <i>Click for a hint</i></summary>\n",
    "        By lowering the ELA we simulate a cooling of the climate, i.e. a larger part of the glacier experiences a positive annual mass balance.\n",
    "        </details>\n",
    "</div>"
   ]
  },
  {
   "cell_type": "code",
   "execution_count": null,
   "metadata": {},
   "outputs": [],
   "source": [
    "# First we change the mass balance model, ELA decreases \n",
    "new_ELA = 2800"
   ]
  },
  {
   "cell_type": "markdown",
   "metadata": {},
   "source": [
    "Then we continue to simulate the glaciers with a the new ELA. To do this, we have to do a bit of a trick since we cant just change the ELA of the old model. Instead we initialise a new model for each glacier, but its flowline is based on the already simulated glaciers that reached equilibrium for the old ELA."
   ]
  },
  {
   "cell_type": "code",
   "execution_count": null,
   "metadata": {},
   "outputs": [],
   "source": [
    "# Store the perturbed mb models\n",
    "mb_models_pert = []\n",
    "# Store the perturbed models\n",
    "models_pert = []\n",
    "# Loop over the different gradients.\n",
    "for i, gradient in enumerate(gradients):\n",
    "    # Calculate the mass balance model.\n",
    "    mb_model = LinearMassBalance(new_ELA, grad=gradient)\n",
    "    # Save it\n",
    "    mb_models_pert.append(mb_model)\n",
    "    # Initialise the new model with the eq. state flowline.\n",
    "    model = FlowlineModel(models[i].fls[0], mb_model=mb_model,\n",
    "                          y0=models[i].yr)\n",
    "    # And run it until eq.\n",
    "    model.run_until_equilibrium(rate=0.006)\n",
    "    # Save it.\n",
    "    models_pert.append(model)"
   ]
  },
  {
   "cell_type": "markdown",
   "metadata": {},
   "source": [
    "We can take a quick look at the glaciers at the new equilibrium state (also including the old equilibrium state)"
   ]
  },
  {
   "cell_type": "code",
   "execution_count": null,
   "metadata": {},
   "outputs": [],
   "source": [
    "# Plot it\n",
    "plt.figure()\n",
    "# Plot the initial conditions first:\n",
    "# plt.plot(distance_along_glacier, initial_flowline.surface_h,\n",
    "#          label='Initial glacier')\n",
    "\n",
    "# Plot the old eq. state.\n",
    "for k, model in enumerate(models):\n",
    "    # Get the modelled flowline (model.fls[0]) and plot its surface.\n",
    "    plt.plot(distance_along_glacier, model.fls[0].surface_h, \n",
    "             label=f'Initial eq. state with grad={gradients[k]} at year {model.yr}', \n",
    "             color=colors[k], ls='--')\n",
    "# Plot the new eq. state.\n",
    "for k, model in enumerate(models_pert):\n",
    "    # Get the modelled flowline (model.fls[0]) and plot its surface.\n",
    "    plt.plot(distance_along_glacier, model.fls[0].surface_h, \n",
    "             label=f'New eq. state with grad={gradients[k]} at year {model.yr}', \n",
    "             color=colors[k])\n",
    "\n",
    "plt.title('Equilibrium state of glaciers')\n",
    "# Add the bedrock:\n",
    "plt.plot(distance_along_glacier, bed_h, ls=':', c='k',\n",
    "        label='Bedrock')\n",
    "# Add the ELA\n",
    "plt.axhline(ELA, ls='--', zorder=0, label='Initial ELA')\n",
    "plt.axhline(new_ELA, ls='--', zorder=0, label='New ELA', c='C2')\n",
    "# Labels and legend.\n",
    "plt.ylabel('Altitude (m)')\n",
    "plt.xlabel('Distance along glacier (km)')\n",
    "plt.legend(loc='lower left');"
   ]
  },
  {
   "cell_type": "markdown",
   "metadata": {},
   "source": [
    "The next step is to calculate the response times for our glaciers. One could think that it is as simple as looking at the years above in the plot a do a simple subtraction. Unfortunately this is not the case! In reality the rate at which a glacier changes is ever decreasing and  a complete equilibrium state is never really achieved. Because of this the response time is considered the time it has taken the glacier for most of the adjustment, all but a factor of $1/e$.  \n",
    "\n",
    "For numerical models like our glaciers it is common to use the [volume response time](https://www.tandfonline.com/doi/pdf/10.1080/00040851.1997.12003238?needAccess=true), from Oerlemans [⁵](#References):\n",
    "\n",
    "$$\n",
    "\\tau = t \\left(V=V_2 - \\frac{V_2 - V_1}{e}\\right)\n",
    "$$\n",
    "\n",
    "where $V_1$ and $V_2$ corresponds to the glacier volume at the initial and new equilibrium state respectively. \n",
    "\n",
    "To compute the response time for our glaciers we will again have to simulate them to the new equilibrium state, but this time also save the intermediate steps. Here we do a little trick: We use the previously computed equilibrium states for the new ELA as a guess for how long we have to simulate the glaciers and then split this up into chunks and then use the `run_until(year)` function."
   ]
  },
  {
   "cell_type": "code",
   "execution_count": null,
   "metadata": {},
   "outputs": [],
   "source": [
    "# Save the response times in a list.\n",
    "response_times = []\n",
    "# Loop over the different gradients again.\n",
    "for i, gradient in enumerate(gradients):\n",
    "    # Years, incremental steps of 5.\n",
    "    yrs = np.arange(0, models_pert[i].yr, 5)\n",
    "    # Number of steps we'll take.\n",
    "    nsteps = len(yrs)\n",
    "    # Save the intermediate steps.\n",
    "    lengths = np.zeros(nsteps)\n",
    "    volumes = np.zeros(nsteps)\n",
    "    years = np.zeros(nsteps)\n",
    "    # Initialize the glacier model again.\n",
    "    mb_model = LinearMassBalance(new_ELA, grad=gradient)\n",
    "    model = FlowlineModel(models[i].fls[0], mb_model, y0=models[i].yr)\n",
    "    # Then we loop over the years.\n",
    "    for j, year in enumerate(yrs):\n",
    "        # Run the model until year.\n",
    "        model.run_until(year)\n",
    "        # Save the states\n",
    "        years[j] = model.yr\n",
    "        lengths[j] = model.length_m\n",
    "        volumes[j] = model.volume_km3\n",
    "        \n",
    "    # The final volume difference is then\n",
    "    v2 = model.volume_km3\n",
    "    # This is the e-folding volume difference.\n",
    "    v2_diff = v2 - (model.volume_km3 - models[i].volume_km3) / np.e\n",
    "    # We want to find the year where the volume is closest to the v2_diff.\n",
    "    # Take the difference\n",
    "    all_vol_diff = np.abs(volumes - vol_diff)\n",
    "    # Search for the smallest difference and get the index\n",
    "    index = np.argmin(all_vol_diff)\n",
    "    # Retreive the year\n",
    "    response_time = years[index] - models[i].yr\n",
    "    # Save it\n",
    "    response_times.append(response_time)"
   ]
  },
  {
   "cell_type": "markdown",
   "metadata": {},
   "source": [
    "There is quite a lot going on in the cell above, but essentially we are simulating each glacier and saving the intermediate steps in order to find the year when most of the change in volume has occurred. Let's take a look at the response times (Remember that glaciers the are ordered from weak to strong MBG)"
   ]
  },
  {
   "cell_type": "code",
   "execution_count": null,
   "metadata": {},
   "outputs": [],
   "source": [
    "response_times"
   ]
  },
  {
   "cell_type": "markdown",
   "metadata": {},
   "source": [
    "The glacier with weakest MBG need the longest time, 320 years, to adjust to a changed climate compared to the other glaciers. On the other hand, the glacier with the strongest gradient only needs a few years, 25, to adjust its shape to the new climate (compare to a real world example: Franz Josef glacier in New Zealand[⁶](#References))[⁷](#References). The response time of glaciers with weak gradients is in reality much longer than 200 years, actually closer to 2000 years\n",
    "\n",
    "<div class=\"alert alert-success\">\n",
    "    <details><summary><b>Why does the MGB change response time of a glacier? What other factors except for the MGB do you think affect the response time of a glacier?</b> <i>Click me for a hint</i></summary>\n",
    "The MGB affect the how fast the glacier will flow and in turn how fast the shape and size of the glacier can change. In general, we have to consider that the response time also depends on other features like the glacier-type, size, bed slope and average surface elevation [⁴](#References).\n",
    "    </details>\n",
    "</div>\n"
   ]
  },
  {
   "cell_type": "markdown",
   "metadata": {},
   "source": [
    "## References\n",
    "\n",
    "¹ Rasmussen, L. A., & Andreassen, L. M. (2005). Seasonal mass-balance gradients in Norway. *Journal of Glaciology*, 51(175), 601-606.\n",
    "\n",
    "² Oerlemans, J., & Fortuin, J. P. F. (1992). Sensitivity of glaciers and small ice caps to greenhouse warming. *Science, 258(5079)*, 115-117.\n",
    "\n",
    "³ Oerlemans, J. (2001). *Glaciers and climate change*. CRC Press.\n",
    "\n",
    "⁴ Encyclopedia of snow, ice and glaciers, V.P. Singh, P. Singh, and U.K. Haritashya, Editors. 2011, Springer: Dordrecht, The Netherlands. p. 245-256.\n",
    "\n",
    "⁵ Oerlemans, J. (1997). Climate sensitivity of Franz Josef Glacier, New Zealand, as revealed by numerical modeling. *Arctic and Alpine Research*, 29(2), 233-239.\n",
    "\n",
    "⁶ Anderson, B., Lawson, W., & Owens, I. (2008). Response of Franz Josef Glacier Ka Roimata o Hine Hukatere to climate change. Global and Planetary Change, 63(1), 23-30.\n",
    "\n",
    "⁷ Cuffey, K.M. & Paterson, W.S.B. *The Physics of Glaciers, 4th edition*, 704 (Academic Press, 2010).\n"
   ]
  },
  {
   "cell_type": "markdown",
   "metadata": {},
   "source": [
    "## What's next?"
   ]
  },
  {
   "cell_type": "markdown",
   "metadata": {},
   "source": [
    "[Back to the table of contents](../welcome.ipynb)"
   ]
  }
 ],
 "metadata": {
  "hide_input": false,
  "kernelspec": {
   "display_name": "Python 3 (ipykernel)",
   "language": "python",
   "name": "python3"
  },
  "language_info": {
   "codemirror_mode": {
    "name": "ipython",
    "version": 3
   },
   "file_extension": ".py",
   "mimetype": "text/x-python",
   "name": "python",
   "nbconvert_exporter": "python",
   "pygments_lexer": "ipython3",
   "version": "3.8.8"
  },
  "toc": {
   "base_numbering": 1,
   "nav_menu": {},
   "number_sections": false,
   "sideBar": true,
   "skip_h1_title": true,
   "title_cell": "Table of Contents",
   "title_sidebar": "Contents",
   "toc_cell": false,
   "toc_position": {},
   "toc_section_display": true,
   "toc_window_display": false
  }
 },
 "nbformat": 4,
 "nbformat_minor": 4
}
