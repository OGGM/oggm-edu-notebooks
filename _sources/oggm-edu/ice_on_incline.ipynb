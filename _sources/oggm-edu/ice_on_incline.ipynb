{
 "cells": [
  {
   "cell_type": "markdown",
   "metadata": {},
   "source": [
    "# Ice on an incline"
   ]
  },
  {
   "cell_type": "markdown",
   "metadata": {},
   "source": [
    "This activity can be run by students after a live experiment with \"glacier goo\" used on various slopes. In this notebook, we use a numerical simulation to study the difference in ice flow between bed of various slopes."
   ]
  },
  {
   "cell_type": "markdown",
   "metadata": {},
   "source": [
    "First, we set up the tools that we will use. You won't need to modify these."
   ]
  },
  {
   "cell_type": "code",
   "execution_count": null,
   "metadata": {},
   "outputs": [],
   "source": [
    "# import special helps from the OGGM-Edu package\n",
    "from oggm_edu import MassBalance, GlacierBed, Glacier, GlacierCollection"
   ]
  },
  {
   "cell_type": "markdown",
   "metadata": {},
   "source": [
    "## The essentials"
   ]
  },
  {
   "cell_type": "markdown",
   "metadata": {},
   "source": [
    "Now we set up our first slope and tell the model that we want to study a glacier there.  We will keep things simple: a constant slope, constant valley width, and simple formulation for adding and removing ice according to altitude."
   ]
  },
  {
   "cell_type": "markdown",
   "metadata": {},
   "source": [
    "### The glacier bed\n",
    "We will use a helper function to create a simple bed with a constant slope.  This requires as input a top and bottom altitude, and a width."
   ]
  },
  {
   "cell_type": "code",
   "execution_count": null,
   "metadata": {},
   "outputs": [],
   "source": [
    "# define glacier slope and how high up it is\n",
    "top_elev = 3400 # m, the peak elevation\n",
    "bottom_elev = 1500 # m, the elevation at the bottom of the glacier"
   ]
  },
  {
   "cell_type": "markdown",
   "metadata": {},
   "source": [
    "We have to decide how wide our glacier is. For now, we will use a default `RectangularBedFlowline` shape with an `initial_width` width of 300 m. The \"rectangular\" cross-sectional shape means that the glacial \"valley\" walls are straight and the width *w* is the same throughout:\n",
    "\n",
    "![OGGM-rectbed](http://docs.oggm.org/en/latest/_images/bed_vertical.png \"Rectangular bed illustration from OGGM documentation\")\n",
    "\n",
    "In this image, the black lines signify the walls of the \"valley\". The blue line shows the surface of the glacier.\n",
    "\n",
    "<div class=\"alert alert-success\">\n",
    "    <details><summary><b>What do you think *h* means in the picture?</b> <i>Click for details</i></summary>\n",
    "\n",
    "If you are interested, you can read more about glacier bed shapes in the [OGGM documentation](http://docs.oggm.org/en/latest/ice-dynamics.html#rectangular).\n",
    "</div>"
   ]
  },
  {
   "cell_type": "markdown",
   "metadata": {},
   "source": [
    "We set up a glacier bed with the specified geometry:"
   ]
  },
  {
   "cell_type": "code",
   "execution_count": null,
   "metadata": {},
   "outputs": [],
   "source": [
    "bed_width = 300  # m, the constant width of the rectangular valley\n",
    "bed_slope = 10  # degrees, the slope of the bed\n",
    "bed = GlacierBed(top=top_elev, bottom=bottom_elev, width=bed_width, slopes=bed_slope)"
   ]
  },
  {
   "cell_type": "markdown",
   "metadata": {},
   "source": [
    "Let's plot the bed to make sure that it looks like we expect. The `GlacierBed` object has a built in method for this which provide us with a side and top-down view of the glacier domain."
   ]
  },
  {
   "cell_type": "code",
   "execution_count": null,
   "metadata": {},
   "outputs": [],
   "source": [
    "bed.plot()"
   ]
  },
  {
   "cell_type": "markdown",
   "metadata": {},
   "source": [
    "<div class=\"alert alert-success\">\n",
    "    <details><summary><b>Check out the glacier bed length. How do you think that the length is computed out of the parameters above?</b> <i>Click for details</i></summary>\n",
    "\n",
    "Internally, the `GlacierBed` will compute the length out of the top and bottom height and a little bit of trigonometry.\n",
    "</div>"
   ]
  },
  {
   "cell_type": "markdown",
   "metadata": {},
   "source": [
    "We have now defined an object called `GlacierBed` and assigned it to the variable `bed`, which stores all the information about the bed geometry that the model uses. "
   ]
  },
  {
   "cell_type": "code",
   "execution_count": null,
   "metadata": {
    "tags": []
   },
   "outputs": [],
   "source": [
    "# This gives us some statistics about the bed.\n",
    "bed"
   ]
  },
  {
   "cell_type": "markdown",
   "metadata": {},
   "source": [
    "Notice that `bed` does not include any information about the ice.  So far we have only set up a valley. We have defined its slope, its width, its transverse shape - the geometry of the habitat where our glacier will grow. Now we want to add the climate processes that will put ice into that habitat."
   ]
  },
  {
   "cell_type": "markdown",
   "metadata": {},
   "source": [
    "### Adding the ice"
   ]
  },
  {
   "cell_type": "markdown",
   "metadata": {},
   "source": [
    "Now we want to add ice to our incline and make a glacier. Glaciologists describe the amount of ice that is added or removed over the entire surface of the glacier as the \"mass balance\". Here's an illustration from the [OGGM-edu website](https://edu.oggm.org/en/latest/glacier_basics.html):\n",
    "\n",
    "![MB-diagram](https://raw.githubusercontent.com/OGGM/glacier-graphics/master/glacier_intro/thumbnails/glacier_05.png)\n",
    "![MB-diagram](https://raw.githubusercontent.com/OGGM/glacier-graphics/master/glacier_intro/thumbnails/glacier_07.png)\n",
    "\n",
    "A linear mass balance is defined by an equilibrium line altitude (ELA) and a mass balance gradient with altitude (in [mm m $^{- 1}$]). Above the ELA, we add ice (from snow) and below the line we remove ice (melting it). We will learn more about this in the [accumulation and ablation notebook](accumulation_and_ablation.ipynb)."
   ]
  },
  {
   "cell_type": "code",
   "execution_count": null,
   "metadata": {},
   "outputs": [],
   "source": [
    "# ELA at 3000m a.s.l., gradient 4 mm m-1\n",
    "ELA = 3000 # equilibrium line altitude in meters above sea level\n",
    "altgrad = 4 # altitude gradient in mm/m\n",
    "mb_model = MassBalance(ELA, gradient=altgrad)"
   ]
  },
  {
   "cell_type": "code",
   "execution_count": null,
   "metadata": {},
   "outputs": [],
   "source": [
    "mb_model"
   ]
  },
  {
   "cell_type": "markdown",
   "metadata": {},
   "source": [
    "The mass balance model `mb_model` gives us the mass balance for any altitude we want. We will plot it below."
   ]
  },
  {
   "cell_type": "markdown",
   "metadata": {},
   "source": [
    "### Glacier initialisation\n",
    "\n",
    "We can now take our bed and the mass balance and create a glacier which we can then perform experiments on."
   ]
  },
  {
   "cell_type": "code",
   "execution_count": null,
   "metadata": {},
   "outputs": [],
   "source": [
    "# Initialise the glacier\n",
    "glacier = Glacier(bed=bed, mass_balance=mb_model)"
   ]
  },
  {
   "cell_type": "markdown",
   "metadata": {},
   "source": [
    "Similarly to the bed, the `Glacier` object is storing some information that we can recover just by calling it:"
   ]
  },
  {
   "cell_type": "code",
   "execution_count": null,
   "metadata": {},
   "outputs": [],
   "source": [
    "glacier"
   ]
  },
  {
   "cell_type": "markdown",
   "metadata": {},
   "source": [
    "Since we just created the glacier, there's still no ice!  We need some time for ice to accumulate. For this, the mass balance is the relevant process:"
   ]
  },
  {
   "cell_type": "code",
   "execution_count": null,
   "metadata": {},
   "outputs": [],
   "source": [
    "glacier.plot_mass_balance()"
   ]
  },
  {
   "cell_type": "markdown",
   "metadata": {},
   "source": [
    "**What did you notice in the graph? What are the axes? At what altitudes is ice added to the glacier (positive mass balance)? At what altitudes does ice melt?**"
   ]
  },
  {
   "cell_type": "markdown",
   "metadata": {},
   "source": [
    "### Running the numerical model"
   ]
  },
  {
   "cell_type": "markdown",
   "metadata": {},
   "source": [
    "When we did our experiments in the laboratory, we had a slope and some material to pour our \"glacier\". We also decided how long to let the goo flow -- that is, the \"runtime\" of our experiment. Setting up our glacier model on the computer is very similar. We have gathered our bed geometry (`bed`), our mass balance (`mb_model`), and now we will tell the model how long to run (`runtime`)."
   ]
  },
  {
   "cell_type": "markdown",
   "metadata": {},
   "source": [
    "First we run the model for one year:"
   ]
  },
  {
   "cell_type": "code",
   "execution_count": null,
   "metadata": {},
   "outputs": [],
   "source": [
    "# We want to progress the glacier by a given time.\n",
    "runtime = 1\n",
    "glacier.progress_to_year(runtime)"
   ]
  },
  {
   "cell_type": "markdown",
   "metadata": {},
   "source": [
    "Let's take a look.  The `Glacier` object also has a built-in method for us to plot."
   ]
  },
  {
   "cell_type": "code",
   "execution_count": null,
   "metadata": {},
   "outputs": [],
   "source": [
    "glacier.plot()"
   ]
  },
  {
   "cell_type": "markdown",
   "metadata": {},
   "source": [
    "Here we can see that there is a very thin cover of ice from the top and partway down the glacier bed. Study both plots and interpret what they are showing.\n",
    "**How far down the glacier bed does the ice cover reach?** \n",
    "\n",
    "We can also take a look at some of statistics of the glacier again to get some more details:"
   ]
  },
  {
   "cell_type": "code",
   "execution_count": null,
   "metadata": {},
   "outputs": [],
   "source": [
    "glacier"
   ]
  },
  {
   "cell_type": "markdown",
   "metadata": {},
   "source": [
    "The modeled \"glacier\" already reaches down to the ELA (dashed line)...but it is extremely thin.  Looks like we need some more time for the glacier to grow."
   ]
  },
  {
   "cell_type": "markdown",
   "metadata": {},
   "source": [
    "Let's now run the model for 150 years.\n",
    "\n",
    "**In the following code, can you identify where we tell the model how many years we want to study?**"
   ]
  },
  {
   "cell_type": "code",
   "execution_count": null,
   "metadata": {},
   "outputs": [],
   "source": [
    "runtime = 150\n",
    "glacier.progress_to_year(150)"
   ]
  },
  {
   "cell_type": "markdown",
   "metadata": {},
   "source": [
    "Let's see how our glacier has changed."
   ]
  },
  {
   "cell_type": "code",
   "execution_count": null,
   "metadata": {},
   "outputs": [],
   "source": [
    "glacier.plot()"
   ]
  },
  {
   "cell_type": "markdown",
   "metadata": {},
   "source": [
    "Now we can clearly see the difference between the surface of the glacier and the bedrock.\n",
    "Let's print the same set of statistics about the glacier as before:"
   ]
  },
  {
   "cell_type": "code",
   "execution_count": null,
   "metadata": {},
   "outputs": [],
   "source": [
    "glacier"
   ]
  },
  {
   "cell_type": "markdown",
   "metadata": {},
   "source": [
    "**Compare this \"numerical glacier\" with the \"glacier goo\" we made in the lab:**\n",
    "- **How long does it take for the glacier goo to \"grow\" and flow down the slope? How long does the numerical glacier need?**\n",
    "- **Below the ELA (3000 m) something happens for the numerical glacier (and for real glaciers too) that did not happen in the glacier goo experiment. What is it?**"
   ]
  },
  {
   "cell_type": "markdown",
   "metadata": {},
   "source": [
    "If we want to calculate changes further in time, we have to set the desired date.\n",
    "\n",
    "**Try editing the cell below to ask the model to run for 500 years instead of 150.**"
   ]
  },
  {
   "cell_type": "code",
   "execution_count": null,
   "metadata": {},
   "outputs": [],
   "source": [
    "runtime = 150\n",
    "glacier.progress_to_year(runtime)"
   ]
  },
  {
   "cell_type": "code",
   "execution_count": null,
   "metadata": {},
   "outputs": [],
   "source": [
    "glacier.plot()"
   ]
  },
  {
   "cell_type": "code",
   "execution_count": null,
   "metadata": {},
   "outputs": [],
   "source": [
    "glacier"
   ]
  },
  {
   "cell_type": "markdown",
   "metadata": {},
   "source": [
    "Based on this information, do you think you modified the cell correctly?"
   ]
  },
  {
   "cell_type": "markdown",
   "metadata": {},
   "source": [
    "It is important to note that the model will not go back in time.\n",
    "Once it has run for 500 years, the model will not go back to the 450-year date.  It remains at year 500. Try running the cell below. Does the output match what you expected?"
   ]
  },
  {
   "cell_type": "code",
   "execution_count": null,
   "metadata": {},
   "outputs": [],
   "source": [
    "glacier.progress_to_year(450)\n",
    "glacier"
   ]
  },
  {
   "cell_type": "markdown",
   "metadata": {},
   "source": [
    "### Accessing the glacier history"
   ]
  },
  {
   "cell_type": "markdown",
   "metadata": {},
   "source": [
    "Lucky for us, the `Glacier` object has also been storing a history of how the glacier has changed over the simulation.  We can access that data through the `history`:"
   ]
  },
  {
   "cell_type": "code",
   "execution_count": null,
   "metadata": {},
   "outputs": [],
   "source": [
    "glacier.history"
   ]
  },
  {
   "cell_type": "markdown",
   "metadata": {},
   "source": [
    "And we can quickly visualise the history of the glacier with the `.plot_history()` method"
   ]
  },
  {
   "cell_type": "code",
   "execution_count": null,
   "metadata": {},
   "outputs": [],
   "source": [
    "glacier.plot_history()"
   ]
  },
  {
   "cell_type": "markdown",
   "metadata": {},
   "source": [
    "**What is going on in this image?**"
   ]
  },
  {
   "cell_type": "markdown",
   "metadata": {},
   "source": [
    "The length of the glacier is a step function in the first year of simulation because, above the equilibrium line altitude (ELA), only accumulation is happening.\n",
    "After that, at first the length of the glacier remains constant. The ice is not very thick, so the portion that reaches below the ELA does not survive the melting that occurs there. But no matter how thick the glacier is, the part above the ELA is always gaining mass. Eventually, there is enough ice to persist below the ELA. We will learn more about ELA in the [accumulation and ablation notebook](accumulation_and_ablation.ipynb)."
   ]
  },
  {
   "cell_type": "markdown",
   "metadata": {},
   "source": [
    "### Equilibrium state\n",
    "After several centuries, the glacier reaches a balance with its climate.\n",
    "This means that its length and volume will no longer change, as long as all physical parameters and the climate stay roughly constant.\n",
    "The `Glacier` object has a method which can progress the glacier to equilibrium `.progress_to_equilibrium()`.  More on this in later notebooks.\n",
    "\n",
    "**Can you identify an equilibrium state in the plots above?**"
   ]
  },
  {
   "cell_type": "markdown",
   "metadata": {},
   "source": [
    "## A first experiment"
   ]
  },
  {
   "cell_type": "markdown",
   "metadata": {},
   "source": [
    "Ok, we have seen the basics. Now, how about a glacier on a different slope? Glaciers are sometimes very steep, like this one in Nepal.\n",
    "\n",
    "![khumbu-himal](https://www.swisseduc.ch/glaciers/earth_icy_planet/icons-02/11-hanging-glacier.jpg \"An image of a hanging glacier, Khumbu Himal. Hambrey & Alean\")\n",
    "\n",
    "Let's adjust the slope in the model to observe a steeper glacier:"
   ]
  },
  {
   "cell_type": "markdown",
   "metadata": {},
   "source": [
    "**In the following code, can you identify where we tell the model the new slope we are going to use?**\n",
    "\n",
    "**What slope did we use for the first experiment? Look for that information at the beginning of the notebook.**"
   ]
  },
  {
   "cell_type": "code",
   "execution_count": null,
   "metadata": {},
   "outputs": [],
   "source": [
    "# define new slope\n",
    "new_slope = 20\n",
    "\n",
    "# create a linear bedrock profile from top to bottom\n",
    "new_bed = GlacierBed(top=top_elev, bottom=bottom_elev, width=bed_width, slopes=new_slope)\n",
    "\n",
    "new_glacier = Glacier(bed=new_bed, mass_balance=mb_model)"
   ]
  },
  {
   "cell_type": "markdown",
   "metadata": {},
   "source": [
    "### Comparing glaciers"
   ]
  },
  {
   "cell_type": "markdown",
   "metadata": {},
   "source": [
    "We can now introduce the `GlacierCollection`.  This is a utility which can store multiple glaciers and can be used to easily compare and run experiments on multiple glaciers."
   ]
  },
  {
   "cell_type": "code",
   "execution_count": null,
   "metadata": {},
   "outputs": [],
   "source": [
    "# We initialise a collection\n",
    "collection = GlacierCollection()\n",
    "# And then add the two glaciers available in this notebook.\n",
    "collection.add([glacier, new_glacier])"
   ]
  },
  {
   "cell_type": "markdown",
   "metadata": {},
   "source": [
    "We can get a quick look at the collection by simply calling it:"
   ]
  },
  {
   "cell_type": "code",
   "execution_count": null,
   "metadata": {},
   "outputs": [],
   "source": [
    "collection"
   ]
  },
  {
   "cell_type": "markdown",
   "metadata": {},
   "source": [
    "Before we compare the glaciers in the collection, let's make sure to progress them to the same year with the `.progress_to_year()` method."
   ]
  },
  {
   "cell_type": "code",
   "execution_count": null,
   "metadata": {},
   "outputs": [],
   "source": [
    "collection.progress_to_year(600)"
   ]
  },
  {
   "cell_type": "markdown",
   "metadata": {},
   "source": [
    "Now let's compare the glacier we studied first with our new glacier on a different slope. **Do you think the new glacier will have more or less ice than the first?**"
   ]
  },
  {
   "cell_type": "code",
   "execution_count": null,
   "metadata": {},
   "outputs": [],
   "source": [
    "collection.plot_side_by_side(figsize=(10, 5))"
   ]
  },
  {
   "cell_type": "markdown",
   "metadata": {},
   "source": [
    "Let's make sure we understand what is going on:"
   ]
  },
  {
   "cell_type": "code",
   "execution_count": null,
   "metadata": {},
   "outputs": [],
   "source": [
    "collection.plot_history()"
   ]
  },
  {
   "cell_type": "code",
   "execution_count": null,
   "metadata": {},
   "outputs": [],
   "source": [
    "collection"
   ]
  },
  {
   "cell_type": "markdown",
   "metadata": {},
   "source": [
    "<div class=\"alert alert-success\">\n",
    "    <details><summary><b>Explore the characteristics (thickness, length, velocity...). Can you explain the difference between the two glaciers?</b> <i>Click for details</i></summary>\n",
    "\n",
    "The steeper glacier transports mass from top to bottom faster than the other. As a result, it is overall thinner since the mass gain at the top is the same in both cases (or is it? look at the profiles plot and spot the differences...), but the downward transport means that ice has less time to accumulate before being transported down the ELA and melted away. There is a bit more to the story, but more on this in class!\n",
    "</div>"
   ]
  },
  {
   "cell_type": "markdown",
   "metadata": {},
   "source": [
    "### Activity\n",
    "\n",
    "**Now, try to change the slope to another value, and run the model again. What do you see?**"
   ]
  }
 ],
 "metadata": {
  "hide_input": false,
  "kernelspec": {
   "display_name": "Python 3 (ipykernel)",
   "language": "python",
   "name": "python3"
  },
  "language_info": {
   "codemirror_mode": {
    "name": "ipython",
    "version": 3
   },
   "file_extension": ".py",
   "mimetype": "text/x-python",
   "name": "python",
   "nbconvert_exporter": "python",
   "pygments_lexer": "ipython3",
   "version": "3.11.4"
  },
  "toc": {
   "base_numbering": 1,
   "nav_menu": {},
   "number_sections": false,
   "sideBar": true,
   "skip_h1_title": true,
   "title_cell": "Table of Contents",
   "title_sidebar": "Contents",
   "toc_cell": false,
   "toc_position": {},
   "toc_section_display": true,
   "toc_window_display": false
  }
 },
 "nbformat": 4,
 "nbformat_minor": 4
}
