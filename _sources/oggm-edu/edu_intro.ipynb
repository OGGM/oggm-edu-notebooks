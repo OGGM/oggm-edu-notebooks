{
 "cells": [
  {
   "cell_type": "markdown",
   "metadata": {},
   "source": [
    "# Getting started with OGGM Edu: idealised glaciers"
   ]
  },
  {
   "cell_type": "markdown",
   "metadata": {},
   "source": [
    "OGGM Edu provides a simple way to experiment with glaciers on your computer.\n",
    "This is achieved by a high level interface to the different parts of the complex glacier model that is OGGM.\n",
    "You as a user will interact with a few objects that provide you with methods and attributes fitting for a glacier and the parts that make it up.\n",
    "\n",
    "The goal of this notebook is to introduce you to OGGM Edu and how it can be used to simulate two idealised glaciers.\n",
    "\n",
    "We begin by importing the classes that we need"
   ]
  },
  {
   "cell_type": "code",
   "execution_count": null,
   "metadata": {},
   "outputs": [],
   "source": [
    "from oggm_edu import MassBalance, GlacierBed, Glacier, GlacierCollection"
   ]
  },
  {
   "cell_type": "markdown",
   "metadata": {},
   "source": [
    "The three main classes that we are going to use are the\n",
    "- `GlacierBed`\n",
    "- `MassBalance`\n",
    "- `Glacier`\n",
    "\n",
    "The `GlacierBed` provide an easy way to define the glacier bed while the `MassBalance` is used to define the mass balance of the glacier.\n",
    "The `Glacier` then provide us with methods to progress and visualise the glacier and informative attributes.\n",
    "To create a glacier we need to give it a bed and a mass balance."
   ]
  },
  {
   "cell_type": "markdown",
   "metadata": {},
   "source": [
    "## First steps"
   ]
  },
  {
   "cell_type": "markdown",
   "metadata": {},
   "source": [
    "In our first experiment we want to create a glacier that is as simple as possible.\n",
    "This means a glacier bed with a constant slope and width and a simple mass balance.\n",
    "We begin with creating the bed of our glacier."
   ]
  },
  {
   "cell_type": "markdown",
   "metadata": {},
   "source": [
    "### The glacier bed\n",
    "In its most simple form the glacier bed requires a top and bottom altitude, and a witdh."
   ]
  },
  {
   "cell_type": "code",
   "execution_count": null,
   "metadata": {},
   "outputs": [],
   "source": [
    "# All arguments are specified in meters.\n",
    "bed = GlacierBed(top=3400, bottom=1500, width=300)"
   ]
  },
  {
   "cell_type": "code",
   "execution_count": null,
   "metadata": {},
   "outputs": [],
   "source": [
    "# This gives us some statistics about the bed.\n",
    "bed"
   ]
  },
  {
   "cell_type": "markdown",
   "metadata": {},
   "source": [
    "Let's plot the bed to make sure that it looks like we expect.\n",
    "The `bed` object has a built in method for this which provide us with a side and top-down view of the glacier domain."
   ]
  },
  {
   "cell_type": "code",
   "execution_count": null,
   "metadata": {},
   "outputs": [],
   "source": [
    "bed.plot()"
   ]
  },
  {
   "cell_type": "markdown",
   "metadata": {},
   "source": [
    "*Note: if you want to change the plot size of all edu plots, you can try:*\n",
    "\n",
    "```python\n",
    "import oggm_edu\n",
    "oggm_edu.set_params(figsize=(12, 9))\n",
    "```"
   ]
  },
  {
   "cell_type": "markdown",
   "metadata": {},
   "source": [
    "For finer control over the bed slope you can pass a single value to `slopes` during the creation"
   ]
  },
  {
   "cell_type": "code",
   "execution_count": null,
   "metadata": {},
   "outputs": [],
   "source": [
    "# This will give us a steeper bed compared to the default.\n",
    "bed_with_slope = GlacierBed(top=3400, bottom=1500, width=300, slopes=25)\n",
    "bed_with_slope.plot()"
   ]
  },
  {
   "cell_type": "markdown",
   "metadata": {},
   "source": [
    "You can also pass a sequence of slope angles in `slopes` - for this you also need to specify the altitude spans of the sections with the `slope_sections` argument.\n",
    "\n",
    "There should be one more entry in `slope_sections` compared to the entries in slopes.\n",
    "The first and last value in `slope_sections` should match the top and bottom of the glacier."
   ]
  },
  {
   "cell_type": "code",
   "execution_count": null,
   "metadata": {},
   "outputs": [],
   "source": [
    "# A bed with multiple slopes\n",
    "bed_with_multiple_slopes = GlacierBed(top=3400, bottom=1500, width=300,\n",
    "                                      slopes=[25, 10],\n",
    "                                      # Slope sections are defined by altitude\n",
    "                                      # pairs. Here we have two parirs.\n",
    "                                      slope_sections=[3400, 2200, 1500])\n",
    "bed_with_multiple_slopes.plot()"
   ]
  },
  {
   "cell_type": "markdown",
   "metadata": {},
   "source": [
    "### Mass balance\n",
    "\n",
    "For the glacier to grow it needs a mass balance model.\n",
    "The mass balance is responsible for adding snow and removing ice through melt on the glacier.\n",
    "In our case it will be a simple linear mass balance, meaning that it decreases linearly with altitude.\n",
    "\n",
    "The mass balance is defined by the equilibrium line altitude (ELA) and the altitude gradient (in mm yr$^{-1}$ m$^{-1}$).\n",
    "The ELA defines at what altitude the mass balance is zero and the altitude gradient how much the mass balance changes with altitude. **More on this in upcoming notebooks!**\n",
    "\n",
    "We set the ELA of our glacier to 3000 meters and the altitude gradient to 4 mm yr$^{-1}$ m$^{-1}$."
   ]
  },
  {
   "cell_type": "code",
   "execution_count": null,
   "metadata": {},
   "outputs": [],
   "source": [
    "mass_balance = MassBalance(ela=3000, gradient=4)"
   ]
  },
  {
   "cell_type": "code",
   "execution_count": null,
   "metadata": {},
   "outputs": [],
   "source": [
    "mass_balance"
   ]
  },
  {
   "cell_type": "markdown",
   "metadata": {},
   "source": [
    "### Glacier initialisation\n",
    "\n",
    "We can now take our bed and the mass balance and create a glacier which we can then perform experiments on."
   ]
  },
  {
   "cell_type": "code",
   "execution_count": null,
   "metadata": {},
   "outputs": [],
   "source": [
    "# Initialise the glacier\n",
    "glacier = Glacier(bed=bed, mass_balance=mass_balance)"
   ]
  },
  {
   "cell_type": "markdown",
   "metadata": {},
   "source": [
    "Similarly to the bed, we can get some statistics about the glacier by simply calling it.\n",
    "However since we just created the glacier, everything will be zero."
   ]
  },
  {
   "cell_type": "code",
   "execution_count": null,
   "metadata": {},
   "outputs": [],
   "source": [
    "# Some statistics about the glacier\n",
    "glacier"
   ]
  },
  {
   "cell_type": "markdown",
   "metadata": {},
   "source": [
    "### Progressing the glacier\n",
    "\n",
    "Now the glacier has all the ingredients needed to evolve."
   ]
  },
  {
   "cell_type": "markdown",
   "metadata": {},
   "source": [
    "Let's first progress the glacier to year 1."
   ]
  },
  {
   "cell_type": "code",
   "execution_count": null,
   "metadata": {},
   "outputs": [],
   "source": [
    "# We want to progress the glacier to year 1.\n",
    "glacier.progress_to_year(1)"
   ]
  },
  {
   "cell_type": "markdown",
   "metadata": {},
   "source": [
    "And let's take a look at the glacier.\n",
    "As the bed, it has a in method for this."
   ]
  },
  {
   "cell_type": "code",
   "execution_count": null,
   "metadata": {},
   "outputs": [],
   "source": [
    "glacier.plot()"
   ]
  },
  {
   "cell_type": "markdown",
   "metadata": {},
   "source": [
    "Here we can see that there is thin cover of ice from the top and 4 km down the glacier bed. \n",
    "So the glacier almost reaches the point where the bed intersects the ELA (~4 km).\n",
    "We can also take a look at some of statistics of the glacier again to get some more details:"
   ]
  },
  {
   "cell_type": "code",
   "execution_count": null,
   "metadata": {},
   "outputs": [],
   "source": [
    "glacier"
   ]
  },
  {
   "cell_type": "markdown",
   "metadata": {},
   "source": [
    "From the statistics we can read that the glacier has a length of 4 km and covers an area of 1.2 km$^2$.\n",
    "The glacier will grow considerably in the upcoming years, and the ice thickness should become apparent even in the altitude - distance plot.\n",
    "Let us progress the glacier to year 150 and take a look."
   ]
  },
  {
   "cell_type": "code",
   "execution_count": null,
   "metadata": {},
   "outputs": [],
   "source": [
    "glacier.progress_to_year(150)"
   ]
  },
  {
   "cell_type": "code",
   "execution_count": null,
   "metadata": {},
   "outputs": [],
   "source": [
    "glacier.plot()"
   ]
  },
  {
   "cell_type": "markdown",
   "metadata": {},
   "source": [
    "Now we can clearly see the difference between the surface of the glacier and the bedrock.\n",
    "Let's print the same statistics about the glacier as before:"
   ]
  },
  {
   "cell_type": "code",
   "execution_count": null,
   "metadata": {},
   "outputs": [],
   "source": [
    "glacier"
   ]
  },
  {
   "cell_type": "markdown",
   "metadata": {},
   "source": [
    "The glacier length and area has increased by ~20% while the volume has increased by more than 1000%. This is because the glacier has to build enough mass (i.e. ice thickness) before it can begin to flow downhill and increase its length.\n",
    "\n",
    "Note that the glacier is now 150 years old.\n",
    "If we try progressing the glacier to the same year again, nothing will happen.\n",
    "It evens gives us a warning."
   ]
  },
  {
   "cell_type": "code",
   "execution_count": null,
   "metadata": {},
   "outputs": [],
   "source": [
    "glacier.progress_to_year(150)"
   ]
  },
  {
   "cell_type": "markdown",
   "metadata": {},
   "source": [
    "We can easily progress the glacier even longer:"
   ]
  },
  {
   "cell_type": "code",
   "execution_count": null,
   "metadata": {},
   "outputs": [],
   "source": [
    "glacier.progress_to_year(500)"
   ]
  },
  {
   "cell_type": "code",
   "execution_count": null,
   "metadata": {},
   "outputs": [],
   "source": [
    "glacier.plot()"
   ]
  },
  {
   "cell_type": "code",
   "execution_count": null,
   "metadata": {},
   "outputs": [],
   "source": [
    "glacier"
   ]
  },
  {
   "cell_type": "markdown",
   "metadata": {},
   "source": [
    "The glaciers has now grown considerably further down our made up mountain, well below the ELA.\n",
    "\n",
    "It is important to note that the model can not progress back in time.\n",
    "Once at year 500, we can not de-age the glacier."
   ]
  },
  {
   "cell_type": "code",
   "execution_count": null,
   "metadata": {},
   "outputs": [],
   "source": [
    "glacier.progress_to_year(450)"
   ]
  },
  {
   "cell_type": "markdown",
   "metadata": {},
   "source": [
    "**Let's do the same with one of the glaciers with a non-linear bed profile!**"
   ]
  },
  {
   "cell_type": "code",
   "execution_count": null,
   "metadata": {},
   "outputs": [],
   "source": [
    "# We create a new mass balance for this glacier.\n",
    "mass_balance_2 = MassBalance(ela=2500, gradient=4)\n",
    "# Initialise the glacier\n",
    "glacier_multiple_slopes = Glacier(bed=bed_with_multiple_slopes,\n",
    "                                  mass_balance=mass_balance_2)\n",
    "# Progress the glacier\n",
    "glacier_multiple_slopes.progress_to_year(400)"
   ]
  },
  {
   "cell_type": "code",
   "execution_count": null,
   "metadata": {},
   "outputs": [],
   "source": [
    "# And plot the glacier\n",
    "glacier_multiple_slopes.plot()"
   ]
  },
  {
   "cell_type": "markdown",
   "metadata": {},
   "source": [
    "### Glacier history\n",
    "This brings us to the glacier history.\n",
    "This is just what it sounds like, a history of the length, volume and area of the glacier.\n",
    "We can access the data through the `.history` attribute"
   ]
  },
  {
   "cell_type": "code",
   "execution_count": null,
   "metadata": {},
   "outputs": [],
   "source": [
    "glacier.history"
   ]
  },
  {
   "cell_type": "markdown",
   "metadata": {},
   "source": [
    "And we can quickly visualise the history of the glacier with the `.plot_history()` method"
   ]
  },
  {
   "cell_type": "code",
   "execution_count": null,
   "metadata": {},
   "outputs": [],
   "source": [
    "glacier.plot_history()"
   ]
  },
  {
   "cell_type": "markdown",
   "metadata": {},
   "source": [
    "The glacier length and area has a step in the first year.\n",
    "This has to do with how OGGM internally deals with snow and ice, it does not differentiate between them.\n",
    "And since the mass balance is always positive above the ELA, any snowfall in the first year above the ELA will remain and be classified as part of the glacier, and contribute to the length and area.\n",
    "\n",
    "This is why after the first year, the glacier's length and area remains constant for a few years. \n",
    "In this initial stage, the ice is so thin that any flow bringing ice below the ELA will not be large enough to compensate for the high ablation rate, and any ice melts away.\n",
    "\n",
    "When the ice thickness has increased enough for the ice flow to surpass the ablation rate below the ELA, the glacier length can begin to increase. "
   ]
  },
  {
   "cell_type": "markdown",
   "metadata": {},
   "source": [
    "### Equilibrium state\n",
    "After several centuries, the glacier reaches a balance with its climate.\n",
    "This means that its length and volume won't change anymore, as long as all physical parameters and the climate stay constant.\n",
    "The `Glacier` has a method which progress the glacier to equilibrium `.progress_to_equilibrium()`, more on this in later notebooks."
   ]
  },
  {
   "cell_type": "markdown",
   "metadata": {},
   "source": [
    "## A first experiment "
   ]
  },
  {
   "cell_type": "markdown",
   "metadata": {},
   "source": [
    "We have now seen how to setup a simple glacier and progress it to any year.\n",
    "Now we will move a little bit closer to reality and define a glacier with changing widths.\n",
    "Like many real glaciers the new glacier will be wider at the top (in the accumulation area) and have a constant width below the ELA.\n",
    "\n",
    "We can achieve this by creating a new `Bed` and instead of specifying the top and bottom altitudes along with the width, we specify altitudes and widths in pairs:  "
   ]
  },
  {
   "cell_type": "code",
   "execution_count": null,
   "metadata": {},
   "outputs": [],
   "source": [
    "wide_narrow_bed = GlacierBed(altitudes=[3400, 2800, 1500],\n",
    "                             widths=[600, 300, 300])"
   ]
  },
  {
   "cell_type": "code",
   "execution_count": null,
   "metadata": {},
   "outputs": [],
   "source": [
    "wide_narrow_bed"
   ]
  },
  {
   "cell_type": "markdown",
   "metadata": {},
   "source": [
    "Here the first and last values in `altitudes` and `widths` correspond to the top/bottom altitude/width.\n",
    "Any values in between will change the shape of the bed further."
   ]
  },
  {
   "cell_type": "code",
   "execution_count": null,
   "metadata": {},
   "outputs": [],
   "source": [
    "wide_narrow_bed.plot()"
   ]
  },
  {
   "cell_type": "markdown",
   "metadata": {},
   "source": [
    "We use the new bed to create a new glacier"
   ]
  },
  {
   "cell_type": "code",
   "execution_count": null,
   "metadata": {},
   "outputs": [],
   "source": [
    "wide_narrow_glacier = Glacier(bed=wide_narrow_bed,\n",
    "                              mass_balance=mass_balance)"
   ]
  },
  {
   "cell_type": "code",
   "execution_count": null,
   "metadata": {},
   "outputs": [],
   "source": [
    "wide_narrow_glacier"
   ]
  },
  {
   "cell_type": "markdown",
   "metadata": {},
   "source": [
    "We can now introduce the `GlacierCollection`.\n",
    "This is a utility which can store multiple glaciers and can be used to easily compare and run experiments on multiple glaciers.\n",
    "The `GlacierCollection` will be used extensively throughout these notebooks and its functionality will be explained further as we go along."
   ]
  },
  {
   "cell_type": "code",
   "execution_count": null,
   "metadata": {},
   "outputs": [],
   "source": [
    "# We initialise a collection\n",
    "collection = GlacierCollection()\n",
    "# And then add the two glaciers available in this notebook.\n",
    "collection.add([glacier, wide_narrow_glacier])"
   ]
  },
  {
   "cell_type": "markdown",
   "metadata": {},
   "source": [
    "We can get a quick look at the collection by simply calling it"
   ]
  },
  {
   "cell_type": "code",
   "execution_count": null,
   "metadata": {},
   "outputs": [],
   "source": [
    "collection"
   ]
  },
  {
   "cell_type": "markdown",
   "metadata": {},
   "source": [
    "Before plotting the glaciers in the collection, we can progress them to the same year with the `.progress_to_year()` method."
   ]
  },
  {
   "cell_type": "code",
   "execution_count": null,
   "metadata": {},
   "outputs": [],
   "source": [
    "collection.progress_to_year(600)"
   ]
  },
  {
   "cell_type": "markdown",
   "metadata": {},
   "source": [
    "We can then plot the collection"
   ]
  },
  {
   "cell_type": "code",
   "execution_count": null,
   "metadata": {},
   "outputs": [],
   "source": [
    "collection.plot()"
   ]
  },
  {
   "cell_type": "markdown",
   "metadata": {},
   "source": [
    "<div class=\"alert alert-success\">\n",
    "    <details><summary><b>The glacier with a wider accumulation area is longer compared to the simple glacier area at year 600. With what you've learned so far in this notebook, can you come up with an explanation to why?</b> <i>Click for a hint</i></summary>\n",
    "    With a wider accumulation area the glacier mass above the ELA will increase quicker and the flow of ice to below the ELA will be larger compared to the glacier with a smaller accumulation area.\n",
    "    </details>\n",
    "</div>\n",
    "\n",
    "Similarly to the glacier the collection has a method for easily plotting the histories of the held glaciers. "
   ]
  },
  {
   "cell_type": "code",
   "execution_count": null,
   "metadata": {},
   "outputs": [],
   "source": [
    "collection.plot_history()"
   ]
  },
  {
   "cell_type": "markdown",
   "metadata": {},
   "source": [
    "## What's next?"
   ]
  },
  {
   "cell_type": "markdown",
   "metadata": {},
   "source": [
    "[Back to the table of contents](../welcome.ipynb)"
   ]
  }
 ],
 "metadata": {
  "hide_input": false,
  "kernelspec": {
   "display_name": "Python 3 (ipykernel)",
   "language": "python",
   "name": "python3"
  },
  "language_info": {
   "codemirror_mode": {
    "name": "ipython",
    "version": 3
   },
   "file_extension": ".py",
   "mimetype": "text/x-python",
   "name": "python",
   "nbconvert_exporter": "python",
   "pygments_lexer": "ipython3",
   "version": "3.11.4"
  },
  "toc": {
   "base_numbering": 1,
   "nav_menu": {},
   "number_sections": false,
   "sideBar": true,
   "skip_h1_title": true,
   "title_cell": "Table of Contents",
   "title_sidebar": "Contents",
   "toc_cell": false,
   "toc_position": {},
   "toc_section_display": true,
   "toc_window_display": false
  }
 },
 "nbformat": 4,
 "nbformat_minor": 4
}
