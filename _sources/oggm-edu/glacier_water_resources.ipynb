{
 "cells": [
  {
   "cell_type": "markdown",
   "metadata": {},
   "source": [
    "# Glaciers as water resources: part 1 (idealized climate)"
   ]
  },
  {
   "cell_type": "markdown",
   "metadata": {},
   "source": [
    "Our previous notebooks showed how to use OGGM to answer theoretical questions about glaciers, using idealized experiments: the effect of a different slope, the concept of the equilibrium line altitude, the mass balance gradient, etc. Now, how do we use OGGM to explore real glaciers? This notebook gives us some insight."
   ]
  },
  {
   "cell_type": "markdown",
   "metadata": {},
   "source": [
    "Goals of this notebook:\n",
    "\n",
    "- prepare a model run for a real world glacier\n",
    "- run simulations using different idealized climate scenarios to explore the role of glaciers as water resources\n",
    "- understand the concept of \"peak water\""
   ]
  },
  {
   "cell_type": "markdown",
   "metadata": {},
   "source": [
    "## Setting the scene: glacier runoff and \"peak water\""
   ]
  },
  {
   "cell_type": "markdown",
   "metadata": {},
   "source": [
    "*\"If glaciers melt, there won't be water in mountain anymore\"*.\n",
    "\n",
    "This is a sentence that we hear often from people we meet, or sometimes even in news articles. In fact, the role of glaciers in the hydrological cycle is more complex than that. In this notebook, we will explore this question using idealized climate scenarios applied to real glaciers!"
   ]
  },
  {
   "cell_type": "markdown",
   "metadata": {},
   "source": [
    "Before we continue, let's have a look at the expected contribution of glaciers to local streamflow.  The chart below shows an idealized scenario where the climate is first constant (t$_0$-t$_1$, and the glacier is in equilibrium with its climate) and then a warming occurs (t$_1$-t$_2$). This graph makes a few very important points, which we will explore together in this notebook. \n",
    "\n",
    "1. When a glacier is in equilibrium, a glacier does not contribute to the annual runoff at all. \n",
    "2. When the climate is warming, glaciers are losing mass. This water contributes to downstream runoff, and the runoff increases.\n",
    "3. If climate warms even more, glaciers will continue to lose mass and become significantly smaller. When there isn't much ice left to melt each year (or when climate stabilizes), their contribution will become smaller until becoming zero again.\n",
    "4. In the new equilibrium, the annual runoff is the same as before, but the seasonal contribution changed.\n",
    "\n",
    "We will now get back to all these points together, using OGGM!\n",
    "\n",
    "<img src=\"https://raw.githubusercontent.com/OGGM/oggm-edu/master/docs/_static/fig_huss_hock.jpg\" width=\"700px\" alt=\"Fig 1 from https://www.nature.com/articles/s41558-017-0049-x\">\n",
    "\n",
    "*Graphic from [Huss & Hock (2018)](https://www.nature.com/articles/s41558-017-0049-x)*"
   ]
  },
  {
   "cell_type": "markdown",
   "metadata": {},
   "source": [
    "## Setup "
   ]
  },
  {
   "cell_type": "code",
   "execution_count": null,
   "metadata": {},
   "outputs": [],
   "source": [
    "import matplotlib.pyplot as plt\n",
    "import seaborn as sns\n",
    "%matplotlib inline\n",
    "sns.set_context('notebook')"
   ]
  },
  {
   "cell_type": "code",
   "execution_count": null,
   "metadata": {},
   "outputs": [],
   "source": [
    "# One interactive plot below requires Bokeh\n",
    "# The rest of the notebook works without this dependency\n",
    "import holoviews as hv\n",
    "hv.extension('bokeh')\n",
    "import geoviews as gv\n",
    "import geoviews.tile_sources as gts"
   ]
  },
  {
   "cell_type": "code",
   "execution_count": null,
   "metadata": {},
   "outputs": [],
   "source": [
    "# Temporarily ignore warnings from shapely\n",
    "import warnings\n",
    "from shapely.errors import ShapelyDeprecationWarning\n",
    "warnings.filterwarnings('ignore', category=ShapelyDeprecationWarning)"
   ]
  },
  {
   "cell_type": "code",
   "execution_count": null,
   "metadata": {},
   "outputs": [],
   "source": [
    "import xarray as xr\n",
    "import salem\n",
    "import numpy as np\n",
    "import pandas as pd"
   ]
  },
  {
   "cell_type": "code",
   "execution_count": null,
   "metadata": {},
   "outputs": [],
   "source": [
    "import oggm.cfg\n",
    "from oggm import utils, workflow, tasks, graphics\n",
    "from oggm_edu.legacy import run_constant_climate_with_bias"
   ]
  },
  {
   "cell_type": "code",
   "execution_count": null,
   "metadata": {},
   "outputs": [],
   "source": [
    "# OGGM options\n",
    "oggm.cfg.initialize(logging_level='WARNING')\n",
    "oggm.cfg.PATHS['working_dir'] = utils.gettempdir(dirname='WaterResources')\n",
    "oggm.cfg.PARAMS['min_ice_thick_for_length'] = 1  # a glacier is when ice thicker than 1m\n",
    "oggm.cfg.PARAMS['store_model_geometry'] = True"
   ]
  },
  {
   "cell_type": "markdown",
   "metadata": {},
   "source": [
    "### Define the glacier we will play with"
   ]
  },
  {
   "cell_type": "markdown",
   "metadata": {},
   "source": [
    "For this notebook we use the Hintereisferner, Austria. Some other possibilities to play with:\n",
    "\n",
    "- Hintereisferner, Austria: RGI60-11.00897 \n",
    "- Artesonraju, Peru: RGI60-16.02444\n",
    "- Rikha Samba, Nepal: RGI60-15.04847\n",
    "- Parlung No. 94, China: RGI60-15.11693\n",
    "\n",
    "And virtually any glacier you can find the RGI Id from, e.g. in the [GLIMS viewer](https://www.glims.org/maps/glims)! Large glaciers may need longer simulations to see changes though. For less uncertain calibration parameters, we also recommend to pick one of the many reference glaciers [in this list](https://github.com/OGGM/oggm-sample-data/blob/master/wgms/rgi_wgms_links_20200415.csv), where we make sure that observations of mass balance are better matched. \n",
    "\n",
    "\n",
    "Let's start with Hintereisferner first and you'll be invited to try out your favorite glacier at the end of this notebook."
   ]
  },
  {
   "cell_type": "code",
   "execution_count": null,
   "metadata": {},
   "outputs": [],
   "source": [
    "# Hintereisferner\n",
    "rgi_id = 'RGI60-11.00897'"
   ]
  },
  {
   "cell_type": "markdown",
   "metadata": {},
   "source": [
    "## Preparing the glacier data"
   ]
  },
  {
   "cell_type": "markdown",
   "metadata": {},
   "source": [
    "This can take up to a few minutes on the first call because of the download of the required data:"
   ]
  },
  {
   "cell_type": "code",
   "execution_count": null,
   "metadata": {},
   "outputs": [],
   "source": [
    "# We pick the elevation-bands glaciers because they run a bit faster - but they create more step changes in the area outputs\n",
    "base_url = 'https://cluster.klima.uni-bremen.de/~oggm/gdirs/oggm_v1.4/L3-L5_files/CRU/elev_bands/qc3/pcp2.5/no_match'\n",
    "gdir = workflow.init_glacier_directories([rgi_id], from_prepro_level=5, prepro_border=80, prepro_base_url=base_url)[0]"
   ]
  },
  {
   "cell_type": "markdown",
   "metadata": {},
   "source": [
    "## Interactive glacier map "
   ]
  },
  {
   "cell_type": "markdown",
   "metadata": {},
   "source": [
    "A first glimpse on the glacier of interest.\n",
    "\n",
    "*Tip: You can use the mouse to pan and zoom in the map*"
   ]
  },
  {
   "cell_type": "code",
   "execution_count": null,
   "metadata": {},
   "outputs": [],
   "source": [
    "sh = salem.transform_geopandas(gdir.read_shapefile('outlines'))\n",
    "(gv.Polygons(sh).opts(fill_color=None, color_index=None) *\n",
    " gts.tile_sources['EsriImagery'] * gts.tile_sources['StamenLabels']).opts(width=800, height=500, active_tools=['pan', 'wheel_zoom'])"
   ]
  },
  {
   "cell_type": "markdown",
   "metadata": {},
   "source": [
    "For OGGM, glaciers are \"1.5\" dimensional along their flowline:"
   ]
  },
  {
   "cell_type": "code",
   "execution_count": null,
   "metadata": {},
   "outputs": [],
   "source": [
    "fls = gdir.read_pickle('model_flowlines')\n",
    "graphics.plot_modeloutput_section(fls);"
   ]
  },
  {
   "cell_type": "markdown",
   "metadata": {},
   "source": [
    "## Generating a glacier in equilibrium with climate "
   ]
  },
  {
   "cell_type": "markdown",
   "metadata": {},
   "source": [
    "Let's prepare a run with the `run_constant_climate_with_bias` tasks from the `oggm_edu` package. It allows us to run idealized temperature and precipitation correction scenarios in an easy way. \n",
    "\n",
    "First, let's decide on a temperature evolution:"
   ]
  },
  {
   "cell_type": "code",
   "execution_count": null,
   "metadata": {},
   "outputs": [],
   "source": [
    "years = np.arange(400)\n",
    "temp_bias_ts = pd.Series(years * 0. - 2, index=years)\n",
    "temp_bias_ts.plot(); plt.xlabel('Year'); plt.ylabel('Temperature bias (°C)');"
   ]
  },
  {
   "cell_type": "markdown",
   "metadata": {},
   "source": [
    "Not much to see here! The `temp_bias_ts` variable describes a temperature bias that will be applied to the standard climate (see below). \n",
    "\n",
    "Here the bias is -2° all along because we want to run a so-called \"spinup\" run, to let the glacier grow and make sure that our glacier is in dynamical equilibrium with its climate at the end of the simulation. Let's go: "
   ]
  },
  {
   "cell_type": "code",
   "execution_count": null,
   "metadata": {},
   "outputs": [],
   "source": [
    "# file identifier where the model output is saved\n",
    "file_id = '_spinup'\n",
    "\n",
    "# We are using the task run_with_hydro to store hydrological outputs along with the usual glaciological outputs\n",
    "tasks.run_with_hydro(gdir,  # Run on the selected glacier\n",
    "                     temp_bias_ts=temp_bias_ts,  # the temperature bias to apply to the average climate\n",
    "                     run_task=run_constant_climate_with_bias,  # which climate scenario? See following notebook for other examples\n",
    "                     y0=2009, halfsize=10,  # Period which we will average and constantly repeat\n",
    "                     store_monthly_hydro=True,  # Monthly ouptuts provide additional information\n",
    "                     output_filesuffix=file_id);  # an identifier for the output file, to read it later"
   ]
  },
  {
   "cell_type": "markdown",
   "metadata": {},
   "source": [
    "OK so there is quite some new material in the cell above. Let's focus on the most important points:\n",
    "- we run the model for 400 years (as defined by our control temperature timeseries)\n",
    "- the model runs with a constant climate averaged over 21 years (2 times `halfsize` + 1) for the period 1999-2019\n",
    "- we apply a cold bias of -2°C. Indeed, Hintereisferner is in strong disequilibrium with the current climate and such a bias is needed to make the glacier grow (more on this later)"
   ]
  },
  {
   "cell_type": "markdown",
   "metadata": {},
   "source": [
    "Now Let's have a look at the output now:"
   ]
  },
  {
   "cell_type": "code",
   "execution_count": null,
   "metadata": {},
   "outputs": [],
   "source": [
    "with xr.open_dataset(gdir.get_filepath('model_diagnostics', filesuffix=file_id)) as ds:\n",
    "    # The last step of hydrological output is NaN (we can't compute it for this year)\n",
    "    ds = ds.isel(time=slice(0, -1)).load()"
   ]
  },
  {
   "cell_type": "markdown",
   "metadata": {},
   "source": [
    "There are plenty of variables in this dataset! We can list them with:"
   ]
  },
  {
   "cell_type": "code",
   "execution_count": null,
   "metadata": {},
   "outputs": [],
   "source": [
    "ds"
   ]
  },
  {
   "cell_type": "markdown",
   "metadata": {},
   "source": [
    "*Tip: you can click on a variable and show it's attribute with the \"page\" button on the right.*\n",
    "\n",
    "The `time` and `month_2d` variables are coordinates, and the other variables are either provided as additional information (e.g. `calendar_month`, we will get back to this), or they are providing the actual data. For instance, we can plot the annual evolution of the volume and length of our glacier:"
   ]
  },
  {
   "cell_type": "code",
   "execution_count": null,
   "metadata": {},
   "outputs": [],
   "source": [
    "fig, axs = plt.subplots(nrows=2, figsize=(10, 7), sharex=True)\n",
    "ds.volume_m3.plot(ax=axs[0]);\n",
    "ds.length_m.plot(ax=axs[1]);\n",
    "axs[0].set_xlabel(''); axs[0].set_title(f'{rgi_id}'); axs[1].set_xlabel('Years');"
   ]
  },
  {
   "cell_type": "markdown",
   "metadata": {},
   "source": [
    "The glacier grows and almost doubles its volume. After 400 years, it is in equilibrium.\n",
    "\n",
    "This spinup simulation won't be analyzed further: let's jump to the heart of the topic: **what happens with glacier runoff when climate is warming**?"
   ]
  },
  {
   "cell_type": "markdown",
   "metadata": {},
   "source": [
    "## Climate change simulation"
   ]
  },
  {
   "cell_type": "markdown",
   "metadata": {},
   "source": [
    "We start by generating a temperature change scenario. We define a short period of constant temperature (at -2°C, to be consistent with above), followed by a linear increase (2.5 degrees in about 150 years) and a stabilization:"
   ]
  },
  {
   "cell_type": "code",
   "execution_count": null,
   "metadata": {},
   "outputs": [],
   "source": [
    "ny_s = 50  # Start\n",
    "ny_t = 150  # Trend\n",
    "ny_e = 102  # Stabilisation\n",
    "temp_bias_ts = np.concatenate([np.full(ny_s, -2.), np.linspace(-2, 0.5, ny_t), np.full(ny_e, 0.5)])\n",
    "temp_bias_ts = pd.Series(temp_bias_ts, index=np.arange(ny_s + ny_t + ny_e))\n",
    "temp_bias_ts.plot(); plt.xlabel('Year'); plt.ylabel('Temperature bias (°C)');"
   ]
  },
  {
   "cell_type": "code",
   "execution_count": null,
   "metadata": {},
   "outputs": [],
   "source": [
    "# file identifier where the model output is saved\n",
    "file_id = '_lin_temp'\n",
    "\n",
    "# We are using the task run_with_hydro to store hydrological outputs along with the usual glaciological outputs\n",
    "tasks.run_with_hydro(gdir,\n",
    "                     temp_bias_ts=temp_bias_ts,  # the temperature bias timeseries we just created\n",
    "                     run_task=run_constant_climate_with_bias,  # which climate scenario? See following notebook for other examples\n",
    "                     y0=2009, halfsize=10,  # Period which we will average and constantly repeat\n",
    "                     store_monthly_hydro=True,  # Monthly ouptuts provide additional information\n",
    "                     init_model_filesuffix='_spinup',  # We want to start from the glacier in equibrium we created earlier\n",
    "                     output_filesuffix=file_id);  # an identifier for the output file, to read it later"
   ]
  },
  {
   "cell_type": "markdown",
   "metadata": {},
   "source": [
    "Let's have a look at our glacier evolution:"
   ]
  },
  {
   "cell_type": "code",
   "execution_count": null,
   "metadata": {},
   "outputs": [],
   "source": [
    "with xr.open_dataset(gdir.get_filepath('model_diagnostics', filesuffix=file_id)) as ds:\n",
    "    # The last step of hydrological output is NaN (we can't compute it for this year)\n",
    "    ds = ds.isel(time=slice(0, -1)).load()"
   ]
  },
  {
   "cell_type": "code",
   "execution_count": null,
   "metadata": {},
   "outputs": [],
   "source": [
    "fig, axs = plt.subplots(nrows=3, figsize=(10, 7), sharex=True)\n",
    "ds.volume_m3.plot(ax=axs[0]);\n",
    "ds.length_m.plot(ax=axs[1]);\n",
    "temp_bias_ts.plot(ax=axs[2], c='C3');\n",
    "axs[0].set_xlabel(''); axs[0].set_title(f'{rgi_id}'); axs[1].set_xlabel(''); axs[2].set_xlabel('Years'); axs[2].set_ylabel('Temperature bias (°C)');"
   ]
  },
  {
   "cell_type": "markdown",
   "metadata": {},
   "source": [
    "In this scenario, the glacier would melt almost entirely (it looses about 90% of its volume). Note also that the glacier continues to adjust after the temperature has stabilized. **What are the implications for downstream runoff?**"
   ]
  },
  {
   "cell_type": "markdown",
   "metadata": {},
   "source": [
    "### Annual runoff"
   ]
  },
  {
   "cell_type": "markdown",
   "metadata": {},
   "source": [
    "As glaciers retreat, they contribute to sea-level rise (visit the [World Glaciers Explorer](https://edu.oggm.org/en/latest/explorer.html) OGGM-Edu app for more information!). This is not what we are interested in here. Indeed, they will also have important local impacts: in this notebook, we will have a look at their impact on streamflow.  \n",
    "\n",
    "Let's take a look at some of the hydrological outputs computed by OGGM. We start by creating a pandas DataFrame of all \"1D\" (annual) variables in the output dataset:"
   ]
  },
  {
   "cell_type": "code",
   "execution_count": null,
   "metadata": {},
   "outputs": [],
   "source": [
    "sel_vars = [v for v in ds.variables if 'month_2d' not in ds[v].dims]\n",
    "df_annual = ds[sel_vars].to_dataframe()"
   ]
  },
  {
   "cell_type": "markdown",
   "metadata": {},
   "source": [
    "Then we can select the hydrological variables and sum them to get the total annual runoff:"
   ]
  },
  {
   "cell_type": "code",
   "execution_count": null,
   "metadata": {},
   "outputs": [],
   "source": [
    "# Select only the runoff variables\n",
    "runoff_vars = ['melt_off_glacier', 'melt_on_glacier', 'liq_prcp_off_glacier', 'liq_prcp_on_glacier']\n",
    "# Convert them to megatonnes (instead of kg)\n",
    "df_runoff = df_annual[runoff_vars] * 1e-9\n",
    "# We smooth the output, which is otherwize noisy because of area discretization\n",
    "df_runoff = df_runoff.rolling(31, center=True, min_periods=1).mean()\n",
    "fig, ax = plt.subplots(figsize=(10, 3.5), sharex=True)\n",
    "df_runoff.sum(axis=1).plot(ax=ax);\n",
    "plt.ylabel('Runoff (Mt)'); plt.xlabel('Years'); plt.title(f'Total annual runoff for {rgi_id}');"
   ]
  },
  {
   "cell_type": "markdown",
   "metadata": {},
   "source": [
    "The hydrological variables are computed on the largest possible area that was covered by glacier ice during the simulation. This is equivalent to the runoff that would be measured at a fixed-gauge hydrological station at the glacier terminus.\n",
    "\n",
    "The total annual runoff consists of the following components:\n",
    "- melt off-glacier: snow melt on areas that are now glacier free (i.e. 0 in the year of largest glacier extent, in this example at the start of the simulation)\n",
    "- melt on-glacier: ice + seasonal snow melt on the glacier\n",
    "- liquid precipitaton on- and off-glacier (the latter being zero at the year of largest glacial extent, in this example at start of the simulation)"
   ]
  },
  {
   "cell_type": "code",
   "execution_count": null,
   "metadata": {},
   "outputs": [],
   "source": [
    "f, ax = plt.subplots(figsize=(10, 6));\n",
    "df_runoff.plot.area(ax=ax, color=sns.color_palette('rocket')); plt.xlabel('Years'); plt.ylabel('Runoff (Mt)'); plt.title(rgi_id);"
   ]
  },
  {
   "cell_type": "markdown",
   "metadata": {},
   "source": [
    "The glacier length and volume decrease from year 50 onwards until about year 250 - this is the **glacier retreat** phase. Afterwards, length and volume stabilize at a constant value indicating that the glacier has **reached equilibrium**. \n",
    "\n",
    "Now study the graph above and it's four main components.\n",
    "\n",
    "**Questions to address:**\n",
    "- When is \"peak water\" reached? Does this have anything to do with a change in the temperature trend itself? If not, what is the reason for \"peak water\" to occur?\n",
    "- Verify that the total fixed-gauge runoff (remember what this means?) is the same at the beginning and the end of the simulation. Why is that so? What changed in between?\n",
    "- The temperature stabilizes at year 200, yet all hydrological variables continue to change after that. What is happening there?\n",
    "- What is the contribution of liquid precipitation at the beginning and the end of the simulation? What changed?\n",
    "- Can you verify that the net glacier contribution to runoff (i.e. - $\\Delta M / \\Delta t$) is zero at the beginning and the end of the simulation and positive in between? Why do we expect this behavior?\n",
    "\n",
    "*Hint: compare the results to the idealised runoff graphic that we introduced at the beginning of this chapter*"
   ]
  },
  {
   "cell_type": "code",
   "execution_count": null,
   "metadata": {},
   "outputs": [],
   "source": [
    "# Solution of the last question above\n",
    "glacier_mass = ds.volume_m3.to_series() * oggm.cfg.PARAMS['ice_density'] * 1e-9  # In Megatonnes, Mt\n",
    "glacier_mass = glacier_mass.rolling(31, center=True, min_periods=1).mean()\n",
    "(- glacier_mass.diff()).plot()\n",
    "plt.axhline(y=0, color='k', ls=':')\n",
    "plt.ylabel('Annual glacier mass change (Mt yr$^{-1}$)')\n",
    "plt.xlabel('Years'); plt.title('Glacier contribution to annual runoff');"
   ]
  },
  {
   "cell_type": "markdown",
   "metadata": {},
   "source": [
    "### Monthly runoff"
   ]
  },
  {
   "cell_type": "markdown",
   "metadata": {},
   "source": [
    "The \"2D\" variables contain the same hydrological data, but at monthly resolution (dimensions [time, month]). For example, monthly runoff can be computed as:"
   ]
  },
  {
   "cell_type": "code",
   "execution_count": null,
   "metadata": {},
   "outputs": [],
   "source": [
    "# Select only the runoff variables and convert them to megatonnes (instead of kg)\n",
    "monthly_runoff = ds['melt_off_glacier_monthly'] + ds['melt_on_glacier_monthly'] + ds['liq_prcp_off_glacier_monthly'] + ds['liq_prcp_on_glacier_monthly']\n",
    "monthly_runoff = monthly_runoff.rolling(time=31, center=True, min_periods=1).mean() * 1e-9\n",
    "monthly_runoff.clip(0).plot(cmap='Blues', cbar_kwargs={'label': 'Runoff (Mt)'}); plt.xlabel('Months'); plt.ylabel('Years');"
   ]
  },
  {
   "cell_type": "markdown",
   "metadata": {},
   "source": [
    "But be aware, something is a bit wrong with this plot (some of you may have noticed: maximum melt happens in Fall, which is unusual): that's because the OGGM coordinates are hydrological months - let's make this better:"
   ]
  },
  {
   "cell_type": "code",
   "execution_count": null,
   "metadata": {},
   "outputs": [],
   "source": [
    "# This should work in both hemispheres maybe?\n",
    "ds_roll = ds.roll(month_2d=ds['calendar_month_2d'].data[0] - 1, roll_coords=True)\n",
    "ds_roll['month_2d'] = ds_roll['calendar_month_2d']\n",
    "\n",
    "# Select only the runoff variables and convert them to megatonnes (instead of kg)\n",
    "monthly_runoff = ds_roll['melt_off_glacier_monthly'] + ds_roll['melt_on_glacier_monthly'] + ds_roll['liq_prcp_off_glacier_monthly'] + ds_roll['liq_prcp_on_glacier_monthly']\n",
    "monthly_runoff = monthly_runoff.rolling(time=31, center=True, min_periods=1).mean() * 1e-9\n",
    "monthly_runoff.clip(0).plot(cmap='Blues', cbar_kwargs={'label': 'Runoff (Mt)'}); plt.xlabel('Months'); plt.ylabel('Years');"
   ]
  },
  {
   "cell_type": "markdown",
   "metadata": {},
   "source": [
    "As we can see, the runoff is approximately zero during the winter months, while relatively high during the summer months. \n",
    "\n",
    "Now let's compare the actual runoff to total precipitation over the basin:"
   ]
  },
  {
   "cell_type": "code",
   "execution_count": null,
   "metadata": {},
   "outputs": [],
   "source": [
    "# Compute total precipitation (Snow + Liquid)\n",
    "tot_precip = ds_roll['liq_prcp_off_glacier_monthly'] + ds_roll['liq_prcp_on_glacier_monthly'] + ds_roll['snowfall_off_glacier_monthly'] + ds_roll['snowfall_on_glacier_monthly']\n",
    "tot_precip *= 1e-9  # in Mt"
   ]
  },
  {
   "cell_type": "code",
   "execution_count": null,
   "metadata": {},
   "outputs": [],
   "source": [
    "# Plot these data at year 0\n",
    "yr = 0\n",
    "r = monthly_runoff.sel(time=yr)\n",
    "p = tot_precip.sel(time=yr)\n",
    "\n",
    "f, ax = plt.subplots(figsize=(10, 6));\n",
    "r.plot(ax=ax, color='C3', label='Monthly runoff', linewidth=3);\n",
    "p.plot(ax=ax, color='C0', label='Monthly precipitation', linewidth=3);\n",
    "ax.fill_between(r.month_2d, r, p, where=(p >= r), facecolor='C0', interpolate=True, alpha=0.5)\n",
    "ax.fill_between(r.month_2d, r, p, where=(r > p), facecolor='C3', interpolate=True, alpha=0.5)\n",
    "plt.ylabel('Mt yr$^{-1}$'); plt.legend(loc='best');\n",
    "plt.xlabel('Month'); plt.title(f'Total monthly runoff and precipitation at year {yr}');"
   ]
  },
  {
   "cell_type": "markdown",
   "metadata": {},
   "source": [
    "At the begining of the simulation, the glacier is in equilibrium and its annual contribution to runoff is zero. In fact, this means that the blue area in the plot above is equal to the red area: **the glaciated basin releases water during the summer, that accumulated in form of snow in the winter months**.\n",
    "\n",
    "In this region (Ötztal Alps, Austria), precipitation is relatively constant throughout the year. **Discuss what the implications could be in other climates of the world, in particular in climates with a strong seasonality of precipitation.**"
   ]
  },
  {
   "cell_type": "markdown",
   "metadata": {},
   "source": [
    "Now let's have a look at the seasonal change in runoff with time:"
   ]
  },
  {
   "cell_type": "code",
   "execution_count": null,
   "metadata": {},
   "outputs": [],
   "source": [
    "f, ax = plt.subplots(figsize=(10, 6));\n",
    "cmap = sns.color_palette('magma', 3)\n",
    "for i, yr in enumerate([0, 120, 300]):\n",
    "    monthly_runoff.sel(time=yr).plot(ax=ax, color=cmap[i], label=f'Year {yr}')\n",
    "plt.ylabel('Mt yr$^{-1}$'); plt.legend(loc='best');\n",
    "plt.xlabel('Month'); plt.title('Total monthly runoff change with time');"
   ]
  },
  {
   "cell_type": "markdown",
   "metadata": {},
   "source": [
    "**Questions to explore:**\n",
    "- verify that the annual runoff is the same at year 0 than at year 300. What changed in between?\n",
    "- what is responsible for the switch from summer melt to spring melt?\n",
    "- how does the runoff change at \"peak water\" (approx. year 120)?\n",
    "- discuss the implications of this shift in seasonality for Hintereisferner and for other regions of the world.\n",
    "\n",
    "**Now repeat this notebook (ideally by copying it first) with other regions of the world, where climate might be very different. **\n",
    "\n",
    "Note that our explanations are very glacier-specific. So if you change the glacier by using another rgi_id, you also might need to adapt the explanations! \n",
    "\n",
    "**You can also change the parameters of the simulations!**\n",
    "\n",
    "What happens when the temperature change is larger/faster, smaller/slower? What are the implications for \"peak water\"?"
   ]
  },
  {
   "cell_type": "markdown",
   "metadata": {},
   "source": [
    "## Wrapping up"
   ]
  },
  {
   "cell_type": "markdown",
   "metadata": {},
   "source": [
    "Now let's conclude this notebook by reproducing the famous plot by [Huss & Hock (2018)](https://www.nature.com/articles/s41558-017-0049-x) with our data.\n",
    "\n",
    "<img src=\"https://raw.githubusercontent.com/OGGM/oggm-edu/master/docs/_static/fig_huss_hock.jpg\" width=\"700px\" alt=\"Fig 1 from https://www.nature.com/articles/s41558-017-0049-x\">\n",
    "\n",
    "*Graphic from [Huss & Hock (2018)](https://www.nature.com/articles/s41558-017-0049-x)*"
   ]
  },
  {
   "cell_type": "code",
   "execution_count": null,
   "metadata": {},
   "outputs": [],
   "source": [
    "# Make a dataframe out of the xarray dataset for simplicity\n",
    "df_monthly_runoff = pd.DataFrame(monthly_runoff.data, index=ds.time, columns=monthly_runoff.month_2d)\n",
    "\n",
    "# Create new columns for each season (we define seasons from the perspective of the northern Hemisphere)\n",
    "df_monthly_runoff['Spring (Apr-Jun)'] = df_monthly_runoff[[4, 5, 6]].sum(axis=1)\n",
    "df_monthly_runoff['Summer (Jul-Sep)'] = df_monthly_runoff[[7, 8, 9]].sum(axis=1)\n",
    "df_monthly_runoff['Winter (Oct-Mar)'] = df_monthly_runoff[[10, 11, 12, 1, 2, 3]].sum(axis=1)\n",
    "df_monthly_runoff.columns.name = 'Season'\n",
    "\n",
    "# Plot it\n",
    "# Attention the seasons and labels might need to be adapted if a glacier in a different region is used!\n",
    "f, ax = plt.subplots(figsize=(10, 6));\n",
    "df_monthly_runoff[['Spring (Apr-Jun)', 'Summer (Jul-Sep)', 'Winter (Oct-Mar)']].plot.area(ax=ax, color=sns.color_palette('rocket'));\n",
    "plt.xlabel('Years'); plt.ylabel('Runoff (Mt)'); plt.title('Runoff by season');"
   ]
  },
  {
   "cell_type": "markdown",
   "metadata": {},
   "source": [
    "And now the actual plot:"
   ]
  },
  {
   "cell_type": "code",
   "execution_count": null,
   "metadata": {},
   "outputs": [],
   "source": [
    "f, (ax1, ax2) = plt.subplots(2, 1, gridspec_kw={'height_ratios': [2, 1]}, figsize=(10, 8), sharex=True)\n",
    "\n",
    "p1 = df_monthly_runoff[['Spring (Apr-Jun)', 'Summer (Jul-Sep)', 'Winter (Oct-Mar)']].sum(axis=1)\n",
    "p2 = df_monthly_runoff['Summer (Jul-Sep)'] # July to September is here the melt season\n",
    "p1.plot(ax=ax1, color='C0', label='Annual runoff', linewidth=3)\n",
    "p2.plot(ax=ax1, color='C3', label='Melt-season runoff', linewidth=3);\n",
    "ax1.hlines([p1.loc[0], p2.loc[0]], 0, 300, color=['C0', 'C3'], linestyle=[':']);\n",
    "ax1.legend(); ax1.set_xlabel(''); ax1.set_ylabel('Runoff (Mt)');\n",
    "\n",
    "(temp_bias_ts + 2).plot(ax=ax2, color='C2', label='Temperature', linewidth=3);\n",
    "ax2.legend(loc='lower right'); ax2.set_xlabel('Years'); ax2.set_ylabel('$\\Delta T (°C)$');\n",
    "sns.despine();"
   ]
  },
  {
   "cell_type": "markdown",
   "metadata": {},
   "source": [
    "Note that the two plots above are very glacier-specific. If you use a glacier with another climate, you might need to adapt the plots, because we are always interested in those months where the runoff from the glacier contributes most to the total runoff. Example given, for Artesonraju in Peru, we are most interested in June, July, August and September as this is the dry season, where it almost does not rain at all. "
   ]
  },
  {
   "cell_type": "markdown",
   "metadata": {},
   "source": [
    "## Take home points"
   ]
  },
  {
   "cell_type": "markdown",
   "metadata": {},
   "source": [
    "- Glaciers in equilibrium are *not* net water resources: they gain as much mass as they release\n",
    "- However, they have a seasonal buffer role, releasing water during the melt months\n",
    "- When glaciers melt, they become net water resources. \"Peak water\" is the point in time when glacier melt supply reaches its maximum, i.e. when the maximum runoff occurs."
   ]
  },
  {
   "cell_type": "markdown",
   "metadata": {},
   "source": [
    "## References "
   ]
  },
  {
   "cell_type": "markdown",
   "metadata": {},
   "source": [
    "- Huss, M. and Hock, R.: Global-scale hydrological response to future glacier mass loss, Nat. Clim. Chang., 8(2), 135–140, [doi:10.1038/s41558-017-0049-x](https://doi.org/10.1038/s41558-017-0049-x), 2018.\n",
    "- A [recent blog post](https://blogs.egu.eu/divisions/cr/2021/03/05/glaciers-water-supply-climate-change/) about the role of glaciers in the hydrological cycle"
   ]
  },
  {
   "cell_type": "markdown",
   "metadata": {},
   "source": [
    "## What's next?"
   ]
  },
  {
   "cell_type": "markdown",
   "metadata": {},
   "source": [
    "[Back to the table of contents](../welcome.ipynb)"
   ]
  }
 ],
 "metadata": {
  "hide_input": false,
  "kernelspec": {
   "display_name": "Python 3",
   "language": "python",
   "name": "python3"
  },
  "language_info": {
   "codemirror_mode": {
    "name": "ipython",
    "version": 3
   },
   "file_extension": ".py",
   "mimetype": "text/x-python",
   "name": "python",
   "nbconvert_exporter": "python",
   "pygments_lexer": "ipython3",
   "version": "3.8.12"
  },
  "toc": {
   "base_numbering": 1,
   "nav_menu": {},
   "number_sections": false,
   "sideBar": true,
   "skip_h1_title": true,
   "title_cell": "Table of Contents",
   "title_sidebar": "Contents",
   "toc_cell": false,
   "toc_position": {},
   "toc_section_display": true,
   "toc_window_display": false
  }
 },
 "nbformat": 4,
 "nbformat_minor": 4
}
