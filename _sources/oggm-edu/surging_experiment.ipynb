{
 "cells": [
  {
   "cell_type": "markdown",
   "metadata": {},
   "source": [
    "# Glacier surging experiments"
   ]
  },
  {
   "cell_type": "markdown",
   "metadata": {},
   "source": [
    "Goals of this notebook:\n",
    "\n",
    "- The student will be able to describe the effects of glacier surging.\n",
    "- The student will be able to implement glacier surging in OGGM."
   ]
  },
  {
   "cell_type": "markdown",
   "metadata": {},
   "source": [
    "In this notebook we are going to explore the basic functionalities of OGGM flowline model(s) and perform a simple surging experiment. For this purpose we are going to use simple and \"idealized\" glacier models with simple linear mass-balance profiles. "
   ]
  },
  {
   "cell_type": "markdown",
   "metadata": {},
   "source": [
    "**What is glacier surge?**\n",
    "\n",
    "A small percentage of glaciers undergo short periods of faster flow. They experience a change in morphology and surface characteristics, which sometimes leads to a marked frontal advance. The speed of the ice increases up to 10 - 1000 times of the normal velocity. Record flows are observed with velocities that exceed 100m per day. Surges happen in decadal cycles and can last for 1 up to 15 years.[(Jiskoot, 2011)](https://www.springer.com/la/book/9789048126415)"
   ]
  },
  {
   "cell_type": "markdown",
   "metadata": {},
   "source": [
    "We start with importing all needed modules:"
   ]
  },
  {
   "cell_type": "code",
   "execution_count": null,
   "metadata": {},
   "outputs": [],
   "source": [
    "# Plotting libraries and plot style\n",
    "import matplotlib.pyplot as plt\n",
    "%matplotlib inline\n",
    "\n",
    "import seaborn as sns\n",
    "sns.set_context('notebook')\n",
    "sns.set_style('ticks')\n",
    "\n",
    "# Scientific packages\n",
    "import numpy as np\n",
    "\n",
    "# Constants\n",
    "from oggm import cfg\n",
    "cfg.initialize_minimal()\n",
    "\n",
    "# Mass-balance model\n",
    "from oggm.core.massbalance import LinearMassBalance\n",
    "# There are several numerical implementations in OGGM core. We use the \"FluxBasedModel\"\n",
    "from oggm.core.flowline import FluxBasedModel as FlowlineModel\n",
    "# Glacier shape\n",
    "from oggm.core.flowline import RectangularBedFlowline"
   ]
  },
  {
   "cell_type": "markdown",
   "metadata": {},
   "source": [
    "## Basics"
   ]
  },
  {
   "cell_type": "markdown",
   "metadata": {},
   "source": [
    "We set up a simple glacier with a linear bedrock (see [getting started with flowline models](flowline_model.ipynb)) as a setting for our experiment."
   ]
  },
  {
   "cell_type": "code",
   "execution_count": null,
   "metadata": {},
   "outputs": [],
   "source": [
    "# This is the bed rock, linearily decreasing from 3400 m\n",
    "# altitude to 1400 m, in 200 steps\n",
    "nx = 200\n",
    "bed_h = np.linspace(3400, 1400, nx)\n",
    "\n",
    "# At the beginning, there is no glacier so our glacier surface is\n",
    "# at the bed altitude\n",
    "surface_h = bed_h\n",
    "\n",
    "# Let's set the model grid spacing to 100 m \n",
    "map_dx = 100\n",
    "\n",
    "# Calculate the corresponding distance along the glacier (from the top)\n",
    "distance_along_glacier = np.linspace(0, nx, nx) * 0.1  # in km\n",
    "\n",
    "# The units of widths is in \"grid points\", i.e. 3 grid points = 300 m\n",
    "# in our case\n",
    "widths = np.zeros(nx) + 3.\n",
    "\n",
    "# Define our bed\n",
    "initial_flowline = RectangularBedFlowline(surface_h=surface_h, bed_h=bed_h,\n",
    "                                          widths=widths, map_dx=map_dx)"
   ]
  },
  {
   "cell_type": "markdown",
   "metadata": {},
   "source": [
    "Then we define the mass balance model, we set the ELA to 3000 m a.s.l. and the gradient to 4 mm/m:"
   ]
  },
  {
   "cell_type": "code",
   "execution_count": null,
   "metadata": {},
   "outputs": [],
   "source": [
    "# ELA at 3000m a.s.l., gradient 4 mm m-1\n",
    "mb_model = LinearMassBalance(3000, grad=4)"
   ]
  },
  {
   "cell_type": "markdown",
   "metadata": {},
   "source": [
    "Here we calculate a glacier that flows only because of deformation and  without sliding:"
   ]
  },
  {
   "cell_type": "code",
   "execution_count": null,
   "metadata": {},
   "outputs": [],
   "source": [
    "# Define the year until we want to simulate the glacier.\n",
    "year = 1200\n",
    "\n",
    "# Initialize the model.\n",
    "model = FlowlineModel(initial_flowline, mb_model=mb_model, y0=0.)"
   ]
  },
  {
   "cell_type": "code",
   "execution_count": null,
   "metadata": {},
   "outputs": [],
   "source": [
    "# Simulate the glacier until\n",
    "model.run_until(year)"
   ]
  },
  {
   "cell_type": "code",
   "execution_count": null,
   "metadata": {},
   "outputs": [],
   "source": [
    "# Store the outline of the glacier as simple_glacier_h\n",
    "simple_glacier_h = model.fls[-1].surface_h"
   ]
  },
  {
   "cell_type": "code",
   "execution_count": null,
   "metadata": {},
   "outputs": [],
   "source": [
    "# Let's plot it!\n",
    "plt.plot(distance_along_glacier, simple_glacier_h, label='Deforming glacier')\n",
    "plt.plot(distance_along_glacier, bed_h, label='Bedrock', ls=':', c='k')\n",
    "plt.xlabel('Distance along glacier [km]')\n",
    "plt.ylabel('Altitude [m]')\n",
    "plt.legend();"
   ]
  },
  {
   "cell_type": "markdown",
   "metadata": {},
   "source": [
    "## Surging glacier experiment"
   ]
  },
  {
   "cell_type": "markdown",
   "metadata": {},
   "source": [
    "Since surging occurs because of increased basal sliding, a surging period can be represented in the model by increasing the sliding parameter[(Jiskoot, 2011)](https://www.springer.com/la/book/9789048126415), for example by a factor of 10. Typically surging can be assumend to happen cyclically after 100 years of normal sliding and lasts over a period of 10 years."
   ]
  },
  {
   "cell_type": "markdown",
   "metadata": {},
   "source": [
    "Let's model a simple glacier that only slides:"
   ]
  },
  {
   "cell_type": "code",
   "execution_count": null,
   "metadata": {},
   "outputs": [],
   "source": [
    "# Define parameters:\n",
    "# Default in OGGM: Glen's creeping parameter\n",
    "glen_a = cfg.PARAMS['glen_a']\n",
    "\n",
    "# Sliding glaciers (sliding parameter fs is nonzero)\n",
    "fs = 5.7e-20\n",
    "\n",
    "# Define the year until we want to simulate the glacier.\n",
    "year = 1200"
   ]
  },
  {
   "cell_type": "markdown",
   "metadata": {},
   "source": [
    "Initialise the model. **Note that we pass Glens creeping parameter (`glen_a`) and the sliding parameter (`fs`) this time**"
   ]
  },
  {
   "cell_type": "code",
   "execution_count": null,
   "metadata": {},
   "outputs": [],
   "source": [
    "# Initialize the model\n",
    "model = FlowlineModel(initial_flowline, mb_model=mb_model, y0=0.,\n",
    "                      glen_a=glen_a, fs=fs)"
   ]
  },
  {
   "cell_type": "code",
   "execution_count": null,
   "metadata": {},
   "outputs": [],
   "source": [
    "# Simulate the glacier until \n",
    "model.run_until(year)"
   ]
  },
  {
   "cell_type": "code",
   "execution_count": null,
   "metadata": {},
   "outputs": [],
   "source": [
    "# Store the final results for later use\n",
    "sliding_glacier_h = model.fls[-1].surface_h"
   ]
  },
  {
   "cell_type": "markdown",
   "metadata": {},
   "source": [
    "We can plot both the glaciers to see if there is any difference"
   ]
  },
  {
   "cell_type": "code",
   "execution_count": null,
   "metadata": {},
   "outputs": [],
   "source": [
    "# Let's plot both models.\n",
    "# The simple glacier\n",
    "plt.plot(distance_along_glacier, simple_glacier_h, label='Deforming glacier')\n",
    "# The sliding glacier\n",
    "plt.plot(distance_along_glacier, sliding_glacier_h, label='Sliding glacier')\n",
    "# The bed\n",
    "plt.plot(distance_along_glacier, bed_h, label='Bedrock', ls=':', c='k')\n",
    "plt.xlabel('Distance along glacier [km]')\n",
    "plt.ylabel('Altitude [m]')\n",
    "plt.legend();"
   ]
  },
  {
   "cell_type": "markdown",
   "metadata": {},
   "source": [
    "Now let us simulate a surging glacier"
   ]
  },
  {
   "cell_type": "code",
   "execution_count": null,
   "metadata": {},
   "outputs": [],
   "source": [
    "# Define parameters:\n",
    "# Sliding parameter in times of slow sliding:\n",
    "fs = 5.7e-20\n",
    "\n",
    "# Sliding parameter in surging periods:\n",
    "fs_surge = 5.7e-20*10\n",
    "\n",
    "# Surging period (years):\n",
    "period_s = 10\n",
    "\n",
    "# Time span between 2 surging periods (years):\n",
    "t_slow = 100\n",
    "\n",
    "# Number of surges\n",
    "no_surges = 10"
   ]
  },
  {
   "cell_type": "markdown",
   "metadata": {},
   "source": [
    "For the surging experiment we will have to divide the simulation into different parts. The first step is to generate an array with the years for which we want to bin the simulation. During year with no surging we go in steps of ten while during the surges we take steps of one year."
   ]
  },
  {
   "cell_type": "code",
   "execution_count": null,
   "metadata": {},
   "outputs": [],
   "source": [
    "# 10 periods of 10 years surging every 100 years\n",
    "yrs = np.arange(0, t_slow + 1, 10)\n",
    "for i in range(no_surges):\n",
    "    # Generate 10 one year increments from the last year.\n",
    "    yrs_sliding = np.arange(t_slow+1+t_slow*i+period_s*i,\n",
    "                            t_slow+period_s+1+t_slow*i+period_s*i,1)\n",
    "    # Append them to the no surgning years\n",
    "    yrs = np.append(yrs, yrs_sliding)\n",
    "\n",
    "    # Generate another 100 years in 10 year increments.\n",
    "    yrs_normal = np.arange(t_slow+period_s+10+t_slow*i+period_s*i,\n",
    "                           2*t_slow+period_s+10+t_slow*i+period_s*i, 10)\n",
    "    # Append it to the list.\n",
    "    yrs = np.append(yrs, yrs_normal)"
   ]
  },
  {
   "cell_type": "markdown",
   "metadata": {},
   "source": [
    "If it is still unclear to you which years are \"surging years\", take look at the array `yrs`"
   ]
  },
  {
   "cell_type": "code",
   "execution_count": null,
   "metadata": {},
   "outputs": [],
   "source": [
    "yrs"
   ]
  },
  {
   "cell_type": "markdown",
   "metadata": {},
   "source": [
    "Now it is time to set up the surging experiment. Similar to the experiments with the [mass balance gradients](mas_balance_gradient.ipynb), we cant simply change the parameters in the middle of the simulation. Instead we have to re-initialise a new model every time we want change any parameters. In this case it means running model **A** for 100 years, then running model **B** for 10 year, then back to model **A** for 100 year and so on."
   ]
  },
  {
   "cell_type": "code",
   "execution_count": null,
   "metadata": {},
   "outputs": [],
   "source": [
    "# Surging glaciers - model initialisation\n",
    "model = FlowlineModel(initial_flowline, mb_model=mb_model, y0=0.,\n",
    "                      glen_a=glen_a, fs=fs)"
   ]
  },
  {
   "cell_type": "code",
   "execution_count": null,
   "metadata": {},
   "outputs": [],
   "source": [
    "# The number of steps\n",
    "nsteps = len(yrs)\n",
    "# Lists for saving indermidate data\n",
    "length_surge_weak = []\n",
    "volume_surge_weak = []\n",
    "surging_glacier_h_weak = []\n",
    "\n",
    "# We loop for the glacier evolution.\n",
    "for i, yr in enumerate(yrs):\n",
    "    # Simulate the glacier until the desired year.\n",
    "    model.run_until(yr)\n",
    "    # Save the states\n",
    "    length_surge_weak.append(model.length_m)\n",
    "    volume_surge_weak.append(model.volume_km3)\n",
    "    \n",
    "    # If we are at the first or last year, we do noting\n",
    "    if i == 0 or i == (nsteps-1):\n",
    "        continue\n",
    "    \n",
    "    # Check if the next year is a surging year\n",
    "    elif (yr-yrs[i-1]) == 10 and (yrs[i+1]-yr) == 1:\n",
    "        # Save the surface height before surge.\n",
    "        surging_glacier_h_weak.append(model.fls[0].surface_h)\n",
    "        # If it is, initialise a \"new glacier\" based on the \n",
    "        # old shape, but with a new sliding parameter.\n",
    "        model = FlowlineModel(model.fls[0], mb_model=mb_model,\n",
    "                              y0=yr, glen_a=glen_a, fs=fs_surge)\n",
    "\n",
    "    # Check if the next year is not a surging year\n",
    "    elif (yr-yrs[i-1]) == 1 and (yrs[i+1]-yr) == 10:\n",
    "        # Save the surface height before surge.\n",
    "        surging_glacier_h_weak.append(model.fls[0].surface_h)\n",
    "        # If it is, initialise a \"new glacier\" based on the \n",
    "        # old shape, but with a new sliding parameter.\n",
    "        model = FlowlineModel(model.fls[0], mb_model=mb_model,\n",
    "                              y0=yr, glen_a=glen_a, fs=fs)"
   ]
  },
  {
   "cell_type": "markdown",
   "metadata": {},
   "source": [
    "In the next figures the development of the glacier (length and volume) over the years is shown:\n"
   ]
  },
  {
   "cell_type": "code",
   "execution_count": null,
   "metadata": {},
   "outputs": [],
   "source": [
    "# Plot it in two subplots\n",
    "from matplotlib.patches import Patch\n",
    "from matplotlib.lines import Line2D\n",
    "\n",
    "fig, axs = plt.subplots(2, 1, sharex=True, figsize=(14, 8))\n",
    "# Spacing\n",
    "fig.subplots_adjust(hspace=0)\n",
    "# Specify the xticks.\n",
    "plt.xticks(np.arange(min(yrs), max(yrs)+1, 100.0))\n",
    "# Plot the glacier length\n",
    "axs[0].plot(yrs, length_surge_weak, color='tab:green')\n",
    "# Mark surging periods with orange patches.\n",
    "for i, yr in enumerate(yrs):\n",
    "    if (yr-yrs[i-1]) ==  1 and (yrs[i-1+period_s]-yrs[i+period_s-2]) == 1:\n",
    "        axs[0].axvspan(yrs[i-1], yrs[i-1+period_s], color='tab:orange',\n",
    "                       alpha=0.3)\n",
    "# Label and grid.\n",
    "plt.xlabel('Years')\n",
    "axs[0].set_ylabel('Length [m]')\n",
    "axs[0].grid()\n",
    "\n",
    "# Plot the glacier volume\n",
    "axs[1].plot(yrs, volume_surge_weak, color='tab:green')\n",
    "# Mark surging periods with orange patches.\n",
    "for i, yr in enumerate(yrs):\n",
    "    if (yr-yrs[i-1]) ==  1 and (yrs[i-1+period_s]-yrs[i+period_s-2]) == 1:\n",
    "        axs[1].axvspan(yrs[i-1], yrs[i-1+period_s], color='tab:orange',\n",
    "                       alpha=0.3)\n",
    "# Ylabel and grid.\n",
    "axs[1].set_ylabel('Volume [km³]')\n",
    "axs[1].grid()\n",
    "# Define handles for the legend\n",
    "label = [Line2D(yrs, volume_surge_weak, color='tab:green',\n",
    "                label='Weakly surging glacier'),\n",
    "         Patch(facecolor='tab:orange', alpha=0.3,\n",
    "               edgecolor='r', label='Surging period')\n",
    "        ]\n",
    "# Add the legend\n",
    "axs[0].legend(handles=label);"
   ]
  },
  {
   "cell_type": "markdown",
   "metadata": {},
   "source": [
    "Now we compare the different calculated glaciers:"
   ]
  },
  {
   "cell_type": "code",
   "execution_count": null,
   "metadata": {},
   "outputs": [],
   "source": [
    "# Plot the results\n",
    "f, ax = plt.subplots(figsize=(9, 6))\n",
    "plt.plot(distance_along_glacier, simple_glacier_h, label='Deforming glacier')\n",
    "plt.plot(distance_along_glacier, sliding_glacier_h, label='Sliding glacier')\n",
    "# Plot the last surface height of the surging glacier.\n",
    "plt.plot(distance_along_glacier, surging_glacier_h_weak[-1],\n",
    "         label='Weakly surging glacier')\n",
    "\n",
    "# Add the bedrock\n",
    "plt.plot(distance_along_glacier, bed_h, label='Bedrock', ls=':', c='k')\n",
    "plt.xlabel('Distance along glacier [km]')\n",
    "plt.ylabel('Altitude [m]')\n",
    "plt.legend();"
   ]
  },
  {
   "cell_type": "markdown",
   "metadata": {},
   "source": [
    "We can increase the sliding parameter in order to increase the magnitude of the  surges:"
   ]
  },
  {
   "cell_type": "code",
   "execution_count": null,
   "metadata": {},
   "outputs": [],
   "source": [
    "# Define parameters:\n",
    "# Sliding parameter in times of normal sliding:\n",
    "fs = 5.7e-20\n",
    "# Sliding parameter in surging periods:\n",
    "fs_surge = 5.7e-20*50\n",
    "\n",
    "# Initialise the glacier.\n",
    "model = FlowlineModel(initial_flowline, mb_model=mb_model, y0=0.,\n",
    "                      glen_a=glen_a, fs=fs)"
   ]
  },
  {
   "cell_type": "code",
   "execution_count": null,
   "metadata": {},
   "outputs": [],
   "source": [
    "# The number of steps\n",
    "nsteps = len(yrs)\n",
    "# Lists for saving indermidate data\n",
    "length_surge_strong = []\n",
    "volume_surge_strong = []\n",
    "surging_glacier_h_strong = []\n",
    "\n",
    "# We loop for the glacier evolution.\n",
    "for i, yr in enumerate(yrs):\n",
    "    # Simulate the glacier until the desired year.\n",
    "    model.run_until(yr)\n",
    "    # Save the states\n",
    "    length_surge_strong.append(model.length_m)\n",
    "    volume_surge_strong.append(model.volume_km3)\n",
    "    \n",
    "    # If we are at the first or last year, we do noting\n",
    "    if i == 0 or i == (nsteps-1):\n",
    "        continue\n",
    "    \n",
    "    # Check if the next year is a surging year\n",
    "    elif (yr-yrs[i-1]) == 10 and (yrs[i+1]-yr) == 1:\n",
    "        # Save the surface height before surge.\n",
    "        surging_glacier_h_strong.append(model.fls[0].surface_h)\n",
    "        # If it is, initialise a \"new glacier\" based on the \n",
    "        # old shape, but with a new sliding parameter.\n",
    "        model = FlowlineModel(model.fls[0], mb_model=mb_model,\n",
    "                              y0=yr, glen_a=glen_a, fs=fs_surge)\n",
    "\n",
    "    # Check if the next year is not a surging year\n",
    "    elif (yr-yrs[i-1]) == 1 and (yrs[i+1]-yr) == 10:\n",
    "        # Save the surface height before surge.\n",
    "        surging_glacier_h_strong.append(model.fls[0].surface_h)\n",
    "        # If it is, initialise a \"new glacier\" based on the \n",
    "        # old shape, but with a new sliding parameter.\n",
    "        model = FlowlineModel(model.fls[0], mb_model=mb_model,\n",
    "                              y0=yr, glen_a=glen_a, fs=fs)"
   ]
  },
  {
   "cell_type": "code",
   "execution_count": null,
   "metadata": {},
   "outputs": [],
   "source": [
    "# Plot the results\n",
    "f, ax = plt.subplots(figsize=(9, 6))\n",
    "# The simple and sliding glacier.\n",
    "plt.plot(distance_along_glacier, simple_glacier_h, label='Deforming glacier')\n",
    "plt.plot(distance_along_glacier, sliding_glacier_h, label='Sliding glacier')\n",
    "# The weakly surgning glacier\n",
    "plt.plot(distance_along_glacier, surging_glacier_h_weak[-1],\n",
    "         label='Weak surging glacier')\n",
    "# The more more strongly surging glacier.\n",
    "plt.plot(distance_along_glacier, surging_glacier_h_strong[-1],\n",
    "         label='Strong surging glacier')\n",
    "# Add the bedrock\n",
    "plt.plot(distance_along_glacier, bed_h, label='Bedrock', ls=':', c='k')\n",
    "plt.xlabel('Distance along glacier [km]')\n",
    "plt.ylabel('Altitude [m]')\n",
    "plt.legend();"
   ]
  },
  {
   "cell_type": "markdown",
   "metadata": {},
   "source": [
    "<div class=\"alert alert-success\">\n",
    "            <b>Compare the different glacier types. Can you explain the differences? </b>\n",
    "</div>"
   ]
  },
  {
   "cell_type": "markdown",
   "metadata": {},
   "source": [
    "In the next plot the development of the weakly surging glacier and the strongly surging glacier are shown:"
   ]
  },
  {
   "cell_type": "code",
   "execution_count": null,
   "metadata": {},
   "outputs": [],
   "source": [
    "# Plot it in two subplots\n",
    "fig, axs = plt.subplots(2, 1, sharex=True, figsize=(14, 8))\n",
    "# Spacing\n",
    "fig.subplots_adjust(hspace=0)\n",
    "# xlabel\n",
    "plt.xlabel('Years')\n",
    "# Glacier length\n",
    "axs[0].plot(yrs, length_surge_strong, color='tab:red')\n",
    "axs[0].plot(yrs, length_surge_weak, color='tab:green')\n",
    "# Mark surging periods\n",
    "for i, yr in enumerate(yrs):\n",
    "    if (yr-yrs[i-1]) == 1 and (yrs[i-1+period_s]-yrs[i+period_s-2]) == 1:\n",
    "        axs[0].axvspan(yrs[i-1], yrs[i-1+period_s], color='tab:orange',\n",
    "                       alpha=0.3)\n",
    "# ylabel and grid.\n",
    "axs[0].set_ylabel('Length [m]')\n",
    "axs[0].grid()\n",
    "\n",
    "# Glacier volume\n",
    "axs[1].plot(yrs, volume_surge_strong, color='tab:red')\n",
    "axs[1].plot(yrs, volume_surge_weak, color='tab:green')\n",
    "# Mark surging periods\n",
    "for i, yr in enumerate(yrs):\n",
    "    if (yr-yrs[i-1]) ==  1 and (yrs[i-1+period_s]-yrs[i+period_s-2]) == 1:\n",
    "        axs[1].axvspan(yrs[i-1], yrs[i-1+period_s], color='tab:orange',\n",
    "                       alpha=0.3)\n",
    "# ylabel and grid\n",
    "axs[1].set_ylabel('Volume [km³]')\n",
    "axs[1].grid()\n",
    "# Define handles for legend.\n",
    "label = [Line2D(yrs, length_surge_strong, color='tab:red',\n",
    "                label='Strongly surging glacier'), \n",
    "         Line2D(yrs, length_surge_weak, color='tab:green',\n",
    "                label='Weakly surging glacier'),\n",
    "         Patch(facecolor='tab:orange', alpha=0.3, edgecolor='r',\n",
    "               label='Surging period')\n",
    "        ]\n",
    "# Add legend.\n",
    "axs[1].legend(handles=label);"
   ]
  },
  {
   "cell_type": "markdown",
   "metadata": {},
   "source": [
    "<div class=\"alert alert-success\">\n",
    "    <details>\n",
    "        <summary>\n",
    "            <b>The response of the volume to a surge seems to be lagging behind the response in length somewhat. Can you come up with an explanation for this?  </b> <i>Click for a hint</i>\n",
    "        </summary>\n",
    "        At the first stage of a surge, the glacier is very quick to adjust its length. This doesn't really change the volume of the glacier, only stretches it out. However, this also means that more of the glacier area will be in the ablation zone, and the glacier will begin to loose mass.\n",
    "    </details>\n",
    "</div>"
   ]
  },
  {
   "cell_type": "markdown",
   "metadata": {},
   "source": [
    "## References\n",
    "\n",
    "¹ Hester Jiskoot: Glacier Surging. In: Vijay P. Singh, Pratap Singh, Umesh K. Haritashya (Hrsg.): Encyclopedia of Snow, Ice and Glaciers. Springer, Dordrecht 2011, S. 415–428, ISBN 978-90-481-2641-5"
   ]
  },
  {
   "cell_type": "markdown",
   "metadata": {},
   "source": [
    "## What's next?"
   ]
  },
  {
   "cell_type": "markdown",
   "metadata": {},
   "source": [
    "[Back to the table of contents](../welcome.ipynb)"
   ]
  }
 ],
 "metadata": {
  "hide_input": false,
  "kernelspec": {
   "display_name": "Python 3 (ipykernel)",
   "language": "python",
   "name": "python3"
  },
  "language_info": {
   "codemirror_mode": {
    "name": "ipython",
    "version": 3
   },
   "file_extension": ".py",
   "mimetype": "text/x-python",
   "name": "python",
   "nbconvert_exporter": "python",
   "pygments_lexer": "ipython3",
   "version": "3.8.3"
  },
  "toc": {
   "base_numbering": 1,
   "nav_menu": {},
   "number_sections": false,
   "sideBar": true,
   "skip_h1_title": true,
   "title_cell": "Table of Contents",
   "title_sidebar": "Contents",
   "toc_cell": false,
   "toc_position": {},
   "toc_section_display": true,
   "toc_window_display": false
  }
 },
 "nbformat": 4,
 "nbformat_minor": 4
}
