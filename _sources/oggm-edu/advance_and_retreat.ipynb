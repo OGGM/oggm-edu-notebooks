{
 "cells": [
  {
   "cell_type": "markdown",
   "metadata": {},
   "source": [
    "# Glacier advance and retreat"
   ]
  },
  {
   "cell_type": "markdown",
   "metadata": {},
   "source": [
    "Goals of this notebook:"
   ]
  },
  {
   "cell_type": "markdown",
   "metadata": {},
   "source": [
    "- Understand the concept of the equilibrium line altitude (ELA)\n",
    "- Understand the relationship between the glacier mass balance and the ELA\n",
    "- Be able to explain glacier advance and retreat in response to a change in the ELA"
   ]
  },
  {
   "cell_type": "code",
   "execution_count": null,
   "metadata": {},
   "outputs": [],
   "source": [
    "from oggm_edu import GlacierBed, Glacier, MassBalance, GlacierCollection\n",
    "from oggm_edu.funcs import plot_glacier_graphics"
   ]
  },
  {
   "cell_type": "markdown",
   "metadata": {},
   "source": [
    "## Exploring glacier advance and retreat with OGGM-Edu\n",
    "\n",
    "We start by defining an idealised glacier, then we let the glacier grow until it reaches its equilibrium state. Then we can simulate glacier advance and retreat. We represent the different steps illustrated in the [open glacier graphics from the OGGM-EDU website](https://edu.oggm.org/en/latest/glacier_basics.html) (made by Anne Maussion, [Atelier les Gros yeux](http://atelierlesgrosyeux.com/))."
   ]
  },
  {
   "cell_type": "markdown",
   "metadata": {},
   "source": [
    "### Initialisation: Let's define our glacier"
   ]
  },
  {
   "cell_type": "markdown",
   "metadata": {},
   "source": [
    "First, as always, we define a linear bedrock profile:\n",
    "\n",
    "Often glaciers are wider in the accumulation area, so we construct our glacier such that it is wider above the ELA. "
   ]
  },
  {
   "cell_type": "code",
   "execution_count": null,
   "metadata": {},
   "outputs": [],
   "source": [
    "# Lets define the bed.\n",
    "# Top and bottom altitude.\n",
    "top = 5000\n",
    "bottom = 0\n",
    "# How far does the accumulation area extend?\n",
    "accumulation_fraction = 1/3\n",
    "# ELA altitude\n",
    "ela_alt = (top - bottom) * (1 - accumulation_fraction)\n",
    "# Accumulation area starts out as 1000 m. wide.\n",
    "top_width = 1000\n",
    "# 500 m. wide after ELA.\n",
    "ela_width = 500\n",
    "\n",
    "# Bed, note that we increase the map_dx here,\n",
    "# we increase the grid point spacing.\n",
    "bed = GlacierBed(altitudes=[top, ela_alt, bottom],\n",
    "                 widths=[top_width, ela_width, ela_width],\n",
    "                 map_dx=200)"
   ]
  },
  {
   "cell_type": "code",
   "execution_count": null,
   "metadata": {},
   "outputs": [],
   "source": [
    "bed.plot()"
   ]
  },
  {
   "cell_type": "markdown",
   "metadata": {},
   "source": [
    "Now we need to define the mass balance distribution over the glacier, after which the glacier can grow to its initial equilibrium state."
   ]
  },
  {
   "cell_type": "markdown",
   "metadata": {},
   "source": [
    "#### **Mass balance and the equilibrium line altitude**"
   ]
  },
  {
   "cell_type": "markdown",
   "metadata": {},
   "source": [
    "The **mass balance** is the result of several processes that either add mass to the glacier (**accumulation**) or remove mass from the glacier (**ablation**). You can find more details in the [accumulation and ablation notebook](accumulation_and_ablation.ipynb). As a summary the following glacier graphics illustrate this relationship: \n",
    "\n",
    "- The left graphic represents a theoretical mass accumulation over the whole glacier depicted by the blue ice volume on top of the grey glacier body.\n",
    "- In the middle graphic a theoretical mass ablation is marked as red ice volume.\n",
    "- The  graphic on the right shows the resulting mass balance with blue and red arrows in combination with the blue and red volume changes on top of the grey glacier body. In the central part of the glacier where the red line lies directly on the grey glacier body ablation and accumulation canceled each other out.\n",
    "\n",
    "<img src=\"https://raw.githubusercontent.com/OGGM/glacier-graphics/master/glacier_intro/png/glacier_03.png\" width=\"33%\" align=\"left\">\n",
    "<img src=\"https://raw.githubusercontent.com/OGGM/glacier-graphics/master/glacier_intro/png/glacier_04.png\" width=\"33%\" align=\"left\">\n",
    "<img src=\"https://raw.githubusercontent.com/OGGM/glacier-graphics/master/glacier_intro/png/glacier_05.png\" width=\"33%\" align=\"left\">\n",
    "\n",
    "*Source: [open glacier graphics](http://edu.oggm.org/en/latest/glacier_basics.html) on OGGM-Edu, made by Anne Maussion ([Atelier les Gros yeux](http://atelierlesgrosyeux.com/))*."
   ]
  },
  {
   "cell_type": "markdown",
   "metadata": {},
   "source": [
    "The rates of accumulation and ablation processes, summed over the glacier and over time, determine the *glacier mass balance*: $\\dot{m}$, the change in total mass of snow and ice,"
   ]
  },
  {
   "cell_type": "markdown",
   "metadata": {},
   "source": [
    "$$\\dot{m} = \\text{accumulation} + \\text{ablation}.$$"
   ]
  },
  {
   "cell_type": "markdown",
   "metadata": {},
   "source": [
    "Since accumulation and ablation generally vary with height, the glacier mass balance is also a function of elevation,"
   ]
  },
  {
   "cell_type": "markdown",
   "metadata": {},
   "source": [
    "$$\\dot{m}(z) = \\text{accumulation}(z) + \\text{ablation}(z).$$"
   ]
  },
  {
   "cell_type": "markdown",
   "metadata": {},
   "source": [
    "Mass is continuously redistributed in a glacier: accumulated mass at the top of the glacier is transported down-glacier. The driving force of this *ice flow* is gravity. Thus, the mass balance of a region on a glacier depends not only on the mass exchanges induced by accumulation and ablation, but also on the gravity driven transport of ice from the accumulation to the ablation area. The *ice flow* is indicated by the grey arrow in this figure:\n",
    "\n",
    "<img src=\"https://raw.githubusercontent.com/OGGM/glacier-graphics/master/glacier_intro/png/glacier_06.png\" width=\"60%\">"
   ]
  },
  {
   "cell_type": "markdown",
   "metadata": {},
   "source": [
    "The altitude where $\\dot{m}(z) = 0$ is called the *equilibrium line altitude*, short ELA. Hence, the ELA is the altitude where accumulation processes and ablation processes balance each other - in theory. However, in reality the ELA does not exactly exist and can only be approximated.\n",
    "\n",
    "<img src=\"https://raw.githubusercontent.com/OGGM/glacier-graphics/master/glacier_intro/png/glacier_07.png\" width=\"60%\">"
   ]
  },
  {
   "cell_type": "markdown",
   "metadata": {},
   "source": [
    "**We want to reproduce these processes above in an experiment using OGGM-Edu**.\n",
    "\n",
    "For this purpose we start with defining a linear mass balance which has the form\n",
    "\n",
    "$$\\dot{m}(z) = (z - ELA) \\frac{d\\dot{m}}{dz},$$\n",
    "\n",
    "with the mass balance gradient $\\frac{d\\dot{m}}{dz}$:"
   ]
  },
  {
   "cell_type": "code",
   "execution_count": null,
   "metadata": {},
   "outputs": [],
   "source": [
    "# mass balance gradient with respect to elevation in mm w.e. m^-1 yr^-1\n",
    "mb_grad = 7"
   ]
  },
  {
   "cell_type": "markdown",
   "metadata": {},
   "source": [
    "Define the ELA to be as close as possible to the ELA width. With this we can define the mass balance model."
   ]
  },
  {
   "cell_type": "code",
   "execution_count": null,
   "metadata": {},
   "outputs": [],
   "source": [
    "# Defining the mass balance, we use the altitude defined above.\n",
    "mass_balance = MassBalance(ela=ela_alt, gradient=mb_grad)"
   ]
  },
  {
   "cell_type": "markdown",
   "metadata": {},
   "source": [
    "Now that we have all the ingredients for a glacier we can initialise it."
   ]
  },
  {
   "cell_type": "code",
   "execution_count": null,
   "metadata": {},
   "outputs": [],
   "source": [
    "my_glacier = Glacier(bed=bed, mass_balance=mass_balance)\n",
    "my_glacier"
   ]
  },
  {
   "cell_type": "code",
   "execution_count": null,
   "metadata": {},
   "outputs": [],
   "source": [
    "my_glacier.plot()"
   ]
  },
  {
   "cell_type": "markdown",
   "metadata": {},
   "source": [
    "### Glacier in Equilibrium"
   ]
  },
  {
   "cell_type": "markdown",
   "metadata": {},
   "source": [
    "For a glacier to be in equilibrium, we require the specific mass balance (accumulation + ablation) to be zero averaged over a year on the glacier. A glacier is in equilibrium if the glacier will neither retreat nor advance from one year to the next year if the climate stays constant."
   ]
  },
  {
   "cell_type": "markdown",
   "metadata": {},
   "source": [
    "Let's progress the glacier until it reaches equilibrium"
   ]
  },
  {
   "cell_type": "code",
   "execution_count": null,
   "metadata": {},
   "outputs": [],
   "source": [
    "my_glacier.progress_to_equilibrium()"
   ]
  },
  {
   "cell_type": "markdown",
   "metadata": {},
   "source": [
    "Take a look at the current glacier state"
   ]
  },
  {
   "cell_type": "code",
   "execution_count": null,
   "metadata": {},
   "outputs": [],
   "source": [
    "my_glacier.plot()"
   ]
  },
  {
   "cell_type": "markdown",
   "metadata": {},
   "source": [
    "Although our initial glacier is in equilibrium, it doesn't mean that the mass balance is zero everywhere.\n",
    "The net positive mass balance at the top (more accumulation, less ablation) balances out the net negative mass balance at the tongue (less accumulation, more ablation).\n",
    "\n",
    "As explained in the [accumulation and ablation notebook](accumulation_and_ablation.ipynb), the net accumulation at the top results in a flow of ice trough the glacier which compensate for melt in the lower areas. \n",
    "\n",
    "**At equilibrium, a glacier's net mass-balance is zero but ice is still moving from top to bottom.**\n",
    "\n",
    "Now we have set the scene to take a look at glacier advance and retreat."
   ]
  },
  {
   "cell_type": "markdown",
   "metadata": {},
   "source": [
    "## Advancing Glacier"
   ]
  },
  {
   "cell_type": "markdown",
   "metadata": {},
   "source": [
    "To induce a glacier advance we will use the same glacier as before, but decrease the temperature.\n",
    "This moves the ELA down the glacier.\n",
    "\n",
    "To achieve this we set up a climate change scenario with the `.add_temperature_bias` method.\n",
    "Our scenario implies a temperature decrease of -1.5$^\\circ$C during 50 years."
   ]
  },
  {
   "cell_type": "code",
   "execution_count": null,
   "metadata": {},
   "outputs": [],
   "source": [
    "my_glacier.add_temperature_bias(bias=-1.5, duration=50)"
   ]
  },
  {
   "cell_type": "markdown",
   "metadata": {},
   "source": [
    " We then progress the glacier until it reaches equilibrium"
   ]
  },
  {
   "cell_type": "code",
   "execution_count": null,
   "metadata": {},
   "outputs": [],
   "source": [
    "my_glacier.progress_to_equilibrium()"
   ]
  },
  {
   "cell_type": "code",
   "execution_count": null,
   "metadata": {},
   "outputs": [],
   "source": [
    "my_glacier.mass_balance"
   ]
  },
  {
   "cell_type": "markdown",
   "metadata": {},
   "source": [
    "As we can see in the representation above, the current ELA sits around 3108 m a.s.l. while the original ELA was at 3333 m a.s.l.\n",
    "\n",
    "Let's take a look at the new equilibrium state after the we decreased the temperature"
   ]
  },
  {
   "cell_type": "code",
   "execution_count": null,
   "metadata": {},
   "outputs": [],
   "source": [
    "my_glacier.plot_state_history(eq_states=True)"
   ]
  },
  {
   "cell_type": "markdown",
   "metadata": {},
   "source": [
    "Decreasing the ELA results in an increased accumulation area and thus higher accumulation. More mass at the top of the glacier will increase the ice flow $\\vec{q}$ down the glacier, leading to an advance of the glacier terminus and thus expanding the ablation area.\n",
    "We can see this observing the outlines in the plot above.\n",
    "The blue, older, outline extends further down the glacier compared to the orange, younger, outline.\n",
    "This is also illustrated in the plot below."
   ]
  },
  {
   "cell_type": "code",
   "execution_count": null,
   "metadata": {},
   "outputs": [],
   "source": [
    "plot_glacier_graphics('09');"
   ]
  },
  {
   "cell_type": "markdown",
   "metadata": {},
   "source": [
    "## Retreating glacier"
   ]
  },
  {
   "cell_type": "markdown",
   "metadata": {},
   "source": [
    "Similarly, we can cause the glacier retreat.\n",
    "We will set up our initial glacier again, but this time increase the temperature and thus move the ELA up the glacier.\n",
    "\n",
    "For this we set up a another climate change scenario, but this time with a positive temperature change."
   ]
  },
  {
   "cell_type": "code",
   "execution_count": null,
   "metadata": {},
   "outputs": [],
   "source": [
    "mass_balance = MassBalance(ela=ela_alt, gradient=mb_grad)\n",
    "my_glacier = Glacier(bed=bed, mass_balance=mass_balance)\n",
    "my_glacier.progress_to_equilibrium()"
   ]
  },
  {
   "cell_type": "code",
   "execution_count": null,
   "metadata": {},
   "outputs": [],
   "source": [
    "# Climate change scenario\n",
    "# 3 degrees warmer in 100 years.\n",
    "my_glacier.add_temperature_bias(bias=3., duration=100)"
   ]
  },
  {
   "cell_type": "markdown",
   "metadata": {},
   "source": [
    "And let's progress until we reach a new equilibrium"
   ]
  },
  {
   "cell_type": "code",
   "execution_count": null,
   "metadata": {},
   "outputs": [],
   "source": [
    "my_glacier.progress_to_equilibrium()"
   ]
  },
  {
   "cell_type": "code",
   "execution_count": null,
   "metadata": {},
   "outputs": [],
   "source": [
    "my_glacier.mass_balance"
   ]
  },
  {
   "cell_type": "markdown",
   "metadata": {},
   "source": [
    " Here we ended up raising the ELA from 3333 m. a.s.l. to 3783 m. a.s.l."
   ]
  },
  {
   "cell_type": "markdown",
   "metadata": {},
   "source": [
    "Plot the new equilibrium state"
   ]
  },
  {
   "cell_type": "code",
   "execution_count": null,
   "metadata": {},
   "outputs": [],
   "source": [
    "my_glacier.plot_state_history(eq_states=True)"
   ]
  },
  {
   "cell_type": "markdown",
   "metadata": {},
   "source": [
    "Comparing the outlines of the two equilibrium states we can see that the glacier has retreated: The shorted orange outline is older compared to the blue outline.\n",
    "Similar to what we see in the figure below."
   ]
  },
  {
   "cell_type": "code",
   "execution_count": null,
   "metadata": {},
   "outputs": [],
   "source": [
    "plot_glacier_graphics('10');"
   ]
  },
  {
   "cell_type": "markdown",
   "metadata": {},
   "source": [
    "We can further explore the glacier response during retreat by looking at the history of our glacier."
   ]
  },
  {
   "cell_type": "code",
   "execution_count": null,
   "metadata": {},
   "outputs": [],
   "source": [
    "my_glacier.plot_history()"
   ]
  },
  {
   "cell_type": "markdown",
   "metadata": {},
   "source": [
    "Raising the temperature will grow the ablation area which correspond to increasing the ELA.\n",
    "This results in an increased mass loss, and a lower ice flux, for the glacier.\n",
    "Since the accumulation is no longer able to keep up with the increased mass loss the glacier will begin to retreat.\n",
    "Eventually the glacier has retreated far enough for the annual ablation to once again be balanced by the annual accumulation $\\rightarrow$ At this point the glacier has reached a new state of equilibrium.\n"
   ]
  },
  {
   "cell_type": "markdown",
   "metadata": {},
   "source": [
    "## Take home points"
   ]
  },
  {
   "cell_type": "markdown",
   "metadata": {},
   "source": [
    "- The equilibrium line altitude (ELA) is the altitude on a glacier where accumulation and ablation are in balance, $\\dot{m}(z) = 0$ at $z=$ ELA\n",
    "- A decrease in the ELA leads to:\n",
    "    1. Increased accumulation\n",
    "    2. An initial decrease of the ablation area\n",
    "    3. A net mass gain resulting in an increased ice flux down the glacier\n",
    "    4. Glacier advance\n",
    "- An increase in the ELA leads to:\n",
    "    1. A decreased accumulation area\n",
    "    2. An increased ablation area\n",
    "    3. A net mass loss resulting in a decreased ice flux down the glacier\n",
    "    4. Glacier retreat"
   ]
  },
  {
   "cell_type": "markdown",
   "metadata": {},
   "source": [
    "## What's next?"
   ]
  },
  {
   "cell_type": "markdown",
   "metadata": {},
   "source": [
    "[Back to the table of contents](../welcome.ipynb)"
   ]
  }
 ],
 "metadata": {
  "kernelspec": {
   "display_name": "Python 3",
   "language": "python",
   "name": "python3"
  },
  "language_info": {
   "codemirror_mode": {
    "name": "ipython",
    "version": 3
   },
   "file_extension": ".py",
   "mimetype": "text/x-python",
   "name": "python",
   "nbconvert_exporter": "python",
   "pygments_lexer": "ipython3",
   "version": "3.8.12"
  }
 },
 "nbformat": 4,
 "nbformat_minor": 4
}
