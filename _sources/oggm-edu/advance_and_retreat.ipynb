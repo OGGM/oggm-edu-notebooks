{
 "cells": [
  {
   "cell_type": "markdown",
   "metadata": {},
   "source": [
    "# Glacier advance and retreat"
   ]
  },
  {
   "cell_type": "markdown",
   "metadata": {},
   "source": [
    "Goals of this notebook:"
   ]
  },
  {
   "cell_type": "markdown",
   "metadata": {},
   "source": [
    "- Understand the concept of the equilibrium line altitude (ELA)\n",
    "- Understand the influence of glacier mass balance on the ELA\n",
    "- Be able to explain glacier advance and retreat in response to a change in the ELA"
   ]
  },
  {
   "cell_type": "code",
   "execution_count": null,
   "metadata": {},
   "outputs": [],
   "source": [
    "# Constants\n",
    "from oggm import cfg\n",
    "cfg.initialize_minimal()\n",
    "\n",
    "# OGGM flowline model\n",
    "from oggm.core.flowline import RectangularBedFlowline\n",
    "\n",
    "# Scientific packages\n",
    "import numpy as np\n",
    "\n",
    "# OGGM mass-balance model\n",
    "from oggm.core.massbalance import LinearMassBalance\n",
    "\n",
    "# There are several numerical implementations in OGGM core. We use the \"FluxBasedModel\"\n",
    "from oggm.core.flowline import FluxBasedModel as FlowlineModel\n",
    "\n",
    "# Plot glacier graphics edu function\n",
    "from oggm_edu import plot_glacier_graphics"
   ]
  },
  {
   "cell_type": "code",
   "execution_count": null,
   "metadata": {},
   "outputs": [],
   "source": [
    "# Plotting libraries and plot style\n",
    "import matplotlib.pyplot as plt\n",
    "%matplotlib inline\n",
    "\n",
    "import seaborn as sns\n",
    "sns.set_context('notebook')\n",
    "sns.set_style('ticks')"
   ]
  },
  {
   "cell_type": "markdown",
   "metadata": {},
   "source": [
    "## A simulation of glacier advance and retreat with OGGM\n",
    "\n",
    "We start by defining a idealised glacier, then we let the glacier grow until it reaches its equilibrium state. Then we can simulate glacier advance and retreat. We represent the different steps illustrated in the [open glacier graphics from the OGGM-EDU website](https://edu.oggm.org/en/latest/glacier_basics.html) (made by Anne Maussion, [Atelier les Gros yeux](http://atelierlesgrosyeux.com/))."
   ]
  },
  {
   "cell_type": "markdown",
   "metadata": {},
   "source": [
    "### Initialisation: Let's define our glacier"
   ]
  },
  {
   "cell_type": "markdown",
   "metadata": {},
   "source": [
    "First, as always, we define a linear bedrock profile:"
   ]
  },
  {
   "cell_type": "code",
   "execution_count": null,
   "metadata": {},
   "outputs": [],
   "source": [
    "# define horizontal resolution of the model:\n",
    "# nx: number of grid points\n",
    "# map_dx: grid point spacing in meters\n",
    "nx = 200\n",
    "map_dx = 200\n",
    "\n",
    "# define glacier top and bottom altitudes in meters\n",
    "top = 5000 \n",
    "bottom = 0\n",
    "\n",
    "# create a linear bedrock profile from top to bottom\n",
    "bed_h = np.linspace(top, bottom, nx)\n",
    "\n",
    "# calculate the distance from the top to the bottom of the glacier in km\n",
    "distance_along_glacier = np.linspace(0, nx, nx) * map_dx * 1e-3"
   ]
  },
  {
   "cell_type": "markdown",
   "metadata": {},
   "source": [
    "Often glaciers are wider in the accumulation area, so we construct our glacier such that it is wider above the ELA. "
   ]
  },
  {
   "cell_type": "code",
   "execution_count": null,
   "metadata": {},
   "outputs": [],
   "source": [
    "# glacier width at the top of the accumulation area: m\n",
    "ACCW = 1000\n",
    "\n",
    "# glacier width at the equilibrium line altitude: m\n",
    "ELAW = 500\n",
    "\n",
    "# fraction of vertical grid points occupied by accumulation area\n",
    "NZ = 1 / 3\n",
    "\n",
    "# accumulation area occupies a fraction NZ of the total glacier extent\n",
    "acc_width = np.linspace(ACCW, ELAW, int(nx * NZ))\n",
    "\n",
    "# ablation area occupies a fraction 1 - NZ of the total glacier extent\n",
    "abl_width = np.tile(ELAW, nx - len(acc_width))\n",
    "\n",
    "# glacier widths profile\n",
    "widths = np.hstack([acc_width, abl_width])"
   ]
  },
  {
   "cell_type": "code",
   "execution_count": null,
   "metadata": {},
   "outputs": [],
   "source": [
    "# Plot glacier geometry\n",
    "fig, (ax1, ax2) = plt.subplots(nrows=2, ncols=1, figsize=(10, 9),\n",
    "                               gridspec_kw={'height_ratios': [2, 1]},\n",
    "                               sharex=True)\n",
    "# Plot the bed.\n",
    "ax1.plot(distance_along_glacier, bed_h, ls='--', c='k')\n",
    "ax1.set_ylabel('Altitude (m)')\n",
    "ax1.set_ylim(0, 5200)\n",
    "# Plot the width to the distance along glacier.\n",
    "ax2.fill_between(distance_along_glacier, -widths/2, widths/2,\n",
    "                 edgecolor='tab:blue', facecolor='white')\n",
    "ax2.axhline(0, c='k', lw=0.4)\n",
    "ax2.set_ylabel('Glacier width across glacier (m)')\n",
    "ax2.set_xlabel('Distance along glacier  (km)');\n",
    "ax2.set_xlim(0, 45);\n",
    "ax1.set_title('Slope and width-elevation profile of the bedrock');"
   ]
  },
  {
   "cell_type": "markdown",
   "metadata": {},
   "source": [
    "**Now we have defined the idealised width-elevation profile of our glacier.** The next step is to define the shape of our cross-section. OGGM supports three different shapes (rectangular, parabolic and trapezoidal); for our experiment we go with the rectangular one:"
   ]
  },
  {
   "cell_type": "code",
   "execution_count": null,
   "metadata": {},
   "outputs": [],
   "source": [
    "# describe the widths in \"grid points\" for the model, based on grid point spacing map_dx\n",
    "mwidths = np.zeros(nx) + widths / map_dx\n",
    "\n",
    "# define the glacier flowline\n",
    "initial_flowline = RectangularBedFlowline(surface_h=bed_h,\n",
    "                                          bed_h=bed_h,\n",
    "                                          widths=mwidths,\n",
    "                                          map_dx=map_dx)"
   ]
  },
  {
   "cell_type": "markdown",
   "metadata": {},
   "source": [
    "Now we need to define the mass balance distribution over the glacier, after which the glacier can grow to its initial equilibrium state."
   ]
  },
  {
   "cell_type": "markdown",
   "metadata": {},
   "source": [
    "#### **Mass balance and the equilibrium line altitude**"
   ]
  },
  {
   "cell_type": "markdown",
   "metadata": {},
   "source": [
    "The **mass balance** is the result of several processes that either add mass to the glacier (**accumulation**) or remove mass from the glacier (**ablation**). You can find more details in the [accumulation and ablation notebook](accumulation_and_ablation.ipynb). As a summary the following glacier graphics illustrate this relationship: \n",
    "\n",
    "- The left graphic represents a theoretical mass accumulation over the whole glacier depicted by the blue ice volume on top of the grey glacier body.\n",
    "- In the graphic in the middle a theoretical mass ablation is marked as red ice volume.\n",
    "- The  graphic on the right shows the resulting mass balance with blue and red arrows in combination with the blue and red volume changes on top of the grey glacier body. In the central part of the glacier where the red line lies directly on the grey glacier body ablation and accumulation canceled each other out.\n",
    "\n",
    "<img src=\"https://raw.githubusercontent.com/OGGM/glacier-graphics/master/glacier_intro/png/glacier_03.png\" width=\"33%\" align=\"left\">\n",
    "<img src=\"https://raw.githubusercontent.com/OGGM/glacier-graphics/master/glacier_intro/png/glacier_04.png\" width=\"33%\" align=\"left\">\n",
    "<img src=\"https://raw.githubusercontent.com/OGGM/glacier-graphics/master/glacier_intro/png/glacier_05.png\" width=\"33%\" align=\"left\">\n",
    "\n",
    "*Source: [open glacier graphics](http://edu.oggm.org/en/latest/glacier_basics.html) on OGGM-Edu, made by Anne Maussion ([Atelier les Gros yeux](http://atelierlesgrosyeux.com/))*."
   ]
  },
  {
   "cell_type": "markdown",
   "metadata": {},
   "source": [
    "The rates of accumulation and ablation processes, summed over the glacier and over time, determine the *glacier mass balance*: $\\dot{m}$, the change in total mass of snow and ice,"
   ]
  },
  {
   "cell_type": "markdown",
   "metadata": {},
   "source": [
    "$$\\dot{m} = \\text{accumulation} + \\text{ablation}.$$"
   ]
  },
  {
   "cell_type": "markdown",
   "metadata": {},
   "source": [
    "Since accumulation and ablation generally vary with height, also the glacier mass balance is a function of elevation,"
   ]
  },
  {
   "cell_type": "markdown",
   "metadata": {},
   "source": [
    "$$\\dot{m}(z) = \\text{accumulation}(z) + \\text{ablation}(z).$$"
   ]
  },
  {
   "cell_type": "markdown",
   "metadata": {},
   "source": [
    "Mass is continuously redistributed in a glacier: accumulated mass at the top of the glacier is transported downglacier. The driving force of this *ice flow* is gravity. Thus, the mass balance of a region on a glacier depends not only on the mass exchanges induced by accumulation and ablation, but also on the gravity driven transport of ice from the acccumulation area to the ablation area. The *ice flow* is indicated by the grey arrow in this figure:\n",
    "\n",
    "<img src=\"https://raw.githubusercontent.com/OGGM/glacier-graphics/master/glacier_intro/png/glacier_06.png\" width=\"60%\">"
   ]
  },
  {
   "cell_type": "markdown",
   "metadata": {},
   "source": [
    "The altitude where $\\dot{m}(z) = 0$ is called the *equilibrium line altitude*, short ELA. Hence, the ELA is the altitude where accumulation processes and ablation processes balance each other - in theory. However, in reality the ELA does not exactly exist and can only be approximated.\n",
    "\n",
    "<img src=\"https://raw.githubusercontent.com/OGGM/glacier-graphics/master/glacier_intro/png/glacier_07.png\" width=\"60%\">"
   ]
  },
  {
   "cell_type": "markdown",
   "metadata": {},
   "source": [
    "**We want to reproduce these processes above in an experiment using OGGM**.\n",
    "\n",
    "For this purpose we start with defining a linear mass balance model of the form\n",
    "\n",
    "$$\\dot{m}(z) = (z - ELA) \\frac{d\\dot{m}}{dz},$$\n",
    "\n",
    "with the mass balance gradient $\\frac{d\\dot{m}}{dz}$:"
   ]
  },
  {
   "cell_type": "code",
   "execution_count": null,
   "metadata": {},
   "outputs": [],
   "source": [
    "# mass balance gradient with respect to elevation in mm w.e. m^-1 yr^-1\n",
    "mb_grad = 7"
   ]
  },
  {
   "cell_type": "markdown",
   "metadata": {},
   "source": [
    "Define the ELA to be as close as possible to the ELA width. With this we can define the mass balance model."
   ]
  },
  {
   "cell_type": "code",
   "execution_count": null,
   "metadata": {},
   "outputs": [],
   "source": [
    "# equilibrium line altitude: height where the glacier width first hits ELAW\n",
    "ela = bed_h[np.where(widths==ELAW)[0][0]]\n",
    "print('ELA: {:.2f} m'.format(ela))\n",
    "\n",
    "# defining the mass balance model\n",
    "mb_model = LinearMassBalance(ela, grad=mb_grad)"
   ]
  },
  {
   "cell_type": "markdown",
   "metadata": {},
   "source": [
    "Now that we have all the ingredients to run the model, we just have to initialise it:"
   ]
  },
  {
   "cell_type": "code",
   "execution_count": null,
   "metadata": {},
   "outputs": [],
   "source": [
    "# The model requires the initial glacier bed, a mass balance model, and an initial time (the year y0)\n",
    "model = FlowlineModel(initial_flowline, mb_model=mb_model, y0=0.,\n",
    "                      min_dt=0, cfl_number=0.01)"
   ]
  },
  {
   "cell_type": "markdown",
   "metadata": {},
   "source": [
    "### Glacier in Equilibrium"
   ]
  },
  {
   "cell_type": "markdown",
   "metadata": {},
   "source": [
    "For a glacier to be in equilibrium, we require the specific mass balance (accumulation + ablation) to be zero averaged over a year on the glacier. A glacier is in equilibrium if the glacier will neither retreat nor advance from one year to the next year if the climate stays constant, i.e. if we don't change the ELA. "
   ]
  },
  {
   "cell_type": "markdown",
   "metadata": {},
   "source": [
    "Let's run the model until our test glacier is in equilibrium:"
   ]
  },
  {
   "cell_type": "code",
   "execution_count": null,
   "metadata": {},
   "outputs": [],
   "source": [
    "model.run_until_equilibrium()"
   ]
  },
  {
   "cell_type": "markdown",
   "metadata": {},
   "source": [
    "Now, we want to calculate the net mass balance (= glacier mass distribution without considering ice flow). First we calculate the accumulation over the glacier as a function of altitude:"
   ]
  },
  {
   "cell_type": "code",
   "execution_count": null,
   "metadata": {},
   "outputs": [],
   "source": [
    "# get the equilibrium surface height of our test glacier in equilibrium\n",
    "current_sfc = model.fls[0].surface_h"
   ]
  },
  {
   "cell_type": "code",
   "execution_count": null,
   "metadata": {},
   "outputs": [],
   "source": [
    "# First we find the terminus of the glacier, where the glacier surface is\n",
    "# intersecting the bed.\n",
    "terminus = current_sfc[current_sfc <= bed_h][0]\n",
    "\n",
    "# We then need the surface closest to the ELA\n",
    "ela_sfc = current_sfc[np.abs(current_sfc - ela).argmin()]\n",
    "\n",
    "# First we calculate the accumulation at the ELA. This is calculated so that\n",
    "# the accumulation at terminus is 0.\n",
    "ela_accumulation = (- mb_grad * (terminus - ela_sfc) * \n",
    "                    mwidths[current_sfc == terminus] * 1e-3)\n",
    "\n",
    "# We can now calculate the annual accumulation as a function of the altitude.\n",
    "# Scaled by the width of the glacier.\n",
    "accumulation = (ela_accumulation + mb_grad *\n",
    "                (current_sfc[current_sfc >= terminus] - ela_sfc) *\n",
    "                1e-3 * mwidths[current_sfc >= terminus])\n",
    "\n",
    "# Append the zero accumulation downstream of glacier terminus\n",
    "accumulation = np.hstack([accumulation,\n",
    "                          np.zeros(len(current_sfc[current_sfc < terminus]))])"
   ]
  },
  {
   "cell_type": "markdown",
   "metadata": {},
   "source": [
    "We then calculate the ablation as a function of the altitude:"
   ]
  },
  {
   "cell_type": "code",
   "execution_count": null,
   "metadata": {},
   "outputs": [],
   "source": [
    "# Get the glacier top\n",
    "top = current_sfc[0]\n",
    "\n",
    "# By construct the ela ablation should be equal to the ela accumulation\n",
    "ela_ablation = ela_accumulation\n",
    "\n",
    "# Now calculate the annual ablation as a function of the altitude. Scaled by\n",
    "# the width of the glacier.\n",
    "ablation = (- ela_ablation + mb_grad *\n",
    "            (current_sfc[current_sfc >= terminus] - ela_sfc) *\n",
    "            1e-3 * mwidths[current_sfc >= terminus])\n",
    "\n",
    "# Append 0 ablation downstream of glacier terminus\n",
    "ablation = np.hstack([ablation,\n",
    "                      np.zeros(len(current_sfc[current_sfc < terminus]))])\n",
    "\n",
    "# Correct ablation > 0 to 0\n",
    "ablation[ablation > 0] = 0"
   ]
  },
  {
   "cell_type": "markdown",
   "metadata": {},
   "source": [
    "``ela_accumulation`` and ``ela_ablation`` are the accumulation and the ablation at the ELA, respectively - by construction, they should be equal:"
   ]
  },
  {
   "cell_type": "code",
   "execution_count": null,
   "metadata": {},
   "outputs": [],
   "source": [
    "print(f'Mass balance at the ELA: {float(ela_accumulation - ela_ablation):.2f} m w.e. yr^-1')"
   ]
  },
  {
   "cell_type": "markdown",
   "metadata": {},
   "source": [
    "Now, we can define the glacier surface after accumulation and ablation, respectively, and plot them on the glacier. The code below is mostly for plotting."
   ]
  },
  {
   "cell_type": "code",
   "execution_count": null,
   "metadata": {},
   "outputs": [],
   "source": [
    "# Accumulation and ablation surfaces\n",
    "accumulation_sfc = current_sfc + accumulation\n",
    "ablation_sfc = current_sfc + ablation\n",
    "\n",
    "# net mass balance m w.e yr^-1\n",
    "mb_we = accumulation + ablation\n",
    "\n",
    "# Theoretical glacier surface without ice flow\n",
    "# corrected to the bed where ice thickness is negative\n",
    "mb_sfc = current_sfc + mb_we\n",
    "# Where is there no ice?\n",
    "no_ice = np.where(mb_sfc < bed_h)\n",
    "# Correct it\n",
    "mb_sfc[no_ice] = bed_h[no_ice] \n",
    "\n",
    "# plot the model glacier\n",
    "plt.figure(figsize=(22,10))\n",
    "ax = plt.subplot(121)\n",
    "# Plot the bed\n",
    "ax.plot(distance_along_glacier, bed_h, '--k', label='Bedrock')\n",
    "# And the current glacier surface\n",
    "ax.plot(distance_along_glacier, current_sfc, '--r',\n",
    "        label='Current glacier surface')\n",
    "# Fill the ice which is not affected by the accumulation\n",
    "ax.fill_between(distance_along_glacier, bed_h, mb_sfc, mb_sfc <= current_sfc,\n",
    "                color='grey', alpha=0.3)\n",
    "# and ablation.\n",
    "ax.fill_between(distance_along_glacier, bed_h, current_sfc,\n",
    "                mb_sfc >= current_sfc, color='grey', alpha=0.3)\n",
    "\n",
    "# Fill in the accumulation.\n",
    "ax.fill_between(distance_along_glacier, current_sfc, mb_sfc,\n",
    "                mb_sfc > current_sfc, color='deepskyblue', alpha=0.7,\n",
    "                label='Net accumulation')\n",
    "# Fill in the ablation.\n",
    "ax.fill_between(distance_along_glacier, current_sfc, mb_sfc,\n",
    "                mb_sfc <= current_sfc, color='red', alpha=0.3,\n",
    "                label='Net ablation')\n",
    "# Add the ela\n",
    "ax.axhline(ela, ls='--', c='grey')\n",
    "ax.text(distance_along_glacier[-1], ela+10, 'Initial ELA',\n",
    "        horizontalalignment='right', verticalalignment='bottom',\n",
    "        color='grey')\n",
    "\n",
    "ax.set_xlabel('Distance along flowline (km)', fontsize=18)\n",
    "ax.set_ylabel('Elevation (m)', fontsize=18)\n",
    "plt.legend()\n",
    "\n",
    "ax = plt.subplot(122)\n",
    "plot_glacier_graphics('05')\n",
    "ax = plt.gca()\n",
    "ax.patch.set_visible(False)\n",
    "ax.axis('off');\n",
    "plt.tight_layout()"
   ]
  },
  {
   "cell_type": "markdown",
   "metadata": {},
   "source": [
    "Although our initial glacier is in equilibrium, it doesn't mean that the mass-balance is zero everywhere. As visualised above, the net positive mass-balance at the top (more accumulation, less ablation) balances out the net negative mass balance at the tongue (less accumulation, more ablation).\n",
    "\n",
    "As explained in the [accumulation and ablation notebook](accumulation_and_ablation.ipynb), the net accumulation at the top implies a flow of ice trough the glacier, which compensates for the melt in the lower areas. \n",
    "\n",
    "**At equilibrium, a glacier's net mass-balance is zero but ice is still moving from top to bottom.**\n",
    "\n",
    "Now we have set the scene to model glacier advance and retreat."
   ]
  },
  {
   "cell_type": "markdown",
   "metadata": {},
   "source": [
    "## Advancing Glacier"
   ]
  },
  {
   "cell_type": "markdown",
   "metadata": {},
   "source": [
    "To simulate a glacier advance, we will use the same glacier as before, but move the ELA down the glacier. This is similar to e.g. an abrupt climate cooling over the glacier:"
   ]
  },
  {
   "cell_type": "code",
   "execution_count": null,
   "metadata": {},
   "outputs": [],
   "source": [
    "# Number of vertical grid points the ELA is shifted down the glacier\n",
    "ela_shift_down = 10\n",
    "\n",
    "# Define the ELA, this moves the down from the initial ela.\n",
    "ela_adv = bed_h[np.where(widths == ELAW)[0][ela_shift_down]]\n",
    "\n",
    "print(f'We move the ELA from initially {ela:.0f} m downward to {ela_adv:.0f} m')"
   ]
  },
  {
   "cell_type": "markdown",
   "metadata": {},
   "source": [
    "With the new ELA we can define a new mass balance:"
   ]
  },
  {
   "cell_type": "code",
   "execution_count": null,
   "metadata": {},
   "outputs": [],
   "source": [
    "mb_model_adv = LinearMassBalance(ela_adv, grad=mb_grad)"
   ]
  },
  {
   "cell_type": "markdown",
   "metadata": {},
   "source": [
    "Then we initialise a new model, based on the current glacier geometry but with a new mass balance model:"
   ]
  },
  {
   "cell_type": "code",
   "execution_count": null,
   "metadata": {},
   "outputs": [],
   "source": [
    "model_adv = FlowlineModel(model.fls[0], mb_model=mb_model_adv, y0=0,\n",
    "                          min_dt=0, cfl_number=0.01)\n",
    "# And run it to a new equilibrium\n",
    "model_adv.run_until_equilibrium()"
   ]
  },
  {
   "cell_type": "code",
   "execution_count": null,
   "metadata": {},
   "outputs": [],
   "source": [
    "# get the equilibrium surface height of our test glacier in equilibrium\n",
    "current_sfc_adv = model_adv.fls[0].surface_h"
   ]
  },
  {
   "cell_type": "markdown",
   "metadata": {},
   "source": [
    "Let's take a look at the new equilibrium state after the decreased ELA"
   ]
  },
  {
   "cell_type": "code",
   "execution_count": null,
   "metadata": {},
   "outputs": [],
   "source": [
    "# plot the model glacier\n",
    "plt.figure(figsize=(22,10))\n",
    "# fig, ax = plt.subplots(1, 1, figsize=(16, 9))\n",
    "ax = plt.subplot(121)\n",
    "# Plot the bed\n",
    "ax.plot(distance_along_glacier, bed_h, '--k', label='Bedrock')\n",
    "# And the pre advance glacier surface\n",
    "ax.plot(distance_along_glacier, current_sfc, '--r',\n",
    "        label='Glacier surface before advance')\n",
    "\n",
    "# And fill it in\n",
    "ax.fill_between(distance_along_glacier, bed_h, current_sfc,\n",
    "                color='grey', alpha=0.3)\n",
    "# Plot the advancing glacier.\n",
    "ax.plot(distance_along_glacier, current_sfc_adv, color='deepskyblue',\n",
    "        label='Glacier surface after advance')\n",
    "# And fill it in\n",
    "ax.fill_between(distance_along_glacier, current_sfc, current_sfc_adv,\n",
    "                current_sfc_adv >= current_sfc, color='deepskyblue',\n",
    "                alpha=0.7)\n",
    "\n",
    "# Add the old ela\n",
    "ax.axhline(ela, ls='--', c='grey')\n",
    "ax.text(distance_along_glacier[-1], ela+10, 'Initial ELA',\n",
    "        horizontalalignment='right', verticalalignment='bottom',\n",
    "        color='grey')\n",
    "\n",
    "# Add the new ela\n",
    "ax.axhline(ela_adv, ls='--', c='deepskyblue')\n",
    "ax.text(distance_along_glacier[-1], ela_adv+10,\n",
    "        'New ELA, e.g. colder climate',\n",
    "        horizontalalignment='right', verticalalignment='bottom',\n",
    "        color='deepskyblue')\n",
    "\n",
    "ax.set_xlabel('Distance along flowline (km)', fontsize=18)\n",
    "ax.set_ylabel('Elevation (m)', fontsize=18)\n",
    "ax.set_title('Advancing glacier')\n",
    "plt.legend()\n",
    "\n",
    "ax = plt.subplot(122)\n",
    "plot_glacier_graphics('09')\n",
    "ax = plt.gca()\n",
    "ax.patch.set_visible(False)\n",
    "ax.axis('off');\n",
    "plt.tight_layout()"
   ]
  },
  {
   "cell_type": "markdown",
   "metadata": {},
   "source": [
    "Decreasing the ELA results in an increased accumulation area and thus an higher  accumulation. More mass at the top of the glacier will increase the ice flow $\\vec{q}$ down the glacier, leading to an advance of the glacier terminus and thus expanding the ablation area. This is illustrated by the thick arrow in the plot to the right."
   ]
  },
  {
   "cell_type": "markdown",
   "metadata": {},
   "source": [
    "## Retreating glacier"
   ]
  },
  {
   "cell_type": "markdown",
   "metadata": {},
   "source": [
    "Similarly we can simulate glacier retreat. We will begin with our first glacier, but this time move the ELA up the glacier. This is what would happen at for instance an abrupt warming of the climate."
   ]
  },
  {
   "cell_type": "code",
   "execution_count": null,
   "metadata": {},
   "outputs": [],
   "source": [
    "# Number of vertical grid points the ELA is shifted up the glacier.\n",
    "# If you want to see the differences better you can increase here the\n",
    "# value to e.g. 30\n",
    "ela_shift_up = 10\n",
    "\n",
    "# Define the ELA, this moves the down from the initial ela.\n",
    "ela_rtr = bed_h[np.where(widths == acc_width[-ela_shift_up])[0][0]]\n",
    "\n",
    "print(f'We move the ELA from initially {ela:.0f} m up to {ela_rtr:.0f} m')"
   ]
  },
  {
   "cell_type": "markdown",
   "metadata": {},
   "source": [
    "With the new ELA we can define a new mass balance:"
   ]
  },
  {
   "cell_type": "code",
   "execution_count": null,
   "metadata": {},
   "outputs": [],
   "source": [
    "mb_model_rtr = LinearMassBalance(ela_rtr, grad=mb_grad)"
   ]
  },
  {
   "cell_type": "markdown",
   "metadata": {},
   "source": [
    "Then we initialise a new model, based on the current glacier geometry of the initial glacier but with a new mass balance model:"
   ]
  },
  {
   "cell_type": "code",
   "execution_count": null,
   "metadata": {},
   "outputs": [],
   "source": [
    "model_rtr = FlowlineModel(model.fls[0], mb_model=mb_model_rtr, y0=0,\n",
    "                          min_dt=0, cfl_number=0.01)\n",
    "# And run it to a new equilibrium\n",
    "model_rtr.run_until_equilibrium()"
   ]
  },
  {
   "cell_type": "markdown",
   "metadata": {},
   "source": [
    "Now, we can calculate linear accumulation, ablation and mass balance profiles, for the retreating glacier:"
   ]
  },
  {
   "cell_type": "code",
   "execution_count": null,
   "metadata": {},
   "outputs": [],
   "source": [
    "# get the equilibrium surface height of our test glacier in equilibrium\n",
    "current_sfc_rtr = model_rtr.fls[0].surface_h"
   ]
  },
  {
   "cell_type": "markdown",
   "metadata": {},
   "source": [
    "Plot the new equilibrium state"
   ]
  },
  {
   "cell_type": "code",
   "execution_count": null,
   "metadata": {},
   "outputs": [],
   "source": [
    "# plot the model glacier\n",
    "plt.figure(figsize=(22,10))\n",
    "# fig, ax = plt.subplots(1, 1, figsize=(16, 9))\n",
    "ax = plt.subplot(121)\n",
    "# Plot the bed\n",
    "ax.plot(distance_along_glacier, bed_h, '--k', label='Bedrock')\n",
    "# And the pre advance glacier surface\n",
    "ax.plot(distance_along_glacier, current_sfc, \n",
    "        label='Glacier surface before retreat')\n",
    "\n",
    "# And fill it in\n",
    "ax.fill_between(distance_along_glacier, bed_h, current_sfc,\n",
    "                color='grey', alpha=0.3)\n",
    "# Plot the advancing glacier.\n",
    "ax.plot(distance_along_glacier, current_sfc_rtr, color='red',\n",
    "        label='Glacier surface after retreat')\n",
    "# And fill it in\n",
    "ax.fill_between(distance_along_glacier, current_sfc, current_sfc_rtr,\n",
    "                current_sfc_adv >= current_sfc, color='red',\n",
    "                alpha=0.3)\n",
    "\n",
    "# Add the old ela\n",
    "ax.axhline(ela, ls='--', c='grey')\n",
    "ax.text(distance_along_glacier[-1], ela+10, 'Initial ELA',\n",
    "        horizontalalignment='right', verticalalignment='bottom',\n",
    "        color='grey')\n",
    "\n",
    "# Add the new ela\n",
    "ax.axhline(ela_rtr, ls='--', c='red')\n",
    "ax.text(distance_along_glacier[-1], ela_rtr+10,\n",
    "        'New ELA, e.g. warmer climate',\n",
    "        horizontalalignment='right', verticalalignment='bottom',\n",
    "        color='red')\n",
    "\n",
    "ax.set_xlabel('Distance along flowline (km)', fontsize=18)\n",
    "ax.set_ylabel('Elevation (m)', fontsize=18)\n",
    "plt.legend()\n",
    "\n",
    "ax = plt.subplot(122)\n",
    "plot_glacier_graphics('11')\n",
    "ax = plt.gca()\n",
    "ax.patch.set_visible(False)\n",
    "ax.axis('off');\n",
    "plt.tight_layout()"
   ]
  },
  {
   "cell_type": "markdown",
   "metadata": {},
   "source": [
    "The increase in the ablation area leads to a net mass loss compared to the former glacier extent. When our glacier with a higher ELA is in equilibrium, the glacier has retreated: "
   ]
  },
  {
   "cell_type": "markdown",
   "metadata": {},
   "source": [
    "Raising the ELA results in an decrease in the accumulation area and accumulation while the ablation area increases. Less accumulation also leads to an decreased ice flow $\\vec{q}$ down the glacier, which combined with the increased accumulation results in a retreat of the glacier terminus."
   ]
  },
  {
   "cell_type": "markdown",
   "metadata": {},
   "source": [
    "## Take home points"
   ]
  },
  {
   "cell_type": "markdown",
   "metadata": {},
   "source": [
    "- The equilibrium line altitude (ELA) is the altitude on a glacier where accumulation and ablation are in balance, $\\dot{m}(z) = 0$ at $z=$ ELA\n",
    "- A decrease in the ELA leads to:\n",
    "    1. Increased accumulation\n",
    "    2. An initial decrease of the ablation area\n",
    "    3. A net mass gain resulting in an increased ice flux down the glacier\n",
    "    4. Glacier advance\n",
    "- An increase in the ELA leads to:\n",
    "    1. A decreased accumulation area\n",
    "    2. An increased ablation area\n",
    "    3. A net mass loss resulting in a decreased ice flux down the glacier\n",
    "    4. Glacier retreat"
   ]
  },
  {
   "cell_type": "markdown",
   "metadata": {},
   "source": [
    "## What's next?"
   ]
  },
  {
   "cell_type": "markdown",
   "metadata": {},
   "source": [
    "[Back to the table of contents](../welcome.ipynb)"
   ]
  }
 ],
 "metadata": {
  "kernelspec": {
   "display_name": "Python 3 (ipykernel)",
   "language": "python",
   "name": "python3"
  },
  "language_info": {
   "codemirror_mode": {
    "name": "ipython",
    "version": 3
   },
   "file_extension": ".py",
   "mimetype": "text/x-python",
   "name": "python",
   "nbconvert_exporter": "python",
   "pygments_lexer": "ipython3",
   "version": "3.8.3"
  }
 },
 "nbformat": 4,
 "nbformat_minor": 4
}
