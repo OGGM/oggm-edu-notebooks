{
 "cells": [
  {
   "cell_type": "markdown",
   "id": "0",
   "metadata": {},
   "source": [
    "# Glaciers as a low-pass filter of climate variations"
   ]
  },
  {
   "cell_type": "markdown",
   "id": "1",
   "metadata": {},
   "source": [
    "In a previous notebook we have talked about the response time of a glacier and how it takes some time for the glacier to respond to changes in its climate.\n",
    "In this notebook we are going to investigate this delayed response further by looking at how glaciers acts as a smoothing filter (low-pass) on variations in the climate forcing.\n",
    "\n",
    "We will do this by introducing some, for you, new functionality of the OGGM-Edu classes which enables you to assign random, and custom, future temperature biases to the mass balance of your glacier.\n",
    "\n",
    "First we have to import the minimal set of classes for working with OGGM-Edu glaciers."
   ]
  },
  {
   "cell_type": "code",
   "execution_count": null,
   "id": "2",
   "metadata": {},
   "outputs": [],
   "source": [
    "from oggm_edu import GlacierBed, MassBalance, Glacier"
   ]
  },
  {
   "cell_type": "markdown",
   "id": "3",
   "metadata": {},
   "source": [
    "Then we create a bed. For these examples we can use a fairly simply bed with a single slope.\n",
    "However, feel free to change this as you like."
   ]
  },
  {
   "cell_type": "code",
   "execution_count": null,
   "id": "4",
   "metadata": {},
   "outputs": [],
   "source": [
    "# Lets create a relatively simple bed.\n",
    "bed = GlacierBed(widths=[600, 400, 400], \n",
    "                 altitudes=[4200, 3400, 2000],\n",
    "                 slopes=15)"
   ]
  },
  {
   "cell_type": "code",
   "execution_count": null,
   "id": "5",
   "metadata": {},
   "outputs": [],
   "source": [
    "bed.plot()"
   ]
  },
  {
   "cell_type": "markdown",
   "id": "6",
   "metadata": {},
   "source": [
    "Next step is the mass balance.\n",
    "We create a slightly more realistic mass balance profile with a few different gradients."
   ]
  },
  {
   "cell_type": "code",
   "execution_count": null,
   "id": "7",
   "metadata": {},
   "outputs": [],
   "source": [
    "# A mass balance with the ela at 3600 m. and 4 gradients.\n",
    "mass_balance = MassBalance(ela=3600, \n",
    "                           gradient=[3, 6, 10, 15],\n",
    "                           breakpoints=[3800, 3200, 2500])"
   ]
  },
  {
   "cell_type": "markdown",
   "id": "8",
   "metadata": {},
   "source": [
    "Now we are ready to create the glacier."
   ]
  },
  {
   "cell_type": "code",
   "execution_count": null,
   "id": "9",
   "metadata": {},
   "outputs": [],
   "source": [
    "glacier = Glacier(bed=bed, mass_balance=mass_balance)"
   ]
  },
  {
   "cell_type": "markdown",
   "id": "10",
   "metadata": {},
   "source": [
    "Let's take a look at the mass balance profile."
   ]
  },
  {
   "cell_type": "code",
   "execution_count": null,
   "id": "11",
   "metadata": {},
   "outputs": [],
   "source": [
    "glacier.plot_mass_balance()"
   ]
  },
  {
   "cell_type": "markdown",
   "id": "12",
   "metadata": {},
   "source": [
    "## Adding a random climate"
   ]
  },
  {
   "cell_type": "markdown",
   "id": "13",
   "metadata": {},
   "source": [
    "Before we start progressing the glacier assign a random climate to the future of the glacier.\n",
    "Random in this case means that the temperature bias of our glacier will vary randomly from year to year between values specified by us.\n",
    "Internally this has the effect that the ELA of our glacier changes up and down.\n",
    "\n",
    "We assign a random climate through`.add_random_climate(duration, temperature_range)`, a method of the `Glacier` object.\n",
    "`duration` specifies how long the random climate should last, while `temperature_range` lets the user specify between what temperatures the climate should vary."
   ]
  },
  {
   "cell_type": "code",
   "execution_count": null,
   "id": "14",
   "metadata": {},
   "outputs": [],
   "source": [
    "# Lets add a random climate for a 1000 years, varying between -2 and 2 degrees.\n",
    "glacier.add_random_climate(duration=1000, temperature_range=[-2., 2.])"
   ]
  },
  {
   "cell_type": "markdown",
   "id": "15",
   "metadata": {},
   "source": [
    " We can take a look at the random climate through the `temperature_bias_series` attribute of the `MassBalance`."
   ]
  },
  {
   "cell_type": "code",
   "execution_count": null,
   "id": "16",
   "metadata": {},
   "outputs": [],
   "source": [
    "# This is a pandas dataframe.\n",
    "glacier.mass_balance.temp_bias_series"
   ]
  },
  {
   "cell_type": "markdown",
   "id": "17",
   "metadata": {},
   "source": [
    "And also quickly plot it.\n",
    "This will be pretty messy."
   ]
  },
  {
   "cell_type": "code",
   "execution_count": null,
   "id": "18",
   "metadata": {},
   "outputs": [],
   "source": [
    "glacier.mass_balance.temp_bias_series.bias.plot();"
   ]
  },
  {
   "cell_type": "markdown",
   "id": "19",
   "metadata": {},
   "source": [
    "<div class=\"alert alert-info\">\n",
    "    <b>\n",
    "        Note that if this is series is pre-populated, like in this case, it will act as the climate for the glacier during the progression.\n",
    "        When empty, the current, constant, bias will be written to the corresponding year during the progression, creating a history of the temperature bias.\n",
    "    </b>\n",
    "</div>"
   ]
  },
  {
   "cell_type": "markdown",
   "id": "20",
   "metadata": {},
   "source": [
    "Now we can progress the glacier as usual."
   ]
  },
  {
   "cell_type": "code",
   "execution_count": null,
   "id": "21",
   "metadata": {},
   "outputs": [],
   "source": [
    "# Progress the glacier to year 1000.\n",
    "glacier.progress_to_year(1000)"
   ]
  },
  {
   "cell_type": "code",
   "execution_count": null,
   "id": "22",
   "metadata": {},
   "outputs": [],
   "source": [
    "glacier.plot()"
   ]
  },
  {
   "cell_type": "markdown",
   "id": "23",
   "metadata": {},
   "source": [
    "## A look at the history"
   ]
  },
  {
   "cell_type": "markdown",
   "id": "24",
   "metadata": {},
   "source": [
    "We plot the history of the glacier length, volume and area with the `.plot_history()` method.\n",
    "We can also plot the temperature bias history by passing `True` to the `show_bias` argument."
   ]
  },
  {
   "cell_type": "code",
   "execution_count": null,
   "id": "25",
   "metadata": {},
   "outputs": [],
   "source": [
    "glacier.plot_history(show_bias=True)"
   ]
  },
  {
   "cell_type": "markdown",
   "id": "26",
   "metadata": {},
   "source": [
    "Since the random climate is just random, it is difficult to distinguish any similarities between the noisy bias and the glacier history.\n",
    "However, we can smooth the bias by providing a window size to the `window` argument.\n",
    "This will perform a rolling mean on the temperature bias series before plotting it.\n",
    "\n",
    "Here we also specify a time frame to plot in order to get a closer look at the data.\n",
    "By doing this we shrink the range of the y-axis, enhancing the fluctuations in the glacier history.\n",
    "\n",
    "<div class=\"alert alert-success\">\n",
    "    <details>\n",
    "    <summary>\n",
    "    <b>Try executing the cell below with different window sizes and try to find the size which represent the smoothing that the glacier have on the climate.</b> <it>[Click for a hint]</i>\n",
    "    </summary>\n",
    "        With a window size around 30-40 years, the bias begins to exhibit patterns similar to the glacier history.\n",
    "    </details>\n",
    "</div>"
   ]
  },
  {
   "cell_type": "code",
   "execution_count": null,
   "id": "27",
   "metadata": {},
   "outputs": [],
   "source": [
    "# Smooth the bias so that it resembles the history of the glacier attributes.\n",
    "glacier.plot_history(show_bias=True, window=10,\n",
    "                     time_range=[100, 1000])"
   ]
  },
  {
   "cell_type": "markdown",
   "id": "28",
   "metadata": {},
   "source": [
    "## Creating a custom climate"
   ]
  },
  {
   "cell_type": "markdown",
   "id": "29",
   "metadata": {},
   "source": [
    "<div class=\"alert alert-info\">\n",
    "    <b>Warning:</b> The following section requires more experience with Python than most of the previous work you've done with OGGM-Edu.\n",
    "</div>\n",
    "\n",
    "It is possible to create a completely custom climate for the glacier.\n",
    "This is done by creating an array of bias values and assigning it to the `.temp_bias_series` attribute.\n",
    "\n",
    "The easiest way to do this is by using one, or a combination, of the numpy-methods generating arrays. "
   ]
  },
  {
   "cell_type": "code",
   "execution_count": null,
   "id": "30",
   "metadata": {},
   "outputs": [],
   "source": [
    "import numpy as np"
   ]
  },
  {
   "cell_type": "markdown",
   "id": "31",
   "metadata": {},
   "source": [
    "For this exercise we will create a sinusoidal bias, not because it is very realistic but to show one example of how one can use convenient functions to generate the values.\n",
    "You can essentially use any function returning an array of floats, or do it manually, to create the bias series of your imagination."
   ]
  },
  {
   "cell_type": "code",
   "execution_count": null,
   "id": "32",
   "metadata": {},
   "outputs": [],
   "source": [
    "# How many cycles and years do we want?\n",
    "n_cycles = 4\n",
    "# 1000 years, we add 1 since last number is not included.\n",
    "n_years = 1000\n",
    "# Radians.\n",
    "rads = np.linspace(0, n_cycles * 2 * np.pi, n_years)\n",
    "# Create the sinus waves.\n",
    "bias_data = np.sin(rads)"
   ]
  },
  {
   "cell_type": "markdown",
   "id": "33",
   "metadata": {},
   "source": [
    "We reset the glacier before adding the new climate, to start fresh."
   ]
  },
  {
   "cell_type": "code",
   "execution_count": null,
   "id": "34",
   "metadata": {},
   "outputs": [],
   "source": [
    "glacier.reset()"
   ]
  },
  {
   "cell_type": "markdown",
   "id": "35",
   "metadata": {},
   "source": [
    "Then we can assign the `bias_data` to the `.temp_bias_series`."
   ]
  },
  {
   "cell_type": "code",
   "execution_count": null,
   "id": "36",
   "metadata": {},
   "outputs": [],
   "source": [
    "glacier.mass_balance.temp_bias_series = bias_data"
   ]
  },
  {
   "cell_type": "markdown",
   "id": "37",
   "metadata": {},
   "source": [
    "Progress the glacier as usual."
   ]
  },
  {
   "cell_type": "code",
   "execution_count": null,
   "id": "38",
   "metadata": {},
   "outputs": [],
   "source": [
    "glacier.progress_to_year(1000)"
   ]
  },
  {
   "cell_type": "markdown",
   "id": "39",
   "metadata": {},
   "source": [
    "Take a look at the history of the glacier"
   ]
  },
  {
   "cell_type": "code",
   "execution_count": null,
   "id": "40",
   "metadata": {},
   "outputs": [],
   "source": [
    "glacier.plot_history(show_bias=True)"
   ]
  },
  {
   "cell_type": "markdown",
   "id": "41",
   "metadata": {},
   "source": [
    "It is also possible to add a future climate to a glacier that already has some history.\n",
    "\n",
    "To start over, we first reset the glacier, then we add a linear trend and progress to the end of the climate data."
   ]
  },
  {
   "cell_type": "code",
   "execution_count": null,
   "id": "42",
   "metadata": {},
   "outputs": [],
   "source": [
    "glacier.reset()"
   ]
  },
  {
   "cell_type": "code",
   "execution_count": null,
   "id": "43",
   "metadata": {},
   "outputs": [],
   "source": [
    "glacier.add_temperature_bias(bias=1.5, duration=200)"
   ]
  },
  {
   "cell_type": "code",
   "execution_count": null,
   "id": "44",
   "metadata": {},
   "outputs": [],
   "source": [
    "glacier.progress_to_year(200)"
   ]
  },
  {
   "cell_type": "code",
   "execution_count": null,
   "id": "45",
   "metadata": {},
   "outputs": [],
   "source": [
    "glacier.plot_history(show_bias=True)"
   ]
  },
  {
   "cell_type": "markdown",
   "id": "46",
   "metadata": {},
   "source": [
    "We can then assign more data to  the future climate, just as easy as before.\n",
    "we now want a sinus-wave that oscillates around the current temperature bias."
   ]
  },
  {
   "cell_type": "code",
   "execution_count": null,
   "id": "47",
   "metadata": {},
   "outputs": [],
   "source": [
    "# How many cycles and years do we want?\n",
    "n_cycles = 4\n",
    "# 1000 years, we add 1 since last number is not included.\n",
    "n_years = 1000\n",
    "# Radians.\n",
    "rads = np.linspace(0, n_cycles * 2 * np.pi, n_years)\n",
    "# Create the sinus wave and add the current temperature bias.\n",
    "bias_data = np.sin(rads) + glacier.mass_balance.temp_bias"
   ]
  },
  {
   "cell_type": "markdown",
   "id": "48",
   "metadata": {},
   "source": [
    "Assign it to the `.temp_bias_series`.\n",
    "Internally this will append it to the series that already exists."
   ]
  },
  {
   "cell_type": "code",
   "execution_count": null,
   "id": "49",
   "metadata": {},
   "outputs": [],
   "source": [
    "glacier.mass_balance.temp_bias_series = bias_data"
   ]
  },
  {
   "cell_type": "code",
   "execution_count": null,
   "id": "50",
   "metadata": {},
   "outputs": [],
   "source": [
    "# We progress to year 1154, the current age + 1000.\n",
    "glacier.progress_to_year(1200)"
   ]
  },
  {
   "cell_type": "code",
   "execution_count": null,
   "id": "51",
   "metadata": {},
   "outputs": [],
   "source": [
    "glacier.plot_history(show_bias=True)"
   ]
  },
  {
   "cell_type": "markdown",
   "id": "52",
   "metadata": {},
   "source": [
    "### Adding noise to clean data"
   ]
  },
  {
   "cell_type": "markdown",
   "id": "53",
   "metadata": {},
   "source": [
    "Until now, we have either created a completely random climate or very clean and predictable trends.\n",
    "The next step is, of course, to combine the methods to create trends that also have some random variability to them.\n",
    "\n",
    "We will demonstrate this by manually creating a linear trend and then adding some noise to it."
   ]
  },
  {
   "cell_type": "code",
   "execution_count": null,
   "id": "54",
   "metadata": {},
   "outputs": [],
   "source": [
    "glacier.reset()"
   ]
  },
  {
   "cell_type": "code",
   "execution_count": null,
   "id": "55",
   "metadata": {},
   "outputs": [],
   "source": [
    "# Create a linear trend, from 0 to 2 degrees in 200 years\n",
    "trend = np.linspace(0, 2, 200)\n",
    "# And some noise. Interannual variability of +- 2 degrees \n",
    "noise = (np.random.rand(200) * 4) - 2\n",
    "# Add the noise to the trend\n",
    "bias = trend + noise"
   ]
  },
  {
   "cell_type": "markdown",
   "id": "56",
   "metadata": {},
   "source": [
    "We first add only some noise to get a noisy \"spin up\" of the glacier."
   ]
  },
  {
   "cell_type": "code",
   "execution_count": null,
   "id": "57",
   "metadata": {},
   "outputs": [],
   "source": [
    "noise = (np.random.rand(500) * 4) - 2\n",
    "glacier.mass_balance.temp_bias_series = noise"
   ]
  },
  {
   "cell_type": "markdown",
   "id": "58",
   "metadata": {},
   "source": [
    "Then lets add the trend, remember that this will append to the future of the climate."
   ]
  },
  {
   "cell_type": "code",
   "execution_count": null,
   "id": "59",
   "metadata": {},
   "outputs": [],
   "source": [
    "glacier.mass_balance.temp_bias_series = bias"
   ]
  },
  {
   "cell_type": "markdown",
   "id": "60",
   "metadata": {},
   "source": [
    "Progress to the end of the climate data."
   ]
  },
  {
   "cell_type": "code",
   "execution_count": null,
   "id": "61",
   "metadata": {},
   "outputs": [],
   "source": [
    "glacier.progress_to_year(700)"
   ]
  },
  {
   "cell_type": "markdown",
   "id": "62",
   "metadata": {},
   "source": [
    "<div class=\"alert alert-info\">\n",
    "    <b>Again, try running the cell below with different values for the window size.</b>\n",
    "</div>"
   ]
  },
  {
   "cell_type": "code",
   "execution_count": null,
   "id": "63",
   "metadata": {},
   "outputs": [],
   "source": [
    "glacier.plot_history(show_bias=True)"
   ]
  },
  {
   "cell_type": "markdown",
   "id": "64",
   "metadata": {},
   "source": [
    "Conveniently, the `.add_temperature_bias` has an argument which adds noise to the trend."
   ]
  },
  {
   "cell_type": "code",
   "execution_count": null,
   "id": "65",
   "metadata": {},
   "outputs": [],
   "source": [
    "glacier.reset()"
   ]
  },
  {
   "cell_type": "code",
   "execution_count": null,
   "id": "66",
   "metadata": {},
   "outputs": [],
   "source": [
    "glacier.add_temperature_bias(bias=2., duration=500, noise=(-2, 2))"
   ]
  },
  {
   "cell_type": "code",
   "execution_count": null,
   "id": "67",
   "metadata": {},
   "outputs": [],
   "source": [
    "glacier.progress_to_year(500)"
   ]
  },
  {
   "cell_type": "code",
   "execution_count": null,
   "id": "68",
   "metadata": {},
   "outputs": [],
   "source": [
    "glacier.plot_history(show_bias=True)"
   ]
  },
  {
   "cell_type": "markdown",
   "id": "69",
   "metadata": {},
   "source": [
    "Now you should have the tools to create your own climates for OGGM-Edu glaciers and see how they filter the climate."
   ]
  },
  {
   "cell_type": "markdown",
   "id": "70",
   "metadata": {},
   "source": [
    "## What's next?"
   ]
  },
  {
   "cell_type": "markdown",
   "id": "71",
   "metadata": {},
   "source": [
    "[Back to the table of contents](../welcome.ipynb)"
   ]
  }
 ],
 "metadata": {
  "kernelspec": {
   "display_name": "Python 3 (ipykernel)",
   "language": "python",
   "name": "python3"
  },
  "language_info": {
   "codemirror_mode": {
    "name": "ipython",
    "version": 3
   },
   "file_extension": ".py",
   "mimetype": "text/x-python",
   "name": "python",
   "nbconvert_exporter": "python",
   "pygments_lexer": "ipython3",
   "version": "3.12.4"
  }
 },
 "nbformat": 4,
 "nbformat_minor": 5
}
