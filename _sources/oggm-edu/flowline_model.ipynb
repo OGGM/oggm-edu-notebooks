{
 "cells": [
  {
   "cell_type": "markdown",
   "metadata": {},
   "source": [
    "# Getting started with flowline models: idealised glaciers"
   ]
  },
  {
   "cell_type": "markdown",
   "metadata": {},
   "source": [
    "OGGM employs what is known as a flowline model to simulate the evolution of glaciers. What this means is that the model represents the glacier as a group of lines along which the ice flows down the mountain. The flowlines connect on to, or branch off, each other forming a system along which the ice flows. \n",
    "\n",
    "In the model the flowlines are divided into finite boxes, each containing a part of the ice that makes up the glacier. The size of a box depends on how wide and deep the glacier is at the location. The model then calculates how much ice flows in to the box from boxes above and how much ice that leaves the box and goes into boxes below.\n",
    "\n",
    "The goal of this notebook is to further explain the concept of flowlines and how they are used to model glaciers. We will do this by simulating two idealised glaciers.\n",
    "\n",
    "We begin by importing the libraries we are going to need:"
   ]
  },
  {
   "cell_type": "code",
   "execution_count": null,
   "metadata": {},
   "outputs": [],
   "source": [
    "# Plotting libraries and plot style\n",
    "import matplotlib.pyplot as plt\n",
    "%matplotlib inline\n",
    "\n",
    "import seaborn as sns\n",
    "sns.set_context('notebook')\n",
    "sns.set_style('ticks')\n",
    "plt.rcParams['figure.figsize'] = (7, 5)\n",
    "\n",
    "# Scientific packages\n",
    "import numpy as np\n",
    "\n",
    "# Constants\n",
    "from oggm import cfg\n",
    "cfg.initialize_minimal()\n",
    "\n",
    "# Mass-balance model\n",
    "from oggm.core.massbalance import LinearMassBalance\n",
    "# There are several numerical implementations in the OGGM core. \n",
    "# We use the \"FluxBasedModel\"\n",
    "from oggm.core.flowline import FluxBasedModel as FlowlineModel\n",
    "# Glacier shape\n",
    "from oggm.core.flowline import RectangularBedFlowline"
   ]
  },
  {
   "cell_type": "markdown",
   "metadata": {},
   "source": [
    "## First steps"
   ]
  },
  {
   "cell_type": "markdown",
   "metadata": {},
   "source": [
    "In our first experiment we want to create a glacier as simple as possible, this means a flat glacier bed with a constant slope.\n",
    "\n",
    "### The glacier bed\n",
    "First we define some model parameters: the the resolution and spacing between the grid points:"
   ]
  },
  {
   "cell_type": "code",
   "execution_count": null,
   "metadata": {},
   "outputs": [],
   "source": [
    "# Define horizontal resolution of the model:\n",
    "# nx: number of grid points\n",
    "nx = 200\n",
    "# map_dx: grid point spacing in meters\n",
    "map_dx = 100"
   ]
  },
  {
   "cell_type": "markdown",
   "metadata": {},
   "source": [
    "Then we define the altitude at the top and bottom of the glacier"
   ]
  },
  {
   "cell_type": "code",
   "execution_count": null,
   "metadata": {},
   "outputs": [],
   "source": [
    "# Define glacier top and bottom altitudes (in meters)\n",
    "top = 3400\n",
    "bottom = 1400"
   ]
  },
  {
   "cell_type": "markdown",
   "metadata": {},
   "source": [
    "With this information we can create the profile of our glacier bed, or the bedrock. This is simply `nx` linearly spaced altitudes between `top` and `bottom`.  "
   ]
  },
  {
   "cell_type": "code",
   "execution_count": null,
   "metadata": {},
   "outputs": [],
   "source": [
    "# We want nx number of linearly spaced altitudes between the top and\n",
    "# bottom altitude.\n",
    "bed_h = np.linspace(top, bottom, nx)"
   ]
  },
  {
   "cell_type": "markdown",
   "metadata": {},
   "source": [
    "Before we have any ice and snow in our \"glacier\" the surface height is simply the same the height of the bed"
   ]
  },
  {
   "cell_type": "code",
   "execution_count": null,
   "metadata": {},
   "outputs": [],
   "source": [
    "surface_h = bed_h"
   ]
  },
  {
   "cell_type": "markdown",
   "metadata": {},
   "source": [
    "Let's plot the bed to make sure that it looks like we expect. For this we will also calculate the distance along the glacier, a simple function of the number of grid points and the spacing between them."
   ]
  },
  {
   "cell_type": "code",
   "execution_count": null,
   "metadata": {},
   "outputs": [],
   "source": [
    "# This gives us an array with the distances from\n",
    "# the top of the glacier.\n",
    "distance_along_glacier = np.linspace(0, nx, nx) * map_dx * 1e-3"
   ]
  },
  {
   "cell_type": "code",
   "execution_count": null,
   "metadata": {},
   "outputs": [],
   "source": [
    "# Plot the glacier bedrock profile and the initial glacier\n",
    "# surface.\n",
    "plt.plot(distance_along_glacier, surface_h, label='Initial glacier sfc height')\n",
    "plt.plot(distance_along_glacier, bed_h, c='black', ls=':', label='Bed height')\n",
    "plt.xlabel('Distance along glacier (km)')\n",
    "plt.ylabel('Altitude (m)')\n",
    "plt.title('Altitude to length of the glacier')\n",
    "plt.legend();"
   ]
  },
  {
   "cell_type": "markdown",
   "metadata": {},
   "source": [
    "As we can see, the bedrock is a flat slope with a constant angle between the top and bottom of the glacier.\n",
    "\n",
    "### Glacier width\n",
    "\n",
    "The next step is to decide how wide our glacier is and what the *shape* of the bed is. Since we're aiming for a simple glacier, we will use a rectangular \"u-shaped\" bed with a constant width of 300 meters. For more infor on bed shapes see the [documentation](http://docs.oggm.org/en/stable/ice-dynamics.html#rectangular)."
   ]
  },
  {
   "cell_type": "code",
   "execution_count": null,
   "metadata": {},
   "outputs": [],
   "source": [
    "# Width in meters\n",
    "initial_width = 300\n",
    "# Now assign the widths to grid points which the model can use. We have\n",
    "# nx grid points all of which have the value of the initial width\n",
    "widths = np.zeros(nx) + initial_width\n",
    "# Divide by map_dx to get the widths in \"map units\"\n",
    "widths = widths / map_dx"
   ]
  },
  {
   "cell_type": "markdown",
   "metadata": {},
   "source": [
    "### Glacier flowline initialisation\n",
    "\n",
    "We can now take our bed and initialise a flowline object which OGGM uses in the simulation of the glacier."
   ]
  },
  {
   "cell_type": "code",
   "execution_count": null,
   "metadata": {},
   "outputs": [],
   "source": [
    "#Define our bed\n",
    "initial_flowline = RectangularBedFlowline(surface_h=surface_h, bed_h=bed_h,\n",
    "                                          widths=widths, map_dx=map_dx)"
   ]
  },
  {
   "cell_type": "markdown",
   "metadata": {},
   "source": [
    "The `initial_flowline` object contains all geometrical information needed by the model. We can access some of the attributes of the flowline. However since the glacier doesn't exist at the moment, they will be zero."
   ]
  },
  {
   "cell_type": "code",
   "execution_count": null,
   "metadata": {},
   "outputs": [],
   "source": [
    "print('Glacier length:', initial_flowline.length_m)\n",
    "print('Glacier area:', initial_flowline.area_km2)\n",
    "print('Glacier volume:', initial_flowline.volume_km3)"
   ]
  },
  {
   "cell_type": "markdown",
   "metadata": {},
   "source": [
    "### Mass balance\n",
    "\n",
    "For the glacier to grow it needs a mass balance model. The mass balance model is responsible for adding snow and removing ice through melt on the glacier. In our case it will be a simple linear mass balance model, which is defined by the equilibrium line altitude (ELA) and an altitude gradient (in mm yr$^{-1}$ m$^{-1}$). The ELA defines at what altitude the mass balance is zero and the altitude gradient how much the mass balance changes with altitude. **More on this in upcoming notebooks!**\n",
    "\n",
    "We set the ELA of our glacier to 3000 meters and the altitude gradient to 4 mm yr$^{-1}$ m$^{-1}$."
   ]
  },
  {
   "cell_type": "code",
   "execution_count": null,
   "metadata": {},
   "outputs": [],
   "source": [
    "# Equilibrium line altitude in meters above sea level\n",
    "ELA = 3000\n",
    "# Altitude gradient in mm/m\n",
    "altgrad = 4\n",
    "# Initialise the mass balance model.\n",
    "mb_model = LinearMassBalance(ELA, grad=altgrad)"
   ]
  },
  {
   "cell_type": "markdown",
   "metadata": {},
   "source": [
    "The OGGM mass balance model computes the mass balance for any given altitude.  It uses the unit meters of ice per time (m s$^{-1}$), a unit which is simpler to use for the dynamical part of the model.\n",
    "\n",
    "Let us compute the *annual* mass balance along the glacier profile and plot it:"
   ]
  },
  {
   "cell_type": "code",
   "execution_count": null,
   "metadata": {},
   "outputs": [],
   "source": [
    "# Calculate the mass balance along the surface of the glacier.\n",
    "# Since the get_annual_mb return the change per second we multiply with\n",
    "# the number of seconds in a year.\n",
    "annual_mb = mb_model.get_annual_mb(surface_h) * cfg.SEC_IN_YEAR"
   ]
  },
  {
   "cell_type": "code",
   "execution_count": null,
   "metadata": {},
   "outputs": [],
   "source": [
    "# Plot it\n",
    "plt.plot(annual_mb, bed_h, color='C2', label='Mass balance')\n",
    "plt.xlabel('Annual mass balance (m yr-1)')\n",
    "plt.ylabel('Altitude (m)')\n",
    "plt.legend(loc='best')\n",
    "# Display equilibrium line altitude, where annual mass balance = 0\n",
    "plt.axvline(x=0, color='k', linestyle='--', linewidth=0.8)\n",
    "plt.axhline(y=mb_model.ela_h, color='k', linestyle='--', linewidth=0.8);\n",
    "plt.title('Mass balance profile');"
   ]
  },
  {
   "cell_type": "markdown",
   "metadata": {},
   "source": [
    "### Model run\n",
    "\n",
    "Now we have all the ingredients needed to run the model on our glacier. We begin by initialising the `FlowlineModel` object, which requires the initial flowline, the mass balance model and a year (Since our glacier is just starting out, we begin at year 0)."
   ]
  },
  {
   "cell_type": "code",
   "execution_count": null,
   "metadata": {},
   "outputs": [],
   "source": [
    "# The model requires the initial glacier bed, a mass balance model,\n",
    "# and an initial time (the year y0)\n",
    "model = FlowlineModel(initial_flowline, mb_model=mb_model, y0=0.)"
   ]
  },
  {
   "cell_type": "markdown",
   "metadata": {},
   "source": [
    "Let's first run the model for one year:"
   ]
  },
  {
   "cell_type": "code",
   "execution_count": null,
   "metadata": {},
   "outputs": [],
   "source": [
    "# We want to run the model until year 1. \n",
    "year = 1\n",
    "model.run_until(year)"
   ]
  },
  {
   "cell_type": "markdown",
   "metadata": {},
   "source": [
    "And let's plot the glacier after one year"
   ]
  },
  {
   "cell_type": "code",
   "execution_count": null,
   "metadata": {},
   "outputs": [],
   "source": [
    "# Plot the initial glacier.\n",
    "plt.plot(distance_along_glacier, initial_flowline.surface_h,\n",
    "         label='Initial glacier')\n",
    "# Retreive the new flowline from the model and plot it. Glaciers in OGGM can\n",
    "# have multiple flowlines, but currently we only have one.\n",
    "current_flowline = model.fls[0]\n",
    "# Plot the new surface height\n",
    "plt.plot(distance_along_glacier, current_flowline.surface_h,\n",
    "        label=f'Glacier after {model.yr} years')\n",
    "# Plot the equilibrium line altitude\n",
    "plt.axhline(mb_model.ela_h, linestyle='--', color='k', linewidth=0.8)\n",
    "# Add the bedrock and axes labels:\n",
    "plt.plot(distance_along_glacier, bed_h, color='k', label='Bedrock',\n",
    "         linestyle=':', linewidth=1.5)\n",
    "plt.xlabel('Distance along glacier (km)')\n",
    "plt.ylabel('Altitude (m)')\n",
    "plt.title('Altitude to length of the glacier')\n",
    "plt.legend();\n"
   ]
  },
  {
   "cell_type": "markdown",
   "metadata": {},
   "source": [
    "This doesn't look much, is there even a glacier growing? We can also take a look at some of statistics of the glacier to get some more details:"
   ]
  },
  {
   "cell_type": "code",
   "execution_count": null,
   "metadata": {},
   "outputs": [],
   "source": [
    "print('Year:', model.yr)\n",
    "print('Glacier length (m):', model.length_m)\n",
    "print('Glacier area (km2):', model.area_km2)\n",
    "print('Glacier volume (km3):', model.volume_km3)"
   ]
  },
  {
   "cell_type": "markdown",
   "metadata": {},
   "source": [
    "From the statistics we can read that the glacier has a length of 4 km and covers an area of 1.2 km$^2$. The reason we can't see it in the plot above is because it is very thin. We can take a look at the thickness by first removing the bed height:"
   ]
  },
  {
   "cell_type": "code",
   "execution_count": null,
   "metadata": {},
   "outputs": [],
   "source": [
    "# Remove the bed height from the surface height and plot it along the glacier\n",
    "# to show the ice thickness.\n",
    "plt.plot(distance_along_glacier,\n",
    "         current_flowline.surface_h - current_flowline.bed_h)\n",
    "plt.xlabel('Distance along glacier (km)')\n",
    "plt.ylabel('Ice thickness (m)');\n",
    "plt.title('Ice thickness to distance of the glacier');"
   ]
  },
  {
   "cell_type": "markdown",
   "metadata": {},
   "source": [
    "Here we can see that there is thin cover of ice from the top of the glacier to 4 km down the glacier. This means that the glacier almost reaches the point where the glacier crosses the ELA (~5 km).\n",
    "\n",
    "The glacier will grow considerably in the upcoming years, and the ice thickness should become apparent even in the altitude - distance plot. Let us run the model until year 150 and take a look at the output."
   ]
  },
  {
   "cell_type": "code",
   "execution_count": null,
   "metadata": {},
   "outputs": [],
   "source": [
    "# Run the model until year 150\n",
    "year = 150\n",
    "model.run_until(year)"
   ]
  },
  {
   "cell_type": "markdown",
   "metadata": {},
   "source": [
    "Plot the glacier:"
   ]
  },
  {
   "cell_type": "code",
   "execution_count": null,
   "metadata": {},
   "outputs": [],
   "source": [
    "# Plot the initial glacier.\n",
    "plt.plot(distance_along_glacier, initial_flowline.surface_h,\n",
    "         label='Initial glacier')\n",
    "# Retreive the new flowline from the model and plot it. Glaciers in OGGM can\n",
    "# have multiple flowlines, but currently we only have one.\n",
    "current_flowline = model.fls[0]\n",
    "# Plot the new surface height\n",
    "plt.plot(distance_along_glacier, current_flowline.surface_h,\n",
    "        label=f'Glacier after {model.yr} years')\n",
    "# Plot the equilibrium line altitude\n",
    "plt.axhline(mb_model.ela_h, linestyle='--', color='k', linewidth=0.8)\n",
    "# Add the bedrock and axes labels:\n",
    "plt.plot(distance_along_glacier, bed_h, color='k', label='Bedrock',\n",
    "         linestyle=':', linewidth=1.5)\n",
    "plt.xlabel('Distance along glacier (km)')\n",
    "plt.ylabel('Altitude (m)')\n",
    "plt.title('Altitude to length of the glacier')\n",
    "plt.legend();\n"
   ]
  },
  {
   "cell_type": "markdown",
   "metadata": {},
   "source": [
    "Now we can clearly see the difference between the surface of the glacier and the bedrock/initial surface height. Let's print the same statistics about the glacier as before:"
   ]
  },
  {
   "cell_type": "code",
   "execution_count": null,
   "metadata": {},
   "outputs": [],
   "source": [
    "print('Year:', model.yr)\n",
    "print('Glacier length (m):', model.length_m)\n",
    "print('Glacier area (km2):', model.area_km2)\n",
    "print('Glacier volume (km3):', model.volume_km3)"
   ]
  },
  {
   "cell_type": "markdown",
   "metadata": {},
   "source": [
    "The glacier length and area has increased by ~20% while the volume has increased by more than 1000%. This is because the glacier has to build enough mass (or ice thickness) before it can begin to flow downhill and increase its length.\n",
    "\n",
    "Note that the model time is now at year 150. Running the model with the same input again calls the already calculated results and does not execute the method `model.run_until` again."
   ]
  },
  {
   "cell_type": "code",
   "execution_count": null,
   "metadata": {},
   "outputs": [],
   "source": [
    "model.run_until(150)\n",
    "print('Year:', model.yr)\n",
    "print('Glacier length (m):', model.length_m)"
   ]
  },
  {
   "cell_type": "markdown",
   "metadata": {},
   "source": [
    "If we want to simulate the glacier even longer, we have to set the specify the desired year and the model will compute the missing years."
   ]
  },
  {
   "cell_type": "code",
   "execution_count": null,
   "metadata": {},
   "outputs": [],
   "source": [
    "# Run the model until year 500.\n",
    "year = 500\n",
    "model.run_until(year)"
   ]
  },
  {
   "cell_type": "code",
   "execution_count": null,
   "metadata": {},
   "outputs": [],
   "source": [
    "# Plot the initial glacier.\n",
    "plt.plot(distance_along_glacier, initial_flowline.surface_h,\n",
    "         label='Initial glacier')\n",
    "# Retreive the new flowline from the model and plot it. Glaciers in OGGM can\n",
    "# have multiple flowlines, but currently we only have one.\n",
    "current_flowline = model.fls[0]\n",
    "# Plot the new surface height\n",
    "plt.plot(distance_along_glacier, current_flowline.surface_h,\n",
    "        label=f'Glacier after {model.yr} years')\n",
    "# Plot the equilibrium line altitude\n",
    "plt.axhline(mb_model.ela_h, linestyle='--', color='k', linewidth=0.8)\n",
    "# Add the bedrock and axes labels:\n",
    "plt.plot(distance_along_glacier, bed_h, color='k', label='Bedrock',\n",
    "         linestyle=':', linewidth=1.5)\n",
    "plt.xlabel('Distance along glacier (km)')\n",
    "plt.ylabel('Altitude (m)')\n",
    "plt.title('Altitude to length of the glacier')\n",
    "plt.legend();\n"
   ]
  },
  {
   "cell_type": "code",
   "execution_count": null,
   "metadata": {},
   "outputs": [],
   "source": [
    "print('Year:', model.yr)\n",
    "print('Glacier length (m):', model.length_m)\n",
    "print('Glacier area (km2):', model.area_km2)\n",
    "print('Glacier volume (km3):', model.volume_km3)"
   ]
  },
  {
   "cell_type": "markdown",
   "metadata": {},
   "source": [
    "The glaciers has now grown considerably further down our made up mountain, well below the ELA.\n",
    "\n",
    "It is important to note that the model will not calculate back in time.\n",
    "Once calculated for year 500, the model will not run again for year 450 and will remain at year 500. Try running the cell below.  Does the output match what you expected?"
   ]
  },
  {
   "cell_type": "code",
   "execution_count": null,
   "metadata": {},
   "outputs": [],
   "source": [
    "model.run_until(450)\n",
    "print('Year:', model.yr)\n",
    "print('Glacier length (m):', model.length_m)"
   ]
  },
  {
   "cell_type": "markdown",
   "metadata": {},
   "source": [
    "## Starting over\n",
    "It might be useful to store some intermediate steps of the evolution of the glacier for diagnostics. We do this by running the steps we did above in a loop and saving the length and volume in separate arrays. First we have to re-initialise the model:"
   ]
  },
  {
   "cell_type": "code",
   "execution_count": null,
   "metadata": {},
   "outputs": [],
   "source": [
    "# Reinitialise the model\n",
    "model = FlowlineModel(initial_flowline, mb_model=mb_model, y0=0.)\n",
    "\n",
    "# Array with year 0 to 600 in 5 year steps.\n",
    "yrs = np.arange(0, 601, 5) \n",
    "\n",
    "# Arrays in which we store the data.\n",
    "nsteps = len(yrs)\n",
    "length = np.zeros(nsteps)\n",
    "vol = np.zeros(nsteps)\n",
    "\n",
    "# Loop over the years.\n",
    "for i, yr in enumerate(yrs):\n",
    "    model.run_until(yr)\n",
    "    length[i] = model.length_m\n",
    "    vol[i] = model.volume_km3\n",
    "\n",
    "# Store the final glacier for later use\n",
    "simple_glacier = model.fls[0]"
   ]
  },
  {
   "cell_type": "markdown",
   "metadata": {},
   "source": [
    "We can now plot the evolution of the glacier length and volume with time:"
   ]
  },
  {
   "cell_type": "code",
   "execution_count": null,
   "metadata": {},
   "outputs": [],
   "source": [
    "# Create two subplots.\n",
    "f, (ax1, ax2) = plt.subplots(1, 2, figsize=(14, 5))\n",
    "ax1.plot(yrs, length);\n",
    "ax1.set_xlabel('Years'); ax1.set_ylabel('Length (m)');\n",
    "ax2.plot(yrs, vol);\n",
    "ax2.set_xlabel('Years'); ax2.set_ylabel('Volume (km3)');\n",
    "f.suptitle('Time evolution of the length and volume');"
   ]
  },
  {
   "cell_type": "markdown",
   "metadata": {},
   "source": [
    "The glacier length exhibits a step function in the first year of simulation. This is because above the ELA, only accumulation takes places and OGGM currently does not differentiate between ice and snow. This means that all snow above the ELA from the first winter creates a bump in the length.\n",
    "\n",
    "After the first year, the glacier's length remains at first constant. This behaviour can be explained by the fact that above the ELA, the mass balance is positive, no matter how large the glacier is. In this initial stage, the ice is so thin that any flow bringing ice below the ELA will not be large enough to compensate for the high ablation rate, and any ice melts away.\n",
    "\n",
    "When the ice thickness has increased enough for the ice flow surpass the ablation rate below the ELA, the glacier length can begin to increase. "
   ]
  },
  {
   "cell_type": "code",
   "execution_count": null,
   "metadata": {},
   "outputs": [],
   "source": [
    "'Glacier length from the top to the equilibrium line altitude ('+str(mb_model.ela_h)+' m) is: {} m'.format(length[1])"
   ]
  },
  {
   "cell_type": "markdown",
   "metadata": {},
   "source": [
    "After several centuries, the glacier reaches a balance with its climate. This means that its length and volume won't change anymore, as long as all physical parameters and the climate stay constant."
   ]
  },
  {
   "cell_type": "markdown",
   "metadata": {},
   "source": [
    "## A first experiment "
   ]
  },
  {
   "cell_type": "markdown",
   "metadata": {},
   "source": [
    "We have now seen how to setup a simple glacier and simulate it for any number of years. Now we will move a little bit closer to reality and define a glacier with changing widths. Like many real glaciers the new glacier will be wider at the top (in the accumulation area) and have a constant width below the ELA."
   ]
  },
  {
   "cell_type": "code",
   "execution_count": null,
   "metadata": {},
   "outputs": [],
   "source": [
    "# We simply overwrite the widths we have from earlier.\n",
    "# We now make our glacier 600 m wide at the top\n",
    "upper_width = 600\n",
    "# Convert the width in meters to width in \"grid units\", like before,\n",
    "# and rewrite the first few points\n",
    "widths[0:15] = upper_width / map_dx\n",
    "# Define our new bed\n",
    "wide_narrow_flowline = RectangularBedFlowline(surface_h=surface_h, bed_h=bed_h,\n",
    "                                              widths=widths, map_dx=map_dx)"
   ]
  },
  {
   "cell_type": "markdown",
   "metadata": {},
   "source": [
    "We will now run our model with the new initial conditions (again for 600 years), and store the length and area in separate arrays for comparison:"
   ]
  },
  {
   "cell_type": "code",
   "execution_count": null,
   "metadata": {},
   "outputs": [],
   "source": [
    "# Reinitialise the model with the new input\n",
    "model = FlowlineModel(wide_narrow_flowline, mb_model=mb_model, y0=0.)\n",
    "\n",
    "# Array to fill with data\n",
    "nsteps = len(yrs)\n",
    "length_w = np.zeros(nsteps)\n",
    "vol_w = np.zeros(nsteps)\n",
    "\n",
    "# Loop over the years\n",
    "for i, yr in enumerate(yrs):\n",
    "    model.run_until(yr)\n",
    "    length_w[i] = model.length_m\n",
    "    vol_w[i] = model.volume_km3\n",
    "\n",
    "# Store the final results for later use\n",
    "wide_narrow_glacier = model.fls[0]"
   ]
  },
  {
   "cell_type": "markdown",
   "metadata": {},
   "source": [
    "Plot the simple glacier and the wide-narrow glacier to compare the results:"
   ]
  },
  {
   "cell_type": "code",
   "execution_count": null,
   "metadata": {},
   "outputs": [],
   "source": [
    "# Plot the final result:\n",
    "plt.plot(distance_along_glacier, simple_glacier.surface_h,\n",
    "         label='Simple glacier')\n",
    "plt.plot(distance_along_glacier, wide_narrow_glacier.surface_h,\n",
    "         label='Wide-narrow glacier')\n",
    "# Add the bedrock\n",
    "plt.plot(distance_along_glacier, bed_h, label='Bedrock', ls=':', c='k')\n",
    "plt.xlabel('Distance along glacier (km)')\n",
    "plt.ylabel('Altitude (m)')\n",
    "plt.title(f'Glacier states after {model.yr} years')\n",
    "plt.legend();"
   ]
  },
  {
   "cell_type": "markdown",
   "metadata": {},
   "source": [
    "<div class=\"alert alert-success\">\n",
    "    <details><summary><b>The glacier with a wider accumulation area is longer compared to the simple glacier area at year 600. With what you've learned so far in this notebook, can you come up with an explanation to why?</b> <i>Click for a hint</i></summary>\n",
    "    With a wider accumulation area the glacier mass above the ELA will increase quicker and the flow of ice to below the ELA will be larger compared to the glacier with a smaller accumulation area.\n",
    "    </details>\n",
    "</div>\n",
    "\n",
    "Below is the evolution of the length and volume with respect to time of the two glaciers."
   ]
  },
  {
   "cell_type": "code",
   "execution_count": null,
   "metadata": {},
   "outputs": [],
   "source": [
    "f, (ax1, ax2) = plt.subplots(1, 2, figsize=(14, 5))\n",
    "ax1.plot(yrs, length, label='Simple glacier');\n",
    "ax1.plot(yrs, length_w, label='Wide-narrow glacier');\n",
    "ax1.legend(loc='best')\n",
    "ax1.set_xlabel('Years')\n",
    "ax1.set_ylabel('Length (m)');\n",
    "ax2.plot(yrs, vol, label='Simple glacier');\n",
    "ax2.plot(yrs, vol_w, label='Wide-narrow glacier');\n",
    "ax2.legend(loc='best')\n",
    "ax2.set_xlabel('Years')\n",
    "ax2.set_ylabel('Volume (km3)');\n",
    "f.suptitle('Time evolution of the length and volume of the two glaciers');"
   ]
  },
  {
   "cell_type": "markdown",
   "metadata": {},
   "source": [
    "## What's next?"
   ]
  },
  {
   "cell_type": "markdown",
   "metadata": {},
   "source": [
    "[Back to the table of contents](../welcome.ipynb)"
   ]
  }
 ],
 "metadata": {
  "hide_input": false,
  "kernelspec": {
   "display_name": "Python 3 (ipykernel)",
   "language": "python",
   "name": "python3"
  },
  "language_info": {
   "codemirror_mode": {
    "name": "ipython",
    "version": 3
   },
   "file_extension": ".py",
   "mimetype": "text/x-python",
   "name": "python",
   "nbconvert_exporter": "python",
   "pygments_lexer": "ipython3",
   "version": "3.8.3"
  },
  "toc": {
   "base_numbering": 1,
   "nav_menu": {},
   "number_sections": false,
   "sideBar": true,
   "skip_h1_title": true,
   "title_cell": "Table of Contents",
   "title_sidebar": "Contents",
   "toc_cell": false,
   "toc_position": {},
   "toc_section_display": true,
   "toc_window_display": false
  }
 },
 "nbformat": 4,
 "nbformat_minor": 4
}
