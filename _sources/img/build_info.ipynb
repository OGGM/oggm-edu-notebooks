{
 "cells": [
  {
   "cell_type": "markdown",
   "id": "c5fb7d5b-688d-4102-817a-0f5b1e751c64",
   "metadata": {},
   "source": [
    "# Build information & package versions"
   ]
  },
  {
   "cell_type": "code",
   "execution_count": null,
   "id": "1ebc35f3-6446-4d5b-972b-589130c009d1",
   "metadata": {},
   "outputs": [],
   "source": [
    "from oggm.utils import show_versions\n",
    "print(show_versions())"
   ]
  },
  {
   "cell_type": "code",
   "execution_count": null,
   "id": "39094c00-8ea2-4592-9f45-cc2627759612",
   "metadata": {},
   "outputs": [],
   "source": [
    "!jupyter --version"
   ]
  }
 ],
 "metadata": {
  "kernelspec": {
   "display_name": "Python 3 (ipykernel)",
   "language": "python",
   "name": "python3"
  },
  "language_info": {
   "codemirror_mode": {
    "name": "ipython",
    "version": 3
   },
   "file_extension": ".py",
   "mimetype": "text/x-python",
   "name": "python",
   "nbconvert_exporter": "python",
   "pygments_lexer": "ipython3",
   "version": "3.10.8"
  }
 },
 "nbformat": 4,
 "nbformat_minor": 5
}
