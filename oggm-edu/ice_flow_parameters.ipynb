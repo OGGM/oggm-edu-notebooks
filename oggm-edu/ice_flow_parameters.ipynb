{
 "cells": [
  {
   "cell_type": "markdown",
   "metadata": {},
   "source": [
    "# Influence of ice flow parameters on glacier size"
   ]
  },
  {
   "cell_type": "markdown",
   "metadata": {},
   "source": [
    "Goals of this notebook:\n",
    "\n",
    "- The student will be able to run OGGM with changed Glen's creep parameter and basal sliding parameters.\n",
    "- The student will be able to explain the influences of the two parameters on glacier shape."
   ]
  },
  {
   "cell_type": "markdown",
   "metadata": {},
   "source": [
    "The motion of glaciers is determined by two main processes: One is internal deformation of ice due to gravity and the other is basal sliding. These processes can be described by parameters. In this notebook we will examine their influence on glaciers."
   ]
  },
  {
   "cell_type": "markdown",
   "metadata": {},
   "source": [
    "First, we have to import all needed modules:"
   ]
  },
  {
   "cell_type": "code",
   "execution_count": null,
   "metadata": {},
   "outputs": [],
   "source": [
    "# Plotting libraries and plot style\n",
    "import matplotlib.pyplot as plt\n",
    "%matplotlib inline\n",
    "\n",
    "import seaborn as sns\n",
    "sns.set_context('notebook')\n",
    "sns.set_style('ticks')\n",
    "\n",
    "# Scientific packages\n",
    "import numpy as np\n",
    "\n",
    "# Constants\n",
    "from oggm import cfg\n",
    "cfg.initialize_minimal()\n",
    "\n",
    "# Mass-balance model\n",
    "from oggm.core.massbalance import LinearMassBalance\n",
    "# Glacier shape\n",
    "from oggm.core.flowline import RectangularBedFlowline\n",
    "\n",
    "# OGGM Edu helper functions\n",
    "import oggm_edu as edu"
   ]
  },
  {
   "cell_type": "markdown",
   "metadata": {},
   "source": [
    "## Glen's creep parameter"
   ]
  },
  {
   "cell_type": "markdown",
   "metadata": {},
   "source": [
    "We start with the internal deformation which results in creeping of a glacier. To describe it we use  Glens's creep parameter. The default in OGGM is to set Glen's creep parameter `A` to the \"standard value\" defined by Cuffey and Paterson[¹](#References):"
   ]
  },
  {
   "cell_type": "code",
   "execution_count": null,
   "metadata": {},
   "outputs": [],
   "source": [
    "# Default in OGGM\n",
    "A = cfg.PARAMS['glen_a']\n",
    "print(A)"
   ]
  },
  {
   "cell_type": "markdown",
   "metadata": {},
   "source": [
    "The parameter relates shear stress to the rate of deformation and is assumed to be constant. It depends on crystal size, fabric, concentration and type of impurities, as well as on ice temperature[²](#References)\n",
    "(you can find a more detailed description of it [here](http://www.antarcticglaciers.org/modern-glaciers/glacier-flow-2/glacier-flow-ii-stress-and-strain/)). In the following we will change it and see what happens.\n",
    "\n",
    "Therefore we have to define the bedrock and a grid (see [getting started with flowline models](flowline_model.ipynb)) to generate a set-up for our experiment."
   ]
  },
  {
   "cell_type": "code",
   "execution_count": null,
   "metadata": {},
   "outputs": [],
   "source": [
    "# This is the bed rock, linearily decreasing from 3400 m altitude to 1400 m, in 200 steps\n",
    "nx = 200\n",
    "bed_h = np.linspace(3400, 1400, nx)\n",
    "\n",
    "# At the beginning, there is no glacier so our glacier surface is at the bed altitude\n",
    "surface_h = bed_h\n",
    "\n",
    "# Let's set the model grid spacing to 100 m \n",
    "map_dx = 100\n",
    "\n",
    "# Calculate the corresponding distance along the glacier (from the top)\n",
    "distance_along_glacier = np.linspace(0, nx, nx) * 0.1  # in km \n",
    "\n",
    "# The units of widths is in \"grid points\", i.e. 3 grid points = 300 m in our case\n",
    "widths = np.zeros(nx) + 3\n",
    "\n",
    "# Define our bed\n",
    "init_flowline = RectangularBedFlowline(surface_h=surface_h, bed_h=bed_h, widths=widths, map_dx=map_dx)"
   ]
  },
  {
   "cell_type": "markdown",
   "metadata": {},
   "source": [
    "Define the equilibrium line altitude (ELA):"
   ]
  },
  {
   "cell_type": "code",
   "execution_count": null,
   "metadata": {},
   "outputs": [],
   "source": [
    "# ELA at 3000m a.s.l., gradient 4 mm m-1\n",
    "mb_model = LinearMassBalance(3000, grad=4)"
   ]
  },
  {
   "cell_type": "markdown",
   "metadata": {},
   "source": [
    "Now we can calculate the evolution of the glacier with the default parameter:"
   ]
  },
  {
   "cell_type": "code",
   "execution_count": null,
   "metadata": {},
   "outputs": [],
   "source": [
    "# Define the time span for the model (you can change the number of years if you want)\n",
    "years = 600\n",
    "# and Glen's parameter A\n",
    "A = cfg.PARAMS['glen_a']"
   ]
  },
  {
   "cell_type": "code",
   "execution_count": null,
   "metadata": {},
   "outputs": [],
   "source": [
    "# Initialize the model with the following function and save the output as simple_glacier_h\n",
    "model = edu.init_model(init_flowline, mb_model, years, A, 0)\n",
    "simple_glacier_h = model.fls[-1].surface_h"
   ]
  },
  {
   "cell_type": "markdown",
   "metadata": {},
   "source": [
    "Let's make Glen's parameter 10 times smaller and 10 times larger:"
   ]
  },
  {
   "cell_type": "code",
   "execution_count": null,
   "metadata": {},
   "outputs": [],
   "source": [
    "# Glen's parameter A\n",
    "A_small = cfg.PARAMS['glen_a'] / 10\n",
    "A_large = cfg.PARAMS['glen_a'] * 10"
   ]
  },
  {
   "cell_type": "code",
   "execution_count": null,
   "metadata": {},
   "outputs": [],
   "source": [
    "# Reinitialize the model with the new parameter and save the output as stiffer_glacier_h\n",
    "model = edu.init_model(init_flowline, mb_model, years, A_small)\n",
    "stiffer_glacier_h = model.fls[-1].surface_h\n",
    "\n",
    "# And again (save the output as softer_glacier_h)\n",
    "model = edu.init_model(init_flowline, mb_model, years, A_large)\n",
    "softer_glacier_h = model.fls[-1].surface_h"
   ]
  },
  {
   "cell_type": "code",
   "execution_count": null,
   "metadata": {},
   "outputs": [],
   "source": [
    "# Plot the results\n",
    "plt.figure(figsize=(9,6))\n",
    "plt.plot(distance_along_glacier, simple_glacier_h, label='Default A')\n",
    "plt.plot(distance_along_glacier, stiffer_glacier_h, label='A / 10')\n",
    "plt.plot(distance_along_glacier, softer_glacier_h, label='A * 10')\n",
    "# Add the bedrock and labels\n",
    "edu.plot_xz_bed(distance_along_glacier, bed_h)"
   ]
  },
  {
   "cell_type": "markdown",
   "metadata": {},
   "source": [
    "## Sliding  parameter"
   ]
  },
  {
   "cell_type": "markdown",
   "metadata": {},
   "source": [
    "Basal sliding occurs when there is a water film between the ice and the ground. In his [seminal paper](https://www.igsoc.org/annals/24/igs_annals_vol24_year1997_pg382-389.pdf), Hans Oerlemans uses a so-called \"sliding parameter\" (here: fs), representing basal sliding. In OGGM this parameter is set to 0 per default, but it can be modified:"
   ]
  },
  {
   "cell_type": "code",
   "execution_count": null,
   "metadata": {},
   "outputs": [],
   "source": [
    "# Sliding parameter\n",
    "fs = 5.7e-20"
   ]
  },
  {
   "cell_type": "code",
   "execution_count": null,
   "metadata": {},
   "outputs": [],
   "source": [
    "# Define the time span for the glacier development:\n",
    "years = 1500"
   ]
  },
  {
   "cell_type": "code",
   "execution_count": null,
   "metadata": {},
   "outputs": [],
   "source": [
    "# Reinitialize the model with the new parameter and save the output as sliding_glacier_h\n",
    "model = edu.init_model(init_flowline, mb_model, years, A, fs)\n",
    "sliding_glacier_h = model.fls[-1].surface_h\n",
    "\n",
    "# We calculate again the simple glacier to compare it\n",
    "model = edu.init_model(init_flowline, mb_model, years, A, 0)\n",
    "simple_glacier_h = model.fls[-1].surface_h"
   ]
  },
  {
   "cell_type": "code",
   "execution_count": null,
   "metadata": {},
   "outputs": [],
   "source": [
    "# Plot final result\n",
    "plt.figure(figsize=(9, 6))\n",
    "plt.plot(distance_along_glacier, simple_glacier_h, label='Default: Deforming glacier')\n",
    "plt.plot(distance_along_glacier, sliding_glacier_h, label='Sliding glacier')\n",
    "# Add the bedrock:\n",
    "plt.plot(distance_along_glacier, init_flowline.bed_h, color='k', label='Bedrock', linestyle=':')\n",
    "plt.xlabel('Distance along glacier (km)')\n",
    "plt.ylabel('Altitude (m)')\n",
    "plt.legend(loc='best');"
   ]
  },
  {
   "cell_type": "markdown",
   "metadata": {},
   "source": [
    " If you want to learn more about the processes of glacier flow, we recommend to go through these two pages: \n",
    "- [Deformation and sliding](http://www.antarcticglaciers.org/glacier-processes/glacier-flow-2/glacier-flow/)\n",
    "- [Stress and strain](http://www.antarcticglaciers.org/glacier-processes/glacier-flow-2/glacier-flow-ii-stress-and-strain/)\n",
    "\n",
    "In the [documentation](https://docs.oggm.org/en/latest/ice-dynamics.html?highlight=oerleman#ice-flow) of OGGM you find also information about the theory of the ice flow parameters and the application."
   ]
  },
  {
   "cell_type": "markdown",
   "metadata": {},
   "source": [
    "## References\n",
    "\n",
    "¹ Cuffey, K., and W. S. B. Paterson (2010). The Physics of Glaciers, Butterworth‐Heinemann, Oxford, U.K.\n",
    "\n",
    "² Oerlemans, J. (2001). *Glaciers and climate change.* CRC Press. (p. 59)"
   ]
  },
  {
   "cell_type": "markdown",
   "metadata": {},
   "source": [
    "## What's next?"
   ]
  },
  {
   "cell_type": "markdown",
   "metadata": {},
   "source": [
    "[Back to the table of contents](../welcome.ipynb)"
   ]
  }
 ],
 "metadata": {
  "hide_input": false,
  "kernelspec": {
   "display_name": "Python 3",
   "language": "python",
   "name": "python3"
  },
  "language_info": {
   "codemirror_mode": {
    "name": "ipython",
    "version": 3
   },
   "file_extension": ".py",
   "mimetype": "text/x-python",
   "name": "python",
   "nbconvert_exporter": "python",
   "pygments_lexer": "ipython3",
   "version": "3.8.5"
  },
  "toc": {
   "base_numbering": 1,
   "nav_menu": {},
   "number_sections": false,
   "sideBar": true,
   "skip_h1_title": true,
   "title_cell": "Table of Contents",
   "title_sidebar": "Contents",
   "toc_cell": false,
   "toc_position": {},
   "toc_section_display": true,
   "toc_window_display": false
  }
 },
 "nbformat": 4,
 "nbformat_minor": 4
}
