{
 "cells": [
  {
   "cell_type": "markdown",
   "metadata": {},
   "source": [
    "# Glacier surging experiments"
   ]
  },
  {
   "cell_type": "markdown",
   "metadata": {},
   "source": [
    "Goals of this notebook:\n",
    "\n",
    "- The student will be able to describe the effects of glacier surging.\n",
    "- The student will be able to implement glacier surging in OGGM."
   ]
  },
  {
   "cell_type": "markdown",
   "metadata": {},
   "source": [
    "In this notebook we are going to explore the basic functionalities of OGGM flowline model(s) and perform a simple surging experiment. For this purpose we are going to use simple and \"idealized\" glacier models with simple linear mass-balance profiles. "
   ]
  },
  {
   "cell_type": "markdown",
   "metadata": {},
   "source": [
    "**What is glacier surge?**\n",
    "\n",
    "A small percentage of glaciers undergo short periods of faster flow. They experience a change in morphology and surface characteristics, which sometimes leads to a marked frontal advance. The speed of the ice increases up to 10 - 1000 times of the normal velocity. Record flows are observed with velocities that exceed 100m per day. Surges happen in decadal cycles and can last for 1 up to 15 years.[¹](#Reference)"
   ]
  },
  {
   "cell_type": "markdown",
   "metadata": {},
   "source": [
    "We start with importing all needed modules:"
   ]
  },
  {
   "cell_type": "code",
   "execution_count": null,
   "metadata": {},
   "outputs": [],
   "source": [
    "# Plotting libraries and plot style\n",
    "import matplotlib.pyplot as plt\n",
    "%matplotlib inline\n",
    "\n",
    "import seaborn as sns\n",
    "sns.set_context('notebook')\n",
    "sns.set_style('ticks')\n",
    "\n",
    "# Scientific packages\n",
    "import numpy as np\n",
    "\n",
    "# Constants\n",
    "from oggm import cfg\n",
    "cfg.initialize_minimal()\n",
    "\n",
    "# Mass-balance model\n",
    "from oggm.core.massbalance import LinearMassBalance\n",
    "# There are several numerical implementations in OGGM core. We use the \"FluxBasedModel\"\n",
    "from oggm.core.flowline import FluxBasedModel as FlowlineModel\n",
    "# Glacier shape\n",
    "from oggm.core.flowline import RectangularBedFlowline\n",
    "\n",
    "# OGGM Edu helper functions\n",
    "import oggm_edu as edu"
   ]
  },
  {
   "cell_type": "markdown",
   "metadata": {},
   "source": [
    "## Basics"
   ]
  },
  {
   "cell_type": "markdown",
   "metadata": {},
   "source": [
    "We set-up a simple model with a linear bedrock (see [getting started with flowline models](flowline_model.ipynb)) to generate a set-up for our experiment."
   ]
  },
  {
   "cell_type": "code",
   "execution_count": null,
   "metadata": {},
   "outputs": [],
   "source": [
    "# This is the bed rock, linearily decreasing from 3400 m altitude to 1400 m, in 200 steps\n",
    "nx = 200\n",
    "bed_h = np.linspace(3400, 1400, nx)\n",
    "\n",
    "# At the beginning, there is no glacier so our glacier surface is at the bed altitude\n",
    "surface_h = bed_h\n",
    "\n",
    "# Let's set the model grid spacing to 100 m \n",
    "map_dx = 100\n",
    "\n",
    "# Calculate the corresponding distance along the glacier (from the top)\n",
    "distance_along_glacier = np.linspace(0, nx, nx) * 0.1  # in km\n",
    "\n",
    "# The units of widths is in \"grid points\", i.e. 3 grid points = 300 m in our case\n",
    "widths = np.zeros(nx) + 3.\n",
    "\n",
    "# Define our bed\n",
    "init_flowline = RectangularBedFlowline(surface_h=surface_h, bed_h=bed_h, widths=widths, map_dx=map_dx)"
   ]
  },
  {
   "cell_type": "markdown",
   "metadata": {},
   "source": [
    "Then we define the equilibrium line altitude (ELA) for the mass balance model:"
   ]
  },
  {
   "cell_type": "code",
   "execution_count": null,
   "metadata": {},
   "outputs": [],
   "source": [
    "# ELA at 3000m a.s.l., gradient 4 mm m-1\n",
    "mb_model = LinearMassBalance(3000, grad=4)"
   ]
  },
  {
   "cell_type": "markdown",
   "metadata": {},
   "source": [
    "Here we calculate a glacier that flows only because of deformation and  without sliding:"
   ]
  },
  {
   "cell_type": "code",
   "execution_count": null,
   "metadata": {},
   "outputs": [],
   "source": [
    "# Define for how many years the glacier should be calculated\n",
    "years = 600\n",
    "\n",
    "# Initialize the model with the following function \n",
    "model = edu.init_model(init_flowline, mb_model=mb_model, years= years)\n",
    "\n",
    "# Store the outline of the glacier as simple_glacier_h\n",
    "simple_glacier_h = model.fls[-1].surface_h"
   ]
  },
  {
   "cell_type": "code",
   "execution_count": null,
   "metadata": {},
   "outputs": [],
   "source": [
    "# Let's plot it!\n",
    "plt.plot(distance_along_glacier, simple_glacier_h, label='Deforming glacier')\n",
    "edu.plot_xz_bed(distance_along_glacier, bed_h)"
   ]
  },
  {
   "cell_type": "markdown",
   "metadata": {},
   "source": [
    "## Surging glacier experiment"
   ]
  },
  {
   "cell_type": "markdown",
   "metadata": {},
   "source": [
    "Since surging occurs because of increased basal sliding, a surging period can be represented in the model by increasing the sliding parameter[¹](#Reference), for example by a factor of 10. Typically surging can be assumend to happen cyclically after 100 years of normal sliding and lasts over a period of 10 years."
   ]
  },
  {
   "cell_type": "markdown",
   "metadata": {},
   "source": [
    "Let's model a simple glacier that only slides:"
   ]
  },
  {
   "cell_type": "code",
   "execution_count": null,
   "metadata": {},
   "outputs": [],
   "source": [
    "# Define parameters:\n",
    "# Default in OGGM: Glen's creeping parameter\n",
    "A = cfg.PARAMS['glen_a']\n",
    "\n",
    "# Sliding glaciers (sliding parameter fs is nonzero)\n",
    "fs = 5.7e-20\n",
    "\n",
    "# Define for how many years the glacier should be calculated\n",
    "years = 600"
   ]
  },
  {
   "cell_type": "code",
   "execution_count": null,
   "metadata": {},
   "outputs": [],
   "source": [
    "# Initialize the model\n",
    "model = edu.init_model(init_flowline, mb_model=mb_model, years=years, fs=fs)\n",
    "\n",
    "# Store the final results for later use\n",
    "sliding_glacier_h = model.fls[-1].surface_h"
   ]
  },
  {
   "cell_type": "code",
   "execution_count": null,
   "metadata": {},
   "outputs": [],
   "source": [
    "# Let's plot both models.\n",
    "plt.plot(distance_along_glacier, simple_glacier_h, label='Deforming glacier')\n",
    "plt.plot(distance_along_glacier, sliding_glacier_h, label='Sliding glacier')\n",
    "edu.plot_xz_bed(distance_along_glacier, bed_h)"
   ]
  },
  {
   "cell_type": "markdown",
   "metadata": {},
   "source": [
    "Now we calculate a surging glacier:"
   ]
  },
  {
   "cell_type": "code",
   "execution_count": null,
   "metadata": {},
   "outputs": [],
   "source": [
    "# Define parameters:\n",
    "# Sliding parameter in times of slow sliding:\n",
    "fs = 5.7e-20\n",
    "\n",
    "# Sliding parameter in surging periods:\n",
    "fs_surge = 5.7e-20*10\n",
    "\n",
    "# Surging period (years):\n",
    "period_s = 10\n",
    "\n",
    "# Time span between 2 surging periods (years):\n",
    "t_slow = 100\n",
    "\n",
    "# Number of surges\n",
    "no_surges = 10"
   ]
  },
  {
   "cell_type": "code",
   "execution_count": null,
   "metadata": {},
   "outputs": [],
   "source": [
    "# Surging glaciers - model initialisation\n",
    "model = FlowlineModel(init_flowline, mb_model=mb_model, y0=0., glen_a=A, fs=fs)\n",
    "\n",
    "# 10 periods of 10 years surging every 100 years\n",
    "yrs = np.arange(0, t_slow + 1, 10)\n",
    "for i in np.arange(0, no_surges, 1):\n",
    "    yrs_sliding = np.arange(t_slow+1+t_slow*i+period_s*i, t_slow+period_s+1+t_slow*i+period_s*i,1)\n",
    "    yrs = np.append(yrs, yrs_sliding)\n",
    "\n",
    "    yrs_normal = np.arange(t_slow+period_s+10+t_slow*i+period_s*i, 2*t_slow+period_s+10+t_slow*i+period_s*i, 10)\n",
    "    yrs = np.append(yrs, yrs_normal)"
   ]
  },
  {
   "cell_type": "markdown",
   "metadata": {},
   "source": [
    "If it is still unclear to you which years are \"surging years\", have a look into the list \"yrs\":"
   ]
  },
  {
   "cell_type": "code",
   "execution_count": null,
   "metadata": {},
   "outputs": [],
   "source": [
    "yrs"
   ]
  },
  {
   "cell_type": "code",
   "execution_count": null,
   "metadata": {},
   "outputs": [],
   "source": [
    "# Calculation of the glacier outline after going through the chosen number of surges\n",
    "surging_model = edu.surging_glacier(yrs, init_flowline, mb_model, bed_h, widths, map_dx, A, fs, fs_surge, model)\n",
    "surging_glacier_h_weak = surging_model[0].fls[-1].surface_h"
   ]
  },
  {
   "cell_type": "markdown",
   "metadata": {},
   "source": [
    "In the next figures the development of the glacier (length and volume) over the years is shown:"
   ]
  },
  {
   "cell_type": "code",
   "execution_count": null,
   "metadata": {},
   "outputs": [],
   "source": [
    "# Plot it in two subplots\n",
    "from matplotlib.patches import Patch\n",
    "from matplotlib.lines import Line2D\n",
    "\n",
    "fig, axs = plt.subplots(2, 1, sharex=True, figsize=(14, 8))\n",
    "fig.subplots_adjust(hspace=0)\n",
    "plt.xlabel('Years')\n",
    "plt.xticks(np.arange(min(yrs), max(yrs)+1, 100.0))\n",
    "# Glacier length\n",
    "axs[0].plot(yrs, surging_model[2], color='tab:green')\n",
    "# Mark surging periods\n",
    "for i, yr in enumerate(yrs):\n",
    "    if (yr-yrs[i-1]) ==  1 and (yrs[i-1+period_s]-yrs[i+period_s-2]) == 1:\n",
    "        axs[0].axvspan(yrs[i-1], yrs[i-1+period_s], color='tab:orange', alpha=0.3)\n",
    "axs[0].set_ylabel('Length [m]')\n",
    "axs[0].grid()\n",
    "\n",
    "# Glacier volume\n",
    "axs[1].plot(yrs, surging_model[3], color='tab:green')\n",
    "# Mark surging periods\n",
    "for i, yr in enumerate(yrs):\n",
    "    if (yr-yrs[i-1]) ==  1 and (yrs[i-1+period_s]-yrs[i+period_s-2]) == 1:\n",
    "        axs[1].axvspan(yrs[i-1], yrs[i-1+period_s], color='tab:orange', alpha=0.3)\n",
    "axs[1].set_ylabel('Volume [km³]')\n",
    "axs[1].grid()\n",
    "# Define labels and add a legend\n",
    "label = [Line2D(yrs, surging_model[3], color='tab:green', label='Weakly surging glacier'),\n",
    "         Patch(facecolor='tab:orange', alpha=0.3, edgecolor='r', label='Surging period')]\n",
    "axs[1].legend(handles=label, bbox_to_anchor=(1, 0.5));"
   ]
  },
  {
   "cell_type": "markdown",
   "metadata": {},
   "source": [
    "Now we compare the different calculated glacier:"
   ]
  },
  {
   "cell_type": "code",
   "execution_count": null,
   "metadata": {},
   "outputs": [],
   "source": [
    "# Plot the results\n",
    "f, ax = plt.subplots(figsize=(9, 6))\n",
    "plt.plot(distance_along_glacier, simple_glacier_h, label='Deforming glacier')\n",
    "plt.plot(distance_along_glacier, sliding_glacier_h, label='Sliding glacier')\n",
    "plt.plot(distance_along_glacier, surging_glacier_h_weak, label='Weakly surging glacier')\n",
    "\n",
    "# Add the bedrock\n",
    "edu.plot_xz_bed(distance_along_glacier, bed_h)"
   ]
  },
  {
   "cell_type": "markdown",
   "metadata": {},
   "source": [
    "We now increase the sliding parameter in order to increase surges:"
   ]
  },
  {
   "cell_type": "code",
   "execution_count": null,
   "metadata": {},
   "outputs": [],
   "source": [
    "# Define parameters:\n",
    "# Sliding parameter in times of normal sliding:\n",
    "fs = 5.7e-20\n",
    "# Sliding parameter in surging periods:\n",
    "fs_surge = 5.7e-20*50\n",
    "\n",
    "# Calculation of the glacier outline\n",
    "model = FlowlineModel(init_flowline, mb_model=mb_model, y0=0., glen_a=A, fs=fs)\n",
    "strong_surge_model = edu.surging_glacier(yrs, init_flowline, mb_model, bed_h, widths, map_dx, A, fs, fs_surge, model)\n",
    "surging_glacier_h = strong_surge_model[0].fls[-1].surface_h"
   ]
  },
  {
   "cell_type": "code",
   "execution_count": null,
   "metadata": {},
   "outputs": [],
   "source": [
    "# Plot the results\n",
    "f, ax = plt.subplots(figsize=(9, 6))\n",
    "plt.plot(distance_along_glacier, simple_glacier_h, label='Deforming glacier')\n",
    "plt.plot(distance_along_glacier, sliding_glacier_h, label='Sliding glacier')\n",
    "plt.plot(distance_along_glacier, surging_glacier_h_weak, label='Weakly surging glacier')\n",
    "plt.plot(distance_along_glacier, surging_glacier_h, label='High surging glacier')\n",
    "# Add the bedrock\n",
    "edu.plot_xz_bed(distance_along_glacier, bed_h)"
   ]
  },
  {
   "cell_type": "markdown",
   "metadata": {},
   "source": [
    "Compare the different glacier types. How can you explain the differences?"
   ]
  },
  {
   "cell_type": "markdown",
   "metadata": {},
   "source": [
    "In the next plot the development of the weakly surging glacier and the strongly surging glacier are shown:"
   ]
  },
  {
   "cell_type": "code",
   "execution_count": null,
   "metadata": {},
   "outputs": [],
   "source": [
    "# Plot it in two subplots\n",
    "fig, axs = plt.subplots(2, 1, sharex=True, figsize=(14, 8))\n",
    "fig.subplots_adjust(hspace=0)\n",
    "plt.xlabel('Years')\n",
    "# Glacier length\n",
    "axs[0].plot(yrs, strong_surge_model[2], color='tab:red')\n",
    "axs[0].plot(yrs, surging_model[2], color='tab:green')\n",
    "# Mark surging periods\n",
    "for i, yr in enumerate(yrs):\n",
    "    if (yr-yrs[i-1]) == 1 and (yrs[i-1+period_s]-yrs[i+period_s-2]) == 1:\n",
    "        axs[0].axvspan(yrs[i-1], yrs[i-1+period_s], color='tab:orange', alpha=0.3)\n",
    "axs[0].set_ylabel('Length [m]')\n",
    "axs[0].grid()\n",
    "\n",
    "# Glacier volume\n",
    "axs[1].plot(yrs, strong_surge_model[3], color='tab:red')\n",
    "axs[1].plot(yrs, surging_model[3], color='tab:green')\n",
    "# Mark surging periods\n",
    "for i, yr in enumerate(yrs):\n",
    "    if (yr-yrs[i-1]) ==  1 and (yrs[i-1+period_s]-yrs[i+period_s-2]) == 1:\n",
    "        axs[1].axvspan(yrs[i-1], yrs[i-1+period_s], color='tab:orange', alpha=0.3)\n",
    "axs[1].set_ylabel('Volume [km³]')\n",
    "axs[1].grid()\n",
    "# Define labels and add a legend\n",
    "label = [Line2D(yrs, strong_surge_model[3], color='tab:red', label='Strongly surging glacier'), \n",
    "         Line2D(yrs, surging_model[3], color='tab:green', label='Weakly surging glacier'),\n",
    "         Patch(facecolor='tab:orange', alpha=0.3, edgecolor='r', label='Surging period')]\n",
    "axs[1].legend(handles=label, bbox_to_anchor=(1, 0.5));"
   ]
  },
  {
   "cell_type": "markdown",
   "metadata": {},
   "source": [
    "## References\n",
    "\n",
    "¹ Hester Jiskoot: Glacier Surging. In: Vijay P. Singh, Pratap Singh, Umesh K. Haritashya (Hrsg.): Encyclopedia of Snow, Ice and Glaciers. Springer, Dordrecht 2011, S. 415–428, ISBN 978-90-481-2641-5"
   ]
  },
  {
   "cell_type": "markdown",
   "metadata": {},
   "source": [
    "## What's next?"
   ]
  },
  {
   "cell_type": "markdown",
   "metadata": {},
   "source": [
    "[Back to the table of contents](../welcome.ipynb)"
   ]
  }
 ],
 "metadata": {
  "hide_input": false,
  "kernelspec": {
   "display_name": "Python 3",
   "language": "python",
   "name": "python3"
  },
  "language_info": {
   "codemirror_mode": {
    "name": "ipython",
    "version": 3
   },
   "file_extension": ".py",
   "mimetype": "text/x-python",
   "name": "python",
   "nbconvert_exporter": "python",
   "pygments_lexer": "ipython3",
   "version": "3.8.5"
  },
  "toc": {
   "base_numbering": 1,
   "nav_menu": {},
   "number_sections": false,
   "sideBar": true,
   "skip_h1_title": true,
   "title_cell": "Table of Contents",
   "title_sidebar": "Contents",
   "toc_cell": false,
   "toc_position": {},
   "toc_section_display": true,
   "toc_window_display": false
  }
 },
 "nbformat": 4,
 "nbformat_minor": 4
}
