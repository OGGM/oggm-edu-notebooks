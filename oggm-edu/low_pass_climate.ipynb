{
 "cells": [
  {
   "cell_type": "markdown",
   "id": "d6e0ab93-5e66-459a-a4a5-85d74db9e372",
   "metadata": {},
   "source": [
    "# Glaciers as a low-pass filter of climate variations"
   ]
  },
  {
   "cell_type": "markdown",
   "id": "7a40466d-6682-4e57-a345-da24762dc7a9",
   "metadata": {},
   "source": [
    "In a previous notebook we have talked about the response time of a glacier and how it takes some time for the glacier to respond to changes in its climate.\n",
    "In this notebook we are going to investigate this delayed response further by looking at how glaciers acts as a smoothing filter (low-pass) on variations in the climate forcing.\n",
    "\n",
    "We will do this by introducing some, for you, new functionality of the OGGM-Edu classes which enables you to assign random, and custom, future temperature biases to the mass balance of your glacier.\n",
    "\n",
    "First we have to import the minimal set of classes for working with OGGM-Edu glaciers."
   ]
  },
  {
   "cell_type": "code",
   "execution_count": null,
   "id": "2912398a-b50d-492d-bd5f-5cbe3e73dc61",
   "metadata": {},
   "outputs": [],
   "source": [
    "from oggm_edu import GlacierBed, MassBalance, Glacier"
   ]
  },
  {
   "cell_type": "markdown",
   "id": "188dc7e4-0339-4303-8f2e-e6823e79615a",
   "metadata": {},
   "source": [
    "Then we create a bed. For these examples we can use a fairly simply bed with a single slope.\n",
    "However, feel free to change this as you like."
   ]
  },
  {
   "cell_type": "code",
   "execution_count": null,
   "id": "1bcaa3e6-e0a5-4479-98b5-d48b36a550a8",
   "metadata": {},
   "outputs": [],
   "source": [
    "# Lets create a relatively simple bed.\n",
    "bed = GlacierBed(widths=[600, 400, 400], altitudes=[4200, 3400, 2000],\n",
    "                 slopes=15)"
   ]
  },
  {
   "cell_type": "code",
   "execution_count": null,
   "id": "6075e2f6-03b2-48a9-9c14-63da9659e0bc",
   "metadata": {},
   "outputs": [],
   "source": [
    "bed.plot()"
   ]
  },
  {
   "cell_type": "markdown",
   "id": "4125090d-1140-48f0-b851-b6e8d7143384",
   "metadata": {},
   "source": [
    "Next step is the mass balance.\n",
    "We create a slightly more realistic mass balance profile with a few different gradients."
   ]
  },
  {
   "cell_type": "code",
   "execution_count": null,
   "id": "6b9c7582-75e0-47da-837d-08cd35bb7688",
   "metadata": {},
   "outputs": [],
   "source": [
    "# A mass balance with the ela at 3600 m. and 4 gradients.\n",
    "mass_balance = MassBalance(ela=3600, gradient=[3, 6, 10, 15],\n",
    "                           breakpoints=[3800, 3200, 2500])"
   ]
  },
  {
   "cell_type": "markdown",
   "id": "7341d8db-fd13-45d0-84f9-6ec7473c2439",
   "metadata": {},
   "source": [
    "Now we are ready to create the glacier."
   ]
  },
  {
   "cell_type": "code",
   "execution_count": null,
   "id": "22132c99-93e6-46b9-838a-92d9074cde7c",
   "metadata": {},
   "outputs": [],
   "source": [
    "glacier = Glacier(bed=bed, mass_balance=mass_balance)"
   ]
  },
  {
   "cell_type": "markdown",
   "id": "87fff22a-9179-4f4b-b563-df4dcc4c69c4",
   "metadata": {},
   "source": [
    "Let's take a look at the mass balance profile."
   ]
  },
  {
   "cell_type": "code",
   "execution_count": null,
   "id": "5b19c938-774d-4a02-9e2a-ee5a2c978482",
   "metadata": {},
   "outputs": [],
   "source": [
    "glacier.plot_mass_balance()"
   ]
  },
  {
   "cell_type": "markdown",
   "id": "e8b88efb-8843-4100-b88d-22d205a64929",
   "metadata": {},
   "source": [
    "## Adding a random climate"
   ]
  },
  {
   "cell_type": "markdown",
   "id": "d90c6faf-0e00-468b-973c-e261eae61086",
   "metadata": {},
   "source": [
    "Before we start progressing the glacier assign a random climate to the future of the glacier.\n",
    "Random in this case means that the temperature bias of our glacier will vary randomly from year to year between values specified by us.\n",
    "Internally this has the effect that the ELA of our glacier changes up and down.\n",
    "\n",
    "We assign a random climate through`.add_random_climate(duration, temperature_range)`, a method of the `Glacier` object.\n",
    "`duration` specifies how long the random climate should last, while `temperature_range` lets the user specify between what temperatures the climate should vary."
   ]
  },
  {
   "cell_type": "code",
   "execution_count": null,
   "id": "6055c625-8f07-4164-a60c-3ff27a4697d0",
   "metadata": {},
   "outputs": [],
   "source": [
    "# Lets add a random climate for a 1000 years, varying between -2 and 2 degrees.\n",
    "glacier.add_random_climate(duration=1000, temperature_range=[-2., 2.])"
   ]
  },
  {
   "cell_type": "markdown",
   "id": "7a3733ba-722c-4934-baa7-90bc3f6b790d",
   "metadata": {},
   "source": [
    " We can take a look at the random climate through the `temperature_bias_series` attribute of the `MassBalance`."
   ]
  },
  {
   "cell_type": "code",
   "execution_count": null,
   "id": "952d34d8-388e-4e32-b608-d5c85cf9dd1e",
   "metadata": {},
   "outputs": [],
   "source": [
    "# This is a pandas dataframe.\n",
    "glacier.mass_balance.temp_bias_series"
   ]
  },
  {
   "cell_type": "markdown",
   "id": "5318f9d0-3bee-4130-8c9c-6c884a49649b",
   "metadata": {},
   "source": [
    "And also quickly plot it.\n",
    "This will be pretty messy."
   ]
  },
  {
   "cell_type": "code",
   "execution_count": null,
   "id": "e31e4892-246b-45e5-abdb-fa8b5e4f6969",
   "metadata": {},
   "outputs": [],
   "source": [
    "glacier.mass_balance.temp_bias_series.bias.plot();"
   ]
  },
  {
   "cell_type": "markdown",
   "id": "4acb7a66-f1f8-48cd-9a70-b36135cc1832",
   "metadata": {},
   "source": [
    "<div class=\"alert alert-info\">\n",
    "    <b>\n",
    "        Note that if this is series is pre-populated, like in this case, it will act as the climate for the glacier during the progression.\n",
    "        When empty, the current, constant, bias will be written to the corresponding year during the progression, creating a history of the temperature bias.\n",
    "    </b>\n",
    "</div>"
   ]
  },
  {
   "cell_type": "markdown",
   "id": "ba4241d6-06ac-4874-bdc2-a4efe917347b",
   "metadata": {},
   "source": [
    "Now we can progress the glacier as usual."
   ]
  },
  {
   "cell_type": "code",
   "execution_count": null,
   "id": "98605ac3-3cb8-4917-88f7-c3d53675d424",
   "metadata": {},
   "outputs": [],
   "source": [
    "# Progress the glacier to year 1000.\n",
    "glacier.progress_to_year(1000)"
   ]
  },
  {
   "cell_type": "code",
   "execution_count": null,
   "id": "9247566d-54be-426b-86ad-a8e96009a6d0",
   "metadata": {},
   "outputs": [],
   "source": [
    "glacier.plot()"
   ]
  },
  {
   "cell_type": "markdown",
   "id": "4fad4986-692d-40ea-8cd9-aac7e587b058",
   "metadata": {},
   "source": [
    "## A look at the history"
   ]
  },
  {
   "cell_type": "markdown",
   "id": "773dafa7-aa25-457d-b164-1eefa5b8e6b2",
   "metadata": {},
   "source": [
    "We plot the history of the glacier length, volume and area with the `.plot_history()` method.\n",
    "We can also plot the temperature bias history by passing `True` to the `show_bias` argument."
   ]
  },
  {
   "cell_type": "code",
   "execution_count": null,
   "id": "4ddd99f2-97ec-4a52-8c52-5cf8781ceb18",
   "metadata": {},
   "outputs": [],
   "source": [
    "glacier.plot_history(show_bias=True)"
   ]
  },
  {
   "cell_type": "markdown",
   "id": "206edbc8-006b-499a-9d69-8aee3c3a0569",
   "metadata": {},
   "source": [
    "Since the random climate is just random, it is difficult to distinguish any similarities between the noisy bias and the glacier history.\n",
    "However, we can smooth the bias by providing a window size to the `window` argument.\n",
    "This will perform a rolling mean on the temperature bias series before plotting it.\n",
    "\n",
    "Here we also specify a time frame to plot in order to get a closer look at the data.\n",
    "By doing this we shrink the range of the y-axis, enhancing the fluctuations in the glacier history.\n",
    "\n",
    "<div class=\"alert alert-success\">\n",
    "    <details>\n",
    "    <summary>\n",
    "    <b>Try executing the cell below with different window sizes and try to find the size which represent the smoothing that the glacier have on the climate.</b> <it>[Click for a hint]</i>\n",
    "    </summary>\n",
    "        With a window size around 30-40 years, the bias begins to exhibit patterns similar to the glacier history.\n",
    "    </details>\n",
    "</div>"
   ]
  },
  {
   "cell_type": "code",
   "execution_count": null,
   "id": "eea519b4-c896-47b2-8578-ba02af115b25",
   "metadata": {},
   "outputs": [],
   "source": [
    "# Smooth the bias so that it resembles the history of the glacier attributes.\n",
    "glacier.plot_history(show_bias=True, window=10,\n",
    "                     time_range=[100, 1000])"
   ]
  },
  {
   "cell_type": "markdown",
   "id": "2c48847e-b70c-4f6f-96c5-52e5e7f21ba5",
   "metadata": {},
   "source": [
    "## Creating a custom climate"
   ]
  },
  {
   "cell_type": "markdown",
   "id": "f594e7ec-1488-4d13-92ff-10b9135dc0e3",
   "metadata": {},
   "source": [
    "<div class=\"alert alert-info\">\n",
    "    <b>Warning:</b> The following section requires more experience with Python than most of the previous work you've done with OGGM-Edu.\n",
    "</div>\n",
    "\n",
    "It is possible to create a completely custom climate for the glacier.\n",
    "This is done by creating an array of bias values and assigning it to the `.temp_bias_series` attribute.\n",
    "\n",
    "The easiest way to do this is by using one, or a combination, of the numpy-methods generating arrays. "
   ]
  },
  {
   "cell_type": "code",
   "execution_count": null,
   "id": "41b44746-0770-46b8-b5d5-2c1e455d32f0",
   "metadata": {},
   "outputs": [],
   "source": [
    "import numpy as np"
   ]
  },
  {
   "cell_type": "markdown",
   "id": "11024cb1-07d8-46a4-b8c3-e5a4c456cd67",
   "metadata": {},
   "source": [
    "For this exercise we will create a sinusoidal bias, not because it is very realistic but to show one example of how one can use convenient functions to generate the values.\n",
    "You can essentially use any function returning an array of floats, or do it manually, to create the bias series of your imagination."
   ]
  },
  {
   "cell_type": "code",
   "execution_count": null,
   "id": "fa1f5c46-2823-449d-8051-13ae7d3d2ad3",
   "metadata": {},
   "outputs": [],
   "source": [
    "# How many cycles and years do we want?\n",
    "n_cycles = 4\n",
    "# 1000 years, we add 1 since last number is not included.\n",
    "n_years = 1000\n",
    "# Radians.\n",
    "rads = np.linspace(0, n_cycles * 2 * np.pi, n_years)\n",
    "# Create the sinus waves.\n",
    "bias_data = np.sin(rads)"
   ]
  },
  {
   "cell_type": "markdown",
   "id": "fb81739c-a449-4e28-9b66-951f3f3f68d4",
   "metadata": {},
   "source": [
    "We reset the glacier before adding the new climate, to start fresh."
   ]
  },
  {
   "cell_type": "code",
   "execution_count": null,
   "id": "777bbf1f-7dda-4ee8-ae3d-50f1e17c5398",
   "metadata": {},
   "outputs": [],
   "source": [
    "glacier.reset()"
   ]
  },
  {
   "cell_type": "markdown",
   "id": "30b67656-35d6-4541-980b-f18d1d618de1",
   "metadata": {},
   "source": [
    "Then we can assign the `bias_data` to the `.temp_bias_series`."
   ]
  },
  {
   "cell_type": "code",
   "execution_count": null,
   "id": "d553b2c6-161f-4bb1-b855-5c75b7a7146f",
   "metadata": {},
   "outputs": [],
   "source": [
    "glacier.mass_balance.temp_bias_series = bias_data"
   ]
  },
  {
   "cell_type": "markdown",
   "id": "e6f43138-db11-4169-a78d-621d1bf5cf1c",
   "metadata": {},
   "source": [
    "Progress the glacier as usual."
   ]
  },
  {
   "cell_type": "code",
   "execution_count": null,
   "id": "875ce1d0-7b91-4af4-9efe-1d5d5ce98c18",
   "metadata": {},
   "outputs": [],
   "source": [
    "glacier.progress_to_year(1000)"
   ]
  },
  {
   "cell_type": "markdown",
   "id": "33ee2f58-a65a-4b31-a63d-e023d7c295d8",
   "metadata": {},
   "source": [
    "Take a look at the history of the glacier"
   ]
  },
  {
   "cell_type": "code",
   "execution_count": null,
   "id": "73a35b8c-71ab-4de6-ba47-8f228c377c38",
   "metadata": {},
   "outputs": [],
   "source": [
    "glacier.plot_history(show_bias=True)"
   ]
  },
  {
   "cell_type": "markdown",
   "id": "8f94aa57-7544-46f0-96da-131a1b33c53b",
   "metadata": {},
   "source": [
    "It is also possible to add a future climate to a glacier that already has some history.\n",
    "\n",
    "To start over, we first reset the glacier, then we add a linear trend and progress to the end of the climate data."
   ]
  },
  {
   "cell_type": "code",
   "execution_count": null,
   "id": "be861f86-a23a-42d5-b691-04a552053028",
   "metadata": {},
   "outputs": [],
   "source": [
    "glacier.reset()"
   ]
  },
  {
   "cell_type": "code",
   "execution_count": null,
   "id": "ce1923aa-e8d6-4803-8638-39f201cfc358",
   "metadata": {},
   "outputs": [],
   "source": [
    "glacier.add_temperature_bias(bias=1.5, duration=200)"
   ]
  },
  {
   "cell_type": "code",
   "execution_count": null,
   "id": "915c7276-235b-4fd0-aeed-675390bff3a7",
   "metadata": {},
   "outputs": [],
   "source": [
    "glacier.progress_to_year(200)"
   ]
  },
  {
   "cell_type": "code",
   "execution_count": null,
   "id": "be47cf43-724b-46ba-911f-f7fb9ce2d8c5",
   "metadata": {},
   "outputs": [],
   "source": [
    "glacier.plot_history(show_bias=True)"
   ]
  },
  {
   "cell_type": "markdown",
   "id": "02c82bc1-9018-42d4-b2c4-4143eb536e67",
   "metadata": {},
   "source": [
    "We can then assign more data to  the future climate, just as easy as before.\n",
    "we now want a sinus-wave that oscillates around the current temperature bias."
   ]
  },
  {
   "cell_type": "code",
   "execution_count": null,
   "id": "63de6f34-285e-4217-8764-ff4ac1323c51",
   "metadata": {},
   "outputs": [],
   "source": [
    "# How many cycles and years do we want?\n",
    "n_cycles = 4\n",
    "# 1000 years, we add 1 since last number is not included.\n",
    "n_years = 1000\n",
    "# Radians.\n",
    "rads = np.linspace(0, n_cycles * 2 * np.pi, n_years)\n",
    "# Create the sinus wave and add the current temperature bias.\n",
    "bias_data = np.sin(rads) + glacier.mass_balance.temp_bias"
   ]
  },
  {
   "cell_type": "markdown",
   "id": "0f12e4c4-b498-40ed-b22f-da2ca5ae76c0",
   "metadata": {},
   "source": [
    "Assign it to the `.temp_bias_series`.\n",
    "Internally this will append it to the series that already exists."
   ]
  },
  {
   "cell_type": "code",
   "execution_count": null,
   "id": "80be6329-27fe-4d2a-a419-b856b830e8b8",
   "metadata": {},
   "outputs": [],
   "source": [
    "glacier.mass_balance.temp_bias_series = bias_data"
   ]
  },
  {
   "cell_type": "code",
   "execution_count": null,
   "id": "8ef676bf-3467-4f16-b07f-aad08488991d",
   "metadata": {},
   "outputs": [],
   "source": [
    "# We progress to year 1154, the current age + 1000.\n",
    "glacier.progress_to_year(1200)"
   ]
  },
  {
   "cell_type": "code",
   "execution_count": null,
   "id": "34615a88-e419-44fa-90c2-91a7a87d53e5",
   "metadata": {},
   "outputs": [],
   "source": [
    "glacier.plot_history(show_bias=True)"
   ]
  },
  {
   "cell_type": "markdown",
   "id": "4d91ea65-2923-4aa1-87d8-48418b16a3df",
   "metadata": {},
   "source": [
    "### Adding noise to clean data"
   ]
  },
  {
   "cell_type": "markdown",
   "id": "8dd07ff8-9d99-4127-9829-943d02931dd6",
   "metadata": {},
   "source": [
    "Until now, we have either created a completely random climate or very clean and predictable trends.\n",
    "The next step is, of course, to combine the methods to create trends that also have some random variability to them.\n",
    "\n",
    "We will demonstrate this by manually creating a linear trend and then adding some noise to it."
   ]
  },
  {
   "cell_type": "code",
   "execution_count": null,
   "id": "c41427a7-922a-4ba2-b2cd-b5917c72ef82",
   "metadata": {},
   "outputs": [],
   "source": [
    "glacier.reset()"
   ]
  },
  {
   "cell_type": "code",
   "execution_count": null,
   "id": "61d71ede-f8d8-4f57-992a-a572f0f3467f",
   "metadata": {},
   "outputs": [],
   "source": [
    "# Create a linear trend, from 0 to 2 degrees in 200 years\n",
    "trend = np.linspace(0, 2, 200)\n",
    "# And some noise. Interannual variability of +- 2 degrees \n",
    "noise = (np.random.rand(200) * 4) - 2\n",
    "# Add the noise to the trend\n",
    "bias = trend + noise"
   ]
  },
  {
   "cell_type": "markdown",
   "id": "5b850aab-9a87-491b-9d30-6dc335112b9d",
   "metadata": {},
   "source": [
    "We first add only some noise to get a noisy \"spin up\" of the glacier."
   ]
  },
  {
   "cell_type": "code",
   "execution_count": null,
   "id": "c22efdc2-2302-43fa-abe3-f3254b34eb9d",
   "metadata": {},
   "outputs": [],
   "source": [
    "noise = (np.random.rand(500) * 4) - 2\n",
    "glacier.mass_balance.temp_bias_series = noise"
   ]
  },
  {
   "cell_type": "markdown",
   "id": "353053f2-e630-4b29-ad87-e17b2131377d",
   "metadata": {},
   "source": [
    "Then lets add the trend, remember that this will append to the future of the climate."
   ]
  },
  {
   "cell_type": "code",
   "execution_count": null,
   "id": "34430b8e-3d51-4051-a1bc-5c87b31cf33c",
   "metadata": {},
   "outputs": [],
   "source": [
    "glacier.mass_balance.temp_bias_series = bias"
   ]
  },
  {
   "cell_type": "markdown",
   "id": "534bb50e-5e7e-43ce-bf95-572bf7b56d57",
   "metadata": {},
   "source": [
    "Progress to the end of the climate data."
   ]
  },
  {
   "cell_type": "code",
   "execution_count": null,
   "id": "8a9d0bcb-8096-438a-b36e-cf7e0314a73d",
   "metadata": {},
   "outputs": [],
   "source": [
    "glacier.progress_to_year(700)"
   ]
  },
  {
   "cell_type": "markdown",
   "id": "334a8d88-c31b-470b-9506-9b799c51a654",
   "metadata": {},
   "source": [
    "<div class=\"alert alert-info\">\n",
    "    <b>Again, try running the cell below with different values for the window size.</b>\n",
    "</div>"
   ]
  },
  {
   "cell_type": "code",
   "execution_count": null,
   "id": "febafb35-33da-43b9-9f52-df2f75653cdb",
   "metadata": {},
   "outputs": [],
   "source": [
    "glacier.plot_history(show_bias=True)"
   ]
  },
  {
   "cell_type": "markdown",
   "id": "80230675-fda6-488f-bef4-3f6d79b87b71",
   "metadata": {},
   "source": [
    "Conveniently, the `.add_temperature_bias` has an argument which adds noise to the trend."
   ]
  },
  {
   "cell_type": "code",
   "execution_count": null,
   "id": "073f7de2-92c5-490b-b2fd-44c38117e2f8",
   "metadata": {},
   "outputs": [],
   "source": [
    "glacier.reset()"
   ]
  },
  {
   "cell_type": "code",
   "execution_count": null,
   "id": "681ad1b8-8c71-4f85-bac6-93ed297ff31d",
   "metadata": {},
   "outputs": [],
   "source": [
    "glacier.add_temperature_bias(bias=2., duration=500, noise=(-2, 2))"
   ]
  },
  {
   "cell_type": "code",
   "execution_count": null,
   "id": "82fcb879-a239-49de-9680-68cbf1a55e1c",
   "metadata": {},
   "outputs": [],
   "source": [
    "glacier.progress_to_year(500)"
   ]
  },
  {
   "cell_type": "code",
   "execution_count": null,
   "id": "db72073d-f39a-41f7-86b3-fc740df51381",
   "metadata": {},
   "outputs": [],
   "source": [
    "glacier.plot_history(show_bias=True)"
   ]
  },
  {
   "cell_type": "markdown",
   "id": "eeee1f9d-9af5-4783-8482-c3e4679f81f2",
   "metadata": {},
   "source": [
    "Now you should have the tools to create your own climates for OGGM-Edu glaciers and see how they filter the climate."
   ]
  },
  {
   "cell_type": "markdown",
   "id": "b8542b3c-cb83-4c4b-968d-3e99b963e10c",
   "metadata": {},
   "source": [
    "## What's next?"
   ]
  },
  {
   "cell_type": "markdown",
   "id": "43edc509-8e07-4cec-813b-7a0839e4d719",
   "metadata": {},
   "source": [
    "[Back to the table of contents](../welcome.ipynb)"
   ]
  }
 ],
 "metadata": {
  "kernelspec": {
   "display_name": "Python 3 (ipykernel)",
   "language": "python",
   "name": "python3"
  },
  "language_info": {
   "codemirror_mode": {
    "name": "ipython",
    "version": 3
   },
   "file_extension": ".py",
   "mimetype": "text/x-python",
   "name": "python",
   "nbconvert_exporter": "python",
   "pygments_lexer": "ipython3",
   "version": "3.9.12"
  }
 },
 "nbformat": 4,
 "nbformat_minor": 5
}
