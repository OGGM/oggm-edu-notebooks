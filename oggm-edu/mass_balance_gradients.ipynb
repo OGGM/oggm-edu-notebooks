{
 "cells": [
  {
   "cell_type": "markdown",
   "metadata": {},
   "source": [
    "# Mass balance gradients (MBG) and their influence on glacier flow"
   ]
  },
  {
   "cell_type": "markdown",
   "metadata": {},
   "source": [
    "Goals of this notebook:\n",
    "\n",
    "\n",
    "- The student will be able to explain the terms: mass balance gradient, equilibrium state and response time.\n",
    "- The student will be able to compute different MBGs with OGGM.\n",
    "- The student will be able to compute response times for different equilibirum line altitudes."
   ]
  },
  {
   "cell_type": "markdown",
   "metadata": {},
   "source": [
    "If the concept of mass balance is completely new to you, have a short read about it [here](http://www.antarcticglaciers.org/glacier-processes/introduction-glacier-mass-balance/) up to the paragraph \"*So what is Glacier Mass Balance?*\". In this notebook we will set-up a few simple runs to understand which characteristics of glaciers come along with different MBGs. So we will look closer on the topics volume and response time."
   ]
  },
  {
   "cell_type": "markdown",
   "metadata": {},
   "source": [
    "First, we have to import all needed modules:"
   ]
  },
  {
   "cell_type": "code",
   "execution_count": null,
   "metadata": {},
   "outputs": [],
   "source": [
    "# Plotting libraries and plot style\n",
    "import matplotlib.pyplot as plt\n",
    "%matplotlib inline\n",
    "\n",
    "import seaborn as sns\n",
    "sns.set_context('notebook')\n",
    "sns.set_style('ticks')\n",
    "\n",
    "# Scientific packages\n",
    "import numpy as np\n",
    "import pandas as pd\n",
    "\n",
    "# Constants\n",
    "from oggm import cfg\n",
    "cfg.initialize_minimal()\n",
    "\n",
    "# Mass-balance model\n",
    "from oggm.core.massbalance import LinearMassBalance\n",
    "# There are several numerical implementations in OGGM core. We use the \"FluxBasedModel\"\n",
    "from oggm.core.flowline import FluxBasedModel as FlowlineModel\n",
    "# Glacier shape\n",
    "from oggm.core.flowline import RectangularBedFlowline\n",
    "\n",
    "# OGGM Edu helper functions\n",
    "import oggm_edu as edu"
   ]
  },
  {
   "cell_type": "markdown",
   "metadata": {},
   "source": [
    "We set-up a simple model with a linear bedrock (see [getting started with flowline models](flowline_model.ipynb)) to generate a set-up for our experiment."
   ]
  },
  {
   "cell_type": "code",
   "execution_count": null,
   "metadata": {},
   "outputs": [],
   "source": [
    "# define horizontal resolution of the model:\n",
    "# nx: number of grid points\n",
    "# map_dx: grid point spacing in meters\n",
    "nx = 200\n",
    "map_dx = 100"
   ]
  },
  {
   "cell_type": "code",
   "execution_count": null,
   "metadata": {},
   "outputs": [],
   "source": [
    "# define glacier top and bottom altitudes in meters\n",
    "top = 3400\n",
    "bottom = 1400"
   ]
  },
  {
   "cell_type": "code",
   "execution_count": null,
   "metadata": {},
   "outputs": [],
   "source": [
    "# This is the bed rock, linearily decreasing from top altitude to bottom altitude, in nx steps\n",
    "bed_h = np.linspace(top, bottom, nx)\n",
    "\n",
    "# At the begining, there is no glacier so our glacier surface is at the bed altitude\n",
    "surface_h = bed_h\n",
    "\n",
    "# calculate the corresponding distance along the glacier (from the top)\n",
    "distance_along_glacier = edu.distance_along_glacier(nx, map_dx)  # in km\n",
    "\n",
    "# Define the glacier width as we did in flowline_model\n",
    "initial_width = 300  # width in meters\n",
    "\n",
    "# Now describe the widths in \"grid points\" for the model, based on grid point spacing map_dx\n",
    "widths = np.zeros(nx) + initial_width/map_dx\n",
    "\n",
    "# Define our bed\n",
    "init_flowline = RectangularBedFlowline(surface_h=surface_h, bed_h=bed_h, widths=widths, map_dx=map_dx)"
   ]
  },
  {
   "cell_type": "markdown",
   "metadata": {},
   "source": [
    "## Changing the mass balance gradient (MBG)\n",
    "The MBG is defined as the change of the mass balance with altitude.[¹](#References) It depends strongly on the climate.[²](#References) \n",
    "\n",
    "Let's have a look at some examples:"
   ]
  },
  {
   "cell_type": "code",
   "execution_count": null,
   "metadata": {},
   "outputs": [],
   "source": [
    "# Define the MBGs we want to compare: (we worked with grad=4mm/m in the \n",
    "# glacier flowline modelling notebook)\n",
    "# We will calculate models with the MBGs: 0.3, 4 and 15 mm/m. These numbers can be found for real glaciers. \n",
    "grad = [0.3, 4, 15]\n",
    "\n",
    "# Define the time period for which the glacier should be calculated:\n",
    "years = 300"
   ]
  },
  {
   "cell_type": "code",
   "execution_count": null,
   "metadata": {},
   "outputs": [],
   "source": [
    "# In the following lists intermediate steps of the models will be saved\n",
    "mb_models = []\n",
    "annual_mb = []\n",
    "# here the \"final\" models will be saved\n",
    "models = []\n",
    "# Colors for the graphs\n",
    "colors = ['C1', 'C3', 'C5'] \n",
    "# equilibrium line altitude (ELA)\n",
    "ELA = 3000\n",
    "\n",
    "for k, gradient in enumerate(grad):\n",
    "    # Calculation of the mass balance models for each gradient \n",
    "    a = LinearMassBalance(ELA, grad=gradient)\n",
    "    mb_models.append(a)\n",
    "    # Calculation of the annual mass balance along the glacier profile\n",
    "    annual_mb.append(a.get_annual_mb(surface_h) * cfg.SEC_IN_YEAR)\n",
    "    # The models require the initial glacier bed, a mass balance model, and an initial time (the year y0)\n",
    "    models.append(FlowlineModel(init_flowline, mb_model=a, y0=0.))\n",
    "    # First, look at the state of the glacier models after the chosen amount of years\n",
    "    models[k].run_until(years)"
   ]
  },
  {
   "cell_type": "code",
   "execution_count": null,
   "metadata": {},
   "outputs": [],
   "source": [
    "# Plot the results\n",
    "plt.figure(figsize=[14,6])\n",
    "\n",
    "plt.subplot(121)\n",
    "# Annual mass balance\n",
    "for k, ann_mb in enumerate(annual_mb):\n",
    "    plt.plot(ann_mb, bed_h, color=colors[k], label='Mass balance, grad='+ str(grad[k]))\n",
    "# Add ELA, where mass balance = 0:\n",
    "plt.axhline(y=ELA, color='k', linestyle='--', linewidth=0.8, label='Equilibrium line altitude')\n",
    "plt.axvline(x=0, color='k', linestyle='--', linewidth=0.8)\n",
    "plt.xlabel('Annual mass balance (m yr-1)')\n",
    "plt.ylabel('Altitude (m)')\n",
    "plt.legend(loc='best');\n",
    "\n",
    "plt.subplot(122)\n",
    "# Plot the initial conditions first:\n",
    "plt.plot(distance_along_glacier, init_flowline.surface_h, label='Initial glacier')\n",
    "# Get the modelled flowline (model.fls[-1]) and plot its new surface\n",
    "for k, model in enumerate(models):\n",
    "    plt.plot(distance_along_glacier, model.fls[-1].surface_h, label='Glacier after {} years, '.format(model.yr) + 'grad=' + str(grad[k]), color=colors[k])\n",
    "# Add ELA:\n",
    "plt.axhline(y=ELA, color='k', linestyle='--', linewidth=0.8, label='Equilibrium line altitude')\n",
    "# Add the bedrock:\n",
    "edu.plot_xz_bed(distance_along_glacier, bed_h)"
   ]
  },
  {
   "cell_type": "markdown",
   "metadata": {},
   "source": [
    "In the left graphic we see that higher gradients show shallower slopes. The model with the highest gradient (purple line) experiences the highest ablation and accumulation. Therefore it shows the longest and thickest glacier after the chosen amount of calculated years (compare the right graphic). As the models are all calculated the same time span we can conclude that a high gradient leads to faster growing of a glacier. \n",
    "\n",
    "What do you think: where do we find glaciers with high MBGs?\n",
    "\n",
    "You will find a short explanation in this [paragraph](http://www.antarcticglaciers.org/modern-glaciers/introduction-glacier-mass-balance/#SECTION_3) on AntarcticGlaciers.org."
   ]
  },
  {
   "cell_type": "markdown",
   "metadata": {},
   "source": [
    "## Equilibrium state "
   ]
  },
  {
   "cell_type": "markdown",
   "metadata": {},
   "source": [
    "Glaciers change their geometry to adapt to the climate.³ If the climate stayed constant for a while, after a certain time glaciers would reach an equilibrium state, where ablation = accumulation.[⁴](#References) \n",
    "\n",
    "Now we will look how fast our glacier models with different gradients reach this state and compare their shapes:"
   ]
  },
  {
   "cell_type": "code",
   "execution_count": null,
   "metadata": {},
   "outputs": [],
   "source": [
    "# Plot it\n",
    "plt.figure(figsize=[9,6])\n",
    "# Plot the initial conditions first:\n",
    "plt.plot(distance_along_glacier, init_flowline.surface_h, label='Initial glacier')\n",
    "\n",
    "for k, model in enumerate(models):\n",
    "    # Run the different glacier models until they reach an equilibrium state\n",
    "    model.run_until_equilibrium(rate=0.006)\n",
    "    # Get the modelled flowline (model.fls[-1]) and plot its new surface\n",
    "    plt.plot(distance_along_glacier, model.fls[-1].surface_h, \n",
    "             label='Glacier at equilibrium, grad=' + str(grad[k]), \n",
    "             color=colors[k])\n",
    "plt.title('Equilibrium state of glacier models')\n",
    "    # Add the bedrock:\n",
    "edu.plot_xz_bed(distance_along_glacier, bed_h)"
   ]
  },
  {
   "cell_type": "markdown",
   "metadata": {},
   "source": [
    "The different models reach their equilibrium state after different amounts of years. What does the figure show us? Which glacier is the thickest and longest? Let's look at specific numbers: "
   ]
  },
  {
   "cell_type": "code",
   "execution_count": null,
   "metadata": {},
   "outputs": [],
   "source": [
    "# Create lists with different properties of the glacier models\n",
    "volume = []\n",
    "area = []\n",
    "length = []\n",
    "year = []\n",
    "\n",
    "for model in models:\n",
    "    year.append(model.yr)\n",
    "    volume.append(model.volume_km3)\n",
    "    length.append(model.length_m)\n",
    "    area.append(model.area_km2)\n",
    "\n",
    "# Create a table with the properties of the glacier models\n",
    "dic = {'gradient': grad, 'year': year, 'volume': volume, 'area': area, 'length': length}\n",
    "table = pd.DataFrame.from_dict(dic)\n",
    "table"
   ]
  },
  {
   "cell_type": "markdown",
   "metadata": {},
   "source": [
    "### Volume"
   ]
  },
  {
   "cell_type": "markdown",
   "metadata": {},
   "source": [
    "Let's have a close look at the volume of the glacier models:"
   ]
  },
  {
   "cell_type": "code",
   "execution_count": null,
   "metadata": {},
   "outputs": [],
   "source": [
    "# Plot the volume depending on the gradient\n",
    "plt.figure(figsize=[9,6])\n",
    "plt.plot(table['gradient'], table['volume'])\n",
    "plt.xlabel('gradient')\n",
    "plt.ylabel('volume [km³]');"
   ]
  },
  {
   "cell_type": "markdown",
   "metadata": {},
   "source": [
    "We will add some more values. Be patient, the calculation will take a little bit longer."
   ]
  },
  {
   "cell_type": "code",
   "execution_count": null,
   "metadata": {},
   "outputs": [],
   "source": [
    "# We will calculate models with the MBGs: 1 to 19 with stepsize 2\n",
    "grad = list(range(1, 21, 2))\n",
    "# In the following lists the intermediate steps of the models will be saved\n",
    "mb_models = []\n",
    "annual_mb = []\n",
    "# here the \"final\" models will be saved\n",
    "models = []\n",
    "\n",
    "for k, gradient in enumerate(grad):\n",
    "    a = LinearMassBalance(ELA, grad=gradient)\n",
    "    mb_models.append(a)\n",
    "    # Calculation of the annual mass balance along the glacier profile\n",
    "    annual_mb.append(a.get_annual_mb(surface_h) * cfg.SEC_IN_YEAR)\n",
    "    # The models require the initial glacier bed, a mass balance model, and an initial time (the year y0)\n",
    "    models.append(FlowlineModel(init_flowline, mb_model=a, y0=0.))\n",
    "    # First, look at the state of the glacier models after 300 years\n",
    "    models[k].run_until_equilibrium(rate=0.006)"
   ]
  },
  {
   "cell_type": "code",
   "execution_count": null,
   "metadata": {},
   "outputs": [],
   "source": [
    "# create lists with different properties of the glacier models\n",
    "volume = []\n",
    "area = []\n",
    "length = []\n",
    "year = []\n",
    "\n",
    "for model in models:\n",
    "    year.append(model.yr)\n",
    "    volume.append(model.volume_km3)\n",
    "    length.append(model.length_m)\n",
    "    area.append(model.area_km2)\n",
    "\n",
    "dic = {'gradient': grad, 'year': year, 'volume': volume, 'area': area, 'length': length}\n",
    "table = pd.DataFrame.from_dict(dic)\n",
    "table"
   ]
  },
  {
   "cell_type": "code",
   "execution_count": null,
   "metadata": {},
   "outputs": [],
   "source": [
    "# Plot it\n",
    "plt.figure(figsize=[14,8])\n",
    "plt.plot(table['gradient'], table['volume'])\n",
    "plt.xlabel('MBG')\n",
    "plt.ylabel('Volume [km³]');"
   ]
  },
  {
   "cell_type": "markdown",
   "metadata": {},
   "source": [
    "## Response time\n",
    "The glacier response time is the period of time a glacier needs to adjust its geometry to changes in mass balance caused by climate change and reach a new equilibrium state. There are a some slightly different definitions for its calculation. In this notebook we will use the definition according to Oerlemans (formula below).[⁵](#References)\n",
    "\n",
    "\n",
    "We will now compare the response times of glaciers with different MBGs. Let's simulate a climate change by changing the equilibrium line altitude for the three glacier models calculated before:"
   ]
  },
  {
   "cell_type": "code",
   "execution_count": null,
   "metadata": {},
   "outputs": [],
   "source": [
    "# Initialization of the models used before:\n",
    "grad = [0.3, 4, 15]\n",
    "mb_models = []\n",
    "annual_mb = []\n",
    "# here the \"final\" models will be saved\n",
    "models = []\n",
    "# Colors for the graphs\n",
    "colors = ['C1', 'C3', 'C5'] \n",
    "# equilibrium line altitude (ELA)\n",
    "ELA = 3000\n",
    "for k, gradient in enumerate(grad):\n",
    "    # Calculation of the mass balance models for each gradient \n",
    "    a = LinearMassBalance(ELA, grad=gradient)\n",
    "    mb_models.append(a)\n",
    "    # The models require the initial glacier bed, a mass balance model, and an initial time (the year y0)\n",
    "    models.append(FlowlineModel(init_flowline, mb_model=a, y0=0.))\n",
    "    # First, look at the state of the glacier models after the chosen amount of years\n",
    "    models[k].run_until_equilibrium(rate=0.006)"
   ]
  },
  {
   "cell_type": "markdown",
   "metadata": {},
   "source": [
    "Equilibrium line altitude for the \"new climate\":"
   ]
  },
  {
   "cell_type": "code",
   "execution_count": null,
   "metadata": {},
   "outputs": [],
   "source": [
    "# First we change the mass balance model, ELA decreases \n",
    "# (what could this tell us about the climate?)\n",
    "new_ELA = 2800  # m\n",
    "mb_model1 = LinearMassBalance(new_ELA, grad=0.3)"
   ]
  },
  {
   "cell_type": "markdown",
   "metadata": {},
   "source": [
    "The next step is the calculation of the response time. Here we use the [volume response time](https://www.tandfonline.com/doi/pdf/10.1080/00040851.1997.12003238?needAccess=true), which is e-folding, according to Oerlemans:[⁵](#References)\n",
    "$$\\tau = t \\left(V=V_2 - \\frac{V_2 - V_1}{e}\\right)$$\n",
    "Hereby, the volumes correspond to the glacier volumes at steady state for the reference volume $V_1$ and the volume $V_2$ adapted to the new climate."
   ]
  },
  {
   "cell_type": "code",
   "execution_count": null,
   "metadata": {},
   "outputs": [],
   "source": [
    "# With the following function you can calculate the response time in years\n",
    "# (the reference model has to be in equilibrium state)\n",
    "models[0].run_until_equilibrium(rate=0.006)\n",
    "response_time_1, model1_eq = edu.response_time_vol(models[0], mb_model1)\n",
    "print('The response time of model 1 is {} years.'.format(response_time_1))"
   ]
  },
  {
   "cell_type": "code",
   "execution_count": null,
   "metadata": {},
   "outputs": [],
   "source": [
    "plt.figure(figsize=(9,6))\n",
    "# Get the modelled flowline (model.fls[-1]) and plot its new surface\n",
    "plt.plot(distance_along_glacier, models[0].fls[-1].surface_h, label='Initial glacier after {} years in prior equilibrium'.format(models[0].yr), color='C1')\n",
    "plt.plot(distance_along_glacier, model1_eq.fls[-1].surface_h, label='Glacier after {} years in new equilibrium state'.format(model1_eq.yr), color='C9')\n",
    "\n",
    "# Plot the equilibrium line altitudes\n",
    "plt.axhline(mb_models[0].ela_h, linestyle='--', color='C1', linewidth=0.8, label='ELA initial glacier')\n",
    "plt.axhline(mb_model1.ela_h, linestyle='--', color='C9', linewidth=0.8, label='Changed ELA')\n",
    "plt.title('Grad={}'.format(mb_model1.grad))\n",
    "\n",
    "# Add the bedrock and axes lables:\n",
    "edu.plot_xz_bed(x=distance_along_glacier, bed=bed_h)"
   ]
  },
  {
   "cell_type": "markdown",
   "metadata": {},
   "source": [
    "Now we do the same for the other two examples:"
   ]
  },
  {
   "cell_type": "code",
   "execution_count": null,
   "metadata": {},
   "outputs": [],
   "source": [
    "# change Ela\n",
    "mb_model2 = LinearMassBalance(new_ELA, grad=4)\n",
    "mb_model3 = LinearMassBalance(new_ELA, grad=15)\n",
    "# Calculate the response time in years\n",
    "models[1].run_until_equilibrium(rate=0.006)\n",
    "response_time_2, model2_eq = edu.response_time_vol(models[1], mb_model2)\n",
    "print('The response time of model 2 is {} years.'.format(response_time_2))\n",
    "models[2].run_until_equilibrium(rate=0.006)\n",
    "response_time_3, model3_eq = edu.response_time_vol(models[2], mb_model3)\n",
    "print('The response time of model 3 is {} years.'.format(response_time_3))"
   ]
  },
  {
   "cell_type": "code",
   "execution_count": null,
   "metadata": {},
   "outputs": [],
   "source": [
    "plt.figure(figsize=(16, 6))\n",
    "\n",
    "plt.subplot(1, 2, 1)\n",
    "\n",
    "# Get the modelled flowline (model.fls[-1]) and plot its new surface\n",
    "plt.plot(distance_along_glacier, models[1].fls[-1].surface_h, label='Initial glacier after {} years in prior equilibrium'.format(models[1].yr), color='C9')\n",
    "plt.plot(distance_along_glacier, model2_eq.fls[-1].surface_h, label='Glacier after {} years in new equilibrium state'.format(model2_eq.yr), color='C3')\n",
    "\n",
    "# Plot the equilibrium line altitudes\n",
    "plt.axhline(mb_models[1].ela_h, linestyle='--', color='C9', linewidth=0.8, label='ELA initial glacier')\n",
    "plt.axhline(mb_model2.ela_h, linestyle='--', color='C3', linewidth=0.8, label='Changed ELA')\n",
    "plt.title('Grad={}'.format(mb_model2.grad))\n",
    "# Add the bedrock and axes lables:\n",
    "edu.plot_xz_bed(x=distance_along_glacier, bed = bed_h)\n",
    "\n",
    "plt.subplot(1, 2, 2)\n",
    "\n",
    "# Get the modelled flowline (model.fls[-1]) and plot its new surface\n",
    "plt.plot(distance_along_glacier, models[2].fls[-1].surface_h, label='Initial glacier after {} years in prior equilibrium'.format(models[2].yr), color='C9')\n",
    "plt.plot(distance_along_glacier, model3_eq.fls[-1].surface_h, label='Glacier after {} years in new equilibrium state'.format(model3_eq.yr), color='C5')\n",
    "\n",
    "# Plot the equilibrium line altitudes\n",
    "plt.axhline(mb_models[2].ela_h, linestyle='--', color='C9', linewidth=0.8, label='ELA initial glacier')\n",
    "plt.axhline(mb_model3.ela_h, linestyle='--', color='C5', linewidth=0.8, label='Changed ELA')\n",
    "plt.title('Grad={}'.format(mb_model3.grad))\n",
    "\n",
    "# Add the bedrock and axes lables:\n",
    "edu.plot_xz_bed(x=distance_along_glacier, bed=bed_h)"
   ]
  },
  {
   "cell_type": "markdown",
   "metadata": {},
   "source": [
    "Compare the response times. From our results we can only discuss this qualitatively. Glaciers with small MBG need more time to adjust to climate changes than glaciers with high MBGs (under the condition that the changes are similar). Glaciers with gradients as high as the third model need only a few years to adjust to the climate (compare Franz Josef glacier in New Zealand[⁶](#References)).[⁷](#References) The response time of glaciers with low gradients is in reality much higher than 200 years, actually around 2000 years.  In general, we have to consider that the response time depends also on other features like the glacier-type,  size, bed slope and average surface elevation.[⁴](#References)"
   ]
  },
  {
   "cell_type": "markdown",
   "metadata": {},
   "source": [
    "## References\n",
    "\n",
    "¹ Rasmussen, L. A., & Andreassen, L. M. (2005). Seasonal mass-balance gradients in Norway. *Journal of Glaciology*, 51(175), 601-606.\n",
    "\n",
    "² Oerlemans, J., & Fortuin, J. P. F. (1992). Sensitivity of glaciers and small ice caps to greenhouse warming. *Science, 258(5079)*, 115-117.\n",
    "\n",
    "³ Oerlemans, J. (2001). *Glaciers and climate change*. CRC Press.\n",
    "\n",
    "⁴ Encyclopedia of snow, ice and glaciers, V.P. Singh, P. Singh, and U.K. Haritashya, Editors. 2011, Springer: Dordrecht, The Netherlands. p. 245-256.\n",
    "\n",
    "⁵ Oerlemans, J. (1997). Climate sensitivity of Franz Josef Glacier, New Zealand, as revealed by numerical modeling. *Arctic and Alpine Research*, 29(2), 233-239.\n",
    "\n",
    "⁶ Anderson, B., Lawson, W., & Owens, I. (2008). Response of Franz Josef Glacier Ka Roimata o Hine Hukatere to climate change. Global and Planetary Change, 63(1), 23-30.\n",
    "\n",
    "⁷ Cuffey, K.M. & Paterson, W.S.B. *The Physics of Glaciers, 4th edition*, 704 (Academic Press, 2010).\n"
   ]
  },
  {
   "cell_type": "markdown",
   "metadata": {},
   "source": [
    "## What's next?"
   ]
  },
  {
   "cell_type": "markdown",
   "metadata": {},
   "source": [
    "[Back to the table of contents](../welcome.ipynb)"
   ]
  }
 ],
 "metadata": {
  "hide_input": false,
  "kernelspec": {
   "display_name": "Python 3",
   "language": "python",
   "name": "python3"
  },
  "language_info": {
   "codemirror_mode": {
    "name": "ipython",
    "version": 3
   },
   "file_extension": ".py",
   "mimetype": "text/x-python",
   "name": "python",
   "nbconvert_exporter": "python",
   "pygments_lexer": "ipython3",
   "version": "3.8.5"
  },
  "toc": {
   "base_numbering": 1,
   "nav_menu": {},
   "number_sections": false,
   "sideBar": true,
   "skip_h1_title": true,
   "title_cell": "Table of Contents",
   "title_sidebar": "Contents",
   "toc_cell": false,
   "toc_position": {},
   "toc_section_display": true,
   "toc_window_display": false
  }
 },
 "nbformat": 4,
 "nbformat_minor": 4
}
