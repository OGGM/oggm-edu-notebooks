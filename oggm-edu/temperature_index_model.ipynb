{
 "cells": [
  {
   "cell_type": "markdown",
   "metadata": {},
   "source": [
    "# Temperature index models"
   ]
  },
  {
   "cell_type": "markdown",
   "metadata": {},
   "source": [
    "Goals of this notebook:\n",
    "\n",
    "- gain a basic understanding of temperature index models \n",
    "- implement OGGM's temperature index model for a glacier of interest"
   ]
  },
  {
   "cell_type": "code",
   "execution_count": null,
   "metadata": {},
   "outputs": [],
   "source": [
    "# Plotting libraries and plot style\n",
    "import matplotlib.pyplot as plt\n",
    "%matplotlib inline\n",
    "\n",
    "import seaborn as sns\n",
    "sns.set_context('notebook')\n",
    "sns.set_style('ticks')\n",
    "\n",
    "import numpy as np\n",
    "import oggm\n",
    "from oggm import utils, cfg, workflow, graphics"
   ]
  },
  {
   "cell_type": "code",
   "execution_count": null,
   "metadata": {},
   "outputs": [],
   "source": [
    "cfg.initialize()"
   ]
  },
  {
   "cell_type": "markdown",
   "metadata": {},
   "source": [
    "Some settings:"
   ]
  },
  {
   "cell_type": "code",
   "execution_count": null,
   "metadata": {},
   "outputs": [],
   "source": [
    "# define a temporary directory to store the required data to\n",
    "cfg.PATHS['working_dir'] = utils.gettempdir('ti_model')\n",
    "\n",
    "# set the size of the local glacier map: number of grid points outside the glacier boundaries\n",
    "# increasing this parameter will (significantly!) increase the amount of data that needs to be downloaded\n",
    "cfg.PARAMS['border'] = 10"
   ]
  },
  {
   "cell_type": "markdown",
   "metadata": {},
   "source": [
    "## 1 Background"
   ]
  },
  {
   "cell_type": "markdown",
   "metadata": {},
   "source": [
    "Glacier melt significantly influences catchment hydrology. Hence, it is useful to have accurate predictions of runoff from glacierized areas. Generally, there are two classes of melt models:\n",
    "\n",
    "- energy balance models\n",
    "- temperature index models"
   ]
  },
  {
   "cell_type": "markdown",
   "metadata": {},
   "source": [
    "Energy balance models are physical models quantifying melt as the residual of the energy balance equation. These models require measurements of net radiation, wind speed, temperature and surface properties to predict melt. On a glacier, spatially well resolved measurements are demanding and hard to maintain. Hence, a simpler model, the temperature index model, is the most common approach to model glacier melt."
   ]
  },
  {
   "cell_type": "markdown",
   "metadata": {},
   "source": [
    "Temperature index models assume an empirical relationship between air temperatures and melt rates and are a simplification of the energy balance models. The reasoning is that melt is predominantly influenced by the longwave atmospheric radiation and the sensible heat flux - energy balance components that are highly influenced by air temperature [(Hock, 2003)](https://www.sciencedirect.com/science/article/pii/S0022169403002579). The main reason(s) why temperature index models are commonly used are the wide availability of air temperature measurements and computational efficiency."
   ]
  },
  {
   "cell_type": "markdown",
   "metadata": {},
   "source": [
    "## 2 Model setup"
   ]
  },
  {
   "cell_type": "markdown",
   "metadata": {},
   "source": [
    "The simplest temperature index model relates the amount of ice or snow melt $M$ (mm) to the sum of positive air temperatures $T^+$ ($^\\circ$C) by a proportionality factor $DDF$, the *degree-day factor*, for each $n$ time intervals $\\Delta t$:"
   ]
  },
  {
   "cell_type": "markdown",
   "metadata": {},
   "source": [
    "$$\\sum_i^{n} M = DDF \\sum_i^{n} T^+ \\Delta t$$"
   ]
  },
  {
   "cell_type": "markdown",
   "metadata": {},
   "source": [
    "Commonly, $\\Delta t = 1$ day is used - hence the name *degree-day factor*. However, any other time interval $\\Delta t$, e.g. hourly or monthly, can be used to determine $DDF$. In practice, the model requires measurements of air temperature and glacier mass balance to estimate $DDF$ - once calculated, $DDF$ can be used to predict melt by only measuring air temperature [(Hock, 2003)](https://www.sciencedirect.com/science/article/pii/S0022169403002579). However, this temperature index model, also called [*degree-day model*](http://www.antarcticglaciers.org/glaciers-and-climate/numerical-ice-sheet-models/modelling-glacier-melt/), is not able to predict glacier surface mass balance."
   ]
  },
  {
   "cell_type": "markdown",
   "metadata": {},
   "source": [
    "To model glacier surface mass balance, a more sophisticated temperature index model was developed by [Marzeion et al., (2012)](https://www.the-cryosphere.net/6/1295/2012/tc-6-1295-2012.html). The monthly mass balance $B_i$ at elevation $z$ is computed as"
   ]
  },
  {
   "cell_type": "markdown",
   "metadata": {},
   "source": [
    "$$B_i(z) = P_i^{solid}(z) - \\mu^* \\text{max}(T_i(z) - T_{melt}, 0) - \\epsilon$$"
   ]
  },
  {
   "cell_type": "markdown",
   "metadata": {},
   "source": [
    "where $P_i^{Solid}$ is the monthly solid precipitation, $T_i$ the monthly average temperature, $T_{Melt}$ the monthly average temperature above which ice melt is assumed and $\\epsilon$ the residual. $\\epsilon$ is assumed to be a random error taking account for uncertainties associated with unresolved physical processes. $\\mu^*$ is the temperature sensitivity of the glacier and it depends on many parameters, mostly glacier specific (e.g., avalanches, topographical shading, cloudiness, ...)."
   ]
  },
  {
   "cell_type": "markdown",
   "metadata": {},
   "source": [
    "### 2.1 Degrees of freedom"
   ]
  },
  {
   "cell_type": "markdown",
   "metadata": {},
   "source": [
    "Among others, the temperature sensitivity $\\mu^*$, the threshold for melt $T_{Melt}$ and the implicit threshold for solid precipitation $T_{Solid}$ are important degrees of freedom of the model - $T_{Solid}$ is the monthly average temperature below which precipitation is assumed to be solid."
   ]
  },
  {
   "cell_type": "markdown",
   "metadata": {},
   "source": [
    "Generally, $T_{Melt}$ and $T_{Solid}$ can vary both spatially and temporally on a specific glacier. However, commonly the two thresholds $T_{Melt}$ and $T_{Solid}$ are assumed to be constant. $T_{Melt}$ and $T_{Solid}$ significantly influence the predicted mass balance $B$ by determining the months which are taken into account in the calculation. "
   ]
  },
  {
   "cell_type": "markdown",
   "metadata": {},
   "source": [
    "Both $T_{Melt}$ and $T_{Solid}$ can be determined by a physical reasoning: we know that both snow melts and precipitation becomes solid at around $0^{\\circ}$C. Hence, the two thresholds $T_{Melt}$ and $T_{Solid}$ are within a natural range that depends on the climatological conditions at a specific glacier site."
   ]
  },
  {
   "cell_type": "markdown",
   "metadata": {},
   "source": [
    "In OGGM, $T_{Melt}$ and $T_{Solid}$ are constants and you can access the default values via the ``cfg`` module:"
   ]
  },
  {
   "cell_type": "code",
   "execution_count": null,
   "metadata": {},
   "outputs": [],
   "source": [
    "# the default temperature below which solid precipitation is assumed\n",
    "print('T_solid = {}°C'.format(cfg.PARAMS['temp_all_solid']))\n",
    "# the default temperature above which melt is assumed to occur\n",
    "print('T_melt = {}°C'.format(cfg.PARAMS['temp_melt']))"
   ]
  },
  {
   "cell_type": "markdown",
   "metadata": {},
   "source": [
    "Similarly, you can use your own $T_{Melt}$ and $T_{Solid}$ if you feel like it:"
   ]
  },
  {
   "cell_type": "code",
   "execution_count": null,
   "metadata": {},
   "outputs": [],
   "source": [
    "# don't run this ...\n",
    "# cfg.PARAMS['temp_all_solid'] = 100\n",
    "# cfg.PARAMS['temp_melt'] = - 273.15"
   ]
  },
  {
   "cell_type": "markdown",
   "metadata": {},
   "source": [
    "The temperature sensitivity $\\mu^*$ is glacier specific and mostly determined using statistical error minimization techniques, e.g. [ordinary least squares](https://en.wikipedia.org/wiki/Ordinary_least_squares) (OLS). Such statistical techniques are very sensitive to the sample size - a general issue in glaciology is that the sample size of annual mass balance records is poor for many glaciers."
   ]
  },
  {
   "cell_type": "markdown",
   "metadata": {},
   "source": [
    "However, assume that a $100$ year long mass balance record together with temperature and precipitation measurements is available for a specific glacier (this is a best case example and only very few glaciers actually have such long records). OLS will find a statistically significant $\\mu^*$ which you can happily use to model mass balance. But what happens if you only use $30$ years out of the $100$ year record? OLS will find another statistically significant $\\mu^*$ that is different from the one determined by the $100$ year record - and another statistically significant $\\mu^*$ can be found for each reasonable subset of the original $100$ year record. This implies that $\\mu^*$ is generally a time dependent temperature sensitivity $\\mu^*(t)$."
   ]
  },
  {
   "cell_type": "markdown",
   "metadata": {},
   "source": [
    "For this reason, OGGM implements a calibration procedure, introduced by [Marzeion et al., (2012)](https://www.the-cryosphere.net/6/1295/2012/tc-6-1295-2012.html), to determine a constant glacier specific $\\mu^*$ out of the time dependent $\\mu^*(t)$ candidates. This calibration is beyond the scope of this notebook and you can read about it in detail [here](https://www.the-cryosphere.net/6/1295/2012/tc-6-1295-2012.html) and check out an example implementation in OGGM [here](https://docs.oggm.org/en/stable/mass-balance.html#calibration)."
   ]
  },
  {
   "cell_type": "markdown",
   "metadata": {},
   "source": [
    "## 3 Implementation in OGGM"
   ]
  },
  {
   "cell_type": "markdown",
   "metadata": {},
   "source": [
    "First, we need to define a glacier directory:"
   ]
  },
  {
   "cell_type": "code",
   "execution_count": null,
   "metadata": {},
   "outputs": [],
   "source": [
    "# this may take a while\n",
    "gdir = workflow.init_glacier_directories([utils.demo_glacier_id('hef')], from_prepro_level=3)[0]"
   ]
  },
  {
   "cell_type": "markdown",
   "metadata": {},
   "source": [
    "If you want to look at your model domain, you can plot it using:"
   ]
  },
  {
   "cell_type": "code",
   "execution_count": null,
   "metadata": {},
   "outputs": [],
   "source": [
    "# graphics.plot_domain(gdir)"
   ]
  },
  {
   "cell_type": "markdown",
   "metadata": {},
   "source": [
    "In OGGM, the calibrated temperature index model for each glacier is accessible via the ``PastMassBalance`` class of the ``massbalance`` module:"
   ]
  },
  {
   "cell_type": "code",
   "execution_count": null,
   "metadata": {},
   "outputs": [],
   "source": [
    "from oggm.core import massbalance"
   ]
  },
  {
   "cell_type": "code",
   "execution_count": null,
   "metadata": {},
   "outputs": [],
   "source": [
    "# this class is the calibrated temperature index model\n",
    "mb_cal = massbalance.PastMassBalance(gdir)"
   ]
  },
  {
   "cell_type": "markdown",
   "metadata": {},
   "source": [
    "In this case,"
   ]
  },
  {
   "cell_type": "code",
   "execution_count": null,
   "metadata": {},
   "outputs": [],
   "source": [
    "print('the glacier selected is {},'.format(gdir.name))"
   ]
  },
  {
   "cell_type": "markdown",
   "metadata": {},
   "source": [
    "and its calibrated temperature sensitivity $\\mu^*$ is"
   ]
  },
  {
   "cell_type": "code",
   "execution_count": null,
   "metadata": {},
   "outputs": [],
   "source": [
    "print('mu_star = {:2f} mm K^-1 yr^-1.'.format(mb_cal.mu_star))"
   ]
  },
  {
   "cell_type": "markdown",
   "metadata": {},
   "source": [
    "Similarly, the residual $\\epsilon$ is"
   ]
  },
  {
   "cell_type": "code",
   "execution_count": null,
   "metadata": {},
   "outputs": [],
   "source": [
    "print('epsilon = {:2f} mm.'.format(mb_cal.bias))"
   ]
  },
  {
   "cell_type": "markdown",
   "metadata": {},
   "source": [
    "### 3.1 Climate data"
   ]
  },
  {
   "cell_type": "markdown",
   "metadata": {},
   "source": [
    "Per default, the temperature index model is driven by the $0.5^{\\circ} \\times 0.5^{\\circ}$ gridded global [CRU TS](https://crudata.uea.ac.uk/cru/data/hrg/) climate dataset. These climate data are then downscaled to a higher resolution grid to allow for an elevation-dependent dataset. The climate data at the reference height used to drive the temperature index model and to determine the calibrated $\\mu^*$ of the selected glacier can be accessed via the glacier directory:"
   ]
  },
  {
   "cell_type": "code",
   "execution_count": null,
   "metadata": {},
   "outputs": [],
   "source": [
    "fpath = gdir.get_filepath('climate_historical')"
   ]
  },
  {
   "cell_type": "code",
   "execution_count": null,
   "metadata": {},
   "outputs": [],
   "source": [
    "print(fpath)"
   ]
  },
  {
   "cell_type": "markdown",
   "metadata": {},
   "source": [
    "This is the temporary path where OGGM stored its climate data on your machine. You can read the climate data using ``xarray``:"
   ]
  },
  {
   "cell_type": "code",
   "execution_count": null,
   "metadata": {},
   "outputs": [],
   "source": [
    "import xarray as xr"
   ]
  },
  {
   "cell_type": "code",
   "execution_count": null,
   "metadata": {},
   "outputs": [],
   "source": [
    "climate = xr.open_dataset(fpath)\n",
    "climate"
   ]
  },
  {
   "cell_type": "markdown",
   "metadata": {},
   "source": [
    "The climate dataset has two variables, the monthly total precipitation ``prcp`` and the monthly average temperature ``temp``. Let's calculate the mean annual cycle of average temperature and total precipitation,"
   ]
  },
  {
   "cell_type": "code",
   "execution_count": null,
   "metadata": {},
   "outputs": [],
   "source": [
    "annual_cycle = climate.groupby('time.month').mean(dim='time')"
   ]
  },
  {
   "cell_type": "markdown",
   "metadata": {},
   "source": [
    "and plot it, to get an intuitive view on the climate conditions at the selected glacier site."
   ]
  },
  {
   "cell_type": "code",
   "execution_count": null,
   "metadata": {},
   "outputs": [],
   "source": [
    "import calendar"
   ]
  },
  {
   "cell_type": "code",
   "execution_count": null,
   "metadata": {},
   "outputs": [],
   "source": [
    "fig, ax = plt.subplots(1, 2, figsize=(16, 9))\n",
    "ax[0].plot(annual_cycle.month, annual_cycle.temp); ax[1].plot(annual_cycle.month, annual_cycle.prcp);\n",
    "ax[0].set_title('Average temperature / (°C)'); ax[1].set_title('Total precipitation / (mm)');\n",
    "for a in ax:\n",
    "    a.set_xticks(annual_cycle.month.values)\n",
    "    a.set_xticklabels([calendar.month_abbr[m] for m in annual_cycle.month.values])"
   ]
  },
  {
   "cell_type": "markdown",
   "metadata": {},
   "source": [
    "### 3.2 Reference mass balance data"
   ]
  },
  {
   "cell_type": "markdown",
   "metadata": {},
   "source": [
    "OGGM uses in-situ mass balance data from the World Glacier Monitoring Service Fluctuations of Glaciers Database [(WGMS FoGD)](https://wgms.ch/data_databaseversions/). The Fluctuations of Glaciers (FoG) database contains annual mass-balance records for several hundreds of glaciers worldwide. Currently, 254 mass balance time series are available."
   ]
  },
  {
   "cell_type": "markdown",
   "metadata": {},
   "source": [
    "These data are shipped automatically with OGGM and can be accessed via the glacier directory:"
   ]
  },
  {
   "cell_type": "code",
   "execution_count": null,
   "metadata": {},
   "outputs": [],
   "source": [
    "# Get the reference mass-balance from the WGMS FoG Database\n",
    "ref_mb = gdir.get_ref_mb_data()"
   ]
  },
  {
   "cell_type": "code",
   "execution_count": null,
   "metadata": {},
   "outputs": [],
   "source": [
    "ref_mb[['ANNUAL_BALANCE']].plot(title='Annual mass balance: {}'.format(gdir.name), legend=False);"
   ]
  },
  {
   "cell_type": "markdown",
   "metadata": {},
   "source": [
    "### 3.3 Predict mass balance!"
   ]
  },
  {
   "cell_type": "markdown",
   "metadata": {},
   "source": [
    "Now, we are set to calculate glacier mass balance using the temperature index model - we have the model parameters $\\mu^*$ and $\\epsilon$, the thresholds for melt and solid precipitation $T_{Melt}$ and $T_{Solid}$ and the climate dataset. The last thing we need to define are the heights at which we want to calculate the mass balance. Here, we use glacier flowlines along which the mass balance is computed:"
   ]
  },
  {
   "cell_type": "code",
   "execution_count": null,
   "metadata": {},
   "outputs": [],
   "source": [
    "# I need some help explaining the concept of flowlines in more detail if required"
   ]
  },
  {
   "cell_type": "code",
   "execution_count": null,
   "metadata": {},
   "outputs": [],
   "source": [
    "fls = gdir.read_pickle('inversion_flowlines')"
   ]
  },
  {
   "cell_type": "markdown",
   "metadata": {},
   "source": [
    "We will calculate the specific mass balance in mm w.e. yr$^{-1}$ for the years where in-situ mass balance data is available:"
   ]
  },
  {
   "cell_type": "code",
   "execution_count": null,
   "metadata": {},
   "outputs": [],
   "source": [
    "print(ref_mb.index.values)"
   ]
  },
  {
   "cell_type": "markdown",
   "metadata": {},
   "source": [
    "The specific mass balance along the given flowlines is computed by"
   ]
  },
  {
   "cell_type": "code",
   "execution_count": null,
   "metadata": {},
   "outputs": [],
   "source": [
    "ref_mb['OGGM (calib)'] = mb_cal.get_specific_mb(fls=fls, year=ref_mb.index.values)"
   ]
  },
  {
   "cell_type": "markdown",
   "metadata": {},
   "source": [
    "For this calculation we assumed an average ice density of"
   ]
  },
  {
   "cell_type": "code",
   "execution_count": null,
   "metadata": {},
   "outputs": [],
   "source": [
    "print('rho_ice = {} kg m^-3.'.format(cfg.PARAMS['ice_density']))"
   ]
  },
  {
   "cell_type": "markdown",
   "metadata": {},
   "source": [
    "Now, we can compare the actual in-situ mass balance with the modelled mass balance:"
   ]
  },
  {
   "cell_type": "code",
   "execution_count": null,
   "metadata": {},
   "outputs": [],
   "source": [
    "fig, ax = plt.subplots(1, 1)\n",
    "ax.plot(ref_mb['ANNUAL_BALANCE'], label='Observed')\n",
    "ax.plot(ref_mb['OGGM (calib)'], label='Modelled')\n",
    "ax.set_ylabel('Specific mass balance / (mm w.e. y$^{-1}$)')\n",
    "ax.legend(frameon=False);"
   ]
  },
  {
   "cell_type": "markdown",
   "metadata": {},
   "source": [
    "Does not look too bad, does it? To assess model performance, it is helpful to plot the data in a scatter plot:"
   ]
  },
  {
   "cell_type": "code",
   "execution_count": null,
   "metadata": {},
   "outputs": [],
   "source": [
    "fig, ax = plt.subplots(1, 1)\n",
    "ax.plot(ref_mb['ANNUAL_BALANCE'], ref_mb['OGGM (calib)'], 'ok');\n",
    "ax.plot(ref_mb['ANNUAL_BALANCE'], ref_mb['ANNUAL_BALANCE'], '-r');\n",
    "ax.set_xlim(-3000, 2000)\n",
    "ax.set_ylim(-3000, 2000)\n",
    "ax.set_xlabel('Observed');\n",
    "ax.set_ylabel('OGGM (calib)');"
   ]
  },
  {
   "cell_type": "markdown",
   "metadata": {},
   "source": [
    "If the points were aligned along the red line, the model would perfectly predict mass balance. Generally, the model overestimates mass balance in magnitude - the scatter plot shows a steeper slope than the 1 to 1 red line. This is due to specific mass balance beeing dependent not only on the climate but also on the glacier surface area."
   ]
  },
  {
   "cell_type": "markdown",
   "metadata": {},
   "source": [
    "OGGM computes the specific mass balance as a glacier area-weighted average using a constant glacier geometry fixed at the [Randolph Glacier Inventory](https://www.glims.org/RGI/) date, e.g. $2003$ for most glaciers in the European Alps. Glacier geometry is itself a function of climate and may change significantly over time. Hence, assuming a constant glacier geometry over a time period of different climatic conditions can result in a systematic model bias:"
   ]
  },
  {
   "cell_type": "code",
   "execution_count": null,
   "metadata": {},
   "outputs": [],
   "source": [
    "bias = ref_mb['OGGM (calib)'] - ref_mb['ANNUAL_BALANCE']"
   ]
  },
  {
   "cell_type": "code",
   "execution_count": null,
   "metadata": {},
   "outputs": [],
   "source": [
    "fig, ax = plt.subplots(1, 1)\n",
    "ax.plot(bias);"
   ]
  },
  {
   "cell_type": "markdown",
   "metadata": {},
   "source": [
    "The bias is positive at the beginning of the in-situ measurements and shows a negative trend. When keeping the glacier area constant, a positive (negative) bias means, that the calibrated temperature sensitivity $\\mu^*$ of the glacier is too low (high) during time periods of colder (warmer) climates. You can find a simple experiment about the sensitivity of the specific mass balance on climate change and glacier surface area in this [blog post](https://oggm.org/2017/10/01/specmb-ela/)."
   ]
  },
  {
   "cell_type": "markdown",
   "metadata": {},
   "source": [
    "## Take home points"
   ]
  },
  {
   "cell_type": "markdown",
   "metadata": {},
   "source": [
    "- There are two different types of melt models: the energy balance model and the temperature index model\n",
    "- The temperature index model is the computationally efficient simplification of the energy balance model\n",
    "- Temperature index models assume an empirical relationship between air temperature and melt rates\n",
    "- Temperature index models can be extended to model glacier mass balance by adding solid precipitation as a model parameter\n",
    "- The model outcome is significantly influenced by the choice of $T_{Melt}$ and $T_{Solid}$\n",
    "- The temperature sensitivity of a glacier is not constant in time $\\mu^* = \\mu^*(t)$\n",
    "- The specific mass balance is a function of the climate and the glacier surface area"
   ]
  },
  {
   "cell_type": "markdown",
   "metadata": {},
   "source": [
    "## References"
   ]
  },
  {
   "cell_type": "markdown",
   "metadata": {},
   "source": [
    "- Hock R., (2003). Temperature index melt modelling in mountain areas. *Journal of Hydrology*, 281, 104-115. https://doi.org/10.1016/S0022-1694(03)00257-9\n",
    "- Marzeion B., Jarosch A. H. & Hofer M. (2012). Past and future sea-level change from the surface mass balance of glaciers. *The Cryosphere*, 6, 1295-1322. https://doi.org/10.5194/tc-6-1295-2012"
   ]
  },
  {
   "cell_type": "markdown",
   "metadata": {},
   "source": [
    "## What's next?"
   ]
  },
  {
   "cell_type": "markdown",
   "metadata": {},
   "source": [
    "[Back to the table of contents](../welcome.ipynb)"
   ]
  }
 ],
 "metadata": {
  "kernelspec": {
   "display_name": "Python 3",
   "language": "python",
   "name": "python3"
  },
  "language_info": {
   "codemirror_mode": {
    "name": "ipython",
    "version": 3
   },
   "file_extension": ".py",
   "mimetype": "text/x-python",
   "name": "python",
   "nbconvert_exporter": "python",
   "pygments_lexer": "ipython3",
   "version": "3.8.5"
  }
 },
 "nbformat": 4,
 "nbformat_minor": 4
}
