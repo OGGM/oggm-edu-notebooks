{
 "cells": [
  {
   "cell_type": "markdown",
   "metadata": {},
   "source": [
    "# Glacier advance and retreat"
   ]
  },
  {
   "cell_type": "markdown",
   "metadata": {},
   "source": [
    "Goals of this notebook:"
   ]
  },
  {
   "cell_type": "markdown",
   "metadata": {},
   "source": [
    "- understand the concept of the equilibrium line altitude (ELA)\n",
    "- understand the influence of glacier mass balance on the ELA\n",
    "- be able to explain glacier advance and retreat in response to a change in the ELA"
   ]
  },
  {
   "cell_type": "code",
   "execution_count": null,
   "metadata": {},
   "outputs": [],
   "source": [
    "# Constants\n",
    "from oggm import cfg\n",
    "cfg.initialize_minimal()\n",
    "\n",
    "# OGGM flowline model\n",
    "from oggm.core.flowline import RectangularBedFlowline\n",
    "\n",
    "# import oggm-edu helper package\n",
    "import oggm_edu as edu\n",
    "\n",
    "# Scientific packages\n",
    "import numpy as np\n",
    "\n",
    "# OGGM mass-balance model\n",
    "from oggm.core.massbalance import LinearMassBalance\n",
    "\n",
    "# There are several numerical implementations in OGGM core. We use the \"FluxBasedModel\"\n",
    "from oggm.core.flowline import FluxBasedModel as FlowlineModel"
   ]
  },
  {
   "cell_type": "code",
   "execution_count": null,
   "metadata": {},
   "outputs": [],
   "source": [
    "# Plotting libraries and plot style\n",
    "import matplotlib.pyplot as plt\n",
    "%matplotlib inline\n",
    "\n",
    "import seaborn as sns\n",
    "sns.set_context('notebook')\n",
    "sns.set_style('ticks')"
   ]
  },
  {
   "cell_type": "markdown",
   "metadata": {},
   "source": [
    "## A simulation of glacier advance and retreat with OGGM\n",
    "\n",
    "We will first define our idealised glacier, let the glacier grow to an equilibrium state and then model glacier advance and retreat. We represent the different steps as in the [open glacier graphics from the OGGM-EDU website](https://edu.oggm.org/en/latest/glacier_basics.html) (made by Anne Maussion, [Atelier les Gros yeux](http://atelierlesgrosyeux.com/))."
   ]
  },
  {
   "cell_type": "markdown",
   "metadata": {},
   "source": [
    "### Initialisation: Let's define our glacier"
   ]
  },
  {
   "cell_type": "markdown",
   "metadata": {},
   "source": [
    "First, as always, we define a linear bedrock profile:"
   ]
  },
  {
   "cell_type": "code",
   "execution_count": null,
   "metadata": {},
   "outputs": [],
   "source": [
    "# define horizontal resolution of the model:\n",
    "# nx: number of grid points\n",
    "# map_dx: grid point spacing in meters\n",
    "nx = 200\n",
    "map_dx = 200\n",
    "\n",
    "# define glacier top and bottom altitudes in meters\n",
    "top = 5000 \n",
    "bottom = 0\n",
    "\n",
    "# create a linear bedrock profile from top to bottom\n",
    "bed_h, surface_h = edu.define_linear_bed(top, bottom, nx)\n",
    "\n",
    "# calculate the distance from the top to the bottom of the glacier in km\n",
    "distance_along_glacier = edu.distance_along_glacier(nx, map_dx)"
   ]
  },
  {
   "cell_type": "markdown",
   "metadata": {},
   "source": [
    "Often glaciers are wider in the accumulation area, so we also construct our idealised glacier such that it is wider above the ELA. "
   ]
  },
  {
   "cell_type": "code",
   "execution_count": null,
   "metadata": {},
   "outputs": [],
   "source": [
    "# glacier width at the top of the accumulation area: m\n",
    "ACCW = 1000\n",
    "\n",
    "# glacier width at the equilibrium line altitude: m\n",
    "ELAW = 500\n",
    "\n",
    "# fraction of vertical grid points occupied by accumulation area\n",
    "NZ = 1 / 3\n",
    "\n",
    "# create the widths with a \n",
    "widths = edu.define_widths_with_trapezoidal_shape_at_top(topw=ACCW,\n",
    "                                                     bottomw=ELAW,\n",
    "                                                     nx=nx,\n",
    "                                                     nz=NZ,\n",
    "                                                     map_dx=map_dx)\n",
    "\n",
    "# plot the idealized glacier \n",
    "fig = edu.plot_glacier_3d(distance_along_glacier, bed_h, widths, nx, subplot=True)\n",
    "plt.title('our constructed glacier in OGGM')\n",
    "plt.subplot(122)\n",
    "edu.plot_glacier_graphics(num='01', title='illustrated typical mountain glacier')"
   ]
  },
  {
   "cell_type": "markdown",
   "metadata": {},
   "source": [
    "**Now we have defined the idealized width-elevation profile of our glacier (left plot).**  We now also have to define the shape of our cross-section. OGGM supports three different shapes (rectangular, parabolic and trapezoidal); for our experiment we go with the rectangular one:"
   ]
  },
  {
   "cell_type": "code",
   "execution_count": null,
   "metadata": {},
   "outputs": [],
   "source": [
    "# describe the widths in \"grid points\" for the model, based on grid point spacing map_dx\n",
    "mwidths = np.zeros(nx) + widths / map_dx\n",
    "\n",
    "# define the glacier flowline\n",
    "init_flowline = RectangularBedFlowline(surface_h=surface_h,\n",
    "                                       bed_h=bed_h,\n",
    "                                       widths=mwidths,\n",
    "                                       map_dx=map_dx)"
   ]
  },
  {
   "cell_type": "markdown",
   "metadata": {},
   "source": [
    "We also need to define the mass balance distribution over the glacier and let the glacier grow to its initial state. We will explain this in the following:"
   ]
  },
  {
   "cell_type": "markdown",
   "metadata": {},
   "source": [
    "#### **Mass balance and the equilibrium line altitude**"
   ]
  },
  {
   "cell_type": "markdown",
   "metadata": {},
   "source": [
    "The **mass balance** is the result of several processes that either add mass to the glacier (**accumulation**) or remove mass from the glacier (**ablation**). You can find more details in the [accumulation and ablation notebook](accumulation_and_ablation.ipynb). As a summary the following glacier graphics illustrate this relationship: \n",
    "\n",
    "- The left graphic represents a theoretical mass accumulation over the whole glacier depicted by the blue ice volume on top of the grey glacier body.\n",
    "- In the graphic in the middle a theoretical mass ablation is marked as red ice volume.\n",
    "- The  graphic on the right shows the resulting mass balance with blue and red arrows in combination with the blue and red volume changes on top of the grey glacier body. In the central part of the glacier where the red line lies directly on the grey glacier body ablation and accumulation canceled each other out.\n",
    "\n",
    "<img src=\"https://raw.githubusercontent.com/OGGM/glacier-graphics/master/glacier_intro/png/glacier_03.png\" width=\"33%\" align=\"left\">\n",
    "<img src=\"https://raw.githubusercontent.com/OGGM/glacier-graphics/master/glacier_intro/png/glacier_04.png\" width=\"33%\" align=\"left\">\n",
    "<img src=\"https://raw.githubusercontent.com/OGGM/glacier-graphics/master/glacier_intro/png/glacier_05.png\" width=\"33%\" align=\"left\">\n",
    "\n",
    "*Source: [open glacier graphics](http://edu.oggm.org/en/latest/glacier_basics.html) on OGGM-Edu, made by Anne Maussion ([Atelier les Gros yeux](http://atelierlesgrosyeux.com/))*."
   ]
  },
  {
   "cell_type": "markdown",
   "metadata": {},
   "source": [
    "The rates of accumulation and ablation processes, summed over the glacier and over time, determine the *glacier mass balance*: $\\dot{m}$, the change in total mass of snow and ice,"
   ]
  },
  {
   "cell_type": "markdown",
   "metadata": {},
   "source": [
    "$$\\dot{m} = \\text{accumulation} + \\text{ablation}.$$"
   ]
  },
  {
   "cell_type": "markdown",
   "metadata": {},
   "source": [
    "Since accumulation and ablation generally vary with height, also the glacier mass balance is a function of elevation,"
   ]
  },
  {
   "cell_type": "markdown",
   "metadata": {},
   "source": [
    "$$\\dot{m}(z) = \\text{accumulation}(z) + \\text{ablation}(z).$$"
   ]
  },
  {
   "cell_type": "markdown",
   "metadata": {},
   "source": [
    "Mass is continuously redistributed in a glacier: accumulated mass at the top of the glacier is transported downglacier. The driving force of this *ice flow* is gravity. Thus, the mass balance of a region on a glacier depends not only on the mass exchanges induced by accumulation and ablation, but also on the gravity driven transport of ice from the acccumulation area to the ablation area. The *ice flow* is indicated by the grey arrow in this figure:\n",
    "\n",
    "<img src=\"https://raw.githubusercontent.com/OGGM/glacier-graphics/master/glacier_intro/png/glacier_06.png\" width=\"60%\">"
   ]
  },
  {
   "cell_type": "markdown",
   "metadata": {},
   "source": [
    "The altitude where $\\dot{m}(z) = 0$ is called the *equilibrium line altitude*, short ELA. Hence, the ELA is the altitude where accumulation processes and ablation processes balance each other - in theory. However, in reality the ELA does not exactly exist and can only be approximated.\n",
    "<img src=\"https://raw.githubusercontent.com/OGGM/glacier-graphics/master/glacier_intro/png/glacier_07.png\" width=\"60%\">"
   ]
  },
  {
   "cell_type": "markdown",
   "metadata": {},
   "source": [
    "**We want to reproduce these processes above in an experiment using OGGM**.\n",
    "\n",
    "For this purpose we start with defining a linear mass balance model of the form\n",
    "$$\\dot{m}(z) = (z - ELA) \\frac{d\\dot{m}}{dz},$$\n",
    "with the mass balance gradient $\\frac{d\\dot{m}}{dz}$:"
   ]
  },
  {
   "cell_type": "code",
   "execution_count": null,
   "metadata": {},
   "outputs": [],
   "source": [
    "# mass balance gradient with respect to elevation in mm w.e. m^-1 yr^-1\n",
    "mb_grad = 7\n",
    "\n",
    "# equilibrium line altitude: height where the glacier width first hits ELAW\n",
    "ela = bed_h[np.where(widths==ELAW)[0][0]]\n",
    "print('ELA: {:.2f} m'.format(ela))\n",
    "\n",
    "# defining the mass balance model\n",
    "mb_model = LinearMassBalance(ela, grad=mb_grad)"
   ]
  },
  {
   "cell_type": "markdown",
   "metadata": {},
   "source": [
    "Now that we have all the ingredients to run the model, we just have to initialize it:"
   ]
  },
  {
   "cell_type": "code",
   "execution_count": null,
   "metadata": {},
   "outputs": [],
   "source": [
    "# The model requires the initial glacier bed, a mass balance model, and an initial time (the year y0)\n",
    "model = FlowlineModel(init_flowline, mb_model=mb_model, y0=0., min_dt=0, cfl_number=0.01)"
   ]
  },
  {
   "cell_type": "markdown",
   "metadata": {},
   "source": [
    "### Glacier in Equilibrium"
   ]
  },
  {
   "cell_type": "markdown",
   "metadata": {},
   "source": [
    "For a glacier to be in equilibrium, we require the specific mass balance (accumulation + ablation) to be zero averaged over a year on the glacier. A glacier is in equilibrium if the glacier will neither retreat nor advance from one year to the next year if the climate stays constant, i.e. if we don't change the ELA. "
   ]
  },
  {
   "cell_type": "markdown",
   "metadata": {},
   "source": [
    "Let's run the model until our test glacier is in equilibrium:"
   ]
  },
  {
   "cell_type": "code",
   "execution_count": null,
   "metadata": {},
   "outputs": [],
   "source": [
    "model.run_until_equilibrium()"
   ]
  },
  {
   "cell_type": "markdown",
   "metadata": {},
   "source": [
    "Now, we use a linear accumulation and ablation function from the oggm-edu package for the calculation of the net mass balance (= glacier mass distribution without considering ice flow):"
   ]
  },
  {
   "cell_type": "code",
   "execution_count": null,
   "metadata": {},
   "outputs": [],
   "source": [
    "# get the equilibrium surface height of our test glacier in equilibrium\n",
    "initial = model.fls[0].surface_h\n",
    "\n",
    "# accumulation and ablation balance each other\n",
    "acc, acc_0 = edu.linear_accumulation(mb_grad, ela, initial, bed_h, mwidths)\n",
    "abl, abl_0 = edu.linear_ablation(mb_grad, ela, initial, bed_h, mwidths, acc_0)"
   ]
  },
  {
   "cell_type": "markdown",
   "metadata": {},
   "source": [
    "Now, we use a linear accumulation and ablation function from the oggm-edu package:"
   ]
  },
  {
   "cell_type": "markdown",
   "metadata": {},
   "source": [
    "``acc_0`` and ``abl_0`` are the accumulation and the ablation at the ELA, respectively - by construction, they should be equal:"
   ]
  },
  {
   "cell_type": "code",
   "execution_count": null,
   "metadata": {},
   "outputs": [],
   "source": [
    "print('Mass balance at the ELA: {:.2f} m w.e. yr^-1'.format(float(acc_0 - abl_0)))"
   ]
  },
  {
   "cell_type": "markdown",
   "metadata": {},
   "source": [
    "Now, we can define the glacier surface after accumulation and ablation, respectively, and plot them on the glacier. All the code below is mostly for plotting."
   ]
  },
  {
   "cell_type": "code",
   "execution_count": null,
   "metadata": {},
   "outputs": [],
   "source": [
    "# accumulation and ablation surfaces\n",
    "acc_sfc = initial + acc\n",
    "abl_sfc = initial + abl\n",
    "\n",
    "# net mass balance m w.e yr^-1\n",
    "mb_we = acc + abl\n",
    "\n",
    "# theoretical glacier surface without ice flow\n",
    "# corrected to the bed where ice thickness is negative\n",
    "mb_sfc = edu.correct_to_bed(bed_h, initial + mb_we)\n",
    "\n",
    "# plot the model glacier\n",
    "plt.figure(figsize=(22,10))\n",
    "# fig, ax = plt.subplots(1, 1, figsize=(16, 9))\n",
    "ax = plt.subplot(121)\n",
    "edu.intro_glacier_plot(ax, distance_along_glacier, bed_h, initial, [mb_sfc],\n",
    "                       ['theoretical glacier surface of initial glacier\\nwithout considering ice flow'], ela=[ela], plot_ela=True,\n",
    "                       label_init='initial glacier in equilibrium')\n",
    "ax = plt.subplot(122)\n",
    "edu.plot_glacier_graphics(num='05')\n",
    "plt.tight_layout()"
   ]
  },
  {
   "cell_type": "markdown",
   "metadata": {},
   "source": [
    "Although our initial glacier is in equilibrium, it doesn't mean that the mass-balance is zero everywhere. As visualized above, the net positive mass-balance at the top (more accumulation, less ablation) balances out the net negative mass balance at the tongue (less accumulation, more ablation).\n",
    "\n",
    "As explained in the [accumulation and ablation notebook](accumulation_and_ablation.ipynb), the net accumulation at the top implies a flow of ice trough the glacier, which compensates for the melt in the lower areas. \n",
    "\n",
    "**At equilibrium, a glacier's net mass-balance is zero but ice is still moving from top to bottom.**\n",
    "\n",
    "Now we have set the scene to model glacier advance and retreat."
   ]
  },
  {
   "cell_type": "markdown",
   "metadata": {},
   "source": [
    "## Advancing Glacier"
   ]
  },
  {
   "cell_type": "markdown",
   "metadata": {},
   "source": [
    "To simulate a glacier advance, we will use the same glacier as before, but move the ELA downglacier. This is similar to e.g. an abrupt climate cooling over the glacier:"
   ]
  },
  {
   "cell_type": "code",
   "execution_count": null,
   "metadata": {},
   "outputs": [],
   "source": [
    "# number of vertical grid points the ELA is shifted downglacier\n",
    "downglacier = 10\n",
    "\n",
    "#PATRICK you can change this to your method, if you want or we leave it like that\n",
    "# run the model until the glacier reaches an equilibrium state \n",
    "# with its decreased ELA\n",
    "advance = edu.linear_mb_equilibrium(bed_h, surface_h, ACCW, ELAW, NZ, mb_grad,\n",
    "                                    nx, map_dx, idx=downglacier,\n",
    "                                    advance=True, plot=False)"
   ]
  },
  {
   "cell_type": "code",
   "execution_count": null,
   "metadata": {},
   "outputs": [],
   "source": [
    "# decreased ELA\n",
    "ela_adv = advance.mb_model.get_ela()"
   ]
  },
  {
   "cell_type": "code",
   "execution_count": null,
   "metadata": {},
   "outputs": [],
   "source": [
    "print('We move the ELA from initially {:.0f} m downward to {:.0f} m'.format(ela, ela_adv))"
   ]
  },
  {
   "cell_type": "markdown",
   "metadata": {},
   "source": [
    "Now, we can again calculate linear accumulation, ablation and mass balance profiles, but using the decreased ELA:"
   ]
  },
  {
   "cell_type": "code",
   "execution_count": null,
   "metadata": {},
   "outputs": [],
   "source": [
    "# accumulation and ablation balance at the decreased ELA\n",
    "acc_adv, acc_0_adv = edu.linear_accumulation(mb_grad, ela_adv, initial, bed_h, mwidths)\n",
    "abl_adv, abl_0_adv = edu.linear_ablation(mb_grad, ela_adv, initial, bed_h, mwidths, acc_0_adv)\n",
    "\n",
    "# net mass balance m w.e yr^-1\n",
    "mb_adv = acc_adv + abl_adv\n",
    "\n",
    "# theoretical glacier surface without ice flow\n",
    "# corrected to the bed where ice thickness is negative\n",
    "mb_sfc_adv = edu.correct_to_bed(bed_h, initial + mb_adv)"
   ]
  },
  {
   "cell_type": "markdown",
   "metadata": {},
   "source": [
    "The next figure shows the glacier after applying the net mass balance of the decreased ELA:"
   ]
  },
  {
   "cell_type": "code",
   "execution_count": null,
   "metadata": {},
   "outputs": [],
   "source": [
    "# plot the model glacier\n",
    "plt.figure(figsize=(22,10))\n",
    "# fig, ax = plt.subplots(1, 1, figsize=(16, 9))\n",
    "ax = plt.subplot(121)\n",
    "edu.intro_glacier_plot(ax, distance_along_glacier, bed_h, initial, [mb_sfc_adv],\n",
    "                       ['theoretical glacier surface due to ELA decrease\\nwithout considering ice flow'],\n",
    "                       ela=[ela, ela_adv], plot_ela=True,\n",
    "                       label_init='initial glacier in equilibrium',\n",
    "                      labels_ela = ['e.g. colder climate (advance)'])\n",
    "ax = plt.subplot(122)\n",
    "edu.plot_glacier_graphics(num='08')\n",
    "plt.tight_layout()\n"
   ]
  },
  {
   "cell_type": "markdown",
   "metadata": {},
   "source": [
    "More accumulation and/or less ablation leads to a **decrease** of the ELA and therefore to an increase of the accumulation area and a decrease of the ablation area, as shown in the modelled glacier and the illustration.\n",
    "\n",
    "The net mass gain due to the accumulation of mass at the top and the resulting increase in ice flow leads to a glacier advance:"
   ]
  },
  {
   "cell_type": "code",
   "execution_count": null,
   "metadata": {},
   "outputs": [],
   "source": [
    "# the glacier surface in equilibrium with the decreased ELA\n",
    "advance_s = advance.fls[-1].surface_h\n",
    "\n",
    "# plot the model glacier\n",
    "plt.figure(figsize=(22,10))\n",
    "# fig, ax = plt.subplots(1, 1, figsize=(16, 9))\n",
    "ax = plt.subplot(121)\n",
    "edu.intro_glacier_plot(ax, distance_along_glacier, bed_h, initial, [advance_s],\n",
    "                       ['advanced glacier in equilibrium'],\n",
    "                       ela=[ela, ela_adv], plot_ela=True,\n",
    "                       label_init='initial glacier in equilibrium',\n",
    "                      labels_ela = ['e.g. colder climate (advance)'])\n",
    "ax = plt.subplot(122)\n",
    "edu.plot_glacier_graphics(num='09')\n",
    "plt.tight_layout()"
   ]
  },
  {
   "cell_type": "markdown",
   "metadata": {},
   "source": [
    "This downslope glacier advance is the result of an increased ice flow $\\vec{q}$, as indicated by the thick arrow in the illustration on the right. "
   ]
  },
  {
   "cell_type": "markdown",
   "metadata": {},
   "source": [
    "## Retreating glacier"
   ]
  },
  {
   "cell_type": "markdown",
   "metadata": {},
   "source": [
    "To simulate a glacier retreat, we will again use the same glacier, but this time move the ELA upglacier. This is similar to e.g. an abrupt climate warming over the glacier:"
   ]
  },
  {
   "cell_type": "code",
   "execution_count": null,
   "metadata": {},
   "outputs": [],
   "source": [
    "# number of vertical grid points the ELA is shifted upglacier\n",
    "# if you want to see the differences better you can increase here the value to e.g. 30\n",
    "upglacier = 10\n",
    "\n",
    "# run the model until the glacier reaches an equilibrium state with its decreased ELA\n",
    "retreat = edu.linear_mb_equilibrium(bed_h, surface_h, ACCW, ELAW, NZ, mb_grad,\n",
    "                                    nx, map_dx, idx=upglacier, retreat=True, plot=False)\n",
    "# decreased ELA\n",
    "ela_rtr = retreat.mb_model.get_ela()"
   ]
  },
  {
   "cell_type": "code",
   "execution_count": null,
   "metadata": {},
   "outputs": [],
   "source": [
    "print('We move the ELA from initially {:.0f} m upward to {:.0f} m'.format(ela, ela_rtr))"
   ]
  },
  {
   "cell_type": "markdown",
   "metadata": {},
   "source": [
    "Now, we can again calculate linear accumulation, ablation and mass balance profiles, but using the increased ELA:"
   ]
  },
  {
   "cell_type": "code",
   "execution_count": null,
   "metadata": {},
   "outputs": [],
   "source": [
    "# accumulation and ablation balance at the decreased ELA\n",
    "acc_rtr, acc_0_rtr = edu.linear_accumulation(mb_grad, ela_rtr, initial, bed_h, mwidths)\n",
    "abl_rtr, abl_0_rtr = edu.linear_ablation(mb_grad, ela_rtr, initial, bed_h,\n",
    "                                         mwidths, acc_0_rtr)\n",
    "# net mass balance m w.e yr^-1\n",
    "mb_rtr = acc_rtr + abl_rtr\n",
    "\n",
    "# theoretical glacier surface without ice flow\n",
    "# corrected to the bed where ice thickness is negative\n",
    "mb_sfc_rtr = edu.correct_to_bed(bed_h, initial + mb_rtr)"
   ]
  },
  {
   "cell_type": "markdown",
   "metadata": {},
   "source": [
    "The next figure shows the glacier after applying the net mass balance using the increased ELA:"
   ]
  },
  {
   "cell_type": "code",
   "execution_count": null,
   "metadata": {},
   "outputs": [],
   "source": [
    "# plot the model glacier\n",
    "plt.figure(figsize=(22,10))\n",
    "ax = plt.subplot(121)\n",
    "edu.intro_glacier_plot(ax, distance_along_glacier, bed_h, initial, [mb_sfc_rtr],\n",
    "                       ['theoretical glacier surface due to ELA increase\\nwithout considering ice flow'],\n",
    "                       ela=[ela, ela_rtr], plot_ela=True,\n",
    "                       label_init='initial glacier in equilibrium',\n",
    "                      labels_ela = ['e.g. warmer climate (retreat)'])\n",
    "\n",
    "ax = plt.subplot(122)\n",
    "edu.plot_glacier_graphics(num='10')\n",
    "plt.tight_layout()\n"
   ]
  },
  {
   "cell_type": "markdown",
   "metadata": {},
   "source": [
    "Analogously, less accumulation and/or more ablation leads to an increase in the ELA and thus to an increase of the ablation area."
   ]
  },
  {
   "cell_type": "markdown",
   "metadata": {},
   "source": [
    "The increase in the ablation area leads to a net mass loss compared to the former glacier extent. When our glacier with a higher ELA is in equilibrium, the glacier retreats: "
   ]
  },
  {
   "cell_type": "code",
   "execution_count": null,
   "metadata": {},
   "outputs": [],
   "source": [
    "# the glacier surface in equilibrium with the decreased ELA\n",
    "retreat_s = retreat.fls[-1].surface_h"
   ]
  },
  {
   "cell_type": "code",
   "execution_count": null,
   "metadata": {},
   "outputs": [],
   "source": [
    "# plot the model glacier\n",
    "plt.figure(figsize=(22,10))\n",
    "# fig, ax = plt.subplots(1, 1, figsize=(16, 9))\n",
    "ax = plt.subplot(121)\n",
    "edu.intro_glacier_plot(ax, distance_along_glacier, bed_h, initial, [retreat_s],\n",
    "                       ['retreated glacier in equilibrium'],\n",
    "                       ela=[ela, ela_rtr], plot_ela=True,\n",
    "                       label_init='initial glacier in equilibrium',\n",
    "                       labels_ela = ['e.g. warmer climate (retreat)'])\n",
    "ax = plt.subplot(122)\n",
    "edu.plot_glacier_graphics(num='11')\n",
    "plt.tight_layout()"
   ]
  },
  {
   "cell_type": "markdown",
   "metadata": {},
   "source": [
    "This upslope glacier retreat is a result of a decreased ice flow $\\vec{q}$, as indicated by the thin arrow in the right illustration above. "
   ]
  },
  {
   "cell_type": "markdown",
   "metadata": {},
   "source": [
    "## Take home points"
   ]
  },
  {
   "cell_type": "markdown",
   "metadata": {},
   "source": [
    "- The equilibrium line altitude (ELA) is the altitude on a glacier where accumulation and ablation balance, meaning $\\dot{m}(z) = 0$ at $z=$ ELA\n",
    "- A decrease in the ELA leads to:\n",
    "    1. an increase in the accumulation\n",
    "    2. a decrease in the ablation area\n",
    "    3. a net mass gain resulting in an increased ice flux downglacier\n",
    "    4. a glacier advance\n",
    "- An increase in the ELA leads to:\n",
    "    1. a decrease in the accumulation area\n",
    "    2. an increase in the ablation area\n",
    "    3. a net mass loss resulting in a decreased ice flux downglacier\n",
    "    4. a glacier retreat"
   ]
  },
  {
   "cell_type": "markdown",
   "metadata": {},
   "source": [
    "## What's next?"
   ]
  },
  {
   "cell_type": "markdown",
   "metadata": {},
   "source": [
    "[Back to the table of contents](../welcome.ipynb)"
   ]
  }
 ],
 "metadata": {
  "kernelspec": {
   "display_name": "Python 3",
   "language": "python",
   "name": "python3"
  },
  "language_info": {
   "codemirror_mode": {
    "name": "ipython",
    "version": 3
   },
   "file_extension": ".py",
   "mimetype": "text/x-python",
   "name": "python",
   "nbconvert_exporter": "python",
   "pygments_lexer": "ipython3",
   "version": "3.8.5"
  }
 },
 "nbformat": 4,
 "nbformat_minor": 4
}
