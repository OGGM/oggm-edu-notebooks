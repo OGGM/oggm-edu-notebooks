{
 "cells": [
  {
   "cell_type": "markdown",
   "metadata": {},
   "source": [
    "# Accumulation and Ablation"
   ]
  },
  {
   "cell_type": "markdown",
   "metadata": {},
   "source": [
    "Goals of this notebook:"
   ]
  },
  {
   "cell_type": "markdown",
   "metadata": {},
   "source": [
    "- gain a basic understanding of accumulation, ablation and glacier mass balance\n",
    "- understand the link between mass balance and ice flow\n",
    "- implement a simple experiment to calculate ice flow on a glacier in equilibrium"
   ]
  },
  {
   "cell_type": "code",
   "execution_count": null,
   "metadata": {},
   "outputs": [],
   "source": [
    "import oggm\n",
    "from oggm import cfg\n",
    "import oggm_edu as edu\n",
    "import matplotlib.pyplot as plt\n",
    "from mpl_toolkits.mplot3d import axes3d\n",
    "import numpy as np\n",
    "from IPython.display import Image\n",
    "from functools import partial"
   ]
  },
  {
   "cell_type": "code",
   "execution_count": null,
   "metadata": {},
   "outputs": [],
   "source": [
    "cfg.initialize()"
   ]
  },
  {
   "cell_type": "markdown",
   "metadata": {},
   "source": [
    "In this notebook, we will essentially reconstruct the series of images [here](http://edu.oggm.org/en/latest/glacier_basics.html#) using OGGM."
   ]
  },
  {
   "cell_type": "markdown",
   "metadata": {},
   "source": [
    "## Set the scene"
   ]
  },
  {
   "cell_type": "markdown",
   "metadata": {},
   "source": [
    "In the introduction on the OGGM-Edu [website](http://edu.oggm.org/en/latest/glacier_basics.html), a cross section of a typical mountain glacier is shown."
   ]
  },
  {
   "cell_type": "code",
   "execution_count": null,
   "metadata": {},
   "outputs": [],
   "source": [
    "Image(url='https://raw.githubusercontent.com/OGGM/glacier-graphics/master/glacier_intro/png/glacier_01.png', width=600)"
   ]
  },
  {
   "cell_type": "markdown",
   "metadata": {},
   "source": [
    "Such a glacier can be reconstructed in OGGM, as done in the [flowline model notebook](flowline_model.ipynb). First, we define a linear bedrock profile:"
   ]
  },
  {
   "cell_type": "code",
   "execution_count": null,
   "metadata": {},
   "outputs": [],
   "source": [
    "# define horizontal resolution of the model:\n",
    "# nx: number of grid points\n",
    "# map_dx: grid point spacing in meters\n",
    "nx = 200\n",
    "map_dx = 100"
   ]
  },
  {
   "cell_type": "code",
   "execution_count": null,
   "metadata": {},
   "outputs": [],
   "source": [
    "# define glacier top and bottom altitudes in meters\n",
    "top = 3400\n",
    "bottom = 1400"
   ]
  },
  {
   "cell_type": "code",
   "execution_count": null,
   "metadata": {},
   "outputs": [],
   "source": [
    "# create a linear bedrock profile from top to bottom\n",
    "bed_h, surface_h = edu.define_linear_bed(top, bottom, nx)"
   ]
  },
  {
   "cell_type": "code",
   "execution_count": null,
   "metadata": {},
   "outputs": [],
   "source": [
    "# calculate the distance from the top to the bottom of the glacier in km\n",
    "distance_along_glacier = edu.distance_along_glacier(nx, map_dx)"
   ]
  },
  {
   "cell_type": "markdown",
   "metadata": {},
   "source": [
    "To initialize the glacier, we need to specify how wide the glacier is. Here, we will use a wider accumulation area and a narrow ablation area, typical for mountain glaciers. The accumulation area is determined by the following thresholds of its width at the top of the glacier and at the ELA:"
   ]
  },
  {
   "cell_type": "code",
   "execution_count": null,
   "metadata": {},
   "outputs": [],
   "source": [
    "ACCW = 400\n",
    "ELAW = 200\n",
    "AAR = 5"
   ]
  },
  {
   "cell_type": "code",
   "execution_count": null,
   "metadata": {},
   "outputs": [],
   "source": [
    "# accumulation area occupies a fraction of 1 / AAR the glacier extent\n",
    "acc_width = np.linspace(ACCW, ELAW, int(nx / AAR))"
   ]
  },
  {
   "cell_type": "code",
   "execution_count": null,
   "metadata": {},
   "outputs": [],
   "source": [
    "abl_width = np.tile(ELAW, nx-len(acc_width))"
   ]
  },
  {
   "cell_type": "code",
   "execution_count": null,
   "metadata": {},
   "outputs": [],
   "source": [
    "widths = np.hstack([acc_width, abl_width])"
   ]
  },
  {
   "cell_type": "markdown",
   "metadata": {},
   "source": [
    "The upper part of the glacier linearly decreases in width and the lower part of the glacier has constant width. For the model run, the widths have to be converted to grid point space."
   ]
  },
  {
   "cell_type": "code",
   "execution_count": null,
   "metadata": {},
   "outputs": [],
   "source": [
    "mwidths = np.zeros(nx) + widths / map_dx"
   ]
  },
  {
   "cell_type": "markdown",
   "metadata": {},
   "source": [
    "Now, we need to define a glacier bedrock shape - here, we use a rectangular bed:"
   ]
  },
  {
   "cell_type": "code",
   "execution_count": null,
   "metadata": {},
   "outputs": [],
   "source": [
    "# define our bed\n",
    "init_flowline = oggm.core.flowline.RectangularBedFlowline(surface_h=surface_h, bed_h=bed_h, widths=mwidths, map_dx=map_dx)"
   ]
  },
  {
   "cell_type": "markdown",
   "metadata": {},
   "source": [
    "Then we will need a mass balance model. In our case this will be a simple linear mass balance, defined by the equilibrium line altitude (ELA) and a linear mass balance gradient with respect to elevation (in [mm m$^{-1}$]). The equilibrium line altitude is located at the transition between the accumulation and ablation zone, as discussed above."
   ]
  },
  {
   "cell_type": "code",
   "execution_count": null,
   "metadata": {},
   "outputs": [],
   "source": [
    "# equilibrium line altitude\n",
    "ela = bed_h[np.where(widths==ELAW)[0][0]]\n",
    "print('ELA: {:.2f} m'.format(ela))"
   ]
  },
  {
   "cell_type": "code",
   "execution_count": null,
   "metadata": {},
   "outputs": [],
   "source": [
    "# mass balance gradient with respect to elevation in mm/m\n",
    "altgrad = 5\n",
    "mb_model = oggm.core.massbalance.LinearMassBalance(ela, grad=altgrad)"
   ]
  },
  {
   "cell_type": "markdown",
   "metadata": {},
   "source": [
    "Now that we have all the ingredients to run the model, we just have to initialize it:"
   ]
  },
  {
   "cell_type": "code",
   "execution_count": null,
   "metadata": {},
   "outputs": [],
   "source": [
    "# The model requires the initial glacier bed, a mass balance model, and an initial time (the year y0)\n",
    "model = oggm.core.flowline.FluxBasedModel(init_flowline, mb_model=mb_model, y0=0., min_dt=0, cfl_number=0.01)"
   ]
  },
  {
   "cell_type": "markdown",
   "metadata": {},
   "source": [
    "Let's run the model until our test glacier is in equilibrium."
   ]
  },
  {
   "cell_type": "code",
   "execution_count": null,
   "metadata": {},
   "outputs": [],
   "source": [
    "model.run_until_equilibrium(max_ite=500)\n",
    "edu.glacier_plot(x=distance_along_glacier, bed=bed_h, model=model, mb_model=mb_model, init_flowline=init_flowline)"
   ]
  },
  {
   "cell_type": "markdown",
   "metadata": {},
   "source": [
    "The glacier surface along the defined flowline is:"
   ]
  },
  {
   "cell_type": "code",
   "execution_count": null,
   "metadata": {},
   "outputs": [],
   "source": [
    "initial = model.fls[-1].surface_h"
   ]
  },
  {
   "cell_type": "markdown",
   "metadata": {},
   "source": [
    "Now, we have set the scene to explore the ice flow of a glacier in equilibrium."
   ]
  },
  {
   "cell_type": "code",
   "execution_count": null,
   "metadata": {},
   "outputs": [],
   "source": [
    "# X, Y = np.meshgrid(distance_along_glacier, widths)\n",
    "# Z = np.tile(gsurface, (nx, 1))\n",
    "# fig = plt.figure(figsize=(16, 9))\n",
    "# ax = fig.add_subplot(111, projection='3d')\n",
    "# ax.plot_surface(X, Y, Z)\n",
    "# ax.plot_surface(X, Y, np.tile(bed_h, (nx, 1)))"
   ]
  },
  {
   "cell_type": "markdown",
   "metadata": {},
   "source": [
    "## Accumulation and Ablation"
   ]
  },
  {
   "cell_type": "markdown",
   "metadata": {},
   "source": [
    "For a glacier to be in equilibrium, we require the mass balance (accumulation + ablation) to be zero over an integration period. To check this requirement, we can use the mass balance model to compute the annual mass balance and compute a width weighted average over all altitudes:"
   ]
  },
  {
   "cell_type": "code",
   "execution_count": null,
   "metadata": {},
   "outputs": [],
   "source": [
    "gmb = mb_model.get_annual_mb(initial) * cfg.SEC_IN_YEAR\n",
    "print('Total glacier mass balance: {:.2f} m'.format(np.average(gmb, weights=widths)))"
   ]
  },
  {
   "cell_type": "markdown",
   "metadata": {},
   "source": [
    "In the previous section, we defined a constant mass balance gradient"
   ]
  },
  {
   "cell_type": "markdown",
   "metadata": {},
   "source": [
    "$$\\frac{\\partial \\dot{m}}{\\partial z} = c,$$"
   ]
  },
  {
   "cell_type": "markdown",
   "metadata": {},
   "source": [
    "which gives"
   ]
  },
  {
   "cell_type": "markdown",
   "metadata": {},
   "source": [
    "$$\\dot{m}(z) = \\dot{m}(z_0) + c (z - z_0).$$"
   ]
  },
  {
   "cell_type": "markdown",
   "metadata": {},
   "source": [
    "For simplicity, we choose the reference height $z_0$ to be the height of the equilibrium line altitude and hence $\\dot{m}(z_0) = 0$."
   ]
  },
  {
   "cell_type": "markdown",
   "metadata": {},
   "source": [
    "Assume, that this glacier now gains mass over the accumulation season - the mass gain increases linearly with height from the terminus to the top as shown in the image below:"
   ]
  },
  {
   "cell_type": "code",
   "execution_count": null,
   "metadata": {},
   "outputs": [],
   "source": [
    "Image(url='https://raw.githubusercontent.com/OGGM/glacier-graphics/master/glacier_intro/png/glacier_03.png', width=600)"
   ]
  },
  {
   "cell_type": "markdown",
   "metadata": {},
   "source": [
    "Here, we use unrealistically large accumulations to improve visual perception:"
   ]
  },
  {
   "cell_type": "code",
   "execution_count": null,
   "metadata": {},
   "outputs": [],
   "source": [
    "# accumulation at the glacier terminus: m / yr\n",
    "acc_0 = 100"
   ]
  },
  {
   "cell_type": "code",
   "execution_count": null,
   "metadata": {},
   "outputs": [],
   "source": [
    "# glacier terminus\n",
    "terminus = initial[initial == bed_h][0]"
   ]
  },
  {
   "cell_type": "code",
   "execution_count": null,
   "metadata": {},
   "outputs": [],
   "source": [
    "# accumulation as a function of altitude\n",
    "acc = acc_0 + altgrad * (bed_h[bed_h > terminus] - terminus) * 1e-3"
   ]
  },
  {
   "cell_type": "code",
   "execution_count": null,
   "metadata": {},
   "outputs": [],
   "source": [
    "# append 0 accumulation downstream of glacier terminus\n",
    "acc = np.hstack([acc, np.zeros(len(bed_h[bed_h <= terminus]))])"
   ]
  },
  {
   "cell_type": "markdown",
   "metadata": {},
   "source": [
    "Applying this accumulation to our initial glacier surface in equilibrium:"
   ]
  },
  {
   "cell_type": "code",
   "execution_count": null,
   "metadata": {},
   "outputs": [],
   "source": [
    "acc_sfc = initial + acc"
   ]
  },
  {
   "cell_type": "code",
   "execution_count": null,
   "metadata": {},
   "outputs": [],
   "source": [
    "fig, ax = plt.subplots(1, 1, figsize=(16, 9))\n",
    "ax.plot(distance_along_glacier, bed_h, '--k', label='bed')\n",
    "ax.plot(distance_along_glacier, initial, '--r', label='initial')\n",
    "ax.plot(distance_along_glacier, acc_sfc, '-', label='accumulation')\n",
    "ax.hlines(ela, distance_along_glacier[0], distance_along_glacier[-1], linestyle='--', color='grey')\n",
    "ax.text(distance_along_glacier[-1], ela + 10, 'Equilibrium line altitude', horizontalalignment='right', verticalalignment='bottom', color='grey')\n",
    "ax.fill_between(distance_along_glacier, bed_h, initial, color='grey', alpha=0.3);\n",
    "ax.fill_between(distance_along_glacier, initial, acc_sfc, color='lightblue', alpha=0.5);\n",
    "ax.legend(frameon=False);"
   ]
  },
  {
   "cell_type": "markdown",
   "metadata": {},
   "source": [
    "Next, during the ablation season, the glacier looses mass according to the same linear mass balance gradient."
   ]
  },
  {
   "cell_type": "code",
   "execution_count": null,
   "metadata": {},
   "outputs": [],
   "source": [
    "Image(url='https://raw.githubusercontent.com/OGGM/glacier-graphics/master/glacier_intro/png/glacier_04.png', width=600)"
   ]
  },
  {
   "cell_type": "code",
   "execution_count": null,
   "metadata": {},
   "outputs": [],
   "source": [
    "# ablation at terminus = accumulation at top: m / yr\n",
    "abl_0 = - acc[0]"
   ]
  },
  {
   "cell_type": "code",
   "execution_count": null,
   "metadata": {},
   "outputs": [],
   "source": [
    "# ablation as a function of altitude\n",
    "abl = abl_0 + altgrad * (bed_h[bed_h >= terminus] - terminus) * 1e-3"
   ]
  },
  {
   "cell_type": "code",
   "execution_count": null,
   "metadata": {},
   "outputs": [],
   "source": [
    "# append 0 accumulation downstream of glacier terminus\n",
    "abl = np.hstack([abl, np.zeros(len(bed_h[bed_h < terminus]))])"
   ]
  },
  {
   "cell_type": "markdown",
   "metadata": {},
   "source": [
    "Applying this accumulation to our initial glacier surface in equilibrium:"
   ]
  },
  {
   "cell_type": "code",
   "execution_count": null,
   "metadata": {},
   "outputs": [],
   "source": [
    "# glacier surface after ablation\n",
    "abl_sfc = initial + abl"
   ]
  },
  {
   "cell_type": "code",
   "execution_count": null,
   "metadata": {},
   "outputs": [],
   "source": [
    "# correct where ice thickness is less than bedrock\n",
    "no_ice = np.where(abl_sfc < bed_h)\n",
    "abl_sfc[no_ice] = bed_h[no_ice]"
   ]
  },
  {
   "cell_type": "code",
   "execution_count": null,
   "metadata": {},
   "outputs": [],
   "source": [
    "fig, ax = plt.subplots(1, 1, figsize=(16, 9))\n",
    "ax.plot(distance_along_glacier, bed_h, '--k', label='bed')\n",
    "ax.plot(distance_along_glacier, initial, '--r', label='initial')\n",
    "ax.plot(distance_along_glacier, acc_sfc, '-', label='accumulation')\n",
    "ax.plot(distance_along_glacier, abl_sfc, '-r', linewidth=2, label='ablation')\n",
    "ax.hlines(ela, distance_along_glacier[0], distance_along_glacier[-1], linestyle='--', color='grey')\n",
    "ax.text(distance_along_glacier[-1], ela + 10, 'Equilibrium line altitude', horizontalalignment='right', verticalalignment='bottom', color='grey')\n",
    "ax.fill_between(distance_along_glacier, bed_h, abl_sfc, color='grey', alpha=0.3);\n",
    "ax.fill_between(distance_along_glacier, initial, acc_sfc, color='lightblue', alpha=0.5);\n",
    "ax.fill_between(distance_along_glacier, initial, abl_sfc, color='red', alpha=0.3);\n",
    "ax.legend(frameon=False);"
   ]
  },
  {
   "cell_type": "markdown",
   "metadata": {},
   "source": [
    "## Mass Balance"
   ]
  },
  {
   "cell_type": "markdown",
   "metadata": {},
   "source": [
    "The net mass balance is then just the sum of accumulation and ablation:"
   ]
  },
  {
   "cell_type": "code",
   "execution_count": null,
   "metadata": {},
   "outputs": [],
   "source": [
    "mb_sfc = initial + acc + abl"
   ]
  },
  {
   "cell_type": "code",
   "execution_count": null,
   "metadata": {},
   "outputs": [],
   "source": [
    "# correct where ice thickness is less than bedrock\n",
    "no_ice = np.where(mb_sfc < bed_h)\n",
    "mb_sfc[no_ice] = bed_h[no_ice]"
   ]
  },
  {
   "cell_type": "code",
   "execution_count": null,
   "metadata": {},
   "outputs": [],
   "source": [
    "fig, ax = plt.subplots(1, 1, figsize=(16, 9))\n",
    "ax.plot(distance_along_glacier, bed_h, '--k', label='bed')\n",
    "ax.plot(distance_along_glacier, initial, '--r', label='initial')\n",
    "ax.plot(distance_along_glacier, mb_sfc, '-k', linewidth=2, label='mass balance')\n",
    "ax.hlines(ela, distance_along_glacier[0], distance_along_glacier[-1], linestyle='--', color='grey')\n",
    "ax.text(distance_along_glacier[-1], ela + 10, 'Equilibrium line altitude', horizontalalignment='right', verticalalignment='bottom', color='grey')\n",
    "ax.fill_between(distance_along_glacier, bed_h, initial, initial <= mb_sfc, color='grey', alpha=0.3);\n",
    "ax.fill_between(distance_along_glacier, bed_h, mb_sfc, initial >= mb_sfc, color='grey', alpha=0.3);\n",
    "ax.fill_between(distance_along_glacier, initial, mb_sfc, mb_sfc >= initial, color='lightblue', alpha=0.5);\n",
    "ax.fill_between(distance_along_glacier, initial, mb_sfc, mb_sfc < initial, color='red', alpha=0.3);\n",
    "ax.legend(frameon=False);"
   ]
  },
  {
   "cell_type": "code",
   "execution_count": null,
   "metadata": {},
   "outputs": [],
   "source": [
    "# if this is 0, glacier is in equilibrium\n",
    "print('Net mass balance: {} m yr^-1'.format(np.average(mb_sfc - initial, weights=widths)))"
   ]
  },
  {
   "cell_type": "markdown",
   "metadata": {},
   "source": [
    "## Ice flux"
   ]
  },
  {
   "cell_type": "markdown",
   "metadata": {},
   "source": [
    "Generally, ice flux is determined by the continuity equation,"
   ]
  },
  {
   "cell_type": "markdown",
   "metadata": {},
   "source": [
    "$$\\frac{\\partial S}{\\partial t} = \\dot{m} - \\nabla \\cdot \\vec{q},$$"
   ]
  },
  {
   "cell_type": "markdown",
   "metadata": {},
   "source": [
    "where, $S$ is the glacier surface, $\\dot{m}$ the mass balance and $\\vec{q}$ the ice flux. In equilibrium, glacier surface $S$ does not change and the continuity equation results to"
   ]
  },
  {
   "cell_type": "markdown",
   "metadata": {},
   "source": [
    "$$\\dot{m} = \\nabla \\vec{q}.$$"
   ]
  },
  {
   "cell_type": "markdown",
   "metadata": {},
   "source": [
    "This means that glacier mass balance solely determines ice flux if the glacier is in steady-state. Hence, the ice flux can be computed by vertically integrating the mass balance - in the one-dimensional case, the ice flux is the sum of the mass balance above a certain reference height $z$."
   ]
  },
  {
   "cell_type": "code",
   "execution_count": null,
   "metadata": {},
   "outputs": [],
   "source": [
    "# width weighted mass balance removing the initial steady-state surface: m^2 / yr\n",
    "mb = (mb_sfc - initial) * widths"
   ]
  },
  {
   "cell_type": "code",
   "execution_count": null,
   "metadata": {},
   "outputs": [],
   "source": [
    "# ice flux through the equilibrium line: m^3 s^-1\n",
    "mb[mb > 0].sum() / cfg.SEC_IN_YEAR"
   ]
  }
 ],
 "metadata": {
  "kernelspec": {
   "display_name": "Python 3",
   "language": "python",
   "name": "python3"
  },
  "language_info": {
   "codemirror_mode": {
    "name": "ipython",
    "version": 3
   },
   "file_extension": ".py",
   "mimetype": "text/x-python",
   "name": "python",
   "nbconvert_exporter": "python",
   "pygments_lexer": "ipython3",
   "version": "3.6.7"
  }
 },
 "nbformat": 4,
 "nbformat_minor": 2
}
