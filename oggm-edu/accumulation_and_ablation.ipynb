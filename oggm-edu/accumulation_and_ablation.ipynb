{
 "cells": [
  {
   "cell_type": "markdown",
   "metadata": {},
   "source": [
    "# Accumulation, Ablation, Mass Balance and Ice Flow"
   ]
  },
  {
   "cell_type": "markdown",
   "metadata": {},
   "source": [
    "Goals of this notebook:"
   ]
  },
  {
   "cell_type": "markdown",
   "metadata": {},
   "source": [
    "- gain a basic understanding of accumulation, ablation and glacier mass balance\n",
    "- understand the link between mass balance and ice flow\n",
    "- implement a simple experiment to calculate ice flow on a glacier in equilibrium"
   ]
  },
  {
   "cell_type": "code",
   "execution_count": null,
   "metadata": {},
   "outputs": [],
   "source": [
    "import oggm\n",
    "from oggm import cfg\n",
    "import oggm_edu as edu\n",
    "import matplotlib.pyplot as plt\n",
    "from mpl_toolkits.mplot3d import axes3d\n",
    "import numpy as np\n",
    "from IPython.display import Image\n",
    "from functools import partial"
   ]
  },
  {
   "cell_type": "code",
   "execution_count": null,
   "metadata": {},
   "outputs": [],
   "source": [
    "# set default font size in plots\n",
    "plt.rc('font', size=16)"
   ]
  },
  {
   "cell_type": "markdown",
   "metadata": {},
   "source": [
    "The following sections are based on the book *\"The Physics of Glaciers\"* by Cuffey and Paterson, (2010)."
   ]
  },
  {
   "cell_type": "markdown",
   "metadata": {},
   "source": [
    "## Accumulation processes"
   ]
  },
  {
   "cell_type": "markdown",
   "metadata": {},
   "source": [
    "Accumulation processes are all processes that add snow or ice to a glacier (surface). The most important accumulation processes are listed below in order of their relative importance:"
   ]
  },
  {
   "cell_type": "markdown",
   "metadata": {},
   "source": [
    "- Solid precipitation (snowfall)\n",
    "\n",
    "    Snowfall varies substantially with latitude and altitude, where the primary factors determining snowfall rates are:\n",
    "\n",
    "    - **Water vapor content** governed by the [Clausius-Clapeyron-relantionship](https://en.wikipedia.org/wiki/Clausius%E2%80%93Clapeyron_relation#Applications): the warmer the air, the more water it can hold and hence the more precipitation can form\n",
    "\n",
    "    - **Stratification** of the atmosphere: a subfreezing layer in the lower atmosphere is required for precipitation to reach the ground in solid form\n",
    "\n",
    "    - **Cooling rate**: high snowfall rates occur where snow is rapidly cooled, e.g. in frontal systems or via orographic lifting"
   ]
  },
  {
   "cell_type": "markdown",
   "metadata": {},
   "source": [
    "- Redistribution by wind and avalanching\n",
    "\n",
    "    Accumulation may differ from snowfall due to winds advecting snow over a glacier surface - the interaction between wind and the topography creates regions of snow assimilation and deposition. Furthermore, avalanches may accumulate unusually large amounts of snow in favorable zones. Avalanching is particularly important for mountain glaciers in steep valleys."
   ]
  },
  {
   "cell_type": "markdown",
   "metadata": {},
   "source": [
    "- Refreezing of meltwater\n",
    "\n",
    "    Refreezing of meltwater can either occur at the glacier surface or inside the glacier body, where it is commonly called englacial or internal accumulation. Refreezing meltwater does not explicitly contribute to glacier mass balance, but it has to be subtracted from the total melt to assess the net runoff."
   ]
  },
  {
   "cell_type": "markdown",
   "metadata": {},
   "source": [
    "- Deposition\n",
    "\n",
    "    Deposition refers to processes directly accumulating water or water vapor to the glacier surface, i.e. freezing rain and resublimation."
   ]
  },
  {
   "cell_type": "markdown",
   "metadata": {},
   "source": [
    "## Ablation processes"
   ]
  },
  {
   "cell_type": "markdown",
   "metadata": {},
   "source": [
    "Ablation processes are all processes that remove snow or ice from a glacier. The most important ablation processes are listed below in order of their relative importance:"
   ]
  },
  {
   "cell_type": "markdown",
   "metadata": {},
   "source": [
    "- Melt and runoff\n",
    "    \n",
    "    Melt and runoff account for most glacier mass loss and are driven by the net energy imbalance between the atmosphere and the glacier surface. The most important contributors are the net radiation and the turbulent fluxes of sensible and latent heat. Once the temperature of the glacier surface is at the melting point, i.e. the glacier surface was sufficiently heated, melts rates increase in proportion to the net energy flux."
   ]
  },
  {
   "cell_type": "markdown",
   "metadata": {},
   "source": [
    "- Sublimation\n",
    "\n",
    "    Sublimation refers to the phase change from solid state to gaseous state, e.g. the direct transition of snow and ice to water vapor. It is the dominant source of mass loss in environments where surface temperatures hardly reach the melting point. Sublimation increases with increasing surface temperature and wind speed and with decreasing humidity, hence, it is strongest in dry and warm environments.\n",
    "    Melt and sublimation can counteract each other: as sublimation consumes energy and transforms it to latent heat, the energy available for melt decreases."
   ]
  },
  {
   "cell_type": "markdown",
   "metadata": {},
   "source": [
    "- Calving\n",
    "\n",
    "    Calving is the separation of ice blocks from a glacier’s margin. Most calving occurs at margins of glaciers that stand or float in water. Calving of glaciers terminating in the ocean, so called *tidewater* glaciers, accounts for much of the mass loss, e.g. for more than 90% of the ablation from Antarctica and about half of the ablation from Greenland. The process is also significant for mountain glaciers that terminate in deep lakes or the ocean."
   ]
  },
  {
   "cell_type": "markdown",
   "metadata": {},
   "source": [
    "This nice graphic from [antarcticglaciers.org](http://www.antarcticglaciers.org/) summarizes the different accumulation and ablation processes:"
   ]
  },
  {
   "cell_type": "code",
   "execution_count": null,
   "metadata": {},
   "outputs": [],
   "source": [
    "Image(url='http://cdn.antarcticglaciers.org/wp-content/uploads/2018/11/glaciers-as-a-system.png', width=900)"
   ]
  },
  {
   "cell_type": "markdown",
   "metadata": {},
   "source": [
    "## Mass balance"
   ]
  },
  {
   "cell_type": "markdown",
   "metadata": {},
   "source": [
    "The rates of accumulation and ablation processes, summed over the glacier and over time, determine the *glacier mass balance* $\\dot{m}$, the change in total mass of snow and ice,"
   ]
  },
  {
   "cell_type": "markdown",
   "metadata": {},
   "source": [
    "$$\\dot{m} = \\text{accumulation} + \\text{ablation}.$$"
   ]
  },
  {
   "cell_type": "markdown",
   "metadata": {},
   "source": [
    "Mass is continuously redistributed in a glacier: accumulated mass at the top of the glacier is transported downglacier, which is indicated by the black arrow in the figure above. The driving force of this *ice flow* is gravity. Thus, the mass balance of a region on a glacier depends not only on the mass exchanges induced by accumulation and ablation, but also on the gravity driven transport of ice from the acccumulation area to the ablation area."
   ]
  },
  {
   "cell_type": "markdown",
   "metadata": {},
   "source": [
    "Generally, mass balance and ice flux are linked via the continuity equation, which implies mass conservation,"
   ]
  },
  {
   "cell_type": "markdown",
   "metadata": {},
   "source": [
    "$$\\frac{\\partial H}{\\partial t} = \\dot{m} - \\nabla \\cdot \\vec{q},$$"
   ]
  },
  {
   "cell_type": "markdown",
   "metadata": {},
   "source": [
    "where $H$ is the ice thickness, $\\dot{m}$ the mass balance and $\\vec{q}$ the ice flux."
   ]
  },
  {
   "cell_type": "markdown",
   "metadata": {},
   "source": [
    "## Accumulation, ablation and ice flow with OGGM"
   ]
  },
  {
   "cell_type": "code",
   "execution_count": null,
   "metadata": {},
   "outputs": [],
   "source": [
    "cfg.initialize()"
   ]
  },
  {
   "cell_type": "markdown",
   "metadata": {},
   "source": [
    "In this example, we will essentially reconstruct the series of images [here](http://edu.oggm.org/en/latest/glacier_basics.html#) using OGGM."
   ]
  },
  {
   "cell_type": "markdown",
   "metadata": {},
   "source": [
    "### Set the scene"
   ]
  },
  {
   "cell_type": "markdown",
   "metadata": {},
   "source": [
    "In the introduction on the OGGM-Edu [website](http://edu.oggm.org/en/latest/glacier_basics.html), a cross section of a typical mountain glacier is shown."
   ]
  },
  {
   "cell_type": "code",
   "execution_count": null,
   "metadata": {},
   "outputs": [],
   "source": [
    "Image(url='https://raw.githubusercontent.com/OGGM/glacier-graphics/master/glacier_intro/png/glacier_01.png', width=600)"
   ]
  },
  {
   "cell_type": "markdown",
   "metadata": {},
   "source": [
    "Such a glacier can be reconstructed in OGGM, as done in the [flowline model notebook](flowline_model.ipynb). First, we define a linear bedrock profile:"
   ]
  },
  {
   "cell_type": "code",
   "execution_count": null,
   "metadata": {},
   "outputs": [],
   "source": [
    "# define horizontal resolution of the model:\n",
    "# nx: number of grid points\n",
    "# map_dx: grid point spacing in meters\n",
    "nx = 200\n",
    "map_dx = 100"
   ]
  },
  {
   "cell_type": "code",
   "execution_count": null,
   "metadata": {},
   "outputs": [],
   "source": [
    "# define glacier top and bottom altitudes in meters\n",
    "top = 3400\n",
    "bottom = 0"
   ]
  },
  {
   "cell_type": "code",
   "execution_count": null,
   "metadata": {},
   "outputs": [],
   "source": [
    "# create a linear bedrock profile from top to bottom\n",
    "bed_h, surface_h = edu.define_linear_bed(top, bottom, nx)"
   ]
  },
  {
   "cell_type": "code",
   "execution_count": null,
   "metadata": {},
   "outputs": [],
   "source": [
    "# calculate the distance from the top to the bottom of the glacier in km\n",
    "distance_along_glacier = edu.distance_along_glacier(nx, map_dx)"
   ]
  },
  {
   "cell_type": "markdown",
   "metadata": {},
   "source": [
    "To initialize the glacier, we need to specify how wide the glacier is. Here, we will use a wider accumulation area and a narrow ablation area, typical for mountain glaciers. The accumulation area is determined by the following thresholds of its width at the top of the glacier, the width at the [equilibrium line altitude](http://www.antarcticglaciers.org/glacier-processes/introduction-glacier-mass-balance/#attachment_3396) and the vertical extent downglacier:"
   ]
  },
  {
   "cell_type": "code",
   "execution_count": null,
   "metadata": {},
   "outputs": [],
   "source": [
    "# glacier width at the top of the accumulation area: m\n",
    "ACCW = 1500"
   ]
  },
  {
   "cell_type": "code",
   "execution_count": null,
   "metadata": {},
   "outputs": [],
   "source": [
    "# glacier width at the equilibrium line altitude: m\n",
    "ELAW = 500"
   ]
  },
  {
   "cell_type": "code",
   "execution_count": null,
   "metadata": {},
   "outputs": [],
   "source": [
    "# fraction of vertical grid points occupied by accumulation area\n",
    "NZ = 1 / 3"
   ]
  },
  {
   "cell_type": "code",
   "execution_count": null,
   "metadata": {},
   "outputs": [],
   "source": [
    "# accumulation area occupies a fraction NZ of the total glacier extent\n",
    "acc_width = np.linspace(ACCW, ELAW, int(nx * NZ))"
   ]
  },
  {
   "cell_type": "code",
   "execution_count": null,
   "metadata": {},
   "outputs": [],
   "source": [
    "# ablation area occupies a fraction 1 - NZ of the total glacier extent\n",
    "abl_width = np.tile(ELAW, nx - len(acc_width))"
   ]
  },
  {
   "cell_type": "code",
   "execution_count": null,
   "metadata": {},
   "outputs": [],
   "source": [
    "# glacier widths profile\n",
    "widths = np.hstack([acc_width, abl_width])"
   ]
  },
  {
   "cell_type": "markdown",
   "metadata": {},
   "source": [
    "The following function provides a 3D-view on the glacier geometry:"
   ]
  },
  {
   "cell_type": "code",
   "execution_count": null,
   "metadata": {},
   "outputs": [],
   "source": [
    "edu.plot_glacier_3d(distance_along_glacier, bed_h, widths, nx);"
   ]
  },
  {
   "cell_type": "markdown",
   "metadata": {},
   "source": [
    "The upper part of the glacier linearly decreases in width and the lower part of the glacier has constant width. For the model run, the widths have to be converted to grid point space."
   ]
  },
  {
   "cell_type": "code",
   "execution_count": null,
   "metadata": {},
   "outputs": [],
   "source": [
    "# model widths\n",
    "mwidths = np.zeros(nx) + widths / map_dx"
   ]
  },
  {
   "cell_type": "markdown",
   "metadata": {},
   "source": [
    "Now, we need to define a glacier bedrock shape - here, we use a rectangular bed:"
   ]
  },
  {
   "cell_type": "code",
   "execution_count": null,
   "metadata": {},
   "outputs": [],
   "source": [
    "# define the glacier bed\n",
    "init_flowline = oggm.core.flowline.RectangularBedFlowline(surface_h=surface_h, bed_h=bed_h, widths=mwidths, map_dx=map_dx)"
   ]
  },
  {
   "cell_type": "markdown",
   "metadata": {},
   "source": [
    "Then we will need a mass balance model. In our case this will be a simple linear mass balance, defined by the equilibrium line altitude (ELA) and a linear mass balance gradient with respect to elevation (in [mm m$^{-1}$]). The equilibrium line altitude is located at the transition between the accumulation and ablation zone:"
   ]
  },
  {
   "cell_type": "code",
   "execution_count": null,
   "metadata": {},
   "outputs": [],
   "source": [
    "# equilibrium line altitude: height where the glacier width first hits ELAW\n",
    "ela = bed_h[np.where(widths==ELAW)[0][0]]\n",
    "print('ELA: {:.2f} m'.format(ela))"
   ]
  },
  {
   "cell_type": "code",
   "execution_count": null,
   "metadata": {},
   "outputs": [],
   "source": [
    "# mass balance gradient with respect to elevation in mm w.e. m^-1 yr^-1\n",
    "mb_grad = 7\n",
    "mb_model = oggm.core.massbalance.LinearMassBalance(ela, grad=mb_grad)"
   ]
  },
  {
   "cell_type": "markdown",
   "metadata": {},
   "source": [
    "Now that we have all the ingredients to run the model, we just have to initialize it:"
   ]
  },
  {
   "cell_type": "code",
   "execution_count": null,
   "metadata": {},
   "outputs": [],
   "source": [
    "# The model requires the initial glacier bed, a mass balance model, and an initial time (the year y0)\n",
    "model = oggm.core.flowline.FluxBasedModel(init_flowline, mb_model=mb_model, y0=0., min_dt=0, cfl_number=0.01)"
   ]
  },
  {
   "cell_type": "markdown",
   "metadata": {},
   "source": [
    "Let's run the model until our test glacier is in equilibrium."
   ]
  },
  {
   "cell_type": "code",
   "execution_count": null,
   "metadata": {},
   "outputs": [],
   "source": [
    "model.run_until_equilibrium()\n",
    "edu.glacier_plot(x=distance_along_glacier, bed=bed_h, model=model, mb_model=mb_model, init_flowline=init_flowline)"
   ]
  },
  {
   "cell_type": "markdown",
   "metadata": {},
   "source": [
    "The glacier surface along the defined flowline is:"
   ]
  },
  {
   "cell_type": "code",
   "execution_count": null,
   "metadata": {},
   "outputs": [],
   "source": [
    "initial = model.fls[-1].surface_h"
   ]
  },
  {
   "cell_type": "markdown",
   "metadata": {},
   "source": [
    "**Exercise**: try to change the glacier geometry parameters ``ACCW``, ``ELAW`` and ``NZ``. Do you think a wider/narrower glacier will reach equilibrium faster/slower? Analogously to the [mass balance gradient notebook](mass_balance_gradients.ipynb), check the influence of the mass balance altitude gradient ``mb_grad`` on the time it takes the glacier to reach equilibrium. To get you started, here is a helper function repeating the commands in this section based on your choice of ``ACCW``, ``ELAW``, ``NZ`` and ``mb_grad``."
   ]
  },
  {
   "cell_type": "code",
   "execution_count": null,
   "metadata": {},
   "outputs": [],
   "source": [
    "?edu.linear_mb_equilibrium"
   ]
  },
  {
   "cell_type": "code",
   "execution_count": null,
   "metadata": {},
   "outputs": [],
   "source": [
    "# this is how to use it\n",
    "# your_model = edu.linear_mb_equilibrium(bed_h, surface_h, your_accw, your_elaw, your_nz, your_mb_grad, nx, map_dx)"
   ]
  },
  {
   "cell_type": "code",
   "execution_count": null,
   "metadata": {},
   "outputs": [],
   "source": [
    "# print('Glacier in equilibrium after: {:.0f} years'.format(your_model.yr))"
   ]
  },
  {
   "cell_type": "markdown",
   "metadata": {},
   "source": [
    "### Accumulation and Ablation"
   ]
  },
  {
   "cell_type": "markdown",
   "metadata": {},
   "source": [
    "For a glacier to be in equilibrium, we require the mass balance (accumulation + ablation) to be zero over an integration period. To check this requirement, we can use the mass balance model to compute the annual mass balance and compute a width weighted average over all altitudes:"
   ]
  },
  {
   "cell_type": "code",
   "execution_count": null,
   "metadata": {},
   "outputs": [],
   "source": [
    "# annual mass balance: m s^-1\n",
    "annual_mb = mb_model.get_annual_mb(initial)"
   ]
  },
  {
   "cell_type": "code",
   "execution_count": null,
   "metadata": {},
   "outputs": [],
   "source": [
    "# mass balance at each altitude at the particular year of the equilibrium surface: m yr^-1\n",
    "gmb = annual_mb * cfg.SEC_IN_YEAR"
   ]
  },
  {
   "cell_type": "code",
   "execution_count": null,
   "metadata": {},
   "outputs": [],
   "source": [
    "# width weighted glacier mass balance: m yr^-1\n",
    "weighted_mb = np.average(gmb, weights=mwidths)"
   ]
  },
  {
   "cell_type": "code",
   "execution_count": null,
   "metadata": {},
   "outputs": [],
   "source": [
    "print('Total glacier mass balance: {:.2f} m yr^-1'.format(weighted_mb))"
   ]
  },
  {
   "cell_type": "markdown",
   "metadata": {},
   "source": [
    "In the previous section, we defined a constant mass balance gradient with height"
   ]
  },
  {
   "cell_type": "markdown",
   "metadata": {},
   "source": [
    "$$\\frac{\\partial \\dot{m}}{\\partial z} = c,$$"
   ]
  },
  {
   "cell_type": "markdown",
   "metadata": {},
   "source": [
    "which after integration gives"
   ]
  },
  {
   "cell_type": "markdown",
   "metadata": {},
   "source": [
    "$$\\dot{m}(z) = \\dot{m}(z_0) + c (z - z_0).$$"
   ]
  },
  {
   "cell_type": "markdown",
   "metadata": {},
   "source": [
    "For simplicity, we choose the reference height $z_0$ to be the height of the equilibrium line altitude and hence $\\dot{m}(z_0) = 0$. Hence, the mass balance model essentially computes"
   ]
  },
  {
   "cell_type": "markdown",
   "metadata": {},
   "source": [
    "$$\\dot{m}(z) = c(z - \\text{ela}).$$"
   ]
  },
  {
   "cell_type": "markdown",
   "metadata": {},
   "source": [
    "Assume, that this glacier now gains mass over the accumulation season - the mass gain increases linearly with height from the terminus to the top as shown in the image below:"
   ]
  },
  {
   "cell_type": "code",
   "execution_count": null,
   "metadata": {},
   "outputs": [],
   "source": [
    "Image(url='https://raw.githubusercontent.com/OGGM/glacier-graphics/master/glacier_intro/png/glacier_03.png', width=600)"
   ]
  },
  {
   "cell_type": "markdown",
   "metadata": {},
   "source": [
    "Now, we use a linear accumulation and ablation function from the oggm-edu package:"
   ]
  },
  {
   "cell_type": "code",
   "execution_count": null,
   "metadata": {},
   "outputs": [],
   "source": [
    "# linear accumulation as a function of altitude: m w.e. yr^-1\n",
    "acc, acc_0 = edu.linear_accumulation(mb_grad, ela, initial, bed_h, mwidths)"
   ]
  },
  {
   "cell_type": "markdown",
   "metadata": {},
   "source": [
    "Applying this accumulation to our initial glacier surface in equilibrium:"
   ]
  },
  {
   "cell_type": "code",
   "execution_count": null,
   "metadata": {},
   "outputs": [],
   "source": [
    "# glacier surface after accumulation\n",
    "acc_sfc = initial + acc"
   ]
  },
  {
   "cell_type": "code",
   "execution_count": null,
   "metadata": {},
   "outputs": [],
   "source": [
    "# plot the accumulation surface\n",
    "fig, ax = plt.subplots(1, 1, figsize=(16, 9))\n",
    "edu.intro_glacier_plot(ax, distance_along_glacier, bed_h, initial, [acc_sfc], ['accumulation'])"
   ]
  },
  {
   "cell_type": "markdown",
   "metadata": {},
   "source": [
    "Next, during the ablation season, the glacier looses mass according to the same linear mass balance gradient."
   ]
  },
  {
   "cell_type": "code",
   "execution_count": null,
   "metadata": {},
   "outputs": [],
   "source": [
    "Image(url='https://raw.githubusercontent.com/OGGM/glacier-graphics/master/glacier_intro/png/glacier_04.png', width=600)"
   ]
  },
  {
   "cell_type": "code",
   "execution_count": null,
   "metadata": {},
   "outputs": [],
   "source": [
    "# linear ablation as a function of altitude: m w.e. yr^-1\n",
    "abl, abl_0 = edu.linear_ablation(mb_grad, ela, initial, bed_h, mwidths, acc_0)"
   ]
  },
  {
   "cell_type": "markdown",
   "metadata": {},
   "source": [
    "Applying this accumulation to our initial glacier surface in equilibrium:"
   ]
  },
  {
   "cell_type": "code",
   "execution_count": null,
   "metadata": {},
   "outputs": [],
   "source": [
    "# glacier surface after ablation\n",
    "abl_sfc = initial + abl"
   ]
  },
  {
   "cell_type": "code",
   "execution_count": null,
   "metadata": {},
   "outputs": [],
   "source": [
    "# correct where ice thickness is less than bedrock\n",
    "no_ice = np.where(abl_sfc < bed_h)\n",
    "abl_sfc[no_ice] = bed_h[no_ice]"
   ]
  },
  {
   "cell_type": "code",
   "execution_count": null,
   "metadata": {},
   "outputs": [],
   "source": [
    "fig, ax = plt.subplots(1, 1, figsize=(16, 9))\n",
    "edu.intro_glacier_plot(ax, distance_along_glacier, bed_h, initial, [acc_sfc, abl_sfc], ['accumulation', 'ablation'])"
   ]
  },
  {
   "cell_type": "markdown",
   "metadata": {},
   "source": [
    "### Mass Balance"
   ]
  },
  {
   "cell_type": "markdown",
   "metadata": {},
   "source": [
    "The net mass balance is the sum of accumulation and ablation:"
   ]
  },
  {
   "cell_type": "code",
   "execution_count": null,
   "metadata": {},
   "outputs": [],
   "source": [
    "Image(url='https://raw.githubusercontent.com/OGGM/glacier-graphics/master/glacier_intro/png/glacier_05.png', width=600)"
   ]
  },
  {
   "cell_type": "code",
   "execution_count": null,
   "metadata": {},
   "outputs": [],
   "source": [
    "# net mass balance: m w.e. yr^-1\n",
    "mb_we = acc + abl"
   ]
  },
  {
   "cell_type": "code",
   "execution_count": null,
   "metadata": {},
   "outputs": [],
   "source": [
    "# add mass balance to initial surface\n",
    "mb_sfc = initial + mb_we"
   ]
  },
  {
   "cell_type": "code",
   "execution_count": null,
   "metadata": {},
   "outputs": [],
   "source": [
    "# correct where ice thickness is less than bedrock\n",
    "no_ice = np.where(mb_sfc < bed_h)\n",
    "mb_sfc[no_ice] = bed_h[no_ice]"
   ]
  },
  {
   "cell_type": "code",
   "execution_count": null,
   "metadata": {},
   "outputs": [],
   "source": [
    "fig, ax = plt.subplots(1, 1, figsize=(16, 9))\n",
    "edu.intro_glacier_plot(ax, distance_along_glacier, bed_h, initial, [mb_sfc], ['mass balance'])"
   ]
  },
  {
   "cell_type": "code",
   "execution_count": null,
   "metadata": {},
   "outputs": [],
   "source": [
    "# net mass balance\n",
    "print('Net mass balance: {:.2f} m w.e. yr^-1'.format(np.average(mb_we)))"
   ]
  },
  {
   "cell_type": "markdown",
   "metadata": {},
   "source": [
    "### Ice flux"
   ]
  },
  {
   "cell_type": "code",
   "execution_count": null,
   "metadata": {},
   "outputs": [],
   "source": [
    "Image(url='https://raw.githubusercontent.com/OGGM/glacier-graphics/master/glacier_intro/png/glacier_06.png', width=600)"
   ]
  },
  {
   "cell_type": "markdown",
   "metadata": {},
   "source": [
    "In equilibrium, the ice thickness $H$ does not change with time and the continuity equation reduces to,"
   ]
  },
  {
   "cell_type": "markdown",
   "metadata": {},
   "source": [
    "$$\\dot{m} = \\nabla \\vec{q}.$$"
   ]
  },
  {
   "cell_type": "markdown",
   "metadata": {},
   "source": [
    "This means that glacier mass balance solely determines ice flux if the glacier is in steady-state. Hence, the ice flux can be computed by vertically integrating the mass balance - in the one-dimensional case, the ice flux is the sum of the mass balance above a certain reference height $z$."
   ]
  },
  {
   "cell_type": "markdown",
   "metadata": {},
   "source": [
    "The ice flux can then by computed by discrete integration of the mass balance:"
   ]
  },
  {
   "cell_type": "code",
   "execution_count": null,
   "metadata": {},
   "outputs": [],
   "source": [
    "# convert mass balance to kg m^-2 yr^-1\n",
    "mb_ice = mb_we * 1000"
   ]
  },
  {
   "cell_type": "code",
   "execution_count": null,
   "metadata": {},
   "outputs": [],
   "source": [
    "# ice flux along the defined flowline: kg m^-2 s^-1\n",
    "q = mb_ice.cumsum() / cfg.SEC_IN_YEAR"
   ]
  },
  {
   "cell_type": "code",
   "execution_count": null,
   "metadata": {},
   "outputs": [],
   "source": [
    "# correct ice flux to 0 where q < 0\n",
    "q[q < 0] = 0"
   ]
  },
  {
   "cell_type": "code",
   "execution_count": null,
   "metadata": {},
   "outputs": [],
   "source": [
    "fig, ax = plt.subplots(1, 1, figsize=(16, 9))\n",
    "ax.plot(distance_along_glacier, q);\n",
    "ax.vlines(distance_along_glacier[np.where(mb_ice == 0)[0][0]], 0, np.max(q))\n",
    "ax.text(distance_along_glacier[np.where(mb_ice == 0)[0][0]] - 0.1, 0,\n",
    "        'Equilibrium line altitude', horizontalalignment='right')\n",
    "ax.vlines(distance_along_glacier[np.where(q < 1e-10)[0][0]], 0, np.max(q))\n",
    "ax.text(distance_along_glacier[np.where(q < 1e-10)[0][0]] - 0.1, 0,\n",
    "        'Glacier terminus', horizontalalignment='right')\n",
    "ax.set_ylabel('Ice flux $q$ / (kg m$^{-2}$ s$^{-1}$)');\n",
    "ax.set_xlabel('Distance along flowline / (km)');"
   ]
  },
  {
   "cell_type": "markdown",
   "metadata": {},
   "source": [
    "By construction, the ice flux is maximal at the equilibrium line altitude and zero at the glacier terminus."
   ]
  },
  {
   "cell_type": "markdown",
   "metadata": {},
   "source": [
    "## Take home points"
   ]
  },
  {
   "cell_type": "markdown",
   "metadata": {},
   "source": [
    "- Accumulation processes are all processes that add snow or ice to a glacier, e.g.\n",
    "    - Solid precipitation\n",
    "    - Redistribution of snow by wind and avalanching\n",
    "    - Refreezing of meltwater\n",
    "    - Resublimation and freezing rain\n",
    "- Ablation processes are all processes that remove snow or ice from a glacier, e.g.\n",
    "    - Melt and runoff\n",
    "    - Sublimation\n",
    "    - Calving\n",
    "- Accumulation and ablation rates determine the glacier mass balance, i.e. the change in total mass of snow and ice.\n",
    "- Glaciers flow due to gravity\n",
    "- Mass conservation implies a link between ice thickness, mass balance and ice flow"
   ]
  },
  {
   "cell_type": "markdown",
   "metadata": {},
   "source": [
    "## References"
   ]
  },
  {
   "cell_type": "markdown",
   "metadata": {},
   "source": [
    "- K.M. Cuffey and W.S.B. Paterson, (2010). [The Physics of Glaciers](https://www.elsevier.com/books/the-physics-of-glaciers/cuffey/978-0-12-369461-4)"
   ]
  },
  {
   "cell_type": "markdown",
   "metadata": {},
   "source": [
    "## What's next?"
   ]
  },
  {
   "cell_type": "markdown",
   "metadata": {},
   "source": [
    "[Back to table of contents](welcome.ipynb)"
   ]
  }
 ],
 "metadata": {
  "kernelspec": {
   "display_name": "Python 3",
   "language": "python",
   "name": "python3"
  },
  "language_info": {
   "codemirror_mode": {
    "name": "ipython",
    "version": 3
   },
   "file_extension": ".py",
   "mimetype": "text/x-python",
   "name": "python",
   "nbconvert_exporter": "python",
   "pygments_lexer": "ipython3",
   "version": "3.6.7"
  }
 },
 "nbformat": 4,
 "nbformat_minor": 2
}
