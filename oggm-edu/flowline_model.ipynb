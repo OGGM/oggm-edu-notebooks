{
 "cells": [
  {
   "cell_type": "markdown",
   "metadata": {},
   "source": [
    "# Getting started with flowline models: idealized experiments"
   ]
  },
  {
   "cell_type": "markdown",
   "metadata": {},
   "source": [
    "In this notebook we are going to explore the basic functionalities of OGGM flowline model(s). For this purpose we are going to use simple and \"idealized\" glaciers models and compute them with simple linear mass balance profiles. "
   ]
  },
  {
   "cell_type": "code",
   "execution_count": null,
   "metadata": {},
   "outputs": [],
   "source": [
    "# Plotting libraries and plot style\n",
    "import matplotlib.pyplot as plt\n",
    "%matplotlib inline\n",
    "\n",
    "import seaborn as sns\n",
    "sns.set_context('notebook')\n",
    "sns.set_style('ticks')\n",
    "\n",
    "# Scientific packages\n",
    "import numpy as np\n",
    "\n",
    "# Constants\n",
    "from oggm import cfg\n",
    "cfg.initialize_minimal()\n",
    "\n",
    "# Mass-balance model\n",
    "from oggm.core.massbalance import LinearMassBalance\n",
    "# There are several numerical implementations in OGGM core. We use the \"FluxBasedModel\"\n",
    "from oggm.core.flowline import FluxBasedModel as FlowlineModel\n",
    "# Glacier shape\n",
    "from oggm.core.flowline import RectangularBedFlowline\n",
    "\n",
    "# OGGM Edu helper functions\n",
    "import oggm_edu as edu"
   ]
  },
  {
   "cell_type": "markdown",
   "metadata": {},
   "source": [
    "## Basics"
   ]
  },
  {
   "cell_type": "markdown",
   "metadata": {},
   "source": [
    "First we set-up a simple run with a constant linear bedrock:"
   ]
  },
  {
   "cell_type": "markdown",
   "metadata": {},
   "source": [
    "### Glacier bed"
   ]
  },
  {
   "cell_type": "code",
   "execution_count": null,
   "metadata": {},
   "outputs": [],
   "source": [
    "# define horizontal resolution of the model:\n",
    "# nx: number of grid points\n",
    "# map_dx: grid point spacing in meters\n",
    "nx = 200\n",
    "map_dx = 100"
   ]
  },
  {
   "cell_type": "code",
   "execution_count": null,
   "metadata": {},
   "outputs": [],
   "source": [
    "# define glacier top and bottom altitudes in meters\n",
    "top = 3400\n",
    "bottom = 1400"
   ]
  },
  {
   "cell_type": "code",
   "execution_count": null,
   "metadata": {},
   "outputs": [],
   "source": [
    "# create a linear bedrock profile from top to bottom\n",
    "bed_h, surface_h = edu.define_linear_bed(top, bottom, nx)"
   ]
  },
  {
   "cell_type": "code",
   "execution_count": null,
   "metadata": {},
   "outputs": [],
   "source": [
    "# calculate the distance from the top to the bottom of the glacier in km\n",
    "distance_along_glacier = edu.distance_along_glacier(nx, map_dx)"
   ]
  },
  {
   "cell_type": "code",
   "execution_count": null,
   "metadata": {},
   "outputs": [],
   "source": [
    "# plot the glacier bedrock profile and the initial glacier surface\n",
    "plt.plot(distance_along_glacier, surface_h, label='Initial glacier')\n",
    "edu.plot_xz_bed(x=distance_along_glacier, bed=bed_h);"
   ]
  },
  {
   "cell_type": "markdown",
   "metadata": {},
   "source": [
    "Now we have to decide how wide our glacier is, and what the *shape* of its bed is. For a start, we will use a rectangular \"u-shaped\" bed (see the [documentation](http://docs.oggm.org/en/stable/ice-dynamics.html#rectangular)), with a constant width of 300m:"
   ]
  },
  {
   "cell_type": "code",
   "execution_count": null,
   "metadata": {},
   "outputs": [],
   "source": [
    "initial_width = 300  # width in meters\n",
    "# Now describe the widths in \"grid points\" for the model, based on grid point spacing map_dx\n",
    "widths = np.zeros(nx) + initial_width/map_dx\n",
    "# Define our bed\n",
    "init_flowline = RectangularBedFlowline(surface_h=surface_h, bed_h=bed_h, widths=widths, map_dx=map_dx)"
   ]
  },
  {
   "cell_type": "markdown",
   "metadata": {},
   "source": [
    "The init_flowline variable now contains all geometrical information needed by the model. It can give access to some attributes, which are quite useless for a non-existing glacier: "
   ]
  },
  {
   "cell_type": "code",
   "execution_count": null,
   "metadata": {},
   "outputs": [],
   "source": [
    "print('Glacier length:', init_flowline.length_m)\n",
    "print('Glacier area:', init_flowline.area_km2)\n",
    "print('Glacier volume:', init_flowline.volume_km3)"
   ]
  },
  {
   "cell_type": "markdown",
   "metadata": {},
   "source": [
    "### Mass balance"
   ]
  },
  {
   "cell_type": "markdown",
   "metadata": {},
   "source": [
    "Then we will need a mass balance model. In our case this will be a simple linear mass balance, defined by the equilibrium line altitude (ELA) and an altitude gradient (in [mm yr$^{-1}$ m$^{-1}$]):"
   ]
  },
  {
   "cell_type": "code",
   "execution_count": null,
   "metadata": {},
   "outputs": [],
   "source": [
    "# ELA at 3000m a.s.l., gradient 4 mm yr -1 m-1\n",
    "ELA = 3000  # equilibrium line altitude in meters above sea level\n",
    "altgrad = 4  # altitude gradient in mm/m\n",
    "mb_model = LinearMassBalance(ELA, grad=altgrad)"
   ]
  },
  {
   "cell_type": "markdown",
   "metadata": {},
   "source": [
    "The OGGM mass balance model now computes the mass balance for any given altitude (in units meters of ice per time [m s$^{-1}$], which is simpler for the ice dynamics model). Let us compute the *annual* mass balance along the glacier profile:"
   ]
  },
  {
   "cell_type": "code",
   "execution_count": null,
   "metadata": {},
   "outputs": [],
   "source": [
    "annual_mb = mb_model.get_annual_mb(surface_h) * cfg.SEC_IN_YEAR"
   ]
  },
  {
   "cell_type": "code",
   "execution_count": null,
   "metadata": {},
   "outputs": [],
   "source": [
    "# Plot it\n",
    "plt.plot(annual_mb, bed_h, color='C2', label='Mass balance')\n",
    "plt.xlabel('Annual mass balance (m yr-1)')\n",
    "plt.ylabel('Altitude (m)')\n",
    "plt.legend(loc='best')\n",
    "# Display equilibrium line altitude, where annual mass balance = 0\n",
    "plt.axvline(x=0, color='k', linestyle='--', linewidth=0.8)\n",
    "plt.axhline(y=mb_model.ela_h, color='k', linestyle='--', linewidth=0.8);"
   ]
  },
  {
   "cell_type": "markdown",
   "metadata": {},
   "source": [
    "### Model run"
   ]
  },
  {
   "cell_type": "markdown",
   "metadata": {},
   "source": [
    "Now that we have all the ingredients to run the model, we just have to initialize it:"
   ]
  },
  {
   "cell_type": "code",
   "execution_count": null,
   "metadata": {},
   "outputs": [],
   "source": [
    "# The model requires the initial glacier bed, a mass balance model, and an initial time (the year y0)\n",
    "model = FlowlineModel(init_flowline, mb_model=mb_model, y0=0.)"
   ]
  },
  {
   "cell_type": "markdown",
   "metadata": {},
   "source": [
    "Let's first run the model for one year:"
   ]
  },
  {
   "cell_type": "code",
   "execution_count": null,
   "metadata": {},
   "outputs": [],
   "source": [
    "runtime = 1\n",
    "model.run_until(runtime)\n",
    "edu.glacier_plot(x=distance_along_glacier, bed=bed_h, model=model, mb_model=mb_model, init_flowline=init_flowline)"
   ]
  },
  {
   "cell_type": "code",
   "execution_count": null,
   "metadata": {},
   "outputs": [],
   "source": [
    "print('Year:', model.yr)\n",
    "print('Glacier length (m):', model.length_m)\n",
    "print('Glacier area (km2):', model.area_km2)\n",
    "print('Glacier volume (km3):', model.volume_km3)"
   ]
  },
  {
   "cell_type": "markdown",
   "metadata": {},
   "source": [
    "The modeled 'glacier' fills already the whole bed and its length goes up to the ELA (dashed line), but it is extremely thin. "
   ]
  },
  {
   "cell_type": "markdown",
   "metadata": {},
   "source": [
    "We can now run the model for 150 years and see how the output looks like:"
   ]
  },
  {
   "cell_type": "code",
   "execution_count": null,
   "metadata": {},
   "outputs": [],
   "source": [
    "runtime = 150\n",
    "model.run_until(runtime)\n",
    "edu.glacier_plot(x=distance_along_glacier, bed=bed_h, model=model, mb_model=mb_model, init_flowline=init_flowline)"
   ]
  },
  {
   "cell_type": "markdown",
   "metadata": {},
   "source": [
    "Let's print out a few infos about our glacier:"
   ]
  },
  {
   "cell_type": "code",
   "execution_count": null,
   "metadata": {},
   "outputs": [],
   "source": [
    "print('Year:', model.yr)\n",
    "print('Glacier length (m):', model.length_m)\n",
    "print('Glacier area (km2):', model.area_km2)\n",
    "print('Glacier volume (km3):', model.volume_km3)"
   ]
  },
  {
   "cell_type": "markdown",
   "metadata": {},
   "source": [
    "Note that the model time is now 150 years. Running the model with the same input again, calls the already calculated results but does not execute the method `model.run_until` another time, which safes computational time. \n",
    "\n"
   ]
  },
  {
   "cell_type": "code",
   "execution_count": null,
   "metadata": {},
   "outputs": [],
   "source": [
    "model.run_until(150)\n",
    "print('Year:', model.yr)\n",
    "print('Glacier length (m):', model.length_m)"
   ]
  },
  {
   "cell_type": "markdown",
   "metadata": {},
   "source": [
    "If we want to compute longer, we have to set the desired date. Hereby, the model computes only the additional missing years."
   ]
  },
  {
   "cell_type": "code",
   "execution_count": null,
   "metadata": {},
   "outputs": [],
   "source": [
    "runtime = 500\n",
    "model.run_until(runtime)\n",
    "edu.glacier_plot(x=distance_along_glacier, bed=bed_h, model=model, mb_model=mb_model, init_flowline=init_flowline)"
   ]
  },
  {
   "cell_type": "code",
   "execution_count": null,
   "metadata": {},
   "outputs": [],
   "source": [
    "print('Year:', model.yr)\n",
    "print('Glacier length (m):', model.length_m)\n",
    "print('Glacier area (km2):', model.area_km2)\n",
    "print('Glacier volume (km3):', model.volume_km3)"
   ]
  },
  {
   "cell_type": "markdown",
   "metadata": {},
   "source": [
    "However, it is important to note, that the model will not calculate back in time.\n",
    "Once calculated for 500 years, the model will not run again for 450 years and remains at 500 years.  Try running the cell below.  Does the output match what you expected?"
   ]
  },
  {
   "cell_type": "code",
   "execution_count": null,
   "metadata": {},
   "outputs": [],
   "source": [
    "model.run_until(450)\n",
    "print('Year:', model.yr)\n",
    "print('Glacier length (m):', model.length_m)"
   ]
  },
  {
   "cell_type": "markdown",
   "metadata": {},
   "source": [
    "It might be useful to store some intermediate steps of the evolution of the glacier.  We make a loop so that the model reports to us several times."
   ]
  },
  {
   "cell_type": "code",
   "execution_count": null,
   "metadata": {},
   "outputs": [],
   "source": [
    "# Reinitialize the model\n",
    "model = FlowlineModel(init_flowline, mb_model=mb_model, y0=0.)\n",
    "\n",
    "# Year 0 to 600 in 5 years step\n",
    "yrs = np.arange(0, 601, 5) \n",
    "\n",
    "# Array to fill with data\n",
    "nsteps = len(yrs)\n",
    "length = np.zeros(nsteps)\n",
    "vol = np.zeros(nsteps)\n",
    "\n",
    "# Loop over the years\n",
    "for i, yr in enumerate(yrs):\n",
    "    model.run_until(yr)\n",
    "    length[i] = model.length_m\n",
    "    vol[i] = model.volume_km3\n",
    "\n",
    "# Store the final results for later use\n",
    "simple_glacier_h = model.fls[-1].surface_h"
   ]
  },
  {
   "cell_type": "markdown",
   "metadata": {},
   "source": [
    "We can now plot the evolution of the glacier length and volume with time:"
   ]
  },
  {
   "cell_type": "code",
   "execution_count": null,
   "metadata": {},
   "outputs": [],
   "source": [
    "f, (ax1, ax2) = plt.subplots(1, 2, figsize=(14, 5))\n",
    "ax1.plot(yrs, length);\n",
    "ax1.set_xlabel('Years'); ax1.set_ylabel('Length (m)');\n",
    "ax2.plot(yrs, vol);\n",
    "ax2.set_xlabel('Years'); ax2.set_ylabel('Volume (km3)');"
   ]
  },
  {
   "cell_type": "markdown",
   "metadata": {},
   "source": [
    "The glacier length is a step function in the first year of simulation because above the equilibrium line altitude (ELA), only accumulation takes places and OGGM currently does not differentiate between ice and snow.\n",
    "After that, the glacier's length remains first constant. This behavior can be explained by the fact that above the ELA, the mass balance is positive, unimportant how large the glacier is. As long as the glacier is not thick enough, no ice remains below the ELA, because the ablation below the ELA is higher than the amount of ice forming the glacier flow. "
   ]
  },
  {
   "cell_type": "code",
   "execution_count": null,
   "metadata": {},
   "outputs": [],
   "source": [
    "'Glacier length from the top to the equilibrium line altitude ('+str(mb_model.ela_h)+' m) is: {} m'.format(length[1])"
   ]
  },
  {
   "cell_type": "markdown",
   "metadata": {},
   "source": [
    "After several centuries, the glacier gets in balance with its climate. Its length and volume won't change anymore, if all physical parameters and the climate stay constant."
   ]
  },
  {
   "cell_type": "markdown",
   "metadata": {},
   "source": [
    "## A first experiment "
   ]
  },
  {
   "cell_type": "markdown",
   "metadata": {},
   "source": [
    "Ok, now we have seen the basics. We will now define a simple experiment, in which we will make the glacier wider at the top (in the accumulation area). This is a common situation for valley glaciers."
   ]
  },
  {
   "cell_type": "code",
   "execution_count": null,
   "metadata": {},
   "outputs": [],
   "source": [
    "# We copy the widths we defined before\n",
    "wider_widths = np.copy(widths)\n",
    "# But we now make our glacier 600 m wide at the top:\n",
    "new_width = 600 #meters\n",
    "# Convert the width in meters to width in \"grid units\", like before, and rewrite the first few points\n",
    "wider_widths[0:15] = new_width/map_dx\n",
    "# Define our new bed\n",
    "wider_flowline = RectangularBedFlowline(surface_h=surface_h, bed_h=bed_h, widths=wider_widths, map_dx=map_dx)"
   ]
  },
  {
   "cell_type": "markdown",
   "metadata": {},
   "source": [
    "We will now run our model with the new inital conditions (again for 600 years), and store the output in a new variable for comparison:"
   ]
  },
  {
   "cell_type": "code",
   "execution_count": null,
   "metadata": {},
   "outputs": [],
   "source": [
    "# Reinitialize the model with the new input\n",
    "model = FlowlineModel(wider_flowline, mb_model=mb_model, y0=0.)\n",
    "\n",
    "# Array to fill with data\n",
    "nsteps = len(yrs)\n",
    "length_w = np.zeros(nsteps)\n",
    "vol_w = np.zeros(nsteps)\n",
    "\n",
    "# Loop over the years\n",
    "for i, yr in enumerate(yrs):\n",
    "    model.run_until(yr)\n",
    "    length_w[i] = model.length_m\n",
    "    vol_w[i] = model.volume_km3\n",
    "\n",
    "# Store the final results for later use\n",
    "wider_glacier_h = model.fls[-1].surface_h"
   ]
  },
  {
   "cell_type": "markdown",
   "metadata": {},
   "source": [
    "Compare the results:"
   ]
  },
  {
   "cell_type": "code",
   "execution_count": null,
   "metadata": {},
   "outputs": [],
   "source": [
    "# Plot the final result:\n",
    "plt.plot(distance_along_glacier, simple_glacier_h, label='Simple glacier')\n",
    "plt.plot(distance_along_glacier, wider_glacier_h, label='Wider glacier')\n",
    "# Add the bedrock:\n",
    "edu.plot_xz_bed(x=distance_along_glacier, bed=bed_h);"
   ]
  },
  {
   "cell_type": "code",
   "execution_count": null,
   "metadata": {},
   "outputs": [],
   "source": [
    "f, (ax1, ax2) = plt.subplots(1, 2, figsize=(14, 5))\n",
    "ax1.plot(yrs, length, label='Simple glacier');\n",
    "ax1.plot(yrs, length_w, label='Wider glacier');\n",
    "ax1.legend(loc='best')\n",
    "ax1.set_xlabel('Years')\n",
    "ax1.set_ylabel('Length (m)');\n",
    "ax2.plot(yrs, vol, label='Simple glacier');\n",
    "ax2.plot(yrs, vol_w, label='Wider glacier');\n",
    "ax2.legend(loc='best')\n",
    "ax2.set_xlabel('Years')\n",
    "ax2.set_ylabel('Volume (km3)');"
   ]
  },
  {
   "cell_type": "markdown",
   "metadata": {},
   "source": [
    "## What's next?"
   ]
  },
  {
   "cell_type": "markdown",
   "metadata": {},
   "source": [
    "[Back to the table of contents](../welcome.ipynb)"
   ]
  }
 ],
 "metadata": {
  "hide_input": false,
  "kernelspec": {
   "display_name": "Python 3",
   "language": "python",
   "name": "python3"
  },
  "language_info": {
   "codemirror_mode": {
    "name": "ipython",
    "version": 3
   },
   "file_extension": ".py",
   "mimetype": "text/x-python",
   "name": "python",
   "nbconvert_exporter": "python",
   "pygments_lexer": "ipython3",
   "version": "3.8.5"
  },
  "toc": {
   "base_numbering": 1,
   "nav_menu": {},
   "number_sections": false,
   "sideBar": true,
   "skip_h1_title": true,
   "title_cell": "Table of Contents",
   "title_sidebar": "Contents",
   "toc_cell": false,
   "toc_position": {},
   "toc_section_display": true,
   "toc_window_display": false
  }
 },
 "nbformat": 4,
 "nbformat_minor": 4
}
