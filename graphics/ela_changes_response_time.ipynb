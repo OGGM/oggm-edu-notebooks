{
 "cells": [
  {
   "cell_type": "markdown",
   "metadata": {},
   "source": [
    "# ELA changes and response time"
   ]
  },
  {
   "cell_type": "markdown",
   "metadata": {},
   "source": [
    "This notebook was used to create the idealized \"response time\" plots used for outreach and educations. See [glacier-graphics](https://github.com/OGGM/glacier-graphics). "
   ]
  },
  {
   "cell_type": "code",
   "execution_count": null,
   "metadata": {},
   "outputs": [],
   "source": [
    "# The commands below are just importing the necessary modules and functions\n",
    "# Plot defaults\n",
    "%matplotlib inline\n",
    "import matplotlib.pyplot as plt\n",
    "# Scientific packages\n",
    "import numpy as np\n",
    "# Constants\n",
    "from oggm import cfg, utils\n",
    "cfg.initialize()\n",
    "# OGGM models\n",
    "from oggm.core.massbalance import LinearMassBalance\n",
    "from oggm.core.flowline import FluxBasedModel, RectangularBedFlowline, TrapezoidalBedFlowline, ParabolicBedFlowline\n",
    "# There are several solvers in OGGM core. We use the default one for this experiment\n",
    "FlowlineModel = FluxBasedModel\n",
    "# Where to put the plots\n",
    "import os\n",
    "plot_dir = './edu_plots/'\n",
    "utils.mkdir(plot_dir)"
   ]
  },
  {
   "cell_type": "markdown",
   "metadata": {},
   "source": [
    "## Bed "
   ]
  },
  {
   "cell_type": "code",
   "execution_count": null,
   "metadata": {},
   "outputs": [],
   "source": [
    "# Bed rock, linearily decreasing from 3400m altitude to 1400m, in 200 steps\n",
    "nx = 200\n",
    "bed_h = np.linspace(3400, 1400, nx)\n",
    "# Let's set the model grid spacing to 100m (needed later)\n",
    "map_dx = 100\n",
    "# The units of widths is in \"grid points\", i.e. 3 grid points = 300 m in our case\n",
    "widths = np.zeros(nx) + 3.\n",
    "# Define our bed\n",
    "init_flowline = RectangularBedFlowline(surface_h=bed_h, bed_h=bed_h, widths=widths, map_dx=map_dx)"
   ]
  },
  {
   "cell_type": "markdown",
   "metadata": {},
   "source": [
    "## Spin-up run"
   ]
  },
  {
   "cell_type": "markdown",
   "metadata": {},
   "source": [
    "We run the glacier up to equilibrium first."
   ]
  },
  {
   "cell_type": "code",
   "execution_count": null,
   "metadata": {},
   "outputs": [],
   "source": [
    "# ELA at 3000m a.s.l., gradient 4 mm m-1\n",
    "mb_model = LinearMassBalance(3000, grad=4)\n",
    "spinup_model = FlowlineModel(init_flowline, mb_model=mb_model, y0=0.)\n",
    "# Run\n",
    "spinup_model.run_until(1200)"
   ]
  },
  {
   "cell_type": "code",
   "execution_count": null,
   "metadata": {},
   "outputs": [],
   "source": [
    "# Plot the initial conditions first:\n",
    "plt.plot(init_flowline.bed_h, color='k', label='Bedrock')\n",
    "plt.plot(init_flowline.surface_h, label='Initial glacier')\n",
    "# The get the modelled flowline (model.fls[-1]) and plot it's new surface\n",
    "plt.plot(spinup_model.fls[-1].surface_h, label='Glacier after {:.0f} years'.format(spinup_model.yr))\n",
    "plt.xlabel('Grid points')\n",
    "plt.ylabel('Altitude (m)')\n",
    "plt.legend(loc='best');"
   ]
  },
  {
   "cell_type": "markdown",
   "metadata": {},
   "source": [
    "## Model run"
   ]
  },
  {
   "cell_type": "markdown",
   "metadata": {},
   "source": [
    "We make a model run with three ELA stages:"
   ]
  },
  {
   "cell_type": "code",
   "execution_count": null,
   "metadata": {},
   "outputs": [],
   "source": [
    "# Set-up\n",
    "mb_model = LinearMassBalance(3000, grad=4)\n",
    "model = FlowlineModel(spinup_model.fls, mb_model=mb_model, y0=0.)\n",
    "\n",
    "# Time\n",
    "yrs = np.arange(0, 901, 5, dtype=np.float32)\n",
    "nsteps = len(yrs)\n",
    "\n",
    "# Output containers\n",
    "ela = np.zeros(nsteps)\n",
    "length = np.zeros(nsteps)\n",
    "area = np.zeros(nsteps)\n",
    "volume = np.zeros(nsteps)\n",
    "\n",
    "# Loop\n",
    "current_ela = 3000.\n",
    "for i, yr in enumerate(yrs):\n",
    "    model.run_until(yr)\n",
    "    if yr >= 100:\n",
    "        current_ela = 2800\n",
    "        model.mb_model = LinearMassBalance(current_ela, grad=4)\n",
    "    if yr >= 500:\n",
    "        current_ela = 3200\n",
    "        model.mb_model = LinearMassBalance(current_ela, grad=4)\n",
    "    ela[i] = current_ela\n",
    "    length[i] = model.length_m\n",
    "    area[i] = model.area_km2\n",
    "    volume[i] = model.volume_km3"
   ]
  },
  {
   "cell_type": "markdown",
   "metadata": {},
   "source": [
    "## Plots "
   ]
  },
  {
   "cell_type": "code",
   "execution_count": null,
   "metadata": {},
   "outputs": [],
   "source": [
    "from matplotlib import gridspec\n",
    "from matplotlib.transforms import blended_transform_factory"
   ]
  },
  {
   "cell_type": "code",
   "execution_count": null,
   "metadata": {},
   "outputs": [],
   "source": [
    "# If you want to make \"xkcd looking\" plots - you need specific fonts for this to work though\n",
    "plt.xkcd();"
   ]
  },
  {
   "cell_type": "code",
   "execution_count": null,
   "metadata": {},
   "outputs": [],
   "source": [
    "# Grid\n",
    "fig = plt.figure(figsize=(12, 5))\n",
    "gs = gridspec.GridSpec(3, 1)\n",
    "\n",
    "# Plot 1\n",
    "ax = plt.subplot(gs[0, :])\n",
    "\n",
    "ax.plot(yrs[yrs<100], ela[yrs<100], 'k');\n",
    "ax.set_xlim([-50, 950])\n",
    "ax.set_ylim([2750, 3250])\n",
    "\n",
    "ax.spines['right'].set_color('none'); ax.spines['top'].set_color('none')\n",
    "ax.spines['bottom'].set_color('none'); ax.spines['left'].set_color('none')\n",
    "ax.set_xticks([]); ax.set_yticks([])\n",
    "ax.set_ylabel('ELA')\n",
    "\n",
    "# Plot 2\n",
    "ax = plt.subplot(gs[1:, :])\n",
    "\n",
    "ax.plot(yrs[yrs<100], volume[yrs<100], 'k');\n",
    "ax.set_ylim([0.2, 1.1])\n",
    "ax.set_xlim([-50, 950])\n",
    "\n",
    "ax.spines['right'].set_color('none'); ax.spines['top'].set_color('none')\n",
    "plt.xticks([]); plt.yticks([])\n",
    "ax.set_xlabel('TIME')\n",
    "ax.set_ylabel('GLACIER VOLUME');\n",
    "\n",
    "plt.savefig(os.path.join(plot_dir, 'tau_01.pdf'), bbox_inches='tight')\n",
    "plt.savefig(os.path.join(plot_dir, 'tau_01.png'), bbox_inches='tight', dpi=150)"
   ]
  },
  {
   "cell_type": "code",
   "execution_count": null,
   "metadata": {},
   "outputs": [],
   "source": [
    "# Grid\n",
    "fig = plt.figure(figsize=(12, 5))\n",
    "gs = gridspec.GridSpec(3, 1)\n",
    "\n",
    "# Plot 1\n",
    "ax = plt.subplot(gs[0, :])\n",
    "\n",
    "ax.plot(yrs[yrs<500], ela[yrs<500], 'k');\n",
    "ax.set_xlim([-50, 950])\n",
    "ax.set_ylim([2750, 3250])\n",
    "\n",
    "ax.spines['right'].set_color('none'); ax.spines['top'].set_color('none')\n",
    "ax.spines['bottom'].set_color('none'); ax.spines['left'].set_color('none')\n",
    "ax.set_xticks([]); ax.set_yticks([])\n",
    "ax.set_ylabel('ELA')\n",
    "\n",
    "# Plot 2\n",
    "ax = plt.subplot(gs[1:, :])\n",
    "\n",
    "ax.plot(yrs[yrs<500], volume[yrs<500], 'k');\n",
    "ax.set_ylim([0.2, 1.1])\n",
    "ax.set_xlim([-50, 950])\n",
    "\n",
    "trans = blended_transform_factory(ax.transData, ax.transAxes)\n",
    "ax.fill_between(yrs, 0, 1, where=ela<3000, alpha=0.3, transform=trans, color='C0')\n",
    "\n",
    "ax.spines['right'].set_color('none'); ax.spines['top'].set_color('none')\n",
    "plt.xticks([]); plt.yticks([])\n",
    "ax.set_xlabel('TIME')\n",
    "ax.set_ylabel('GLACIER VOLUME');\n",
    "\n",
    "plt.savefig(os.path.join(plot_dir, 'tau_02.pdf'), bbox_inches='tight')\n",
    "plt.savefig(os.path.join(plot_dir, 'tau_02.png'), bbox_inches='tight', dpi=150)"
   ]
  },
  {
   "cell_type": "code",
   "execution_count": null,
   "metadata": {},
   "outputs": [],
   "source": [
    "# Grid\n",
    "fig = plt.figure(figsize=(12, 5))\n",
    "gs = gridspec.GridSpec(3, 1)\n",
    "\n",
    "# Plot 1\n",
    "ax = plt.subplot(gs[0, :])\n",
    "\n",
    "ax.plot(yrs, ela, 'k');\n",
    "ax.set_xlim([-50, 950])\n",
    "ax.set_ylim([2750, 3250])\n",
    "\n",
    "ax.spines['right'].set_color('none'); ax.spines['top'].set_color('none')\n",
    "ax.spines['bottom'].set_color('none'); ax.spines['left'].set_color('none')\n",
    "ax.set_xticks([]); ax.set_yticks([])\n",
    "ax.set_ylabel('ELA')\n",
    "\n",
    "# Plot 2\n",
    "ax = plt.subplot(gs[1:, :])\n",
    "\n",
    "ax.plot(yrs, volume, 'k');\n",
    "ax.set_ylim([0.2, 1.1])\n",
    "ax.set_xlim([-50, 950])\n",
    "\n",
    "trans = blended_transform_factory(ax.transData, ax.transAxes)\n",
    "ax.fill_between(yrs, 0, 1, where=ela<3000, alpha=0.3, transform=trans, color='C0')\n",
    "ax.fill_between(yrs, 0, 1, where=ela>3000, alpha=0.3, transform=trans, color='C3')\n",
    "\n",
    "ax.spines['right'].set_color('none'); ax.spines['top'].set_color('none')\n",
    "plt.xticks([]); plt.yticks([])\n",
    "ax.set_xlabel('TIME')\n",
    "ax.set_ylabel('GLACIER VOLUME');\n",
    "\n",
    "plt.savefig(os.path.join(plot_dir, 'tau_03.pdf'), bbox_inches='tight')\n",
    "plt.savefig(os.path.join(plot_dir, 'tau_03.png'), bbox_inches='tight', dpi=150)"
   ]
  },
  {
   "cell_type": "code",
   "execution_count": null,
   "metadata": {},
   "outputs": [],
   "source": [
    "# Compute the time constants in a bit of an intricate way\n",
    "tl = 1 - 1 / np.e\n",
    "y1 = yrs[np.where(volume >= (np.max(volume)-volume[0])*tl+volume[0])][0]\n",
    "y2 = yrs[np.where(volume <= np.max(volume) - np.abs((np.max(volume)-np.min(volume))*tl))][0]\n",
    "print(y1-100, y2-500)"
   ]
  },
  {
   "cell_type": "code",
   "execution_count": null,
   "metadata": {},
   "outputs": [],
   "source": [
    "# Grid\n",
    "fig = plt.figure(figsize=(12, 5))\n",
    "gs = gridspec.GridSpec(3, 1)\n",
    "\n",
    "# Plot 1\n",
    "ax = plt.subplot(gs[0, :])\n",
    "\n",
    "ax.plot(yrs, ela, 'k');\n",
    "ax.set_xlim([-50, 950])\n",
    "ax.set_ylim([2750, 3250])\n",
    "\n",
    "ax.spines['right'].set_color('none'); ax.spines['top'].set_color('none')\n",
    "ax.spines['bottom'].set_color('none'); ax.spines['left'].set_color('none')\n",
    "ax.set_xticks([]); ax.set_yticks([])\n",
    "ax.set_ylabel('ELA')\n",
    "\n",
    "# Plot 2\n",
    "ax = plt.subplot(gs[1:, :])\n",
    "\n",
    "ax.plot(yrs, volume, 'k');\n",
    "ax.set_ylim([0.2, 1.1])\n",
    "ax.set_xlim([-50, 950])\n",
    "\n",
    "trans = blended_transform_factory(ax.transData, ax.transAxes)\n",
    "ax.fill_between(yrs, 0, 1, where=ela<3000, alpha=0.3, transform=trans, color='C0')\n",
    "ax.fill_between(yrs, 0, 1, where=ela>3000, alpha=0.3, transform=trans, color='C3')\n",
    "ax.fill_between(yrs, 0, 1, where=((yrs>=100) & (yrs<=y1)), alpha=0.3, transform=trans, color='C0')\n",
    "ax.fill_between(yrs, 0, 1, where=((yrs>=500) & (yrs<=y2)), alpha=0.3, transform=trans, color='C3')\n",
    "\n",
    "ax.spines['right'].set_color('none'); ax.spines['top'].set_color('none')\n",
    "plt.xticks([]); plt.yticks([])\n",
    "ax.set_xlabel('TIME')\n",
    "ax.set_ylabel('GLACIER VOLUME');\n",
    "\n",
    "plt.savefig(os.path.join(plot_dir, 'tau_04.pdf'), bbox_inches='tight')\n",
    "plt.savefig(os.path.join(plot_dir, 'tau_04.png'), bbox_inches='tight', dpi=150)"
   ]
  }
 ],
 "metadata": {
  "hide_input": false,
  "kernelspec": {
   "display_name": "Python 3",
   "language": "python",
   "name": "python3"
  },
  "language_info": {
   "codemirror_mode": {
    "name": "ipython",
    "version": 3
   },
   "file_extension": ".py",
   "mimetype": "text/x-python",
   "name": "python",
   "nbconvert_exporter": "python",
   "pygments_lexer": "ipython3",
   "version": "3.8.5"
  },
  "toc": {
   "base_numbering": 1,
   "nav_menu": {},
   "number_sections": false,
   "sideBar": true,
   "skip_h1_title": true,
   "title_cell": "Table of Contents",
   "title_sidebar": "Contents",
   "toc_cell": false,
   "toc_position": {},
   "toc_section_display": true,
   "toc_window_display": false
  }
 },
 "nbformat": 4,
 "nbformat_minor": 4
}
